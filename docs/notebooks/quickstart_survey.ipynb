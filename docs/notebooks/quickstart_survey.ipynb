{
 "cells": [
  {
   "cell_type": "markdown",
   "id": "b60ec1f5",
   "metadata": {},
   "source": [
    "# Quickstart: Survey\n",
    "\n",
    "learn how to generate a survey"
   ]
  },
  {
   "cell_type": "code",
   "execution_count": 3,
   "id": "3dcbaca7",
   "metadata": {},
   "outputs": [],
   "source": [
    "from skysurvey import survey"
   ]
  },
  {
   "cell_type": "code",
   "execution_count": 2,
   "id": "08c473c9",
   "metadata": {},
   "outputs": [],
   "source": [
    "survey.Survey.from_pointings()"
   ]
  },
  {
   "cell_type": "code",
   "execution_count": null,
   "id": "6789c86a",
   "metadata": {},
   "outputs": [],
   "source": [
    "skysurvey."
   ]
  },
  {
   "cell_type": "markdown",
   "id": "87b6af94",
   "metadata": {},
   "source": [
    "let's start with two predefined survey. A generic HealpixSurvey (based on healpix sky segmentation) \n",
    "and a real one ZTF (based on polygon sky segmentation)"
   ]
  },
  {
   "cell_type": "markdown",
   "id": "ed7e777c",
   "metadata": {},
   "source": [
    "### Healpix Survey"
   ]
  },
  {
   "cell_type": "code",
   "execution_count": 2,
   "id": "ff37b039",
   "metadata": {},
   "outputs": [],
   "source": [
    "hpsurvey = survey.HealpixSurvey(9)"
   ]
  },
  {
   "cell_type": "markdown",
   "id": "70a28f36",
   "metadata": {},
   "source": [
    "Let's draw the equivalent of 4 years of observations assuming 1000 healpix pixel pointings per day\n",
    "\n",
    "Remark that, as such mjd_range and size are drawn independenly so, 1000 pointing per day is an average. "
   ]
  },
  {
   "cell_type": "code",
   "execution_count": 3,
   "id": "6ed988ad",
   "metadata": {},
   "outputs": [
    {
     "name": "stdout",
     "output_type": "stream",
     "text": [
      "CPU times: user 1.42 s, sys: 121 ms, total: 1.55 s\n",
      "Wall time: 1.54 s\n"
     ]
    }
   ],
   "source": [
    "%%time\n",
    "hpsurvey.draw_random(size=365*4*1000, # number of observation \n",
    "                     bands=[\"ztf:g\",\"ztf:r\",\"ztf:i\"], # band to observed\n",
    "                     mjd_range=[56000, 56000+365*4], # timerange of observation\n",
    "                     skynoise_range=[180,210], # sky noise\n",
    "                     ra_range=[-30,90], \n",
    "                    inplace=True)  # set the self.data and do not return a new HealpixSurvey"
   ]
  },
  {
   "cell_type": "markdown",
   "id": "0ba9ad1d",
   "metadata": {},
   "source": [
    "Remark: you could have load it directly this way using the ``from_random`` classmethod"
   ]
  },
  {
   "cell_type": "code",
   "execution_count": 4,
   "id": "4188e123",
   "metadata": {},
   "outputs": [
    {
     "name": "stdout",
     "output_type": "stream",
     "text": [
      "CPU times: user 1.59 s, sys: 67.3 ms, total: 1.66 s\n",
      "Wall time: 1.66 s\n"
     ]
    }
   ],
   "source": [
    "%%time\n",
    "hpsurvey = survey.HealpixSurvey.from_random(nside=9, \n",
    "                                     size=365*4*1000, # number of observation \n",
    "                                     bands=[\"ztf:g\",\"ztf:r\",\"ztf:i\"],\n",
    "                                     mjd_range=[56000, 56000+365*4], \n",
    "                                     skynoise_range=[180,210], \n",
    "                                     ra_range=[-30,90])"
   ]
  },
  {
   "cell_type": "code",
   "execution_count": 5,
   "id": "31aa7121",
   "metadata": {},
   "outputs": [
    {
     "data": {
      "text/html": [
       "<div>\n",
       "<style scoped>\n",
       "    .dataframe tbody tr th:only-of-type {\n",
       "        vertical-align: middle;\n",
       "    }\n",
       "\n",
       "    .dataframe tbody tr th {\n",
       "        vertical-align: top;\n",
       "    }\n",
       "\n",
       "    .dataframe thead th {\n",
       "        text-align: right;\n",
       "    }\n",
       "</style>\n",
       "<table border=\"1\" class=\"dataframe\">\n",
       "  <thead>\n",
       "    <tr style=\"text-align: right;\">\n",
       "      <th></th>\n",
       "      <th>index</th>\n",
       "      <th>mjd</th>\n",
       "      <th>band</th>\n",
       "      <th>skynoise</th>\n",
       "      <th>gain</th>\n",
       "      <th>zp</th>\n",
       "      <th>fieldid</th>\n",
       "    </tr>\n",
       "  </thead>\n",
       "  <tbody>\n",
       "    <tr>\n",
       "      <th>0</th>\n",
       "      <td>1062044</td>\n",
       "      <td>56000.002973</td>\n",
       "      <td>ztf:g</td>\n",
       "      <td>189.257440</td>\n",
       "      <td>1.0</td>\n",
       "      <td>25.0</td>\n",
       "      <td>242</td>\n",
       "    </tr>\n",
       "    <tr>\n",
       "      <th>1</th>\n",
       "      <td>1249528</td>\n",
       "      <td>56000.004859</td>\n",
       "      <td>ztf:r</td>\n",
       "      <td>187.777859</td>\n",
       "      <td>1.0</td>\n",
       "      <td>25.0</td>\n",
       "      <td>215</td>\n",
       "    </tr>\n",
       "    <tr>\n",
       "      <th>2</th>\n",
       "      <td>192202</td>\n",
       "      <td>56000.006378</td>\n",
       "      <td>ztf:r</td>\n",
       "      <td>194.216781</td>\n",
       "      <td>1.0</td>\n",
       "      <td>25.0</td>\n",
       "      <td>283</td>\n",
       "    </tr>\n",
       "    <tr>\n",
       "      <th>3</th>\n",
       "      <td>409009</td>\n",
       "      <td>56000.006559</td>\n",
       "      <td>ztf:r</td>\n",
       "      <td>180.293897</td>\n",
       "      <td>1.0</td>\n",
       "      <td>25.0</td>\n",
       "      <td>679</td>\n",
       "    </tr>\n",
       "    <tr>\n",
       "      <th>4</th>\n",
       "      <td>444654</td>\n",
       "      <td>56000.007560</td>\n",
       "      <td>ztf:g</td>\n",
       "      <td>183.365560</td>\n",
       "      <td>1.0</td>\n",
       "      <td>25.0</td>\n",
       "      <td>368</td>\n",
       "    </tr>\n",
       "    <tr>\n",
       "      <th>...</th>\n",
       "      <td>...</td>\n",
       "      <td>...</td>\n",
       "      <td>...</td>\n",
       "      <td>...</td>\n",
       "      <td>...</td>\n",
       "      <td>...</td>\n",
       "      <td>...</td>\n",
       "    </tr>\n",
       "    <tr>\n",
       "      <th>1459995</th>\n",
       "      <td>731093</td>\n",
       "      <td>57459.996615</td>\n",
       "      <td>ztf:g</td>\n",
       "      <td>204.285205</td>\n",
       "      <td>1.0</td>\n",
       "      <td>25.0</td>\n",
       "      <td>480</td>\n",
       "    </tr>\n",
       "    <tr>\n",
       "      <th>1459996</th>\n",
       "      <td>382315</td>\n",
       "      <td>57459.996719</td>\n",
       "      <td>ztf:g</td>\n",
       "      <td>198.106796</td>\n",
       "      <td>1.0</td>\n",
       "      <td>25.0</td>\n",
       "      <td>414</td>\n",
       "    </tr>\n",
       "    <tr>\n",
       "      <th>1459997</th>\n",
       "      <td>84354</td>\n",
       "      <td>57459.997449</td>\n",
       "      <td>ztf:g</td>\n",
       "      <td>205.018005</td>\n",
       "      <td>1.0</td>\n",
       "      <td>25.0</td>\n",
       "      <td>213</td>\n",
       "    </tr>\n",
       "    <tr>\n",
       "      <th>1459998</th>\n",
       "      <td>452268</td>\n",
       "      <td>57459.999544</td>\n",
       "      <td>ztf:g</td>\n",
       "      <td>192.236900</td>\n",
       "      <td>1.0</td>\n",
       "      <td>25.0</td>\n",
       "      <td>577</td>\n",
       "    </tr>\n",
       "    <tr>\n",
       "      <th>1459999</th>\n",
       "      <td>281280</td>\n",
       "      <td>57459.999629</td>\n",
       "      <td>ztf:g</td>\n",
       "      <td>208.795938</td>\n",
       "      <td>1.0</td>\n",
       "      <td>25.0</td>\n",
       "      <td>103</td>\n",
       "    </tr>\n",
       "  </tbody>\n",
       "</table>\n",
       "<p>1460000 rows × 7 columns</p>\n",
       "</div>"
      ],
      "text/plain": [
       "           index           mjd   band    skynoise  gain    zp  fieldid\n",
       "0        1062044  56000.002973  ztf:g  189.257440   1.0  25.0      242\n",
       "1        1249528  56000.004859  ztf:r  187.777859   1.0  25.0      215\n",
       "2         192202  56000.006378  ztf:r  194.216781   1.0  25.0      283\n",
       "3         409009  56000.006559  ztf:r  180.293897   1.0  25.0      679\n",
       "4         444654  56000.007560  ztf:g  183.365560   1.0  25.0      368\n",
       "...          ...           ...    ...         ...   ...   ...      ...\n",
       "1459995   731093  57459.996615  ztf:g  204.285205   1.0  25.0      480\n",
       "1459996   382315  57459.996719  ztf:g  198.106796   1.0  25.0      414\n",
       "1459997    84354  57459.997449  ztf:g  205.018005   1.0  25.0      213\n",
       "1459998   452268  57459.999544  ztf:g  192.236900   1.0  25.0      577\n",
       "1459999   281280  57459.999629  ztf:g  208.795938   1.0  25.0      103\n",
       "\n",
       "[1460000 rows x 7 columns]"
      ]
     },
     "execution_count": 5,
     "metadata": {},
     "output_type": "execute_result"
    }
   ],
   "source": [
    "hpsurvey.data # Show the data generated. time, band sky noise, gain, zp and fieldid."
   ]
  },
  {
   "cell_type": "markdown",
   "id": "06a09453",
   "metadata": {},
   "source": [
    "Let's get the number of time a 'field' has been observed"
   ]
  },
  {
   "cell_type": "code",
   "execution_count": 6,
   "id": "2fc972c3",
   "metadata": {},
   "outputs": [
    {
     "data": {
      "text/plain": [
       "537    2169\n",
       "640    2162\n",
       "69     2154\n",
       "467    2143\n",
       "600    2143\n",
       "       ... \n",
       "625    1907\n",
       "49     1904\n",
       "302    1901\n",
       "528    1889\n",
       "136    1888\n",
       "Name: fieldid, Length: 720, dtype: int64"
      ]
     },
     "execution_count": 6,
     "metadata": {},
     "output_type": "execute_result"
    }
   ],
   "source": [
    "hpsurvey.get_fieldstat(\"size\") "
   ]
  },
  {
   "cell_type": "markdown",
   "id": "91bb5fca",
   "metadata": {},
   "source": [
    "These are just short cut to pandas dataframe contained in self.data\n",
    "\n",
    "So you can play.\n",
    "\n",
    "Let's measure the number of observation we have per day and per band"
   ]
  },
  {
   "cell_type": "code",
   "execution_count": 7,
   "id": "19bcc9b4",
   "metadata": {},
   "outputs": [],
   "source": [
    "data = hpsurvey.data.copy()\n",
    "data[\"day\"] = data[\"mjd\"].astype(int)"
   ]
  },
  {
   "cell_type": "code",
   "execution_count": 8,
   "id": "c83ff93f",
   "metadata": {},
   "outputs": [
    {
     "data": {
      "text/plain": [
       "day    band \n",
       "56000  ztf:g    331\n",
       "       ztf:i    352\n",
       "       ztf:r    354\n",
       "56001  ztf:g    312\n",
       "       ztf:i    323\n",
       "               ... \n",
       "57458  ztf:i    315\n",
       "       ztf:r    313\n",
       "57459  ztf:g    340\n",
       "       ztf:i    315\n",
       "       ztf:r    332\n",
       "Length: 4380, dtype: int64"
      ]
     },
     "execution_count": 8,
     "metadata": {},
     "output_type": "execute_result"
    }
   ],
   "source": [
    "dailybands = data.groupby([\"day\",\"band\"]).size()\n",
    "dailybands"
   ]
  },
  {
   "cell_type": "code",
   "execution_count": 9,
   "id": "dc9a1dc5",
   "metadata": {},
   "outputs": [
    {
     "data": {
      "text/plain": [
       "<matplotlib.legend.Legend at 0x2af7b7700>"
      ]
     },
     "execution_count": 9,
     "metadata": {},
     "output_type": "execute_result"
    },
    {
     "data": {
      "image/png": "[encoded data removed]",
      "text/plain": [
       "<Figure size 432x288 with 1 Axes>"
      ]
     },
     "metadata": {
      "needs_background": "light"
     },
     "output_type": "display_data"
    }
   ],
   "source": [
    "import matplotlib.pyplot as plt\n",
    "fig = plt.figure()\n",
    "ax = fig.add_subplot()\n",
    "\n",
    "prop = dict(lw=2, histtype=\"step\")\n",
    "ax.hist(dailybands.xs(\"ztf:g\", level=1), color=\"tab:green\", label=\"ztf:g\", **prop) \n",
    "ax.hist(dailybands.xs(\"ztf:r\", level=1), color=\"tab:red\", label=\"ztf:r\",**prop)\n",
    "ax.hist(dailybands.xs(\"ztf:i\", level=1), color=\"tab:orange\", label=\"ztf:i\",**prop)\n",
    "ax.legend(loc='best')"
   ]
  },
  {
   "cell_type": "markdown",
   "id": "7c0fc675",
   "metadata": {},
   "source": [
    "#### Get the field of a target\n",
    "\n",
    "This is an important feature that enable us to know whic field contains which target"
   ]
  },
  {
   "cell_type": "code",
   "execution_count": 10,
   "id": "3be595aa",
   "metadata": {},
   "outputs": [
    {
     "data": {
      "text/plain": [
       "189"
      ]
     },
     "execution_count": 10,
     "metadata": {},
     "output_type": "execute_result"
    }
   ],
   "source": [
    "hpsurvey.radec_to_fieldid(40, 90)"
   ]
  },
  {
   "cell_type": "code",
   "execution_count": 11,
   "id": "d121d311",
   "metadata": {},
   "outputs": [
    {
     "data": {
      "text/plain": [
       "array([680,  25, 308,  55, 309, 387, 541, 476, 250, 618,  75, 628,  33,\n",
       "       375, 216, 627, 654,  29,  99,  33,   3, 138,   0, 217, 268,  37,\n",
       "       126, 670, 146, 293, 101, 616, 463, 544,  30, 106, 647,  21,  92,\n",
       "        80, 103, 390, 687, 434, 404, 149, 231, 494, 466, 231,   5, 159,\n",
       "       217, 110,   1, 225, 637, 711, 614, 535,  33, 416, 243,   3, 241,\n",
       "       377, 458, 310, 614, 649, 295, 293,   4, 240,   1, 654,  60, 503,\n",
       "       699, 181, 141,   1, 461, 132, 269,  69, 183, 677, 259, 456, 425,\n",
       "       431,  91, 626, 716, 167, 517,  45, 506, 637,   3, 288, 403, 632,\n",
       "       566, 688,   1, 120, 187,  24, 578, 157, 675, 276, 413,   2, 141,\n",
       "       556, 327,   2,  23,  72, 100,   8, 138, 596, 507, 417,  21,   3,\n",
       "         8,  44,  19, 355, 228, 205, 595, 111,   2, 342, 624, 271,  14,\n",
       "         3, 293,   7, 183, 548, 374, 204,  58, 499, 460, 710,  16, 718,\n",
       "       269,  22, 614,   3, 345, 679, 136, 644, 550, 266,  32, 121, 168,\n",
       "       719, 434, 233,  31,  11,  68, 710,  60, 375,  38, 409,   2, 515,\n",
       "       450, 516, 370, 123, 522, 303, 664, 418,  31,   9, 445,  51, 145,\n",
       "         3, 658, 591,  86,   7,  21, 643, 190, 153,  34, 303, 382,  44,\n",
       "       645, 605, 130,  78, 152,  19,  36,  10,  83, 517, 222, 392, 378,\n",
       "        20,  26, 695,   0,  61, 397, 199, 352, 251, 727, 464, 645, 352,\n",
       "       611, 272,  65, 575,   3, 146, 222,   1,  11, 318,   2,   7, 671,\n",
       "       138, 188, 380,  86,  53, 630, 325, 702,  50, 147, 363, 488,   3,\n",
       "       486, 695, 387, 192,  53, 388, 601,   2,  19, 377,  88, 562, 286,\n",
       "       259, 103, 322, 571, 627, 604, 450,  30, 644, 186,   8, 596, 239,\n",
       "       305,  18, 327, 526,  12,  13, 130, 630, 609, 456, 370, 498,  10,\n",
       "       572, 665, 357, 513, 516,  18, 623, 479, 544,   4,  91,  20, 413,\n",
       "       230, 235, 661, 389, 456, 283, 745,  17, 140, 354, 642, 106,   1,\n",
       "        50, 126, 464, 549,   6, 703, 132, 558,  15, 243, 127, 306,   5,\n",
       "       616,   6, 189, 128, 100,  27,   2,  79, 575,  21,  20, 150, 537,\n",
       "        35, 401, 153, 154,   1, 693,   1, 290, 323, 566,   8, 576,  32,\n",
       "       181, 430, 167, 658, 431, 550, 385, 528, 210, 491, 159, 301,   0,\n",
       "       694, 223, 161,  90, 297, 700,  53, 562, 233, 541,  73, 583, 294,\n",
       "         3, 679, 596, 113, 499,  16, 412,   4, 726,   0,  20, 203, 568,\n",
       "        13, 407,   3, 573, 395, 286,  30, 565, 260, 666, 628, 516, 217,\n",
       "       400, 419,  34, 545,  87, 361,  25, 198, 205, 645,   6, 183, 655,\n",
       "        21, 452, 251, 540, 619, 700, 195, 581, 283, 599,  93, 744, 179,\n",
       "        78, 464, 592, 143,  65, 450,  10,  75, 234,   7,  18, 341, 108,\n",
       "        11,   8, 613,   2,   6, 160,  55, 645,  93, 120, 682, 431, 683,\n",
       "       286,  15,  16,  69, 525,  66, 602,   2,   2, 373, 136,  72, 133,\n",
       "       668, 122,  46, 651, 628, 713,  85, 379,  13, 213, 150, 537, 371,\n",
       "        42, 718,  86, 446, 597,  28, 163, 656, 432, 661,   4, 194,  45,\n",
       "       202, 141,   2, 163, 551, 120, 614, 200, 383, 630, 709,  84, 272,\n",
       "       103,   0,  37, 717, 506, 359, 359, 470, 522, 371, 555,  16, 492,\n",
       "        19, 668,  11,  26, 305,  50, 330, 358,  10,   1, 628, 376, 226,\n",
       "       139,  21, 717, 451, 428, 133, 258, 603, 596, 344, 206, 241,  12,\n",
       "       629, 424,  17, 482,  35,  28, 325,  22,   2,  11, 180, 434,  23,\n",
       "       111,  90,   0,   3, 197,  51, 480,   0, 213,  46, 263,  72, 560,\n",
       "         5, 429, 665, 407, 427, 747,  54, 751, 214,   3, 512, 361,   1,\n",
       "       109, 703, 715,  77, 217,  31, 489, 474, 396, 285, 534, 335,  94,\n",
       "        52,  33,  48, 394,   0, 192, 556, 175, 246, 510, 293, 170, 603,\n",
       "         2, 115, 653, 360, 685, 197, 324,  42,   2, 627, 189,   4, 611,\n",
       "         9, 187, 280, 564, 124,  84, 125, 411, 540,   1, 261, 455, 108,\n",
       "         3,   4, 540,   0,  23, 381, 575, 538, 151,  21, 661, 518,  93,\n",
       "       596, 310, 708, 249,  29,   2, 504, 466, 459,  15, 332, 582, 165,\n",
       "       107, 268, 409, 359, 189, 579, 643, 406, 678, 612, 486,  27, 363,\n",
       "         5, 202,  82, 575, 222, 117,   2, 218, 297, 292,   4,  21, 299,\n",
       "       200, 436, 189, 126,  59, 373,   6, 106,  32, 113,  30,   8, 161,\n",
       "       571, 654, 495, 423, 439, 599, 458,  21, 672, 657, 627,   3, 638,\n",
       "       239, 345, 101,  73, 187,   1, 129,  45, 300, 194,   3, 399, 439,\n",
       "       349,  24, 517, 572, 373, 175,  50, 454,  22, 204, 503, 429, 435,\n",
       "       422, 536, 235, 612, 268,   1,   3,  48,   0, 245, 314, 545,   4,\n",
       "       451,  16,   1, 185, 199, 217, 192,  17,  68, 376, 172,  58, 522,\n",
       "       520, 674,  22, 242, 196, 730,  24, 149, 287, 329, 145, 635, 362,\n",
       "        59, 165,  10, 345,   0, 477, 497,   7, 373, 170, 391, 649,   3,\n",
       "        23,   3, 255, 193,   2, 120,   6,  46,  16,  31, 650, 121, 521,\n",
       "       155,   3,  24, 106, 387, 634, 151,  42,  40, 311, 484,  78, 732,\n",
       "       671, 626,  70,  11, 543, 261, 128, 635, 251,  67,  29,  48, 136,\n",
       "        81, 162, 684, 201,  58,  29, 549,  40, 220, 340,  16, 366, 433,\n",
       "        54, 218,  94, 535, 192, 209,   2, 577,   7, 638, 435,  71, 499,\n",
       "       151, 267,   5, 139,  72, 304, 372, 627, 170,  13, 711, 556, 596,\n",
       "       171, 748, 440, 596,  81, 136, 512, 279, 623, 214, 141, 193, 388,\n",
       "       253, 718, 481, 421, 686, 446,  58, 605, 589,  70,  20, 469, 542,\n",
       "       233, 501, 466, 327,  28,  30, 532, 542, 337, 427, 445, 405,  90,\n",
       "       280, 348, 193, 110, 200, 598, 238, 400, 194, 277, 419, 605,  19,\n",
       "       175, 642, 256, 442, 428, 106,  30,   8, 431, 320,  10, 282, 102,\n",
       "        84, 417,   8,  12, 300, 702, 161, 170, 487, 211,  26, 566, 744,\n",
       "       260, 443,  10, 331,  19, 417,   1,  40,  89, 101, 287,  18,   2,\n",
       "        20, 149, 638, 679, 345,   8, 139, 358, 140,  85,  53, 269, 331,\n",
       "       182, 681,   6, 404,  77, 230,  48, 215,  14, 202, 468, 302])"
      ]
     },
     "execution_count": 11,
     "metadata": {},
     "output_type": "execute_result"
    }
   ],
   "source": [
    "import numpy as np\n",
    "# remark that, doing that this way, it won't be homogeneous.\n",
    "ra_flat = np.random.uniform(-30, 90, 1000)\n",
    "dec_flat = np.random.uniform(0, 360, 1000)\n",
    "hpsurvey.radec_to_fieldid(ra_flat, dec_flat)"
   ]
  },
  {
   "cell_type": "markdown",
   "id": "b9ea1b1a",
   "metadata": {},
   "source": [
    "### ZTF, a polygon survey\n",
    "\n",
    "polygon survey are surveys which pointings are defined by a (potentially very long) list of fieldid. (see self."
   ]
  },
  {
   "cell_type": "code",
   "execution_count": 12,
   "id": "6660ea99",
   "metadata": {},
   "outputs": [],
   "source": [
    "from skysurvey.survey import ZTF"
   ]
  },
  {
   "cell_type": "markdown",
   "id": "b47870f2",
   "metadata": {},
   "source": [
    "random is using the real ZTF field definition, but enables you to generate a random draw (unrealistic) as for HealpixSurvey"
   ]
  },
  {
   "cell_type": "code",
   "execution_count": 13,
   "id": "2faa9a26",
   "metadata": {},
   "outputs": [
    {
     "name": "stdout",
     "output_type": "stream",
     "text": [
      "CPU times: user 1.52 s, sys: 64.7 ms, total: 1.58 s\n",
      "Wall time: 1.57 s\n"
     ]
    }
   ],
   "source": [
    "%%time\n",
    "ztf = ZTF.from_random(size=365*4*1000, # number of observation \n",
    "                     bands=[\"ztf:g\",\"ztf:r\",\"ztf:i\"], # band to observed\n",
    "                     mjd_range=[56000, 56000+365*4], # timerange of observation\n",
    "                     skynoise_range=[180,210], # sky noise\n",
    "                     )"
   ]
  },
  {
   "cell_type": "code",
   "execution_count": null,
   "id": "68adaf54",
   "metadata": {},
   "outputs": [],
   "source": []
  },
  {
   "cell_type": "code",
   "execution_count": 17,
   "id": "e8e9d796",
   "metadata": {},
   "outputs": [
    {
     "data": {
      "text/html": [
       "<div>\n",
       "<style scoped>\n",
       "    .dataframe tbody tr th:only-of-type {\n",
       "        vertical-align: middle;\n",
       "    }\n",
       "\n",
       "    .dataframe tbody tr th {\n",
       "        vertical-align: top;\n",
       "    }\n",
       "\n",
       "    .dataframe thead th {\n",
       "        text-align: right;\n",
       "    }\n",
       "</style>\n",
       "<table border=\"1\" class=\"dataframe\">\n",
       "  <thead>\n",
       "    <tr style=\"text-align: right;\">\n",
       "      <th></th>\n",
       "      <th>index</th>\n",
       "      <th>mjd</th>\n",
       "      <th>band</th>\n",
       "      <th>skynoise</th>\n",
       "      <th>gain</th>\n",
       "      <th>zp</th>\n",
       "      <th>fieldid</th>\n",
       "    </tr>\n",
       "  </thead>\n",
       "  <tbody>\n",
       "    <tr>\n",
       "      <th>0</th>\n",
       "      <td>1098864</td>\n",
       "      <td>56000.000380</td>\n",
       "      <td>ztf:g</td>\n",
       "      <td>191.761084</td>\n",
       "      <td>1.0</td>\n",
       "      <td>25.0</td>\n",
       "      <td>640</td>\n",
       "    </tr>\n",
       "    <tr>\n",
       "      <th>1</th>\n",
       "      <td>1223485</td>\n",
       "      <td>56000.000577</td>\n",
       "      <td>ztf:g</td>\n",
       "      <td>180.381587</td>\n",
       "      <td>1.0</td>\n",
       "      <td>25.0</td>\n",
       "      <td>841</td>\n",
       "    </tr>\n",
       "    <tr>\n",
       "      <th>2</th>\n",
       "      <td>984632</td>\n",
       "      <td>56000.001277</td>\n",
       "      <td>ztf:g</td>\n",
       "      <td>183.271707</td>\n",
       "      <td>1.0</td>\n",
       "      <td>25.0</td>\n",
       "      <td>1129</td>\n",
       "    </tr>\n",
       "    <tr>\n",
       "      <th>3</th>\n",
       "      <td>484114</td>\n",
       "      <td>56000.002227</td>\n",
       "      <td>ztf:i</td>\n",
       "      <td>193.069914</td>\n",
       "      <td>1.0</td>\n",
       "      <td>25.0</td>\n",
       "      <td>169</td>\n",
       "    </tr>\n",
       "    <tr>\n",
       "      <th>4</th>\n",
       "      <td>338914</td>\n",
       "      <td>56000.003160</td>\n",
       "      <td>ztf:i</td>\n",
       "      <td>204.469816</td>\n",
       "      <td>1.0</td>\n",
       "      <td>25.0</td>\n",
       "      <td>1626</td>\n",
       "    </tr>\n",
       "    <tr>\n",
       "      <th>...</th>\n",
       "      <td>...</td>\n",
       "      <td>...</td>\n",
       "      <td>...</td>\n",
       "      <td>...</td>\n",
       "      <td>...</td>\n",
       "      <td>...</td>\n",
       "      <td>...</td>\n",
       "    </tr>\n",
       "    <tr>\n",
       "      <th>1459995</th>\n",
       "      <td>29058</td>\n",
       "      <td>57459.993638</td>\n",
       "      <td>ztf:r</td>\n",
       "      <td>205.078516</td>\n",
       "      <td>1.0</td>\n",
       "      <td>25.0</td>\n",
       "      <td>841</td>\n",
       "    </tr>\n",
       "    <tr>\n",
       "      <th>1459996</th>\n",
       "      <td>328557</td>\n",
       "      <td>57459.993640</td>\n",
       "      <td>ztf:i</td>\n",
       "      <td>202.250947</td>\n",
       "      <td>1.0</td>\n",
       "      <td>25.0</td>\n",
       "      <td>1250</td>\n",
       "    </tr>\n",
       "    <tr>\n",
       "      <th>1459997</th>\n",
       "      <td>517684</td>\n",
       "      <td>57459.997047</td>\n",
       "      <td>ztf:r</td>\n",
       "      <td>193.512497</td>\n",
       "      <td>1.0</td>\n",
       "      <td>25.0</td>\n",
       "      <td>1717</td>\n",
       "    </tr>\n",
       "    <tr>\n",
       "      <th>1459998</th>\n",
       "      <td>644763</td>\n",
       "      <td>57459.997076</td>\n",
       "      <td>ztf:i</td>\n",
       "      <td>191.637132</td>\n",
       "      <td>1.0</td>\n",
       "      <td>25.0</td>\n",
       "      <td>1174</td>\n",
       "    </tr>\n",
       "    <tr>\n",
       "      <th>1459999</th>\n",
       "      <td>432617</td>\n",
       "      <td>57459.998014</td>\n",
       "      <td>ztf:i</td>\n",
       "      <td>197.732519</td>\n",
       "      <td>1.0</td>\n",
       "      <td>25.0</td>\n",
       "      <td>754</td>\n",
       "    </tr>\n",
       "  </tbody>\n",
       "</table>\n",
       "<p>1460000 rows × 7 columns</p>\n",
       "</div>"
      ],
      "text/plain": [
       "           index           mjd   band    skynoise  gain    zp  fieldid\n",
       "0        1098864  56000.000380  ztf:g  191.761084   1.0  25.0      640\n",
       "1        1223485  56000.000577  ztf:g  180.381587   1.0  25.0      841\n",
       "2         984632  56000.001277  ztf:g  183.271707   1.0  25.0     1129\n",
       "3         484114  56000.002227  ztf:i  193.069914   1.0  25.0      169\n",
       "4         338914  56000.003160  ztf:i  204.469816   1.0  25.0     1626\n",
       "...          ...           ...    ...         ...   ...   ...      ...\n",
       "1459995    29058  57459.993638  ztf:r  205.078516   1.0  25.0      841\n",
       "1459996   328557  57459.993640  ztf:i  202.250947   1.0  25.0     1250\n",
       "1459997   517684  57459.997047  ztf:r  193.512497   1.0  25.0     1717\n",
       "1459998   644763  57459.997076  ztf:i  191.637132   1.0  25.0     1174\n",
       "1459999   432617  57459.998014  ztf:i  197.732519   1.0  25.0      754\n",
       "\n",
       "[1460000 rows x 7 columns]"
      ]
     },
     "execution_count": 17,
     "metadata": {},
     "output_type": "execute_result"
    }
   ],
   "source": [
    "ztf.from_pointings()"
   ]
  },
  {
   "cell_type": "code",
   "execution_count": 16,
   "id": "6731cf3a",
   "metadata": {},
   "outputs": [
    {
     "data": {
      "text/html": [
       "<div>\n",
       "<style scoped>\n",
       "    .dataframe tbody tr th:only-of-type {\n",
       "        vertical-align: middle;\n",
       "    }\n",
       "\n",
       "    .dataframe tbody tr th {\n",
       "        vertical-align: top;\n",
       "    }\n",
       "\n",
       "    .dataframe thead th {\n",
       "        text-align: right;\n",
       "    }\n",
       "</style>\n",
       "<table border=\"1\" class=\"dataframe\">\n",
       "  <thead>\n",
       "    <tr style=\"text-align: right;\">\n",
       "      <th></th>\n",
       "      <th>index</th>\n",
       "      <th>mjd</th>\n",
       "      <th>band</th>\n",
       "      <th>skynoise</th>\n",
       "      <th>gain</th>\n",
       "      <th>zp</th>\n",
       "      <th>fieldid</th>\n",
       "    </tr>\n",
       "  </thead>\n",
       "  <tbody>\n",
       "    <tr>\n",
       "      <th>0</th>\n",
       "      <td>1098864</td>\n",
       "      <td>56000.000380</td>\n",
       "      <td>ztf:g</td>\n",
       "      <td>191.761084</td>\n",
       "      <td>1.0</td>\n",
       "      <td>25.0</td>\n",
       "      <td>640</td>\n",
       "    </tr>\n",
       "    <tr>\n",
       "      <th>1</th>\n",
       "      <td>1223485</td>\n",
       "      <td>56000.000577</td>\n",
       "      <td>ztf:g</td>\n",
       "      <td>180.381587</td>\n",
       "      <td>1.0</td>\n",
       "      <td>25.0</td>\n",
       "      <td>841</td>\n",
       "    </tr>\n",
       "    <tr>\n",
       "      <th>2</th>\n",
       "      <td>984632</td>\n",
       "      <td>56000.001277</td>\n",
       "      <td>ztf:g</td>\n",
       "      <td>183.271707</td>\n",
       "      <td>1.0</td>\n",
       "      <td>25.0</td>\n",
       "      <td>1129</td>\n",
       "    </tr>\n",
       "    <tr>\n",
       "      <th>3</th>\n",
       "      <td>484114</td>\n",
       "      <td>56000.002227</td>\n",
       "      <td>ztf:i</td>\n",
       "      <td>193.069914</td>\n",
       "      <td>1.0</td>\n",
       "      <td>25.0</td>\n",
       "      <td>169</td>\n",
       "    </tr>\n",
       "    <tr>\n",
       "      <th>4</th>\n",
       "      <td>338914</td>\n",
       "      <td>56000.003160</td>\n",
       "      <td>ztf:i</td>\n",
       "      <td>204.469816</td>\n",
       "      <td>1.0</td>\n",
       "      <td>25.0</td>\n",
       "      <td>1626</td>\n",
       "    </tr>\n",
       "    <tr>\n",
       "      <th>...</th>\n",
       "      <td>...</td>\n",
       "      <td>...</td>\n",
       "      <td>...</td>\n",
       "      <td>...</td>\n",
       "      <td>...</td>\n",
       "      <td>...</td>\n",
       "      <td>...</td>\n",
       "    </tr>\n",
       "    <tr>\n",
       "      <th>1459995</th>\n",
       "      <td>29058</td>\n",
       "      <td>57459.993638</td>\n",
       "      <td>ztf:r</td>\n",
       "      <td>205.078516</td>\n",
       "      <td>1.0</td>\n",
       "      <td>25.0</td>\n",
       "      <td>841</td>\n",
       "    </tr>\n",
       "    <tr>\n",
       "      <th>1459996</th>\n",
       "      <td>328557</td>\n",
       "      <td>57459.993640</td>\n",
       "      <td>ztf:i</td>\n",
       "      <td>202.250947</td>\n",
       "      <td>1.0</td>\n",
       "      <td>25.0</td>\n",
       "      <td>1250</td>\n",
       "    </tr>\n",
       "    <tr>\n",
       "      <th>1459997</th>\n",
       "      <td>517684</td>\n",
       "      <td>57459.997047</td>\n",
       "      <td>ztf:r</td>\n",
       "      <td>193.512497</td>\n",
       "      <td>1.0</td>\n",
       "      <td>25.0</td>\n",
       "      <td>1717</td>\n",
       "    </tr>\n",
       "    <tr>\n",
       "      <th>1459998</th>\n",
       "      <td>644763</td>\n",
       "      <td>57459.997076</td>\n",
       "      <td>ztf:i</td>\n",
       "      <td>191.637132</td>\n",
       "      <td>1.0</td>\n",
       "      <td>25.0</td>\n",
       "      <td>1174</td>\n",
       "    </tr>\n",
       "    <tr>\n",
       "      <th>1459999</th>\n",
       "      <td>432617</td>\n",
       "      <td>57459.998014</td>\n",
       "      <td>ztf:i</td>\n",
       "      <td>197.732519</td>\n",
       "      <td>1.0</td>\n",
       "      <td>25.0</td>\n",
       "      <td>754</td>\n",
       "    </tr>\n",
       "  </tbody>\n",
       "</table>\n",
       "<p>1460000 rows × 7 columns</p>\n",
       "</div>"
      ],
      "text/plain": [
       "           index           mjd   band    skynoise  gain    zp  fieldid\n",
       "0        1098864  56000.000380  ztf:g  191.761084   1.0  25.0      640\n",
       "1        1223485  56000.000577  ztf:g  180.381587   1.0  25.0      841\n",
       "2         984632  56000.001277  ztf:g  183.271707   1.0  25.0     1129\n",
       "3         484114  56000.002227  ztf:i  193.069914   1.0  25.0      169\n",
       "4         338914  56000.003160  ztf:i  204.469816   1.0  25.0     1626\n",
       "...          ...           ...    ...         ...   ...   ...      ...\n",
       "1459995    29058  57459.993638  ztf:r  205.078516   1.0  25.0      841\n",
       "1459996   328557  57459.993640  ztf:i  202.250947   1.0  25.0     1250\n",
       "1459997   517684  57459.997047  ztf:r  193.512497   1.0  25.0     1717\n",
       "1459998   644763  57459.997076  ztf:i  191.637132   1.0  25.0     1174\n",
       "1459999   432617  57459.998014  ztf:i  197.732519   1.0  25.0      754\n",
       "\n",
       "[1460000 rows x 7 columns]"
      ]
     },
     "execution_count": 16,
     "metadata": {},
     "output_type": "execute_result"
    }
   ],
   "source": [
    "data = ztf.data\n",
    "data"
   ]
  },
  {
   "cell_type": "markdown",
   "id": "71934ff8",
   "metadata": {},
   "source": [
    "If you have a list of observation have these data. load directly a ztf instance with that"
   ]
  },
  {
   "cell_type": "code",
   "execution_count": 17,
   "id": "f1b0058c",
   "metadata": {},
   "outputs": [
    {
     "name": "stdout",
     "output_type": "stream",
     "text": [
      "CPU times: user 39.4 ms, sys: 11.3 ms, total: 50.7 ms\n",
      "Wall time: 45.2 ms\n"
     ]
    }
   ],
   "source": [
    "%%time\n",
    "other_ztf = ZTF(data=data)"
   ]
  },
  {
   "cell_type": "code",
   "execution_count": 18,
   "id": "f8acac62",
   "metadata": {},
   "outputs": [
    {
     "data": {
      "text/plain": [
       "249     924\n",
       "669     913\n",
       "1086    911\n",
       "1820    909\n",
       "827     908\n",
       "       ... \n",
       "14      749\n",
       "424     746\n",
       "1515    740\n",
       "420     737\n",
       "552     727\n",
       "Name: fieldid, Length: 1776, dtype: int64"
      ]
     },
     "execution_count": 18,
     "metadata": {},
     "output_type": "execute_result"
    }
   ],
   "source": [
    "other_ztf.get_fieldstat(\"size\")"
   ]
  },
  {
   "cell_type": "markdown",
   "id": "239a2808",
   "metadata": {},
   "source": [
    "**Next let's join targets and survey**"
   ]
  },
  {
   "cell_type": "code",
   "execution_count": null,
   "id": "b4e72ee7",
   "metadata": {},
   "outputs": [],
   "source": []
  }
 ],
 "metadata": {
  "kernelspec": {
   "display_name": "Python 3 (ipykernel)",
   "language": "python",
   "name": "python3"
  },
  "language_info": {
   "codemirror_mode": {
    "name": "ipython",
    "version": 3
   },
   "file_extension": ".py",
   "mimetype": "text/x-python",
   "name": "python",
   "nbconvert_exporter": "python",
   "pygments_lexer": "ipython3",
   "version": "3.9.13"
  }
 },
 "nbformat": 4,
 "nbformat_minor": 5
}
