{
 "cells": [
  {
   "cell_type": "markdown",
   "id": "b60ec1f5",
   "metadata": {},
   "source": [
    "# Quickstart: Survey\n",
    "\n",
    "learn how to generate a survey"
   ]
  },
  {
   "cell_type": "code",
   "execution_count": 1,
   "id": "3dcbaca7",
   "metadata": {},
   "outputs": [
    {
     "name": "stderr",
     "output_type": "stream",
     "text": [
      "/Users/rigault/miniforge3/lib/python3.9/site-packages/ztfquery-1.19.0-py3.9.egg/ztfquery/utils/tools.py:78: VisibleDeprecationWarning: Creating an ndarray from ragged nested sequences (which is a list-or-tuple of lists-or-tuples-or ndarrays with different lengths or shapes) is deprecated. If you meant to do this, you must specify 'dtype=object' when creating the ndarray.\n",
      "  return np.asarray([v[0]*np.cos(theta*_DEG2RA) - v[2]*np.sin(theta*_DEG2RA),\n"
     ]
    }
   ],
   "source": [
    "from skysurvey import survey"
   ]
  },
  {
   "cell_type": "markdown",
   "id": "87b6af94",
   "metadata": {},
   "source": [
    "let's start with two predefined survey. A generic HealpixSurvey (based on healpix sky segmentation) \n",
    "and a real one ZTF (based on polygon sky segmentation)"
   ]
  },
  {
   "cell_type": "markdown",
   "id": "ed7e777c",
   "metadata": {},
   "source": [
    "### Healpix Survey"
   ]
  },
  {
   "cell_type": "code",
   "execution_count": 2,
   "id": "ff37b039",
   "metadata": {},
   "outputs": [],
   "source": [
    "hpsurvey = survey.HealpixSurvey(9)"
   ]
  },
  {
   "cell_type": "markdown",
   "id": "70a28f36",
   "metadata": {},
   "source": [
    "Let's draw the equivalent of 4 years of observations assuming 1000 healpix pixel pointings per day\n",
    "\n",
    "Remark that, as such mjd_range and size are drawn independenly so, 1000 pointing per day is an average. "
   ]
  },
  {
   "cell_type": "code",
   "execution_count": 3,
   "id": "6ed988ad",
   "metadata": {},
   "outputs": [
    {
     "name": "stdout",
     "output_type": "stream",
     "text": [
      "CPU times: user 1.45 s, sys: 105 ms, total: 1.56 s\n",
      "Wall time: 1.56 s\n"
     ]
    }
   ],
   "source": [
    "%%time\n",
    "hpsurvey.draw_random(size=365*4*1000, # number of observation \n",
    "                     bands=[\"ztf:g\",\"ztf:r\",\"ztf:i\"], # band to observed\n",
    "                     mjd_range=[56000, 56000+365*4], # timerange of observation\n",
    "                     skynoise_range=[180,210], # sky noise\n",
    "                     ra_range=[-30,90], \n",
    "                    inplace=True)  # set the self.data and do not return a new HealpixSurvey"
   ]
  },
  {
   "cell_type": "markdown",
   "id": "0ba9ad1d",
   "metadata": {},
   "source": [
    "Remark: you could have load it directly this way using the ``from_random`` classmethod"
   ]
  },
  {
   "cell_type": "code",
   "execution_count": 4,
   "id": "4188e123",
   "metadata": {},
   "outputs": [
    {
     "name": "stdout",
     "output_type": "stream",
     "text": [
      "CPU times: user 1.61 s, sys: 57.4 ms, total: 1.67 s\n",
      "Wall time: 1.67 s\n"
     ]
    }
   ],
   "source": [
    "%%time\n",
    "hpsurvey = survey.HealpixSurvey.from_random(nside=9, \n",
    "                                     size=365*4*1000, # number of observation \n",
    "                                     bands=[\"ztf:g\",\"ztf:r\",\"ztf:i\"],\n",
    "                                     mjd_range=[56000, 56000+365*4], \n",
    "                                     skynoise_range=[180,210], \n",
    "                                     ra_range=[-30,90])"
   ]
  },
  {
   "cell_type": "code",
   "execution_count": 5,
   "id": "31aa7121",
   "metadata": {},
   "outputs": [
    {
     "data": {
      "text/html": [
       "<div>\n",
       "<style scoped>\n",
       "    .dataframe tbody tr th:only-of-type {\n",
       "        vertical-align: middle;\n",
       "    }\n",
       "\n",
       "    .dataframe tbody tr th {\n",
       "        vertical-align: top;\n",
       "    }\n",
       "\n",
       "    .dataframe thead th {\n",
       "        text-align: right;\n",
       "    }\n",
       "</style>\n",
       "<table border=\"1\" class=\"dataframe\">\n",
       "  <thead>\n",
       "    <tr style=\"text-align: right;\">\n",
       "      <th></th>\n",
       "      <th>index</th>\n",
       "      <th>mjd</th>\n",
       "      <th>band</th>\n",
       "      <th>skynoise</th>\n",
       "      <th>gain</th>\n",
       "      <th>zp</th>\n",
       "      <th>fieldid</th>\n",
       "    </tr>\n",
       "  </thead>\n",
       "  <tbody>\n",
       "    <tr>\n",
       "      <th>0</th>\n",
       "      <td>471732</td>\n",
       "      <td>56000.001029</td>\n",
       "      <td>ztf:g</td>\n",
       "      <td>195.474200</td>\n",
       "      <td>1.0</td>\n",
       "      <td>25.0</td>\n",
       "      <td>194</td>\n",
       "    </tr>\n",
       "    <tr>\n",
       "      <th>1</th>\n",
       "      <td>557791</td>\n",
       "      <td>56000.002661</td>\n",
       "      <td>ztf:g</td>\n",
       "      <td>182.994548</td>\n",
       "      <td>1.0</td>\n",
       "      <td>25.0</td>\n",
       "      <td>291</td>\n",
       "    </tr>\n",
       "    <tr>\n",
       "      <th>2</th>\n",
       "      <td>341008</td>\n",
       "      <td>56000.004024</td>\n",
       "      <td>ztf:g</td>\n",
       "      <td>195.574587</td>\n",
       "      <td>1.0</td>\n",
       "      <td>25.0</td>\n",
       "      <td>477</td>\n",
       "    </tr>\n",
       "    <tr>\n",
       "      <th>3</th>\n",
       "      <td>545099</td>\n",
       "      <td>56000.004668</td>\n",
       "      <td>ztf:g</td>\n",
       "      <td>187.531129</td>\n",
       "      <td>1.0</td>\n",
       "      <td>25.0</td>\n",
       "      <td>293</td>\n",
       "    </tr>\n",
       "    <tr>\n",
       "      <th>4</th>\n",
       "      <td>1242103</td>\n",
       "      <td>56000.005212</td>\n",
       "      <td>ztf:i</td>\n",
       "      <td>197.519235</td>\n",
       "      <td>1.0</td>\n",
       "      <td>25.0</td>\n",
       "      <td>68</td>\n",
       "    </tr>\n",
       "    <tr>\n",
       "      <th>...</th>\n",
       "      <td>...</td>\n",
       "      <td>...</td>\n",
       "      <td>...</td>\n",
       "      <td>...</td>\n",
       "      <td>...</td>\n",
       "      <td>...</td>\n",
       "      <td>...</td>\n",
       "    </tr>\n",
       "    <tr>\n",
       "      <th>1459995</th>\n",
       "      <td>140123</td>\n",
       "      <td>57459.995756</td>\n",
       "      <td>ztf:g</td>\n",
       "      <td>206.279811</td>\n",
       "      <td>1.0</td>\n",
       "      <td>25.0</td>\n",
       "      <td>208</td>\n",
       "    </tr>\n",
       "    <tr>\n",
       "      <th>1459996</th>\n",
       "      <td>1267184</td>\n",
       "      <td>57459.996537</td>\n",
       "      <td>ztf:g</td>\n",
       "      <td>203.914667</td>\n",
       "      <td>1.0</td>\n",
       "      <td>25.0</td>\n",
       "      <td>394</td>\n",
       "    </tr>\n",
       "    <tr>\n",
       "      <th>1459997</th>\n",
       "      <td>843890</td>\n",
       "      <td>57459.997166</td>\n",
       "      <td>ztf:i</td>\n",
       "      <td>199.857356</td>\n",
       "      <td>1.0</td>\n",
       "      <td>25.0</td>\n",
       "      <td>649</td>\n",
       "    </tr>\n",
       "    <tr>\n",
       "      <th>1459998</th>\n",
       "      <td>966128</td>\n",
       "      <td>57459.997556</td>\n",
       "      <td>ztf:i</td>\n",
       "      <td>185.071792</td>\n",
       "      <td>1.0</td>\n",
       "      <td>25.0</td>\n",
       "      <td>695</td>\n",
       "    </tr>\n",
       "    <tr>\n",
       "      <th>1459999</th>\n",
       "      <td>567671</td>\n",
       "      <td>57459.998543</td>\n",
       "      <td>ztf:i</td>\n",
       "      <td>201.458469</td>\n",
       "      <td>1.0</td>\n",
       "      <td>25.0</td>\n",
       "      <td>579</td>\n",
       "    </tr>\n",
       "  </tbody>\n",
       "</table>\n",
       "<p>1460000 rows × 7 columns</p>\n",
       "</div>"
      ],
      "text/plain": [
       "           index           mjd   band    skynoise  gain    zp  fieldid\n",
       "0         471732  56000.001029  ztf:g  195.474200   1.0  25.0      194\n",
       "1         557791  56000.002661  ztf:g  182.994548   1.0  25.0      291\n",
       "2         341008  56000.004024  ztf:g  195.574587   1.0  25.0      477\n",
       "3         545099  56000.004668  ztf:g  187.531129   1.0  25.0      293\n",
       "4        1242103  56000.005212  ztf:i  197.519235   1.0  25.0       68\n",
       "...          ...           ...    ...         ...   ...   ...      ...\n",
       "1459995   140123  57459.995756  ztf:g  206.279811   1.0  25.0      208\n",
       "1459996  1267184  57459.996537  ztf:g  203.914667   1.0  25.0      394\n",
       "1459997   843890  57459.997166  ztf:i  199.857356   1.0  25.0      649\n",
       "1459998   966128  57459.997556  ztf:i  185.071792   1.0  25.0      695\n",
       "1459999   567671  57459.998543  ztf:i  201.458469   1.0  25.0      579\n",
       "\n",
       "[1460000 rows x 7 columns]"
      ]
     },
     "execution_count": 5,
     "metadata": {},
     "output_type": "execute_result"
    }
   ],
   "source": [
    "hpsurvey.data # Show the data generated. time, band sky noise, gain, zp and fieldid."
   ]
  },
  {
   "cell_type": "markdown",
   "id": "06a09453",
   "metadata": {},
   "source": [
    "Let's get the number of time a 'field' has been observed"
   ]
  },
  {
   "cell_type": "code",
   "execution_count": 6,
   "id": "2fc972c3",
   "metadata": {},
   "outputs": [
    {
     "data": {
      "text/plain": [
       "53     2189\n",
       "580    2172\n",
       "633    2171\n",
       "379    2157\n",
       "718    2157\n",
       "       ... \n",
       "612    1925\n",
       "122    1925\n",
       "7      1925\n",
       "4      1924\n",
       "382    1921\n",
       "Name: fieldid, Length: 720, dtype: int64"
      ]
     },
     "execution_count": 6,
     "metadata": {},
     "output_type": "execute_result"
    }
   ],
   "source": [
    "hpsurvey.get_fieldstat(\"size\") "
   ]
  },
  {
   "cell_type": "markdown",
   "id": "91bb5fca",
   "metadata": {},
   "source": [
    "These are just short cut to pandas dataframe contained in self.data\n",
    "\n",
    "So you can play.\n",
    "\n",
    "Let's measure the number of observation we have per day and per band"
   ]
  },
  {
   "cell_type": "code",
   "execution_count": 7,
   "id": "19bcc9b4",
   "metadata": {},
   "outputs": [],
   "source": [
    "data = hpsurvey.data.copy()\n",
    "data[\"day\"] = data[\"mjd\"].astype(int)"
   ]
  },
  {
   "cell_type": "code",
   "execution_count": 8,
   "id": "c83ff93f",
   "metadata": {},
   "outputs": [
    {
     "data": {
      "text/plain": [
       "day    band \n",
       "56000  ztf:g    329\n",
       "       ztf:i    296\n",
       "       ztf:r    323\n",
       "56001  ztf:g    349\n",
       "       ztf:i    309\n",
       "               ... \n",
       "57458  ztf:i    348\n",
       "       ztf:r    344\n",
       "57459  ztf:g    347\n",
       "       ztf:i    308\n",
       "       ztf:r    354\n",
       "Length: 4380, dtype: int64"
      ]
     },
     "execution_count": 8,
     "metadata": {},
     "output_type": "execute_result"
    }
   ],
   "source": [
    "dailybands = data.groupby([\"day\",\"band\"]).size()\n",
    "dailybands"
   ]
  },
  {
   "cell_type": "code",
   "execution_count": 9,
   "id": "dc9a1dc5",
   "metadata": {},
   "outputs": [
    {
     "data": {
      "text/plain": [
       "<matplotlib.legend.Legend at 0x296fb0730>"
      ]
     },
     "execution_count": 9,
     "metadata": {},
     "output_type": "execute_result"
    },
    {
     "data": {
      "image/png": "[encoded data removed]",
      "text/plain": [
       "<Figure size 432x288 with 1 Axes>"
      ]
     },
     "metadata": {
      "needs_background": "light"
     },
     "output_type": "display_data"
    }
   ],
   "source": [
    "import matplotlib.pyplot as plt\n",
    "fig = plt.figure()\n",
    "ax = fig.add_subplot()\n",
    "\n",
    "prop = dict(lw=2, histtype=\"step\")\n",
    "ax.hist(dailybands.xs(\"ztf:g\", level=1), color=\"tab:green\", label=\"ztf:g\", **prop) \n",
    "ax.hist(dailybands.xs(\"ztf:r\", level=1), color=\"tab:red\", label=\"ztf:r\",**prop)\n",
    "ax.hist(dailybands.xs(\"ztf:i\", level=1), color=\"tab:orange\", label=\"ztf:i\",**prop)\n",
    "ax.legend(loc='best')"
   ]
  },
  {
   "cell_type": "markdown",
   "id": "7c0fc675",
   "metadata": {},
   "source": [
    "#### Get the field of a target\n",
    "\n",
    "This is an important feature that enable us to know whic field contains which target"
   ]
  },
  {
   "cell_type": "code",
   "execution_count": 10,
   "id": "3be595aa",
   "metadata": {},
   "outputs": [
    {
     "data": {
      "text/plain": [
       "189"
      ]
     },
     "execution_count": 10,
     "metadata": {},
     "output_type": "execute_result"
    }
   ],
   "source": [
    "hpsurvey.radec_to_fieldid(40, 90)"
   ]
  },
  {
   "cell_type": "code",
   "execution_count": 13,
   "id": "d121d311",
   "metadata": {},
   "outputs": [
    {
     "data": {
      "text/plain": [
       "array([637, 368, 525, 398, 230, 107, 206, 272, 702,  39, 547, 234, 327,\n",
       "       618, 585,  68, 197, 150, 379, 586, 155, 439, 178,  15, 371, 255,\n",
       "        58, 256,  57, 593, 359, 617, 286, 674, 276,   2, 267, 527, 509,\n",
       "         1, 692, 302,   3, 742, 297,   2, 645,   3, 706, 201, 394,  80,\n",
       "       299,   1, 134, 103,  22,  30, 650, 453, 142, 672, 404, 112, 107,\n",
       "       387, 102, 441,  59, 201, 677,  32, 274, 495, 669,   1, 660, 429,\n",
       "       609, 560,  22,   3, 135,  70, 167, 461,  33,   7, 342, 693,  27,\n",
       "       349,  45, 356,  86,   1, 574,   2,   0, 612, 454, 174, 679, 127,\n",
       "       338, 362,  68,  75, 648,   0, 414, 490, 129,  45,  37,  41,  74,\n",
       "       332,  47,   3,  58,  84,  96, 172, 383, 176,  80, 373, 138, 159,\n",
       "        27, 476, 343, 705,  79,  35, 464,  58, 651, 499,   3,  19, 506,\n",
       "       563,   2, 488,   9, 389, 718, 672, 589, 618,  23,   0, 385,  17,\n",
       "       207, 129, 623, 114, 301, 753,  45, 531, 466, 207, 555,  41, 555,\n",
       "       134, 549, 171, 632, 541, 409,  86,  85, 545, 248, 698,   3, 131,\n",
       "         2, 167, 755, 240,   2, 313,   4, 404, 639,  12,   4, 545,  11,\n",
       "       171, 516,  92,   0, 384, 305, 306, 415, 329,  64, 393, 242, 103,\n",
       "       101, 350,   3, 227,  59, 143,  19, 683,  38, 388, 102, 177, 328,\n",
       "        16, 350, 397,  52, 711, 363,  28,   4, 434,  49, 746, 296,  31,\n",
       "        26, 365, 319, 171,   2,  10, 557, 340, 524, 198, 682, 304,   1,\n",
       "        95, 491, 278,  74, 326,  16,  22,  62,  11, 103,   9,   3, 166,\n",
       "       304, 336,  96,  69, 259,   0,   0, 559, 748, 471, 671,  60,  19,\n",
       "       277, 715, 423, 386,  25, 479,  37,  38,  15, 417,   6, 301, 651,\n",
       "       230, 752, 212,  76, 407, 567, 724,  64,  82, 418,  18, 553, 172,\n",
       "        46, 302, 753, 221,  89, 598, 314, 356, 154,   9, 291,   9, 184,\n",
       "         7, 357, 522, 527,   7, 115, 122, 107, 112,  13,  58, 235, 241,\n",
       "       395, 740,  26, 427, 360, 457, 663, 311, 163,  62, 625, 261, 394,\n",
       "         0, 288, 375,  20, 292, 714, 396, 157, 727,   2, 265, 158,  72,\n",
       "       590, 146,  92,  83, 322,  27,  43, 380,   6, 473, 543,   5, 177,\n",
       "        62,  52,  46,  53, 128, 116,  72, 263,  10, 196, 277,  58, 289,\n",
       "       531, 110,   5, 639,   8, 486, 391,  89, 394, 199, 663, 150, 658,\n",
       "       416, 690, 431, 574, 491, 671, 289, 175, 103, 597, 245, 169, 520,\n",
       "        36, 180, 495, 544, 252, 530, 363, 129, 621, 555, 684, 519,  24,\n",
       "       694, 244,   1, 199,  60, 478,   3, 478, 583, 370, 537, 510,  25,\n",
       "       445,   1, 642, 251,   2, 715, 642,  96,  35,  38, 571,  72,   8,\n",
       "        80, 193, 301,   2, 445, 541,   0, 374, 110, 666, 367,  76,   1,\n",
       "       551, 457,  89,  23, 301, 455, 616, 621, 168, 445,   0,  20, 749,\n",
       "       707, 591, 384, 300, 206, 674, 114,  98, 540, 123, 654,   0, 519,\n",
       "        56, 594, 394, 653, 593,   1, 357,   7,  28, 152,  13, 120,  23,\n",
       "       153,   9, 518, 477,  70,  50, 459, 697, 732, 130, 374, 109, 509,\n",
       "       509, 329, 569,  56, 596, 360, 391,  15, 703,  13, 194,  47,   0,\n",
       "       223, 175, 620, 425, 661, 137,   5, 646, 711,  68, 496, 471,  28,\n",
       "       406,  15, 479, 260, 466, 131, 536, 186, 113, 400, 337, 593, 437,\n",
       "       267, 115,  45, 395, 124, 315, 224, 340, 332, 601,   3, 133, 537,\n",
       "       293, 642, 691,  65, 394,  37, 465, 457, 245, 126,   2,   1, 384,\n",
       "        70,   7,  38, 566, 266,   4, 346, 362, 188,  68,  99, 148, 624,\n",
       "        92,   9, 292, 632, 660, 397,  30, 440, 166, 578, 418,  97, 174,\n",
       "       187,  20, 247, 477, 156,   0, 499, 478, 158, 423,   5,  15, 418,\n",
       "       515,  39,  78, 153, 575, 130, 165, 528, 709, 256, 613, 696, 279,\n",
       "       110, 725,   4,  90, 450, 706, 503, 455, 278,   1, 457, 112, 670,\n",
       "       555, 228, 499,  27,   7, 308, 183, 676, 296, 238,  25,  78,   6,\n",
       "        81,  74, 328,  12,   5, 172, 660, 276, 409, 459, 737, 463, 268,\n",
       "        42, 122, 543, 685,   0,  38, 617,   0,  53, 300, 145, 137, 165,\n",
       "       457, 402, 102,   8, 531, 236, 692, 635, 590, 253, 214, 382, 122,\n",
       "         6,  27, 295, 477, 468,  26,   0, 244,  83,  93, 606, 121,  73,\n",
       "       128,   0, 152, 428, 113,  15, 138, 243, 144,  50,  35,  75,  32,\n",
       "        15,  36, 181,   3, 494,  18,   6, 223,  21,  74, 324,  25, 341,\n",
       "       203,  79, 282,   2,  28, 141,   3,   4,   3,  60, 114, 296, 155,\n",
       "        22,  19, 360,  27,  13, 487, 645, 623,   3, 649,  11,  26, 262,\n",
       "       617,  20,  10,  21, 114, 395, 331,  22, 116,   5,   6, 461, 345,\n",
       "        65, 460, 562, 294, 344, 594,  10, 252,  37, 293, 261,  42,  20,\n",
       "       517,  63, 503, 628,   1, 318,  74, 411, 309, 726,  61, 237, 175,\n",
       "        99,   7, 707, 154, 480, 598,   2, 308, 436, 424, 672, 496, 399,\n",
       "       632,   1,  19,   3,  65, 281,  10,  30, 117,  14,  17, 118, 272,\n",
       "       674,  85,   0, 614, 114, 728, 502, 110, 407, 504,  53, 616, 122,\n",
       "        37, 220,  64, 304, 299,  13,  22,  41, 210, 353,  11, 309, 508,\n",
       "       368, 198,   6, 448, 342, 104,  61, 510, 268, 188, 248, 629,  23,\n",
       "       575, 222, 305,  33, 673, 623,   0, 619, 626, 353, 282, 665, 171,\n",
       "       546, 709,  36,   3, 414,   1, 388, 145, 263, 732,  41, 245, 225,\n",
       "       117,  25,   4, 370, 218,  51, 330, 566, 307, 119, 144, 421, 654,\n",
       "       625, 697, 109, 482, 603,   0, 187,  71, 171, 468, 531, 141, 186,\n",
       "       255, 527,  44,  65, 142, 279, 398,   1,  10, 682, 179,  94,  21,\n",
       "       607, 657, 594,  45, 492,   8, 483, 536, 720, 630, 670, 341, 354,\n",
       "         1,  56, 285,  37, 688,  85, 631, 380, 290, 201,  19,  88, 605,\n",
       "       682, 368, 209, 671,  65,  99, 286, 102, 450, 562, 290, 699, 310,\n",
       "       152, 463, 496, 639, 461,  15, 583, 205,  92, 348, 212,  45,   5,\n",
       "       359, 575, 358, 680,   3, 299, 137,  84, 510,   0, 548,   2, 360,\n",
       "        15, 351, 631, 149, 245,  50, 142, 665, 421, 329, 321, 104])"
      ]
     },
     "execution_count": 13,
     "metadata": {},
     "output_type": "execute_result"
    }
   ],
   "source": [
    "import numpy as np\n",
    "# remark that, doing that this way, it won't be homogeneous.\n",
    "ra_flat = np.random.uniform(-30, 90, 1000)\n",
    "dec_flat = np.random.uniform(0, 360, 1000)\n",
    "hpsurvey.radec_to_fieldid(ra_flat, dec_flat)"
   ]
  },
  {
   "cell_type": "markdown",
   "id": "b9ea1b1a",
   "metadata": {},
   "source": [
    "### ZTF, a polygon survey\n",
    "\n",
    "polygon survey are surveys which pointings are defined by a (potentially very long) list of fieldid. (see self."
   ]
  },
  {
   "cell_type": "code",
   "execution_count": 14,
   "id": "6660ea99",
   "metadata": {},
   "outputs": [],
   "source": [
    "from skysurvey.survey import ZTF"
   ]
  },
  {
   "cell_type": "markdown",
   "id": "b47870f2",
   "metadata": {},
   "source": [
    "random is using the real ZTF field definition, but enables you to generate a random draw (unrealistic) as for HealpixSurvey"
   ]
  },
  {
   "cell_type": "code",
   "execution_count": 15,
   "id": "2faa9a26",
   "metadata": {},
   "outputs": [
    {
     "name": "stdout",
     "output_type": "stream",
     "text": [
      "CPU times: user 1.58 s, sys: 56.6 ms, total: 1.64 s\n",
      "Wall time: 1.64 s\n"
     ]
    }
   ],
   "source": [
    "%%time\n",
    "ztf = ZTF.from_random(size=365*4*1000, # number of observation \n",
    "                     bands=[\"ztf:g\",\"ztf:r\",\"ztf:i\"], # band to observed\n",
    "                     mjd_range=[56000, 56000+365*4], # timerange of observation\n",
    "                     skynoise_range=[180,210], # sky noise\n",
    "                     )"
   ]
  },
  {
   "cell_type": "code",
   "execution_count": 16,
   "id": "6731cf3a",
   "metadata": {},
   "outputs": [
    {
     "data": {
      "text/html": [
       "<div>\n",
       "<style scoped>\n",
       "    .dataframe tbody tr th:only-of-type {\n",
       "        vertical-align: middle;\n",
       "    }\n",
       "\n",
       "    .dataframe tbody tr th {\n",
       "        vertical-align: top;\n",
       "    }\n",
       "\n",
       "    .dataframe thead th {\n",
       "        text-align: right;\n",
       "    }\n",
       "</style>\n",
       "<table border=\"1\" class=\"dataframe\">\n",
       "  <thead>\n",
       "    <tr style=\"text-align: right;\">\n",
       "      <th></th>\n",
       "      <th>index</th>\n",
       "      <th>mjd</th>\n",
       "      <th>band</th>\n",
       "      <th>skynoise</th>\n",
       "      <th>gain</th>\n",
       "      <th>zp</th>\n",
       "      <th>fieldid</th>\n",
       "    </tr>\n",
       "  </thead>\n",
       "  <tbody>\n",
       "    <tr>\n",
       "      <th>0</th>\n",
       "      <td>220180</td>\n",
       "      <td>56000.000756</td>\n",
       "      <td>ztf:r</td>\n",
       "      <td>193.413331</td>\n",
       "      <td>1.0</td>\n",
       "      <td>25.0</td>\n",
       "      <td>236</td>\n",
       "    </tr>\n",
       "    <tr>\n",
       "      <th>1</th>\n",
       "      <td>614832</td>\n",
       "      <td>56000.000939</td>\n",
       "      <td>ztf:i</td>\n",
       "      <td>206.701015</td>\n",
       "      <td>1.0</td>\n",
       "      <td>25.0</td>\n",
       "      <td>355</td>\n",
       "    </tr>\n",
       "    <tr>\n",
       "      <th>2</th>\n",
       "      <td>669487</td>\n",
       "      <td>56000.003010</td>\n",
       "      <td>ztf:r</td>\n",
       "      <td>191.778601</td>\n",
       "      <td>1.0</td>\n",
       "      <td>25.0</td>\n",
       "      <td>1558</td>\n",
       "    </tr>\n",
       "    <tr>\n",
       "      <th>3</th>\n",
       "      <td>933185</td>\n",
       "      <td>56000.003747</td>\n",
       "      <td>ztf:i</td>\n",
       "      <td>198.621483</td>\n",
       "      <td>1.0</td>\n",
       "      <td>25.0</td>\n",
       "      <td>1556</td>\n",
       "    </tr>\n",
       "    <tr>\n",
       "      <th>4</th>\n",
       "      <td>1240438</td>\n",
       "      <td>56000.003917</td>\n",
       "      <td>ztf:r</td>\n",
       "      <td>184.476005</td>\n",
       "      <td>1.0</td>\n",
       "      <td>25.0</td>\n",
       "      <td>1284</td>\n",
       "    </tr>\n",
       "    <tr>\n",
       "      <th>...</th>\n",
       "      <td>...</td>\n",
       "      <td>...</td>\n",
       "      <td>...</td>\n",
       "      <td>...</td>\n",
       "      <td>...</td>\n",
       "      <td>...</td>\n",
       "      <td>...</td>\n",
       "    </tr>\n",
       "    <tr>\n",
       "      <th>1459995</th>\n",
       "      <td>40415</td>\n",
       "      <td>57459.996991</td>\n",
       "      <td>ztf:i</td>\n",
       "      <td>196.604722</td>\n",
       "      <td>1.0</td>\n",
       "      <td>25.0</td>\n",
       "      <td>1329</td>\n",
       "    </tr>\n",
       "    <tr>\n",
       "      <th>1459996</th>\n",
       "      <td>194712</td>\n",
       "      <td>57459.997898</td>\n",
       "      <td>ztf:r</td>\n",
       "      <td>182.869078</td>\n",
       "      <td>1.0</td>\n",
       "      <td>25.0</td>\n",
       "      <td>627</td>\n",
       "    </tr>\n",
       "    <tr>\n",
       "      <th>1459997</th>\n",
       "      <td>752515</td>\n",
       "      <td>57459.998321</td>\n",
       "      <td>ztf:r</td>\n",
       "      <td>203.899547</td>\n",
       "      <td>1.0</td>\n",
       "      <td>25.0</td>\n",
       "      <td>1844</td>\n",
       "    </tr>\n",
       "    <tr>\n",
       "      <th>1459998</th>\n",
       "      <td>653554</td>\n",
       "      <td>57459.998580</td>\n",
       "      <td>ztf:i</td>\n",
       "      <td>194.109305</td>\n",
       "      <td>1.0</td>\n",
       "      <td>25.0</td>\n",
       "      <td>1517</td>\n",
       "    </tr>\n",
       "    <tr>\n",
       "      <th>1459999</th>\n",
       "      <td>179797</td>\n",
       "      <td>57459.999538</td>\n",
       "      <td>ztf:g</td>\n",
       "      <td>196.365805</td>\n",
       "      <td>1.0</td>\n",
       "      <td>25.0</td>\n",
       "      <td>1783</td>\n",
       "    </tr>\n",
       "  </tbody>\n",
       "</table>\n",
       "<p>1460000 rows × 7 columns</p>\n",
       "</div>"
      ],
      "text/plain": [
       "           index           mjd   band    skynoise  gain    zp  fieldid\n",
       "0         220180  56000.000756  ztf:r  193.413331   1.0  25.0      236\n",
       "1         614832  56000.000939  ztf:i  206.701015   1.0  25.0      355\n",
       "2         669487  56000.003010  ztf:r  191.778601   1.0  25.0     1558\n",
       "3         933185  56000.003747  ztf:i  198.621483   1.0  25.0     1556\n",
       "4        1240438  56000.003917  ztf:r  184.476005   1.0  25.0     1284\n",
       "...          ...           ...    ...         ...   ...   ...      ...\n",
       "1459995    40415  57459.996991  ztf:i  196.604722   1.0  25.0     1329\n",
       "1459996   194712  57459.997898  ztf:r  182.869078   1.0  25.0      627\n",
       "1459997   752515  57459.998321  ztf:r  203.899547   1.0  25.0     1844\n",
       "1459998   653554  57459.998580  ztf:i  194.109305   1.0  25.0     1517\n",
       "1459999   179797  57459.999538  ztf:g  196.365805   1.0  25.0     1783\n",
       "\n",
       "[1460000 rows x 7 columns]"
      ]
     },
     "execution_count": 16,
     "metadata": {},
     "output_type": "execute_result"
    }
   ],
   "source": [
    "data = ztf.data\n",
    "data"
   ]
  },
  {
   "cell_type": "markdown",
   "id": "71934ff8",
   "metadata": {},
   "source": [
    "If you have a list of observation have these data. load directly a ztf instance with that"
   ]
  },
  {
   "cell_type": "code",
   "execution_count": 17,
   "id": "f1b0058c",
   "metadata": {},
   "outputs": [
    {
     "name": "stdout",
     "output_type": "stream",
     "text": [
      "CPU times: user 39.4 ms, sys: 11.3 ms, total: 50.7 ms\n",
      "Wall time: 45.2 ms\n"
     ]
    }
   ],
   "source": [
    "%%time\n",
    "other_ztf = ZTF(data=data)"
   ]
  },
  {
   "cell_type": "code",
   "execution_count": 18,
   "id": "f8acac62",
   "metadata": {},
   "outputs": [
    {
     "data": {
      "text/plain": [
       "249     924\n",
       "669     913\n",
       "1086    911\n",
       "1820    909\n",
       "827     908\n",
       "       ... \n",
       "14      749\n",
       "424     746\n",
       "1515    740\n",
       "420     737\n",
       "552     727\n",
       "Name: fieldid, Length: 1776, dtype: int64"
      ]
     },
     "execution_count": 18,
     "metadata": {},
     "output_type": "execute_result"
    }
   ],
   "source": [
    "other_ztf.get_fieldstat(\"size\")"
   ]
  },
  {
   "cell_type": "markdown",
   "id": "239a2808",
   "metadata": {},
   "source": [
    "**Next let's join targets and survey**"
   ]
  },
  {
   "cell_type": "code",
   "execution_count": null,
   "id": "b4e72ee7",
   "metadata": {},
   "outputs": [],
   "source": []
  }
 ],
 "metadata": {
  "kernelspec": {
   "display_name": "Python 3 (ipykernel)",
   "language": "python",
   "name": "python3"
  },
  "language_info": {
   "codemirror_mode": {
    "name": "ipython",
    "version": 3
   },
   "file_extension": ".py",
   "mimetype": "text/x-python",
   "name": "python",
   "nbconvert_exporter": "python",
   "pygments_lexer": "ipython3",
   "version": "3.9.13"
  }
 },
 "nbformat": 4,
 "nbformat_minor": 5
}
