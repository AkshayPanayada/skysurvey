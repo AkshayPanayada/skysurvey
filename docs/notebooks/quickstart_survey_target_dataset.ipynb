{
 "cells": [
  {
   "cell_type": "markdown",
   "id": "b60ec1f5",
   "metadata": {},
   "source": [
    "# Quickstart: Target x Survey, i.e., a DataSet\n",
    "\n",
    "learn how to merge target inside a survey and simulate a dataset (observed version of target's data)"
   ]
  },
  {
   "cell_type": "code",
   "execution_count": 1,
   "id": "3dcbaca7",
   "metadata": {},
   "outputs": [
    {
     "name": "stderr",
     "output_type": "stream",
     "text": [
      "WARNING: AstropyDeprecationWarning: The update_default_config function is deprecated and may be removed in a future version. [sncosmo]\n",
      "/Users/rigault/miniforge3/lib/python3.9/site-packages/ztfquery-1.19.0-py3.9.egg/ztfquery/utils/tools.py:78: VisibleDeprecationWarning: Creating an ndarray from ragged nested sequences (which is a list-or-tuple of lists-or-tuples-or ndarrays with different lengths or shapes) is deprecated. If you meant to do this, you must specify 'dtype=object' when creating the ndarray.\n",
      "  return np.asarray([v[0]*np.cos(theta*_DEG2RA) - v[2]*np.sin(theta*_DEG2RA),\n"
     ]
    }
   ],
   "source": [
    "from skysurvey import survey, target"
   ]
  },
  {
   "cell_type": "markdown",
   "id": "87b6af94",
   "metadata": {},
   "source": [
    "Following what we learned in Quickstart: target, let's create a SNeIa dataset of 5 000 targets"
   ]
  },
  {
   "cell_type": "markdown",
   "id": "98b6fee1",
   "metadata": {},
   "source": [
    "### Target | data given by nature"
   ]
  },
  {
   "cell_type": "code",
   "execution_count": 2,
   "id": "a6f18633",
   "metadata": {},
   "outputs": [
    {
     "name": "stdout",
     "output_type": "stream",
     "text": [
      "CPU times: user 130 ms, sys: 9.35 ms, total: 139 ms\n",
      "Wall time: 138 ms\n"
     ]
    }
   ],
   "source": [
    "%%time\n",
    "snia = target.SNeIa.from_draw(5000)"
   ]
  },
  {
   "cell_type": "markdown",
   "id": "8f116744",
   "metadata": {},
   "source": [
    "let's check when \"nature started\""
   ]
  },
  {
   "cell_type": "code",
   "execution_count": 3,
   "id": "edcba0d0",
   "metadata": {},
   "outputs": [],
   "source": [
    "starting_date = snia.data[\"t0\"].min()-50 # 50 days before the first target, no need to simulate a survey before that"
   ]
  },
  {
   "cell_type": "markdown",
   "id": "553246e1",
   "metadata": {},
   "source": [
    "### Survey | What has been observed when and how. Here ZTF case"
   ]
  },
  {
   "cell_type": "code",
   "execution_count": 5,
   "id": "0fb42dec",
   "metadata": {},
   "outputs": [
    {
     "name": "stdout",
     "output_type": "stream",
     "text": [
      "CPU times: user 1.58 s, sys: 60.5 ms, total: 1.64 s\n",
      "Wall time: 1.64 s\n"
     ]
    }
   ],
   "source": [
    "%%time\n",
    "ztf = survey.ZTF.from_random(size=365*4*1000, # number of observation \n",
    "                     bands=[\"ztfg\",\"ztfr\",\"ztfi\"], # band to observed\n",
    "                     mjd_range=[starting_date, starting_date+365*4], # timerange of observation\n",
    "                     skynoise_range=[10,20], # sky noise\n",
    "                     )"
   ]
  },
  {
   "cell_type": "markdown",
   "id": "728414f5",
   "metadata": {},
   "source": [
    "### Target in Survey | let's check which target belongs to which field.\n",
    "\n",
    "This is particularly optiomized thanks to a combination of shapely, pandas and geopandas"
   ]
  },
  {
   "cell_type": "code",
   "execution_count": 6,
   "id": "1c023c70",
   "metadata": {},
   "outputs": [
    {
     "name": "stdout",
     "output_type": "stream",
     "text": [
      "CPU times: user 327 ms, sys: 4.97 ms, total: 332 ms\n",
      "Wall time: 333 ms\n"
     ]
    }
   ],
   "source": [
    "%%time\n",
    "fieldid_of_targets = ztf.radec_to_fieldid(*snia.data[[\"ra\",\"dec\"]].values.T)"
   ]
  },
  {
   "cell_type": "code",
   "execution_count": 7,
   "id": "3e783842",
   "metadata": {},
   "outputs": [
    {
     "data": {
      "text/plain": [
       "index_radec\n",
       "0            [1401, 1348, 356]\n",
       "1                  [1295, 302]\n",
       "2                  [398, 1442]\n",
       "3       [739, 740, 1777, 1778]\n",
       "4                  [1465, 471]\n",
       "                 ...          \n",
       "4995               [1337, 345]\n",
       "4996               [261, 1303]\n",
       "4997               [1806, 803]\n",
       "4998               [1542, 496]\n",
       "4999               [605, 1650]\n",
       "Name: fieldid, Length: 4989, dtype: object"
      ]
     },
     "execution_count": 7,
     "metadata": {},
     "output_type": "execute_result"
    }
   ],
   "source": [
    "fieldid_of_targets"
   ]
  },
  {
   "cell_type": "markdown",
   "id": "55591011",
   "metadata": {},
   "source": [
    "### DataSet | The object that exploite the target x survey combination."
   ]
  },
  {
   "cell_type": "code",
   "execution_count": 8,
   "id": "b6ff33e9",
   "metadata": {},
   "outputs": [],
   "source": [
    "from skysurvey import DataSet"
   ]
  },
  {
   "cell_type": "markdown",
   "id": "32df244b",
   "metadata": {},
   "source": [
    "this not only match then SN with the target but already simulate the obseving point. "
   ]
  },
  {
   "cell_type": "code",
   "execution_count": 9,
   "id": "b4e72ee7",
   "metadata": {},
   "outputs": [
    {
     "name": "stdout",
     "output_type": "stream",
     "text": [
      "CPU times: user 31.7 s, sys: 2.63 s, total: 34.4 s\n",
      "Wall time: 32.9 s\n"
     ]
    }
   ],
   "source": [
    "%%time\n",
    "dset = DataSet.from_targets_and_survey(snia, ztf)"
   ]
  },
  {
   "cell_type": "code",
   "execution_count": 10,
   "id": "02ce3c2f",
   "metadata": {},
   "outputs": [
    {
     "data": {
      "text/html": [
       "<div>\n",
       "<style scoped>\n",
       "    .dataframe tbody tr th:only-of-type {\n",
       "        vertical-align: middle;\n",
       "    }\n",
       "\n",
       "    .dataframe tbody tr th {\n",
       "        vertical-align: top;\n",
       "    }\n",
       "\n",
       "    .dataframe thead th {\n",
       "        text-align: right;\n",
       "    }\n",
       "</style>\n",
       "<table border=\"1\" class=\"dataframe\">\n",
       "  <thead>\n",
       "    <tr style=\"text-align: right;\">\n",
       "      <th></th>\n",
       "      <th></th>\n",
       "      <th>fieldid</th>\n",
       "      <th>time</th>\n",
       "      <th>band</th>\n",
       "      <th>flux</th>\n",
       "      <th>fluxerr</th>\n",
       "      <th>zp</th>\n",
       "      <th>zpsys</th>\n",
       "    </tr>\n",
       "  </thead>\n",
       "  <tbody>\n",
       "    <tr>\n",
       "      <th rowspan=\"5\" valign=\"top\">0</th>\n",
       "      <th>0</th>\n",
       "      <td>1401</td>\n",
       "      <td>58951.977370</td>\n",
       "      <td>ztfg</td>\n",
       "      <td>-14.177382</td>\n",
       "      <td>11.104445</td>\n",
       "      <td>25.0</td>\n",
       "      <td>ab</td>\n",
       "    </tr>\n",
       "    <tr>\n",
       "      <th>1</th>\n",
       "      <td>1401</td>\n",
       "      <td>58953.980096</td>\n",
       "      <td>ztfi</td>\n",
       "      <td>-2.873388</td>\n",
       "      <td>12.544028</td>\n",
       "      <td>25.0</td>\n",
       "      <td>ab</td>\n",
       "    </tr>\n",
       "    <tr>\n",
       "      <th>2</th>\n",
       "      <td>1401</td>\n",
       "      <td>58954.125756</td>\n",
       "      <td>ztfi</td>\n",
       "      <td>27.619376</td>\n",
       "      <td>14.611583</td>\n",
       "      <td>25.0</td>\n",
       "      <td>ab</td>\n",
       "    </tr>\n",
       "    <tr>\n",
       "      <th>3</th>\n",
       "      <td>1401</td>\n",
       "      <td>58956.564954</td>\n",
       "      <td>ztfi</td>\n",
       "      <td>18.518079</td>\n",
       "      <td>11.263952</td>\n",
       "      <td>25.0</td>\n",
       "      <td>ab</td>\n",
       "    </tr>\n",
       "    <tr>\n",
       "      <th>4</th>\n",
       "      <td>1401</td>\n",
       "      <td>58958.210149</td>\n",
       "      <td>ztfg</td>\n",
       "      <td>-0.701947</td>\n",
       "      <td>15.435310</td>\n",
       "      <td>25.0</td>\n",
       "      <td>ab</td>\n",
       "    </tr>\n",
       "    <tr>\n",
       "      <th>...</th>\n",
       "      <th>...</th>\n",
       "      <td>...</td>\n",
       "      <td>...</td>\n",
       "      <td>...</td>\n",
       "      <td>...</td>\n",
       "      <td>...</td>\n",
       "      <td>...</td>\n",
       "      <td>...</td>\n",
       "    </tr>\n",
       "    <tr>\n",
       "      <th rowspan=\"5\" valign=\"top\">4665</th>\n",
       "      <th>790</th>\n",
       "      <td>226</td>\n",
       "      <td>60401.505444</td>\n",
       "      <td>ztfg</td>\n",
       "      <td>8.804617</td>\n",
       "      <td>10.016735</td>\n",
       "      <td>25.0</td>\n",
       "      <td>ab</td>\n",
       "    </tr>\n",
       "    <tr>\n",
       "      <th>791</th>\n",
       "      <td>226</td>\n",
       "      <td>60403.221731</td>\n",
       "      <td>ztfi</td>\n",
       "      <td>-10.520663</td>\n",
       "      <td>11.242751</td>\n",
       "      <td>25.0</td>\n",
       "      <td>ab</td>\n",
       "    </tr>\n",
       "    <tr>\n",
       "      <th>792</th>\n",
       "      <td>226</td>\n",
       "      <td>60403.401751</td>\n",
       "      <td>ztfi</td>\n",
       "      <td>-6.004413</td>\n",
       "      <td>18.673622</td>\n",
       "      <td>25.0</td>\n",
       "      <td>ab</td>\n",
       "    </tr>\n",
       "    <tr>\n",
       "      <th>793</th>\n",
       "      <td>226</td>\n",
       "      <td>60403.885961</td>\n",
       "      <td>ztfr</td>\n",
       "      <td>-7.653161</td>\n",
       "      <td>12.538925</td>\n",
       "      <td>25.0</td>\n",
       "      <td>ab</td>\n",
       "    </tr>\n",
       "    <tr>\n",
       "      <th>794</th>\n",
       "      <td>226</td>\n",
       "      <td>60404.156396</td>\n",
       "      <td>ztfi</td>\n",
       "      <td>-13.283621</td>\n",
       "      <td>11.568657</td>\n",
       "      <td>25.0</td>\n",
       "      <td>ab</td>\n",
       "    </tr>\n",
       "  </tbody>\n",
       "</table>\n",
       "<p>9288900 rows × 7 columns</p>\n",
       "</div>"
      ],
      "text/plain": [
       "          fieldid          time  band       flux    fluxerr    zp zpsys\n",
       "0    0       1401  58951.977370  ztfg -14.177382  11.104445  25.0    ab\n",
       "     1       1401  58953.980096  ztfi  -2.873388  12.544028  25.0    ab\n",
       "     2       1401  58954.125756  ztfi  27.619376  14.611583  25.0    ab\n",
       "     3       1401  58956.564954  ztfi  18.518079  11.263952  25.0    ab\n",
       "     4       1401  58958.210149  ztfg  -0.701947  15.435310  25.0    ab\n",
       "...           ...           ...   ...        ...        ...   ...   ...\n",
       "4665 790      226  60401.505444  ztfg   8.804617  10.016735  25.0    ab\n",
       "     791      226  60403.221731  ztfi -10.520663  11.242751  25.0    ab\n",
       "     792      226  60403.401751  ztfi  -6.004413  18.673622  25.0    ab\n",
       "     793      226  60403.885961  ztfr  -7.653161  12.538925  25.0    ab\n",
       "     794      226  60404.156396  ztfi -13.283621  11.568657  25.0    ab\n",
       "\n",
       "[9288900 rows x 7 columns]"
      ]
     },
     "execution_count": 10,
     "metadata": {},
     "output_type": "execute_result"
    }
   ],
   "source": [
    "dset.data"
   ]
  },
  {
   "cell_type": "code",
   "execution_count": null,
   "id": "5154d68b",
   "metadata": {},
   "outputs": [],
   "source": []
  },
  {
   "cell_type": "code",
   "execution_count": 14,
   "id": "13e8479e",
   "metadata": {},
   "outputs": [
    {
     "data": {
      "text/plain": [
       "z         0.120500\n",
       "x1        1.958000\n",
       "c         0.129000\n",
       "t0    60010.547881\n",
       "x0        0.000219\n",
       "Name: 80, dtype: float64"
      ]
     },
     "execution_count": 14,
     "metadata": {},
     "output_type": "execute_result"
    },
    {
     "data": {
      "image/png": "[encoded data removed]",
      "text/plain": [
       "<Figure size 504x288 with 1 Axes>"
      ]
     },
     "metadata": {
      "needs_background": "light"
     },
     "output_type": "display_data"
    }
   ],
   "source": [
    "_ = dset.show_target_lightcurve(index=80, phase_window=[-30, 70])\n",
    "dset.targets.get_template_parameters(index=80)"
   ]
  },
  {
   "cell_type": "code",
   "execution_count": 14,
   "id": "9b956f53",
   "metadata": {},
   "outputs": [
    {
     "data": {
      "text/plain": [
       "level_0  band\n",
       "0        ztfg    31\n",
       "         ztfi    23\n",
       "         ztfr    25\n",
       "1        ztfg     6\n",
       "         ztfi    13\n",
       "                 ..\n",
       "4998     ztfi    14\n",
       "         ztfr    16\n",
       "4999     ztfg    24\n",
       "         ztfi    26\n",
       "         ztfr    29\n",
       "Name: detected, Length: 14961, dtype: int64"
      ]
     },
     "execution_count": 14,
     "metadata": {},
     "output_type": "execute_result"
    }
   ],
   "source": [
    "dset.get_ndetection(perband=True)"
   ]
  },
  {
   "cell_type": "code",
   "execution_count": null,
   "id": "181d1f99",
   "metadata": {},
   "outputs": [],
   "source": []
  }
 ],
 "metadata": {
  "kernelspec": {
   "display_name": "Python 3 (ipykernel)",
   "language": "python",
   "name": "python3"
  },
  "language_info": {
   "codemirror_mode": {
    "name": "ipython",
    "version": 3
   },
   "file_extension": ".py",
   "mimetype": "text/x-python",
   "name": "python",
   "nbconvert_exporter": "python",
   "pygments_lexer": "ipython3",
   "version": "3.9.13"
  }
 },
 "nbformat": 4,
 "nbformat_minor": 5
}
