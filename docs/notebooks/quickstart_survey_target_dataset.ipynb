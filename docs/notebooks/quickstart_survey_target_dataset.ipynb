{
 "cells": [
  {
   "cell_type": "markdown",
   "id": "b60ec1f5",
   "metadata": {},
   "source": [
    "# Quickstart: Target x Survey, i.e., a DataSet\n",
    "\n",
    "learn how to merge target inside a survey and simulate a dataset (observed version of target's data)"
   ]
  },
  {
   "cell_type": "code",
   "execution_count": 19,
   "id": "3dcbaca7",
   "metadata": {},
   "outputs": [],
   "source": [
    "from skysurvey import survey, target"
   ]
  },
  {
   "cell_type": "markdown",
   "id": "87b6af94",
   "metadata": {},
   "source": [
    "Following what we learned in Quickstart: target, let's create a SNeIa dataset of 5 000 targets"
   ]
  },
  {
   "cell_type": "markdown",
   "id": "b6935d9c",
   "metadata": {},
   "source": [
    "### Target | data given by nature"
   ]
  },
  {
   "cell_type": "code",
   "execution_count": 29,
   "id": "59aef035",
   "metadata": {},
   "outputs": [
    {
     "name": "stdout",
     "output_type": "stream",
     "text": [
      "CPU times: user 14.9 ms, sys: 5.34 ms, total: 20.2 ms\n",
      "Wall time: 18.7 ms\n"
     ]
    }
   ],
   "source": [
    "%%time\n",
    "snia = target.SNeIa.from_draw(500)"
   ]
  },
  {
   "cell_type": "markdown",
   "id": "0d7d9a8d",
   "metadata": {},
   "source": [
    "let's check when \"nature started\""
   ]
  },
  {
   "cell_type": "code",
   "execution_count": 30,
   "id": "8fa736b1",
   "metadata": {},
   "outputs": [],
   "source": [
    "starting_date = snia.data[\"t0\"].min()-50 # 50 days before the first target, no need to simulate a survey before that"
   ]
  },
  {
   "cell_type": "markdown",
   "id": "b91219d2",
   "metadata": {},
   "source": [
    "### Survey | What has been observed when and how. Here ZTF case"
   ]
  },
  {
   "cell_type": "code",
   "execution_count": 32,
   "id": "c2d2d2e4",
   "metadata": {},
   "outputs": [
    {
     "name": "stdout",
     "output_type": "stream",
     "text": [
      "CPU times: user 490 ms, sys: 19 ms, total: 509 ms\n",
      "Wall time: 508 ms\n"
     ]
    }
   ],
   "source": [
    "%%time\n",
    "ztf = survey.ZTF.from_random(size=365*2*500, # number of observation  2 years, 500 per day, small for the doc\n",
    "                     bands=[\"ztfg\",\"ztfr\",\"ztfi\"], # band to observed\n",
    "                     mjd_range=[starting_date, starting_date+365*4], # timerange of observation\n",
    "                     skynoise_range=[10,20], # sky noise\n",
    "                     )"
   ]
  },
  {
   "cell_type": "markdown",
   "id": "c867c7b9",
   "metadata": {},
   "source": [
    "### Target in Survey | let's check which target belongs to which field.\n",
    "\n",
    "This is particularly optiomized thanks to a combination of shapely, pandas and geopandas"
   ]
  },
  {
   "cell_type": "code",
   "execution_count": 33,
   "id": "d6484a5a",
   "metadata": {},
   "outputs": [
    {
     "name": "stdout",
     "output_type": "stream",
     "text": [
      "CPU times: user 109 ms, sys: 5.18 ms, total: 115 ms\n",
      "Wall time: 114 ms\n"
     ]
    }
   ],
   "source": [
    "%%time\n",
    "fieldid_of_targets = ztf.radec_to_fieldid(*snia.data[[\"ra\",\"dec\"]].values.T)"
   ]
  },
  {
   "cell_type": "code",
   "execution_count": 34,
   "id": "2dc39eaf",
   "metadata": {},
   "outputs": [
    {
     "data": {
      "text/plain": [
       "index_radec\n",
       "0            [1253, 258]\n",
       "1       [239, 1281, 288]\n",
       "2            [1594, 598]\n",
       "3            [1522, 528]\n",
       "4            [757, 1793]\n",
       "             ...        \n",
       "495          [1623, 578]\n",
       "496    [1605, 609, 1654]\n",
       "497          [383, 1429]\n",
       "498          [1619, 622]\n",
       "499     [338, 337, 1329]\n",
       "Name: fieldid, Length: 499, dtype: object"
      ]
     },
     "execution_count": 34,
     "metadata": {},
     "output_type": "execute_result"
    }
   ],
   "source": [
    "fieldid_of_targets"
   ]
  },
  {
   "cell_type": "markdown",
   "id": "e6c84dcc",
   "metadata": {},
   "source": [
    "### DataSet | The object that exploite the target x survey combination."
   ]
  },
  {
   "cell_type": "code",
   "execution_count": 35,
   "id": "02338908",
   "metadata": {},
   "outputs": [],
   "source": [
    "from skysurvey import DataSet"
   ]
  },
  {
   "cell_type": "markdown",
   "id": "0c99ecec",
   "metadata": {},
   "source": [
    "this not only match then SN with the target but already simulate the obseving point. "
   ]
  },
  {
   "cell_type": "code",
   "execution_count": 36,
   "id": "b4e72ee7",
   "metadata": {},
   "outputs": [
    {
     "name": "stdout",
     "output_type": "stream",
     "text": [
      "CPU times: user 2.69 s, sys: 207 ms, total: 2.89 s\n",
      "Wall time: 2.89 s\n"
     ]
    }
   ],
   "source": [
    "%%time\n",
    "dset = DataSet.from_targets_and_survey(snia, ztf)"
   ]
  },
  {
   "cell_type": "code",
   "execution_count": 37,
   "id": "34384fd1",
   "metadata": {},
   "outputs": [
    {
     "data": {
      "text/html": [
       "<div>\n",
       "<style scoped>\n",
       "    .dataframe tbody tr th:only-of-type {\n",
       "        vertical-align: middle;\n",
       "    }\n",
       "\n",
       "    .dataframe tbody tr th {\n",
       "        vertical-align: top;\n",
       "    }\n",
       "\n",
       "    .dataframe thead th {\n",
       "        text-align: right;\n",
       "    }\n",
       "</style>\n",
       "<table border=\"1\" class=\"dataframe\">\n",
       "  <thead>\n",
       "    <tr style=\"text-align: right;\">\n",
       "      <th></th>\n",
       "      <th></th>\n",
       "      <th>fieldid</th>\n",
       "      <th>time</th>\n",
       "      <th>band</th>\n",
       "      <th>flux</th>\n",
       "      <th>fluxerr</th>\n",
       "      <th>zp</th>\n",
       "      <th>zpsys</th>\n",
       "    </tr>\n",
       "  </thead>\n",
       "  <tbody>\n",
       "    <tr>\n",
       "      <th rowspan=\"5\" valign=\"top\">0</th>\n",
       "      <th>0</th>\n",
       "      <td>1253</td>\n",
       "      <td>58957.338248</td>\n",
       "      <td>ztfr</td>\n",
       "      <td>-7.711901</td>\n",
       "      <td>12.506745</td>\n",
       "      <td>25.0</td>\n",
       "      <td>ab</td>\n",
       "    </tr>\n",
       "    <tr>\n",
       "      <th>1</th>\n",
       "      <td>1253</td>\n",
       "      <td>58984.496693</td>\n",
       "      <td>ztfi</td>\n",
       "      <td>-3.722600</td>\n",
       "      <td>18.747455</td>\n",
       "      <td>25.0</td>\n",
       "      <td>ab</td>\n",
       "    </tr>\n",
       "    <tr>\n",
       "      <th>2</th>\n",
       "      <td>1253</td>\n",
       "      <td>58995.564398</td>\n",
       "      <td>ztfr</td>\n",
       "      <td>3.262966</td>\n",
       "      <td>10.990928</td>\n",
       "      <td>25.0</td>\n",
       "      <td>ab</td>\n",
       "    </tr>\n",
       "    <tr>\n",
       "      <th>3</th>\n",
       "      <td>1253</td>\n",
       "      <td>58996.709686</td>\n",
       "      <td>ztfg</td>\n",
       "      <td>-11.147988</td>\n",
       "      <td>18.133933</td>\n",
       "      <td>25.0</td>\n",
       "      <td>ab</td>\n",
       "    </tr>\n",
       "    <tr>\n",
       "      <th>4</th>\n",
       "      <td>1253</td>\n",
       "      <td>59002.826703</td>\n",
       "      <td>ztfg</td>\n",
       "      <td>-8.929913</td>\n",
       "      <td>18.337588</td>\n",
       "      <td>25.0</td>\n",
       "      <td>ab</td>\n",
       "    </tr>\n",
       "    <tr>\n",
       "      <th>...</th>\n",
       "      <th>...</th>\n",
       "      <td>...</td>\n",
       "      <td>...</td>\n",
       "      <td>...</td>\n",
       "      <td>...</td>\n",
       "      <td>...</td>\n",
       "      <td>...</td>\n",
       "      <td>...</td>\n",
       "    </tr>\n",
       "    <tr>\n",
       "      <th rowspan=\"5\" valign=\"top\">499</th>\n",
       "      <th>201</th>\n",
       "      <td>1329</td>\n",
       "      <td>60391.563472</td>\n",
       "      <td>ztfi</td>\n",
       "      <td>10.060967</td>\n",
       "      <td>15.384363</td>\n",
       "      <td>25.0</td>\n",
       "      <td>ab</td>\n",
       "    </tr>\n",
       "    <tr>\n",
       "      <th>202</th>\n",
       "      <td>1329</td>\n",
       "      <td>60392.315230</td>\n",
       "      <td>ztfg</td>\n",
       "      <td>-5.297772</td>\n",
       "      <td>18.834102</td>\n",
       "      <td>25.0</td>\n",
       "      <td>ab</td>\n",
       "    </tr>\n",
       "    <tr>\n",
       "      <th>203</th>\n",
       "      <td>1329</td>\n",
       "      <td>60392.430690</td>\n",
       "      <td>ztfi</td>\n",
       "      <td>4.125799</td>\n",
       "      <td>19.006958</td>\n",
       "      <td>25.0</td>\n",
       "      <td>ab</td>\n",
       "    </tr>\n",
       "    <tr>\n",
       "      <th>204</th>\n",
       "      <td>1329</td>\n",
       "      <td>60397.077232</td>\n",
       "      <td>ztfi</td>\n",
       "      <td>-0.547374</td>\n",
       "      <td>12.050502</td>\n",
       "      <td>25.0</td>\n",
       "      <td>ab</td>\n",
       "    </tr>\n",
       "    <tr>\n",
       "      <th>205</th>\n",
       "      <td>1329</td>\n",
       "      <td>60409.726350</td>\n",
       "      <td>ztfg</td>\n",
       "      <td>-10.762757</td>\n",
       "      <td>15.584560</td>\n",
       "      <td>25.0</td>\n",
       "      <td>ab</td>\n",
       "    </tr>\n",
       "  </tbody>\n",
       "</table>\n",
       "<p>228686 rows × 7 columns</p>\n",
       "</div>"
      ],
      "text/plain": [
       "         fieldid          time  band       flux    fluxerr    zp zpsys\n",
       "0   0       1253  58957.338248  ztfr  -7.711901  12.506745  25.0    ab\n",
       "    1       1253  58984.496693  ztfi  -3.722600  18.747455  25.0    ab\n",
       "    2       1253  58995.564398  ztfr   3.262966  10.990928  25.0    ab\n",
       "    3       1253  58996.709686  ztfg -11.147988  18.133933  25.0    ab\n",
       "    4       1253  59002.826703  ztfg  -8.929913  18.337588  25.0    ab\n",
       "...          ...           ...   ...        ...        ...   ...   ...\n",
       "499 201     1329  60391.563472  ztfi  10.060967  15.384363  25.0    ab\n",
       "    202     1329  60392.315230  ztfg  -5.297772  18.834102  25.0    ab\n",
       "    203     1329  60392.430690  ztfi   4.125799  19.006958  25.0    ab\n",
       "    204     1329  60397.077232  ztfi  -0.547374  12.050502  25.0    ab\n",
       "    205     1329  60409.726350  ztfg -10.762757  15.584560  25.0    ab\n",
       "\n",
       "[228686 rows x 7 columns]"
      ]
     },
     "execution_count": 37,
     "metadata": {},
     "output_type": "execute_result"
    }
   ],
   "source": [
    "dset.data"
   ]
  },
  {
   "cell_type": "code",
   "execution_count": null,
   "id": "d19c9dd5",
   "metadata": {},
   "outputs": [],
   "source": []
  },
  {
   "cell_type": "code",
   "execution_count": 39,
   "id": "28c43d05",
   "metadata": {},
   "outputs": [
    {
     "data": {
      "text/plain": [
       "z         0.164500\n",
       "x1        0.892000\n",
       "c         0.115000\n",
       "t0    59884.041088\n",
       "x0        0.000096\n",
       "Name: 90, dtype: float64"
      ]
     },
     "execution_count": 39,
     "metadata": {},
     "output_type": "execute_result"
    },
    {
     "data": {
      "image/png": "[encoded data removed]",
      "text/plain": [
       "<Figure size 504x288 with 1 Axes>"
      ]
     },
     "metadata": {
      "needs_background": "light"
     },
     "output_type": "display_data"
    }
   ],
   "source": [
    "_ = dset.show_target_lightcurve(index=90, phase_window=[-30, 70])\n",
    "dset.targets.get_template_parameters(index=90)"
   ]
  },
  {
   "cell_type": "code",
   "execution_count": 40,
   "id": "5473ea4f",
   "metadata": {},
   "outputs": [
    {
     "name": "stdout",
     "output_type": "stream",
     "text": [
      "CPU times: user 48 ms, sys: 13 ms, total: 61 ms\n",
      "Wall time: 58.7 ms\n"
     ]
    },
    {
     "data": {
      "text/plain": [
       "level_0  band\n",
       "0        ztfg    2\n",
       "         ztfi    3\n",
       "         ztfr    2\n",
       "1        ztfg    1\n",
       "         ztfi    3\n",
       "                ..\n",
       "498      ztfi    0\n",
       "         ztfr    0\n",
       "499      ztfg    0\n",
       "         ztfi    0\n",
       "         ztfr    0\n",
       "Name: detected, Length: 1497, dtype: int64"
      ]
     },
     "execution_count": 40,
     "metadata": {},
     "output_type": "execute_result"
    }
   ],
   "source": [
    "%%time\n",
    "dset.get_ndetection(per_band=True)"
   ]
  },
  {
   "cell_type": "code",
   "execution_count": null,
   "id": "45d54982",
   "metadata": {},
   "outputs": [],
   "source": []
  }
 ],
 "metadata": {
  "kernelspec": {
   "display_name": "Python 3 (ipykernel)",
   "language": "python",
   "name": "python3"
  },
  "language_info": {
   "codemirror_mode": {
    "name": "ipython",
    "version": 3
   },
   "file_extension": ".py",
   "mimetype": "text/x-python",
   "name": "python",
   "nbconvert_exporter": "python",
   "pygments_lexer": "ipython3",
   "version": "3.9.13"
  }
 },
 "nbformat": 4,
 "nbformat_minor": 5
}
