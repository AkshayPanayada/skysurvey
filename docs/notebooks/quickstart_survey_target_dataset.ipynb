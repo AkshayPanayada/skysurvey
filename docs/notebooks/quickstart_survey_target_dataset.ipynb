{
 "cells": [
  {
   "cell_type": "markdown",
   "id": "b60ec1f5",
   "metadata": {},
   "source": [
    "# Quickstart: Target x Survey, i.e., a DataSet\n",
    "\n",
    "learn how to merge target inside a survey and simulate a dataset (observed version of target's data)"
   ]
  },
  {
   "cell_type": "code",
   "execution_count": 19,
   "id": "3dcbaca7",
   "metadata": {},
   "outputs": [],
   "source": [
    "from skysurvey import survey, target"
   ]
  },
  {
   "cell_type": "markdown",
   "id": "87b6af94",
   "metadata": {},
   "source": [
    "Following what we learned in Quickstart: target, let's create a SNeIa dataset of 5 000 targets"
   ]
  },
  {
   "cell_type": "markdown",
   "id": "b6935d9c",
   "metadata": {},
   "source": [
    "### Target | data given by nature"
   ]
  },
  {
   "cell_type": "code",
   "execution_count": 29,
   "id": "59aef035",
   "metadata": {},
   "outputs": [
    {
     "name": "stdout",
     "output_type": "stream",
     "text": [
      "CPU times: user 14.9 ms, sys: 5.34 ms, total: 20.2 ms\n",
      "Wall time: 18.7 ms\n"
     ]
    }
   ],
   "source": [
    "%%time\n",
    "snia = target.SNeIa.from_draw(500)"
   ]
  },
  {
   "cell_type": "markdown",
   "id": "0d7d9a8d",
   "metadata": {},
   "source": [
    "let's check when \"nature started\""
   ]
  },
  {
   "cell_type": "code",
   "execution_count": 21,
   "id": "8fa736b1",
   "metadata": {},
   "outputs": [],
   "source": [
    "starting_date = snia.data[\"t0\"].min()-50 # 50 days before the first target, no need to simulate a survey before that"
   ]
  },
  {
   "cell_type": "markdown",
   "id": "b91219d2",
   "metadata": {},
   "source": [
    "### Survey | What has been observed when and how. Here ZTF case"
   ]
  },
  {
   "cell_type": "code",
   "execution_count": 22,
   "id": "c2d2d2e4",
   "metadata": {},
   "outputs": [
    {
     "name": "stdout",
     "output_type": "stream",
     "text": [
      "CPU times: user 115 ms, sys: 13.4 ms, total: 128 ms\n",
      "Wall time: 126 ms\n"
     ]
    }
   ],
   "source": [
    "%%time\n",
    "ztf = survey.ZTF.from_random(size=365*2*100, # number of observation  2 years, 100 per day, small for the doc\n",
    "                     bands=[\"ztfg\",\"ztfr\",\"ztfi\"], # band to observed\n",
    "                     mjd_range=[starting_date, starting_date+365*4], # timerange of observation\n",
    "                     skynoise_range=[10,20], # sky noise\n",
    "                     )"
   ]
  },
  {
   "cell_type": "markdown",
   "id": "c867c7b9",
   "metadata": {},
   "source": [
    "### Target in Survey | let's check which target belongs to which field.\n",
    "\n",
    "This is particularly optiomized thanks to a combination of shapely, pandas and geopandas"
   ]
  },
  {
   "cell_type": "code",
   "execution_count": 23,
   "id": "d6484a5a",
   "metadata": {},
   "outputs": [
    {
     "name": "stdout",
     "output_type": "stream",
     "text": [
      "CPU times: user 109 ms, sys: 6.17 ms, total: 115 ms\n",
      "Wall time: 112 ms\n"
     ]
    }
   ],
   "source": [
    "%%time\n",
    "fieldid_of_targets = ztf.radec_to_fieldid(*snia.data[[\"ra\",\"dec\"]].values.T)"
   ]
  },
  {
   "cell_type": "code",
   "execution_count": 24,
   "id": "2dc39eaf",
   "metadata": {},
   "outputs": [
    {
     "data": {
      "text/plain": [
       "index_radec\n",
       "0      [1331, 339, 340]\n",
       "1           [1460, 466]\n",
       "2           [455, 1502]\n",
       "3           [1679, 681]\n",
       "4           [1376, 383]\n",
       "             ...       \n",
       "495         [296, 1338]\n",
       "496         [395, 1440]\n",
       "497         [417, 1410]\n",
       "498         [1454, 460]\n",
       "499         [243, 1284]\n",
       "Name: fieldid, Length: 497, dtype: object"
      ]
     },
     "execution_count": 24,
     "metadata": {},
     "output_type": "execute_result"
    }
   ],
   "source": [
    "fieldid_of_targets"
   ]
  },
  {
   "cell_type": "markdown",
   "id": "e6c84dcc",
   "metadata": {},
   "source": [
    "### DataSet | The object that exploite the target x survey combination."
   ]
  },
  {
   "cell_type": "code",
   "execution_count": 25,
   "id": "02338908",
   "metadata": {},
   "outputs": [],
   "source": [
    "from skysurvey import DataSet"
   ]
  },
  {
   "cell_type": "markdown",
   "id": "0c99ecec",
   "metadata": {},
   "source": [
    "this not only match then SN with the target but already simulate the obseving point. "
   ]
  },
  {
   "cell_type": "code",
   "execution_count": 26,
   "id": "b4e72ee7",
   "metadata": {},
   "outputs": [
    {
     "name": "stdout",
     "output_type": "stream",
     "text": [
      "CPU times: user 2.27 s, sys: 172 ms, total: 2.44 s\n",
      "Wall time: 2.44 s\n"
     ]
    }
   ],
   "source": [
    "%%time\n",
    "dset = DataSet.from_targets_and_survey(snia, ztf)"
   ]
  },
  {
   "cell_type": "code",
   "execution_count": 27,
   "id": "34384fd1",
   "metadata": {},
   "outputs": [
    {
     "data": {
      "text/html": [
       "<div>\n",
       "<style scoped>\n",
       "    .dataframe tbody tr th:only-of-type {\n",
       "        vertical-align: middle;\n",
       "    }\n",
       "\n",
       "    .dataframe tbody tr th {\n",
       "        vertical-align: top;\n",
       "    }\n",
       "\n",
       "    .dataframe thead th {\n",
       "        text-align: right;\n",
       "    }\n",
       "</style>\n",
       "<table border=\"1\" class=\"dataframe\">\n",
       "  <thead>\n",
       "    <tr style=\"text-align: right;\">\n",
       "      <th></th>\n",
       "      <th></th>\n",
       "      <th>fieldid</th>\n",
       "      <th>time</th>\n",
       "      <th>band</th>\n",
       "      <th>flux</th>\n",
       "      <th>fluxerr</th>\n",
       "      <th>zp</th>\n",
       "      <th>zpsys</th>\n",
       "    </tr>\n",
       "  </thead>\n",
       "  <tbody>\n",
       "    <tr>\n",
       "      <th rowspan=\"5\" valign=\"top\">0</th>\n",
       "      <th>0</th>\n",
       "      <td>1331</td>\n",
       "      <td>58955.577405</td>\n",
       "      <td>ztfi</td>\n",
       "      <td>0.330261</td>\n",
       "      <td>15.595913</td>\n",
       "      <td>25.0</td>\n",
       "      <td>ab</td>\n",
       "    </tr>\n",
       "    <tr>\n",
       "      <th>1</th>\n",
       "      <td>1331</td>\n",
       "      <td>59007.399158</td>\n",
       "      <td>ztfg</td>\n",
       "      <td>3.541907</td>\n",
       "      <td>11.156620</td>\n",
       "      <td>25.0</td>\n",
       "      <td>ab</td>\n",
       "    </tr>\n",
       "    <tr>\n",
       "      <th>2</th>\n",
       "      <td>1331</td>\n",
       "      <td>59024.613783</td>\n",
       "      <td>ztfg</td>\n",
       "      <td>30.284005</td>\n",
       "      <td>15.166271</td>\n",
       "      <td>25.0</td>\n",
       "      <td>ab</td>\n",
       "    </tr>\n",
       "    <tr>\n",
       "      <th>3</th>\n",
       "      <td>1331</td>\n",
       "      <td>59071.465371</td>\n",
       "      <td>ztfg</td>\n",
       "      <td>-22.329838</td>\n",
       "      <td>16.575487</td>\n",
       "      <td>25.0</td>\n",
       "      <td>ab</td>\n",
       "    </tr>\n",
       "    <tr>\n",
       "      <th>4</th>\n",
       "      <td>1331</td>\n",
       "      <td>59107.332114</td>\n",
       "      <td>ztfi</td>\n",
       "      <td>-13.303006</td>\n",
       "      <td>14.979442</td>\n",
       "      <td>25.0</td>\n",
       "      <td>ab</td>\n",
       "    </tr>\n",
       "    <tr>\n",
       "      <th>...</th>\n",
       "      <th>...</th>\n",
       "      <td>...</td>\n",
       "      <td>...</td>\n",
       "      <td>...</td>\n",
       "      <td>...</td>\n",
       "      <td>...</td>\n",
       "      <td>...</td>\n",
       "      <td>...</td>\n",
       "    </tr>\n",
       "    <tr>\n",
       "      <th rowspan=\"5\" valign=\"top\">499</th>\n",
       "      <th>37</th>\n",
       "      <td>1284</td>\n",
       "      <td>60307.995644</td>\n",
       "      <td>ztfr</td>\n",
       "      <td>-16.116259</td>\n",
       "      <td>12.481470</td>\n",
       "      <td>25.0</td>\n",
       "      <td>ab</td>\n",
       "    </tr>\n",
       "    <tr>\n",
       "      <th>38</th>\n",
       "      <td>1284</td>\n",
       "      <td>60314.508031</td>\n",
       "      <td>ztfg</td>\n",
       "      <td>17.003926</td>\n",
       "      <td>12.686279</td>\n",
       "      <td>25.0</td>\n",
       "      <td>ab</td>\n",
       "    </tr>\n",
       "    <tr>\n",
       "      <th>39</th>\n",
       "      <td>1284</td>\n",
       "      <td>60358.829057</td>\n",
       "      <td>ztfr</td>\n",
       "      <td>0.269514</td>\n",
       "      <td>16.939305</td>\n",
       "      <td>25.0</td>\n",
       "      <td>ab</td>\n",
       "    </tr>\n",
       "    <tr>\n",
       "      <th>40</th>\n",
       "      <td>1284</td>\n",
       "      <td>60385.702103</td>\n",
       "      <td>ztfr</td>\n",
       "      <td>-9.515290</td>\n",
       "      <td>10.385821</td>\n",
       "      <td>25.0</td>\n",
       "      <td>ab</td>\n",
       "    </tr>\n",
       "    <tr>\n",
       "      <th>41</th>\n",
       "      <td>1284</td>\n",
       "      <td>60402.663701</td>\n",
       "      <td>ztfr</td>\n",
       "      <td>-14.154017</td>\n",
       "      <td>10.289330</td>\n",
       "      <td>25.0</td>\n",
       "      <td>ab</td>\n",
       "    </tr>\n",
       "  </tbody>\n",
       "</table>\n",
       "<p>46844 rows × 7 columns</p>\n",
       "</div>"
      ],
      "text/plain": [
       "        fieldid          time  band       flux    fluxerr    zp zpsys\n",
       "0   0      1331  58955.577405  ztfi   0.330261  15.595913  25.0    ab\n",
       "    1      1331  59007.399158  ztfg   3.541907  11.156620  25.0    ab\n",
       "    2      1331  59024.613783  ztfg  30.284005  15.166271  25.0    ab\n",
       "    3      1331  59071.465371  ztfg -22.329838  16.575487  25.0    ab\n",
       "    4      1331  59107.332114  ztfi -13.303006  14.979442  25.0    ab\n",
       "...         ...           ...   ...        ...        ...   ...   ...\n",
       "499 37     1284  60307.995644  ztfr -16.116259  12.481470  25.0    ab\n",
       "    38     1284  60314.508031  ztfg  17.003926  12.686279  25.0    ab\n",
       "    39     1284  60358.829057  ztfr   0.269514  16.939305  25.0    ab\n",
       "    40     1284  60385.702103  ztfr  -9.515290  10.385821  25.0    ab\n",
       "    41     1284  60402.663701  ztfr -14.154017  10.289330  25.0    ab\n",
       "\n",
       "[46844 rows x 7 columns]"
      ]
     },
     "execution_count": 27,
     "metadata": {},
     "output_type": "execute_result"
    }
   ],
   "source": [
    "dset.data"
   ]
  },
  {
   "cell_type": "code",
   "execution_count": null,
   "id": "d19c9dd5",
   "metadata": {},
   "outputs": [],
   "source": []
  },
  {
   "cell_type": "code",
   "execution_count": 28,
   "id": "28c43d05",
   "metadata": {},
   "outputs": [
    {
     "data": {
      "text/plain": [
       "z         0.187500\n",
       "x1       -1.059000\n",
       "c         0.158000\n",
       "t0    59716.459731\n",
       "x0        0.000046\n",
       "Name: 80, dtype: float64"
      ]
     },
     "execution_count": 28,
     "metadata": {},
     "output_type": "execute_result"
    },
    {
     "data": {
      "image/png": "[encoded data removed]",
      "text/plain": [
       "<Figure size 504x288 with 1 Axes>"
      ]
     },
     "metadata": {
      "needs_background": "light"
     },
     "output_type": "display_data"
    }
   ],
   "source": [
    "_ = dset.show_target_lightcurve(index=80, phase_window=[-30, 70])\n",
    "dset.targets.get_template_parameters(index=80)"
   ]
  },
  {
   "cell_type": "code",
   "execution_count": 18,
   "id": "5473ea4f",
   "metadata": {},
   "outputs": [
    {
     "name": "stdout",
     "output_type": "stream",
     "text": [
      "CPU times: user 1.03 s, sys: 369 ms, total: 1.4 s\n",
      "Wall time: 1.37 s\n"
     ]
    },
    {
     "data": {
      "text/plain": [
       "level_0  band\n",
       "0        ztfg     9\n",
       "         ztfi     5\n",
       "         ztfr    19\n",
       "1        ztfg     0\n",
       "         ztfi     1\n",
       "                 ..\n",
       "4998     ztfi     6\n",
       "         ztfr    11\n",
       "4999     ztfg     0\n",
       "         ztfi     0\n",
       "         ztfr     0\n",
       "Name: detected, Length: 14967, dtype: int64"
      ]
     },
     "execution_count": 18,
     "metadata": {},
     "output_type": "execute_result"
    }
   ],
   "source": [
    "%%time\n",
    "dset.get_ndetection(per_band=True)"
   ]
  },
  {
   "cell_type": "code",
   "execution_count": null,
   "id": "45d54982",
   "metadata": {},
   "outputs": [],
   "source": []
  }
 ],
 "metadata": {
  "kernelspec": {
   "display_name": "Python 3 (ipykernel)",
   "language": "python",
   "name": "python3"
  },
  "language_info": {
   "codemirror_mode": {
    "name": "ipython",
    "version": 3
   },
   "file_extension": ".py",
   "mimetype": "text/x-python",
   "name": "python",
   "nbconvert_exporter": "python",
   "pygments_lexer": "ipython3",
   "version": "3.9.13"
  }
 },
 "nbformat": 4,
 "nbformat_minor": 5
}
