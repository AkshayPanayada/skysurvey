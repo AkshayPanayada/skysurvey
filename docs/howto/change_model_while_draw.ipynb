{
 "cells": [
  {
   "cell_type": "markdown",
   "id": "1ccb29b8",
   "metadata": {},
   "source": [
    "# Update/change an existing target\n",
    "\n",
    "Sometime, you don't want to use the pre-defined targets as given. You may want to change the model function parameters (the `kwargs`) or even the function (the `func`) used to draw the target's parameters. \n",
    "\n",
    "You can do that while calling `draw()`, `from_draw()` or simply using `update_model()`. \n",
    "\n",
    "Let's see the differences."
   ]
  },
  {
   "cell_type": "markdown",
   "id": "952c6e49",
   "metadata": {},
   "source": [
    "***\n",
    "## Changing model entry's parameters\n",
    "\n",
    "This is the simplest and the most commun usage. \n",
    "\n",
    "You want to change the model's parameters. You can do that using `**kwargs` of `draw()` (`from_draw()`) method, with the format:\n",
    "```python\n",
    "{entry_name: dict}\n",
    "```\n",
    "\n",
    "\n",
    "For instance, let's change the **alpha** and **beta** parameters of the SNeIa model ; these are parameters of the **magabs** function (see, `skysurvey.target.snia.SNeIaMagnitude.tripp1998`):"
   ]
  },
  {
   "cell_type": "code",
   "execution_count": 1,
   "id": "e4bde080",
   "metadata": {},
   "outputs": [
    {
     "data": {
      "text/html": [
       "<div>\n",
       "<style scoped>\n",
       "    .dataframe tbody tr th:only-of-type {\n",
       "        vertical-align: middle;\n",
       "    }\n",
       "\n",
       "    .dataframe tbody tr th {\n",
       "        vertical-align: top;\n",
       "    }\n",
       "\n",
       "    .dataframe thead th {\n",
       "        text-align: right;\n",
       "    }\n",
       "</style>\n",
       "<table border=\"1\" class=\"dataframe\">\n",
       "  <thead>\n",
       "    <tr style=\"text-align: right;\">\n",
       "      <th></th>\n",
       "      <th>z</th>\n",
       "      <th>x1</th>\n",
       "      <th>c</th>\n",
       "      <th>t0</th>\n",
       "      <th>magabs</th>\n",
       "      <th>magobs</th>\n",
       "      <th>x0</th>\n",
       "      <th>ra</th>\n",
       "      <th>dec</th>\n",
       "      <th>template</th>\n",
       "    </tr>\n",
       "  </thead>\n",
       "  <tbody>\n",
       "    <tr>\n",
       "      <th>0</th>\n",
       "      <td>0.1795</td>\n",
       "      <td>-1.505</td>\n",
       "      <td>-0.018</td>\n",
       "      <td>56178.820312</td>\n",
       "      <td>-19.260296</td>\n",
       "      <td>20.505405</td>\n",
       "      <td>0.000100</td>\n",
       "      <td>286.053436</td>\n",
       "      <td>-73.845627</td>\n",
       "      <td>salt2</td>\n",
       "    </tr>\n",
       "    <tr>\n",
       "      <th>1</th>\n",
       "      <td>0.1705</td>\n",
       "      <td>1.635</td>\n",
       "      <td>0.365</td>\n",
       "      <td>56180.847656</td>\n",
       "      <td>-18.336136</td>\n",
       "      <td>21.306215</td>\n",
       "      <td>0.000048</td>\n",
       "      <td>296.849365</td>\n",
       "      <td>19.167883</td>\n",
       "      <td>salt2</td>\n",
       "    </tr>\n",
       "    <tr>\n",
       "      <th>2</th>\n",
       "      <td>0.1295</td>\n",
       "      <td>0.900</td>\n",
       "      <td>0.339</td>\n",
       "      <td>56120.816406</td>\n",
       "      <td>-18.100573</td>\n",
       "      <td>20.889549</td>\n",
       "      <td>0.000070</td>\n",
       "      <td>171.111328</td>\n",
       "      <td>-14.783126</td>\n",
       "      <td>salt2</td>\n",
       "    </tr>\n",
       "    <tr>\n",
       "      <th>3</th>\n",
       "      <td>0.1545</td>\n",
       "      <td>0.870</td>\n",
       "      <td>0.040</td>\n",
       "      <td>56050.171875</td>\n",
       "      <td>-19.254091</td>\n",
       "      <td>20.153208</td>\n",
       "      <td>0.000138</td>\n",
       "      <td>33.918930</td>\n",
       "      <td>12.749045</td>\n",
       "      <td>salt2</td>\n",
       "    </tr>\n",
       "    <tr>\n",
       "      <th>4</th>\n",
       "      <td>0.1955</td>\n",
       "      <td>1.235</td>\n",
       "      <td>-0.042</td>\n",
       "      <td>56031.105469</td>\n",
       "      <td>-19.489254</td>\n",
       "      <td>20.482216</td>\n",
       "      <td>0.000102</td>\n",
       "      <td>230.998703</td>\n",
       "      <td>-66.772179</td>\n",
       "      <td>salt2</td>\n",
       "    </tr>\n",
       "    <tr>\n",
       "      <th>...</th>\n",
       "      <td>...</td>\n",
       "      <td>...</td>\n",
       "      <td>...</td>\n",
       "      <td>...</td>\n",
       "      <td>...</td>\n",
       "      <td>...</td>\n",
       "      <td>...</td>\n",
       "      <td>...</td>\n",
       "      <td>...</td>\n",
       "      <td>...</td>\n",
       "    </tr>\n",
       "    <tr>\n",
       "      <th>995</th>\n",
       "      <td>0.1905</td>\n",
       "      <td>-0.530</td>\n",
       "      <td>0.029</td>\n",
       "      <td>56005.777344</td>\n",
       "      <td>-19.155895</td>\n",
       "      <td>20.753002</td>\n",
       "      <td>0.000079</td>\n",
       "      <td>316.442749</td>\n",
       "      <td>4.067553</td>\n",
       "      <td>salt2</td>\n",
       "    </tr>\n",
       "    <tr>\n",
       "      <th>996</th>\n",
       "      <td>0.1575</td>\n",
       "      <td>1.430</td>\n",
       "      <td>0.017</td>\n",
       "      <td>56026.976562</td>\n",
       "      <td>-19.576254</td>\n",
       "      <td>19.876793</td>\n",
       "      <td>0.000178</td>\n",
       "      <td>355.439331</td>\n",
       "      <td>13.675174</td>\n",
       "      <td>salt2</td>\n",
       "    </tr>\n",
       "    <tr>\n",
       "      <th>997</th>\n",
       "      <td>0.1365</td>\n",
       "      <td>-0.745</td>\n",
       "      <td>-0.041</td>\n",
       "      <td>56157.359375</td>\n",
       "      <td>-19.502314</td>\n",
       "      <td>19.611729</td>\n",
       "      <td>0.000227</td>\n",
       "      <td>188.437012</td>\n",
       "      <td>48.898655</td>\n",
       "      <td>salt2</td>\n",
       "    </tr>\n",
       "    <tr>\n",
       "      <th>998</th>\n",
       "      <td>0.0895</td>\n",
       "      <td>0.570</td>\n",
       "      <td>-0.052</td>\n",
       "      <td>56148.414062</td>\n",
       "      <td>-19.566803</td>\n",
       "      <td>18.564322</td>\n",
       "      <td>0.000596</td>\n",
       "      <td>91.512428</td>\n",
       "      <td>-19.861418</td>\n",
       "      <td>salt2</td>\n",
       "    </tr>\n",
       "    <tr>\n",
       "      <th>999</th>\n",
       "      <td>0.1465</td>\n",
       "      <td>-1.950</td>\n",
       "      <td>-0.120</td>\n",
       "      <td>56110.757812</td>\n",
       "      <td>-19.562008</td>\n",
       "      <td>19.719122</td>\n",
       "      <td>0.000206</td>\n",
       "      <td>24.357347</td>\n",
       "      <td>63.686646</td>\n",
       "      <td>salt2</td>\n",
       "    </tr>\n",
       "  </tbody>\n",
       "</table>\n",
       "<p>1000 rows × 10 columns</p>\n",
       "</div>"
      ],
      "text/plain": [
       "          z     x1      c            t0     magabs     magobs        x0  \\\n",
       "0    0.1795 -1.505 -0.018  56178.820312 -19.260296  20.505405  0.000100   \n",
       "1    0.1705  1.635  0.365  56180.847656 -18.336136  21.306215  0.000048   \n",
       "2    0.1295  0.900  0.339  56120.816406 -18.100573  20.889549  0.000070   \n",
       "3    0.1545  0.870  0.040  56050.171875 -19.254091  20.153208  0.000138   \n",
       "4    0.1955  1.235 -0.042  56031.105469 -19.489254  20.482216  0.000102   \n",
       "..      ...    ...    ...           ...        ...        ...       ...   \n",
       "995  0.1905 -0.530  0.029  56005.777344 -19.155895  20.753002  0.000079   \n",
       "996  0.1575  1.430  0.017  56026.976562 -19.576254  19.876793  0.000178   \n",
       "997  0.1365 -0.745 -0.041  56157.359375 -19.502314  19.611729  0.000227   \n",
       "998  0.0895  0.570 -0.052  56148.414062 -19.566803  18.564322  0.000596   \n",
       "999  0.1465 -1.950 -0.120  56110.757812 -19.562008  19.719122  0.000206   \n",
       "\n",
       "             ra        dec template  \n",
       "0    286.053436 -73.845627    salt2  \n",
       "1    296.849365  19.167883    salt2  \n",
       "2    171.111328 -14.783126    salt2  \n",
       "3     33.918930  12.749045    salt2  \n",
       "4    230.998703 -66.772179    salt2  \n",
       "..          ...        ...      ...  \n",
       "995  316.442749   4.067553    salt2  \n",
       "996  355.439331  13.675174    salt2  \n",
       "997  188.437012  48.898655    salt2  \n",
       "998   91.512428 -19.861418    salt2  \n",
       "999   24.357347  63.686646    salt2  \n",
       "\n",
       "[1000 rows x 10 columns]"
      ]
     },
     "execution_count": 1,
     "metadata": {},
     "output_type": "execute_result"
    }
   ],
   "source": [
    "import skysurvey\n",
    "\n",
    "snia = skysurvey.SNeIa.from_draw(size=1_000, \n",
    "                                 magabs={\"alpha\":-0.15, \"beta\":3.8} # kwargs here\n",
    "                                )\n",
    "snia.data"
   ]
  },
  {
   "cell_type": "markdown",
   "id": "8dd25aa4",
   "metadata": {},
   "source": [
    "**Using `kwargs` does not update the actual instance's model, but simply what is used to draw the data**\n",
    "\n",
    "Consequently, so the ``model`` itself is not changed."
   ]
  },
  {
   "cell_type": "code",
   "execution_count": 2,
   "id": "1eb3c5e8",
   "metadata": {},
   "outputs": [
    {
     "data": {
      "text/plain": [
       "{'redshift': {'kwargs': {'zmax': 0.2}, 'as': 'z'},\n",
       " 'x1': {'func': <function SNeIaStretch.nicolas2021 at 0x29d5b51f0>},\n",
       " 'c': {'func': <function SNeIaColor.intrinsic_and_dust at 0x29d5b5160>},\n",
       " 't0': {'func': <built-in method uniform of numpy.random.mtrand.RandomState object at 0x107587640>,\n",
       "        'kwargs': {'low': 56000, 'high': 56200}},\n",
       " 'magabs': {'func': <function SNeIaMagnitude.tripp1998 at 0x29d5b5280>,\n",
       "            'kwargs': {'x1': '@x1', 'c': '@c', 'mabs': -19.3, 'sigmaint': 0.1}},\n",
       " 'magobs': {'func': 'magabs_to_magobs',\n",
       "            'kwargs': {'z': '@z', 'magabs': '@magabs'}},\n",
       " 'x0': {'func': 'magobs_to_amplitude',\n",
       "        'kwargs': {'magobs': '@magobs', 'param_name': 'x0'}},\n",
       " 'radec': {'func': <function random_radec at 0x29c16c160>,\n",
       "           'kwargs': {},\n",
       "           'as': ['ra', 'dec']}}"
      ]
     },
     "execution_count": 2,
     "metadata": {},
     "output_type": "execute_result"
    }
   ],
   "source": [
    "snia.model"
   ]
  },
  {
   "cell_type": "markdown",
   "id": "7b173464",
   "metadata": {},
   "source": [
    "### how to permanently change instance's model parameters ?\n",
    "\n",
    "To permanently change the model of the instance, you need to use ``self.update_model_parameter()``"
   ]
  },
  {
   "cell_type": "code",
   "execution_count": 3,
   "id": "6ae022fb",
   "metadata": {},
   "outputs": [
    {
     "data": {
      "text/plain": [
       "{'redshift': {'kwargs': {'zmax': 0.2}, 'as': 'z'},\n",
       " 'x1': {'func': <function SNeIaStretch.nicolas2021 at 0x29d5b51f0>},\n",
       " 'c': {'func': <function SNeIaColor.intrinsic_and_dust at 0x29d5b5160>},\n",
       " 't0': {'func': <built-in method uniform of numpy.random.mtrand.RandomState object at 0x107587640>,\n",
       "        'kwargs': {'low': 56000, 'high': 56200}},\n",
       " 'magabs': {'func': <function SNeIaMagnitude.tripp1998 at 0x29d5b5280>,\n",
       "            'kwargs': {'x1': '@x1',\n",
       "                       'c': '@c',\n",
       "                       'mabs': -19.3,\n",
       "                       'sigmaint': 0.1,\n",
       "                       'alpha': -0.15,\n",
       "                       'beta': 3.8}},\n",
       " 'magobs': {'func': 'magabs_to_magobs',\n",
       "            'kwargs': {'z': '@z', 'magabs': '@magabs'}},\n",
       " 'x0': {'func': 'magobs_to_amplitude',\n",
       "        'kwargs': {'magobs': '@magobs', 'param_name': 'x0'}},\n",
       " 'radec': {'func': <function random_radec at 0x29c16c160>,\n",
       "           'kwargs': {},\n",
       "           'as': ['ra', 'dec']}}"
      ]
     },
     "execution_count": 3,
     "metadata": {},
     "output_type": "execute_result"
    }
   ],
   "source": [
    "snia.update_model_parameter(magabs={\"alpha\":-0.15, \"beta\":3.8} )\n",
    "snia.model"
   ]
  },
  {
   "cell_type": "markdown",
   "id": "8f57eadd",
   "metadata": {},
   "source": [
    "***\n",
    "## Changing model entry's (`func` and `kwargs`)\n",
    "\n",
    "You can also change the way a parameter is drawn, not just it's function parameters.\n",
    "\n",
    "To do so, you need to update `func` and provide its new `kwargs` (if any). This means, updating the `model` for the entry.\n",
    "\n",
    "To do that, you can use:\n",
    "- the **model** option in `draw()`: this will update the model used to draw but will not affect the actual instance's model\n",
    "- the **model** option in `from_draw()`: this changes the model while creating the instance, it is thus permanent \n",
    "- the `update_model()` method: this is permanent (it is what `from_draw()` uses).\n",
    "\n",
    "The format is that of a model (see [modelDAG](https://modeldag.readthedocs.io/en/latest/)):\n",
    "```python\n",
    "{entry_name: {\"func\": a_function, [\"kwargs\": dict, \"as\": string_or_list]}}\n",
    "```\n",
    "\n",
    "\n",
    "For instance, say we want to change how the **c** parameter is drawn, we want to use a uniform distribution between -1 and +3: "
   ]
  },
  {
   "cell_type": "code",
   "execution_count": 4,
   "id": "f3ea54e1",
   "metadata": {},
   "outputs": [],
   "source": [
    "import numpy as np\n",
    "new_model_for_c = {\"c\": {\"func\": np.random.uniform, \"kwargs\": {\"low\":-1, \"high\":+3}}}"
   ]
  },
  {
   "cell_type": "code",
   "execution_count": 5,
   "id": "31941aa2",
   "metadata": {},
   "outputs": [],
   "source": [
    "snia = skysurvey.SNeIa.from_draw(size=1_000, \n",
    "                                 model=new_model_for_c\n",
    "                                )\n"
   ]
  },
  {
   "cell_type": "code",
   "execution_count": 6,
   "id": "30592009",
   "metadata": {},
   "outputs": [
    {
     "data": {
      "text/plain": [
       "<Axes: ylabel='Frequency'>"
      ]
     },
     "execution_count": 6,
     "metadata": {},
     "output_type": "execute_result"
    },
    {
     "data": {
      "image/png": "[encoded data removed]",
      "text/plain": [
       "<Figure size 432x288 with 1 Axes>"
      ]
     },
     "metadata": {
      "needs_background": "light"
     },
     "output_type": "display_data"
    }
   ],
   "source": [
    "snia.data[\"c\"].plot.hist()"
   ]
  },
  {
   "cell_type": "markdown",
   "id": "31bef94f",
   "metadata": {},
   "source": [
    "**here, the change is permanent, as you changed the model used to load the instance**"
   ]
  },
  {
   "cell_type": "code",
   "execution_count": 7,
   "id": "e105012a",
   "metadata": {},
   "outputs": [
    {
     "data": {
      "text/plain": [
       "{'redshift': {'kwargs': {'zmax': 0.2}, 'as': 'z'},\n",
       " 'x1': {'func': <function SNeIaStretch.nicolas2021 at 0x29d5b51f0>},\n",
       " 'c': {'func': <built-in method uniform of numpy.random.mtrand.RandomState object at 0x107587640>,\n",
       "       'kwargs': {'low': -1, 'high': 3}},\n",
       " 't0': {'func': <built-in method uniform of numpy.random.mtrand.RandomState object at 0x107587640>,\n",
       "        'kwargs': {'low': 56000, 'high': 56200}},\n",
       " 'magabs': {'func': <function SNeIaMagnitude.tripp1998 at 0x29d5b5280>,\n",
       "            'kwargs': {'x1': '@x1', 'c': '@c', 'mabs': -19.3, 'sigmaint': 0.1}},\n",
       " 'magobs': {'func': 'magabs_to_magobs',\n",
       "            'kwargs': {'z': '@z', 'magabs': '@magabs'}},\n",
       " 'x0': {'func': 'magobs_to_amplitude',\n",
       "        'kwargs': {'magobs': '@magobs', 'param_name': 'x0'}},\n",
       " 'radec': {'func': <function random_radec at 0x29c16c160>,\n",
       "           'kwargs': {},\n",
       "           'as': ['ra', 'dec']}}"
      ]
     },
     "execution_count": 7,
     "metadata": {},
     "output_type": "execute_result"
    }
   ],
   "source": [
    "snia.model # check-out the c-entry"
   ]
  },
  {
   "cell_type": "markdown",
   "id": "d5f0166e",
   "metadata": {},
   "source": [
    "to change the model only for a `draw()` call"
   ]
  },
  {
   "cell_type": "code",
   "execution_count": 8,
   "id": "0d58c055",
   "metadata": {},
   "outputs": [],
   "source": [
    "snia = skysurvey.SNeIa()\n",
    "data_updated = snia.draw(size=1_000, model=new_model_for_c)\n",
    "data_not_updated = snia.draw(size=1_000)"
   ]
  },
  {
   "cell_type": "code",
   "execution_count": 9,
   "id": "17c48022",
   "metadata": {},
   "outputs": [
    {
     "data": {
      "text/plain": [
       "<Axes: ylabel='Frequency'>"
      ]
     },
     "execution_count": 9,
     "metadata": {},
     "output_type": "execute_result"
    },
    {
     "data": {
      "image/png": "[encoded data removed]",
      "text/plain": [
       "<Figure size 432x288 with 1 Axes>"
      ]
     },
     "metadata": {
      "needs_background": "light"
     },
     "output_type": "display_data"
    }
   ],
   "source": [
    "data_updated[\"c\"].plot.hist()"
   ]
  },
  {
   "cell_type": "code",
   "execution_count": 10,
   "id": "efb690a8",
   "metadata": {},
   "outputs": [
    {
     "data": {
      "text/plain": [
       "<Axes: ylabel='Frequency'>"
      ]
     },
     "execution_count": 10,
     "metadata": {},
     "output_type": "execute_result"
    },
    {
     "data": {
      "image/png": "[encoded data removed]",
      "text/plain": [
       "<Figure size 432x288 with 1 Axes>"
      ]
     },
     "metadata": {
      "needs_background": "light"
     },
     "output_type": "display_data"
    }
   ],
   "source": [
    "data_not_updated[\"c\"].plot.hist()"
   ]
  },
  {
   "cell_type": "markdown",
   "id": "0d31bd32",
   "metadata": {},
   "source": [
    "### use `update_model()`\n",
    "\n",
    "you can directly change (permanently) the model using update_model"
   ]
  },
  {
   "cell_type": "code",
   "execution_count": 11,
   "id": "3c96e9f6",
   "metadata": {},
   "outputs": [],
   "source": [
    "flat_model = {\"c\": {\"func\": np.random.uniform, \"kwargs\": {\"low\":-0.1, \"high\":+1}},\n",
    "              \"x1\": {\"func\": np.random.uniform, \"kwargs\": {\"low\":-3, \"high\":+3}}\n",
    "             }\n",
    "\n",
    "snia = skysurvey.SNeIa()\n",
    "snia.update_model(**flat_model)\n",
    "data = snia.draw(1_000)"
   ]
  },
  {
   "cell_type": "code",
   "execution_count": 12,
   "id": "bf8a1ee3",
   "metadata": {},
   "outputs": [
    {
     "data": {
      "text/html": [
       "<div>\n",
       "<style scoped>\n",
       "    .dataframe tbody tr th:only-of-type {\n",
       "        vertical-align: middle;\n",
       "    }\n",
       "\n",
       "    .dataframe tbody tr th {\n",
       "        vertical-align: top;\n",
       "    }\n",
       "\n",
       "    .dataframe thead th {\n",
       "        text-align: right;\n",
       "    }\n",
       "</style>\n",
       "<table border=\"1\" class=\"dataframe\">\n",
       "  <thead>\n",
       "    <tr style=\"text-align: right;\">\n",
       "      <th></th>\n",
       "      <th>z</th>\n",
       "      <th>x1</th>\n",
       "      <th>c</th>\n",
       "      <th>t0</th>\n",
       "      <th>magabs</th>\n",
       "      <th>magobs</th>\n",
       "      <th>x0</th>\n",
       "      <th>ra</th>\n",
       "      <th>dec</th>\n",
       "    </tr>\n",
       "  </thead>\n",
       "  <tbody>\n",
       "    <tr>\n",
       "      <th>0</th>\n",
       "      <td>0.0495</td>\n",
       "      <td>-1.244012</td>\n",
       "      <td>0.844753</td>\n",
       "      <td>56012.217644</td>\n",
       "      <td>-16.488445</td>\n",
       "      <td>20.296469</td>\n",
       "      <td>0.000121</td>\n",
       "      <td>45.464550</td>\n",
       "      <td>56.335689</td>\n",
       "    </tr>\n",
       "    <tr>\n",
       "      <th>1</th>\n",
       "      <td>0.1115</td>\n",
       "      <td>-2.111851</td>\n",
       "      <td>0.610793</td>\n",
       "      <td>56011.403811</td>\n",
       "      <td>-17.116474</td>\n",
       "      <td>21.523528</td>\n",
       "      <td>0.000039</td>\n",
       "      <td>300.796931</td>\n",
       "      <td>-15.855493</td>\n",
       "    </tr>\n",
       "    <tr>\n",
       "      <th>2</th>\n",
       "      <td>0.1415</td>\n",
       "      <td>-1.279111</td>\n",
       "      <td>0.072549</td>\n",
       "      <td>56011.514896</td>\n",
       "      <td>-18.943110</td>\n",
       "      <td>20.255857</td>\n",
       "      <td>0.000125</td>\n",
       "      <td>160.816364</td>\n",
       "      <td>-16.611870</td>\n",
       "    </tr>\n",
       "    <tr>\n",
       "      <th>3</th>\n",
       "      <td>0.1785</td>\n",
       "      <td>-1.049004</td>\n",
       "      <td>0.374757</td>\n",
       "      <td>56003.906713</td>\n",
       "      <td>-17.896183</td>\n",
       "      <td>21.856100</td>\n",
       "      <td>0.000029</td>\n",
       "      <td>239.598357</td>\n",
       "      <td>1.597908</td>\n",
       "    </tr>\n",
       "    <tr>\n",
       "      <th>4</th>\n",
       "      <td>0.1165</td>\n",
       "      <td>-1.605290</td>\n",
       "      <td>-0.039393</td>\n",
       "      <td>56023.185117</td>\n",
       "      <td>-19.341457</td>\n",
       "      <td>19.400850</td>\n",
       "      <td>0.000276</td>\n",
       "      <td>228.447482</td>\n",
       "      <td>12.711492</td>\n",
       "    </tr>\n",
       "    <tr>\n",
       "      <th>...</th>\n",
       "      <td>...</td>\n",
       "      <td>...</td>\n",
       "      <td>...</td>\n",
       "      <td>...</td>\n",
       "      <td>...</td>\n",
       "      <td>...</td>\n",
       "      <td>...</td>\n",
       "      <td>...</td>\n",
       "      <td>...</td>\n",
       "    </tr>\n",
       "    <tr>\n",
       "      <th>995</th>\n",
       "      <td>0.1635</td>\n",
       "      <td>-0.256755</td>\n",
       "      <td>0.267285</td>\n",
       "      <td>56067.817212</td>\n",
       "      <td>-18.433233</td>\n",
       "      <td>21.108923</td>\n",
       "      <td>0.000057</td>\n",
       "      <td>2.183121</td>\n",
       "      <td>13.071712</td>\n",
       "    </tr>\n",
       "    <tr>\n",
       "      <th>996</th>\n",
       "      <td>0.1865</td>\n",
       "      <td>-2.371955</td>\n",
       "      <td>0.835858</td>\n",
       "      <td>56057.884865</td>\n",
       "      <td>-16.350786</td>\n",
       "      <td>23.506948</td>\n",
       "      <td>0.000006</td>\n",
       "      <td>134.835573</td>\n",
       "      <td>38.445635</td>\n",
       "    </tr>\n",
       "    <tr>\n",
       "      <th>997</th>\n",
       "      <td>0.1605</td>\n",
       "      <td>-0.435017</td>\n",
       "      <td>0.810463</td>\n",
       "      <td>56133.839023</td>\n",
       "      <td>-16.684082</td>\n",
       "      <td>22.813906</td>\n",
       "      <td>0.000012</td>\n",
       "      <td>113.017990</td>\n",
       "      <td>7.290792</td>\n",
       "    </tr>\n",
       "    <tr>\n",
       "      <th>998</th>\n",
       "      <td>0.1745</td>\n",
       "      <td>0.408315</td>\n",
       "      <td>0.661788</td>\n",
       "      <td>56155.063177</td>\n",
       "      <td>-17.266170</td>\n",
       "      <td>22.431732</td>\n",
       "      <td>0.000017</td>\n",
       "      <td>267.332056</td>\n",
       "      <td>-72.982666</td>\n",
       "    </tr>\n",
       "    <tr>\n",
       "      <th>999</th>\n",
       "      <td>0.1925</td>\n",
       "      <td>-2.468765</td>\n",
       "      <td>0.707392</td>\n",
       "      <td>56129.428653</td>\n",
       "      <td>-16.811345</td>\n",
       "      <td>23.122762</td>\n",
       "      <td>0.000009</td>\n",
       "      <td>198.003854</td>\n",
       "      <td>78.063061</td>\n",
       "    </tr>\n",
       "  </tbody>\n",
       "</table>\n",
       "<p>1000 rows × 9 columns</p>\n",
       "</div>"
      ],
      "text/plain": [
       "          z        x1         c            t0     magabs     magobs        x0  \\\n",
       "0    0.0495 -1.244012  0.844753  56012.217644 -16.488445  20.296469  0.000121   \n",
       "1    0.1115 -2.111851  0.610793  56011.403811 -17.116474  21.523528  0.000039   \n",
       "2    0.1415 -1.279111  0.072549  56011.514896 -18.943110  20.255857  0.000125   \n",
       "3    0.1785 -1.049004  0.374757  56003.906713 -17.896183  21.856100  0.000029   \n",
       "4    0.1165 -1.605290 -0.039393  56023.185117 -19.341457  19.400850  0.000276   \n",
       "..      ...       ...       ...           ...        ...        ...       ...   \n",
       "995  0.1635 -0.256755  0.267285  56067.817212 -18.433233  21.108923  0.000057   \n",
       "996  0.1865 -2.371955  0.835858  56057.884865 -16.350786  23.506948  0.000006   \n",
       "997  0.1605 -0.435017  0.810463  56133.839023 -16.684082  22.813906  0.000012   \n",
       "998  0.1745  0.408315  0.661788  56155.063177 -17.266170  22.431732  0.000017   \n",
       "999  0.1925 -2.468765  0.707392  56129.428653 -16.811345  23.122762  0.000009   \n",
       "\n",
       "             ra        dec  \n",
       "0     45.464550  56.335689  \n",
       "1    300.796931 -15.855493  \n",
       "2    160.816364 -16.611870  \n",
       "3    239.598357   1.597908  \n",
       "4    228.447482  12.711492  \n",
       "..          ...        ...  \n",
       "995    2.183121  13.071712  \n",
       "996  134.835573  38.445635  \n",
       "997  113.017990   7.290792  \n",
       "998  267.332056 -72.982666  \n",
       "999  198.003854  78.063061  \n",
       "\n",
       "[1000 rows x 9 columns]"
      ]
     },
     "execution_count": 12,
     "metadata": {},
     "output_type": "execute_result"
    }
   ],
   "source": [
    "data"
   ]
  },
  {
   "cell_type": "markdown",
   "id": "1092cfed",
   "metadata": {},
   "source": [
    "### shall I update a model or create a new one ?\n",
    "\n",
    "`model` option can **affect any entry**, you can even **add entry**, but any new entry will be appended at the end of the dist model. **So to create an internal dependency, you will need to create a new model from scratch.**\n",
    "\n",
    "\n",
    "***\n",
    "## How to insert a new entry to create an internal dependency\n",
    "\n",
    "\n",
    "Say you want to randomly draw **beta** from a normal distribution and use this drawn parameter as input of **magabs**\n",
    "\n",
    "\n",
    "**using update_model() will not work** because beta will be appended to the end of the `model` dict, while you would need it *before* magabs."
   ]
  },
  {
   "cell_type": "code",
   "execution_count": 13,
   "id": "12536c0b",
   "metadata": {},
   "outputs": [],
   "source": [
    "random_beta_model = {\"beta\": {\"func\": np.random.normal, \"kwargs\": {\"loc\":3.5, \"scale\":0.1}},\n",
    "                     \"magabs\": {\"func\": skysurvey.target.snia.SNeIaMagnitude.tripp1998,\n",
    "                                \"kwargs\": {\"x1\":\"@x1\", \"c\":\"@c\", \"beta\":\"@beta\"}}\n",
    "                     }"
   ]
  },
  {
   "cell_type": "code",
   "execution_count": 14,
   "id": "14d95104",
   "metadata": {},
   "outputs": [],
   "source": [
    "snia = skysurvey.SNeIa()"
   ]
  },
  {
   "cell_type": "code",
   "execution_count": 15,
   "id": "4ea062b8",
   "metadata": {},
   "outputs": [
    {
     "ename": "KeyError",
     "evalue": "'beta'",
     "output_type": "error",
     "traceback": [
      "\u001b[0;31m---------------------------------------------------------------------------\u001b[0m",
      "\u001b[0;31mKeyError\u001b[0m                                  Traceback (most recent call last)",
      "File \u001b[0;32m~/miniforge3/lib/python3.9/site-packages/pandas/core/indexes/base.py:3652\u001b[0m, in \u001b[0;36mIndex.get_loc\u001b[0;34m(self, key)\u001b[0m\n\u001b[1;32m   3651\u001b[0m \u001b[38;5;28;01mtry\u001b[39;00m:\n\u001b[0;32m-> 3652\u001b[0m     \u001b[38;5;28;01mreturn\u001b[39;00m \u001b[38;5;28;43mself\u001b[39;49m\u001b[38;5;241;43m.\u001b[39;49m\u001b[43m_engine\u001b[49m\u001b[38;5;241;43m.\u001b[39;49m\u001b[43mget_loc\u001b[49m\u001b[43m(\u001b[49m\u001b[43mcasted_key\u001b[49m\u001b[43m)\u001b[49m\n\u001b[1;32m   3653\u001b[0m \u001b[38;5;28;01mexcept\u001b[39;00m \u001b[38;5;167;01mKeyError\u001b[39;00m \u001b[38;5;28;01mas\u001b[39;00m err:\n",
      "File \u001b[0;32m~/miniforge3/lib/python3.9/site-packages/pandas/_libs/index.pyx:147\u001b[0m, in \u001b[0;36mpandas._libs.index.IndexEngine.get_loc\u001b[0;34m()\u001b[0m\n",
      "File \u001b[0;32m~/miniforge3/lib/python3.9/site-packages/pandas/_libs/index.pyx:176\u001b[0m, in \u001b[0;36mpandas._libs.index.IndexEngine.get_loc\u001b[0;34m()\u001b[0m\n",
      "File \u001b[0;32mpandas/_libs/hashtable_class_helper.pxi:7080\u001b[0m, in \u001b[0;36mpandas._libs.hashtable.PyObjectHashTable.get_item\u001b[0;34m()\u001b[0m\n",
      "File \u001b[0;32mpandas/_libs/hashtable_class_helper.pxi:7088\u001b[0m, in \u001b[0;36mpandas._libs.hashtable.PyObjectHashTable.get_item\u001b[0;34m()\u001b[0m\n",
      "\u001b[0;31mKeyError\u001b[0m: 'beta'",
      "\nThe above exception was the direct cause of the following exception:\n",
      "\u001b[0;31mKeyError\u001b[0m                                  Traceback (most recent call last)",
      "Input \u001b[0;32mIn [15]\u001b[0m, in \u001b[0;36m<cell line: 1>\u001b[0;34m()\u001b[0m\n\u001b[0;32m----> 1\u001b[0m _ \u001b[38;5;241m=\u001b[39m \u001b[43msnia\u001b[49m\u001b[38;5;241;43m.\u001b[39;49m\u001b[43mdraw\u001b[49m\u001b[43m(\u001b[49m\u001b[38;5;241;43m1_000\u001b[39;49m\u001b[43m,\u001b[49m\u001b[43m \u001b[49m\u001b[43mmodel\u001b[49m\u001b[38;5;241;43m=\u001b[39;49m\u001b[43mrandom_beta_model\u001b[49m\u001b[43m)\u001b[49m\n",
      "File \u001b[0;32m~/miniforge3/lib/python3.9/site-packages/skysurvey/target/core.py:891\u001b[0m, in \u001b[0;36mTarget.draw\u001b[0;34m(self, size, zmax, zmin, tstart, tstop, nyears, skyarea, inplace, model, **kwargs)\u001b[0m\n\u001b[1;32m    888\u001b[0m     size \u001b[38;5;241m=\u001b[39m \u001b[38;5;28mint\u001b[39m((\u001b[38;5;28mself\u001b[39m\u001b[38;5;241m.\u001b[39mget_rate(zmax, skyarea\u001b[38;5;241m=\u001b[39mskyarea)\u001b[38;5;241m-\u001b[39mrate_min) \u001b[38;5;241m*\u001b[39m nyears)\n\u001b[1;32m    890\u001b[0m \u001b[38;5;66;03m# actually draw the data\u001b[39;00m\n\u001b[0;32m--> 891\u001b[0m data \u001b[38;5;241m=\u001b[39m \u001b[43mdrawn_model\u001b[49m\u001b[38;5;241;43m.\u001b[39;49m\u001b[43mdraw\u001b[49m\u001b[43m(\u001b[49m\u001b[43msize\u001b[49m\u001b[38;5;241;43m=\u001b[39;49m\u001b[43msize\u001b[49m\u001b[43m,\u001b[49m\u001b[43m \u001b[49m\u001b[38;5;241;43m*\u001b[39;49m\u001b[38;5;241;43m*\u001b[39;49m\u001b[43mkwargs\u001b[49m\u001b[43m)\u001b[49m\n\u001b[1;32m    892\u001b[0m \u001b[38;5;28;01mif\u001b[39;00m inplace:\n\u001b[1;32m    893\u001b[0m     \u001b[38;5;66;03m# lower precision\u001b[39;00m\n\u001b[1;32m    894\u001b[0m     data \u001b[38;5;241m=\u001b[39m data\u001b[38;5;241m.\u001b[39mastype( {k: \u001b[38;5;28mstr\u001b[39m(v)\u001b[38;5;241m.\u001b[39mreplace(\u001b[38;5;124m\"\u001b[39m\u001b[38;5;124m64\u001b[39m\u001b[38;5;124m\"\u001b[39m,\u001b[38;5;124m\"\u001b[39m\u001b[38;5;124m32\u001b[39m\u001b[38;5;124m\"\u001b[39m) \u001b[38;5;28;01mfor\u001b[39;00m k, v \u001b[38;5;129;01min\u001b[39;00m data\u001b[38;5;241m.\u001b[39mdtypes\u001b[38;5;241m.\u001b[39mto_dict()\u001b[38;5;241m.\u001b[39mitems()})\n",
      "File \u001b[0;32m~/miniforge3/lib/python3.9/site-packages/modeldag/modeldag.py:324\u001b[0m, in \u001b[0;36mModelDAG.draw\u001b[0;34m(self, size, limit_to_entries, data, **kwargs)\u001b[0m\n\u001b[1;32m    300\u001b[0m \u001b[38;5;250m\u001b[39m\u001b[38;5;124;03m\"\"\" draw a random sampling of the parameters following\u001b[39;00m\n\u001b[1;32m    301\u001b[0m \u001b[38;5;124;03mthe model DAG\u001b[39;00m\n\u001b[1;32m    302\u001b[0m \n\u001b[0;32m   (...)\u001b[0m\n\u001b[1;32m    321\u001b[0m \u001b[38;5;124;03m    N=size lines and at least 1 column per model entry\u001b[39;00m\n\u001b[1;32m    322\u001b[0m \u001b[38;5;124;03m\"\"\"\u001b[39;00m\n\u001b[1;32m    323\u001b[0m model \u001b[38;5;241m=\u001b[39m \u001b[38;5;28mself\u001b[39m\u001b[38;5;241m.\u001b[39mget_model(\u001b[38;5;241m*\u001b[39m\u001b[38;5;241m*\u001b[39mkwargs)\n\u001b[0;32m--> 324\u001b[0m \u001b[38;5;28;01mreturn\u001b[39;00m \u001b[38;5;28;43mself\u001b[39;49m\u001b[38;5;241;43m.\u001b[39;49m\u001b[43m_draw\u001b[49m\u001b[43m(\u001b[49m\u001b[43mmodel\u001b[49m\u001b[43m,\u001b[49m\u001b[43m \u001b[49m\u001b[43msize\u001b[49m\u001b[38;5;241;43m=\u001b[39;49m\u001b[43msize\u001b[49m\u001b[43m,\u001b[49m\u001b[43m \u001b[49m\u001b[43mlimit_to_entries\u001b[49m\u001b[38;5;241;43m=\u001b[39;49m\u001b[43mlimit_to_entries\u001b[49m\u001b[43m,\u001b[49m\n\u001b[1;32m    325\u001b[0m \u001b[43m                      \u001b[49m\u001b[43mdata\u001b[49m\u001b[38;5;241;43m=\u001b[39;49m\u001b[43mdata\u001b[49m\u001b[43m)\u001b[49m\n",
      "File \u001b[0;32m~/miniforge3/lib/python3.9/site-packages/modeldag/modeldag.py:430\u001b[0m, in \u001b[0;36mModelDAG._draw\u001b[0;34m(self, model, size, limit_to_entries, data)\u001b[0m\n\u001b[1;32m    428\u001b[0m     \u001b[38;5;28;01mif\u001b[39;00m \u001b[38;5;28mtype\u001b[39m(v) \u001b[38;5;129;01mis\u001b[39;00m \u001b[38;5;28mstr\u001b[39m \u001b[38;5;129;01mand\u001b[39;00m \u001b[38;5;124m\"\u001b[39m\u001b[38;5;124m@\u001b[39m\u001b[38;5;124m\"\u001b[39m \u001b[38;5;129;01min\u001b[39;00m v:\n\u001b[1;32m    429\u001b[0m         key \u001b[38;5;241m=\u001b[39m v\u001b[38;5;241m.\u001b[39msplit(\u001b[38;5;124m\"\u001b[39m\u001b[38;5;124m@\u001b[39m\u001b[38;5;124m\"\u001b[39m)[\u001b[38;5;241m-\u001b[39m\u001b[38;5;241m1\u001b[39m]\u001b[38;5;241m.\u001b[39msplit(\u001b[38;5;124m\"\u001b[39m\u001b[38;5;124m \u001b[39m\u001b[38;5;124m\"\u001b[39m)[\u001b[38;5;241m0\u001b[39m]\n\u001b[0;32m--> 430\u001b[0m         inprop[k] \u001b[38;5;241m=\u001b[39m \u001b[43mdata\u001b[49m\u001b[43m[\u001b[49m\u001b[43mkey\u001b[49m\u001b[43m]\u001b[49m\u001b[38;5;241m.\u001b[39mvalues\n\u001b[1;32m    431\u001b[0m         params[\u001b[38;5;124m\"\u001b[39m\u001b[38;5;124msize\u001b[39m\u001b[38;5;124m\"\u001b[39m] \u001b[38;5;241m=\u001b[39m \u001b[38;5;28;01mNone\u001b[39;00m\n\u001b[1;32m    433\u001b[0m \u001b[38;5;66;03m# set the model ; this overwrite prop['model'] but that make sense.\u001b[39;00m\n",
      "File \u001b[0;32m~/miniforge3/lib/python3.9/site-packages/pandas/core/frame.py:3761\u001b[0m, in \u001b[0;36mDataFrame.__getitem__\u001b[0;34m(self, key)\u001b[0m\n\u001b[1;32m   3759\u001b[0m \u001b[38;5;28;01mif\u001b[39;00m \u001b[38;5;28mself\u001b[39m\u001b[38;5;241m.\u001b[39mcolumns\u001b[38;5;241m.\u001b[39mnlevels \u001b[38;5;241m>\u001b[39m \u001b[38;5;241m1\u001b[39m:\n\u001b[1;32m   3760\u001b[0m     \u001b[38;5;28;01mreturn\u001b[39;00m \u001b[38;5;28mself\u001b[39m\u001b[38;5;241m.\u001b[39m_getitem_multilevel(key)\n\u001b[0;32m-> 3761\u001b[0m indexer \u001b[38;5;241m=\u001b[39m \u001b[38;5;28;43mself\u001b[39;49m\u001b[38;5;241;43m.\u001b[39;49m\u001b[43mcolumns\u001b[49m\u001b[38;5;241;43m.\u001b[39;49m\u001b[43mget_loc\u001b[49m\u001b[43m(\u001b[49m\u001b[43mkey\u001b[49m\u001b[43m)\u001b[49m\n\u001b[1;32m   3762\u001b[0m \u001b[38;5;28;01mif\u001b[39;00m is_integer(indexer):\n\u001b[1;32m   3763\u001b[0m     indexer \u001b[38;5;241m=\u001b[39m [indexer]\n",
      "File \u001b[0;32m~/miniforge3/lib/python3.9/site-packages/pandas/core/indexes/base.py:3654\u001b[0m, in \u001b[0;36mIndex.get_loc\u001b[0;34m(self, key)\u001b[0m\n\u001b[1;32m   3652\u001b[0m     \u001b[38;5;28;01mreturn\u001b[39;00m \u001b[38;5;28mself\u001b[39m\u001b[38;5;241m.\u001b[39m_engine\u001b[38;5;241m.\u001b[39mget_loc(casted_key)\n\u001b[1;32m   3653\u001b[0m \u001b[38;5;28;01mexcept\u001b[39;00m \u001b[38;5;167;01mKeyError\u001b[39;00m \u001b[38;5;28;01mas\u001b[39;00m err:\n\u001b[0;32m-> 3654\u001b[0m     \u001b[38;5;28;01mraise\u001b[39;00m \u001b[38;5;167;01mKeyError\u001b[39;00m(key) \u001b[38;5;28;01mfrom\u001b[39;00m \u001b[38;5;21;01merr\u001b[39;00m\n\u001b[1;32m   3655\u001b[0m \u001b[38;5;28;01mexcept\u001b[39;00m \u001b[38;5;167;01mTypeError\u001b[39;00m:\n\u001b[1;32m   3656\u001b[0m     \u001b[38;5;66;03m# If we have a listlike key, _check_indexing_error will raise\u001b[39;00m\n\u001b[1;32m   3657\u001b[0m     \u001b[38;5;66;03m#  InvalidIndexError. Otherwise we fall through and re-raise\u001b[39;00m\n\u001b[1;32m   3658\u001b[0m     \u001b[38;5;66;03m#  the TypeError.\u001b[39;00m\n\u001b[1;32m   3659\u001b[0m     \u001b[38;5;28mself\u001b[39m\u001b[38;5;241m.\u001b[39m_check_indexing_error(key)\n",
      "\u001b[0;31mKeyError\u001b[0m: 'beta'"
     ]
    }
   ],
   "source": [
    "_ = snia.draw(1_000, model=random_beta_model)"
   ]
  },
  {
   "cell_type": "markdown",
   "id": "76d7c5c2",
   "metadata": {},
   "source": [
    "**To do that, change the whole model, using `sn.set_model()`**"
   ]
  },
  {
   "cell_type": "markdown",
   "id": "52599688",
   "metadata": {},
   "source": [
    "For example, this two steps update works\n",
    "\n",
    "1. update the model"
   ]
  },
  {
   "cell_type": "code",
   "execution_count": 20,
   "id": "b87341da",
   "metadata": {},
   "outputs": [
    {
     "data": {
      "text/plain": [
       "{'redshift': {'kwargs': {'zmax': 0.2}, 'as': 'z'},\n",
       " 'x1': {'func': <function skysurvey.target.snia.SNeIaStretch.nicolas2021(xx='-4:4:0.005', mu1=0.33, sigma1=0.64, mu2=-1.5, sigma2=0.58, a=0.45, fprompt=0.5, redshift=None)>},\n",
       " 'c': {'func': <function skysurvey.target.snia.SNeIaColor.intrinsic_and_dust(xx='-0.3:1:0.001', cint=-0.05, sigmaint=0.05, tau=0.1)>},\n",
       " 't0': {'func': <function RandomState.uniform>,\n",
       "  'kwargs': {'low': 56000, 'high': 56200}},\n",
       " 'magabs': {'func': <function skysurvey.target.snia.SNeIaMagnitude.tripp1998(x1, c, mabs=-19.3, sigmaint=0.1, alpha=-0.14, beta=3.15)>,\n",
       "  'kwargs': {'x1': '@x1', 'c': '@c', 'beta': '@beta'}},\n",
       " 'magobs': {'func': 'magabs_to_magobs',\n",
       "  'kwargs': {'z': '@z', 'magabs': '@magabs'}},\n",
       " 'x0': {'func': 'magobs_to_amplitude',\n",
       "  'kwargs': {'magobs': '@magobs', 'param_name': 'x0'}},\n",
       " 'radec': {'func': <function skysurvey.tools.utils.random_radec(size=None, skyarea=None, ra_range=[0, 360], dec_range=[-90, 90])>,\n",
       "  'kwargs': {},\n",
       "  'as': ['ra', 'dec']},\n",
       " 'beta': {'func': <function RandomState.normal>,\n",
       "  'kwargs': {'loc': 3.5, 'scale': 0.1}}}"
      ]
     },
     "execution_count": 20,
     "metadata": {},
     "output_type": "execute_result"
    }
   ],
   "source": [
    "from pprint import pprint\n",
    "new_model = {**snia.get_model(), **random_beta_model}\n",
    "new_model"
   ]
  },
  {
   "cell_type": "markdown",
   "id": "e28d6684",
   "metadata": {},
   "source": [
    "**The problem here that `beta` is after `magabs`**\n",
    "\n",
    "so \n",
    "\n",
    "2. let's change the entry order"
   ]
  },
  {
   "cell_type": "code",
   "execution_count": 25,
   "id": "9d85d628",
   "metadata": {},
   "outputs": [
    {
     "data": {
      "text/plain": [
       "{'redshift': {'kwargs': {'zmax': 0.2}, 'as': 'z'},\n",
       " 't0': {'func': <function RandomState.uniform>,\n",
       "  'kwargs': {'low': 56000, 'high': 56200}},\n",
       " 'x1': {'func': <function skysurvey.target.snia.SNeIaStretch.nicolas2021(xx='-4:4:0.005', mu1=0.33, sigma1=0.64, mu2=-1.5, sigma2=0.58, a=0.45, fprompt=0.5, redshift=None)>},\n",
       " 'c': {'func': <function skysurvey.target.snia.SNeIaColor.intrinsic_and_dust(xx='-0.3:1:0.001', cint=-0.05, sigmaint=0.05, tau=0.1)>},\n",
       " 'beta': {'func': <function RandomState.normal>,\n",
       "  'kwargs': {'loc': 3.5, 'scale': 0.1}},\n",
       " 'magabs': {'func': <function skysurvey.target.snia.SNeIaMagnitude.tripp1998(x1, c, mabs=-19.3, sigmaint=0.1, alpha=-0.14, beta=3.15)>,\n",
       "  'kwargs': {'x1': '@x1', 'c': '@c', 'beta': '@beta'}},\n",
       " 'magobs': {'func': 'magabs_to_magobs',\n",
       "  'kwargs': {'z': '@z', 'magabs': '@magabs'}},\n",
       " 'radec': {'func': <function skysurvey.tools.utils.random_radec(size=None, skyarea=None, ra_range=[0, 360], dec_range=[-90, 90])>,\n",
       "  'kwargs': {},\n",
       "  'as': ['ra', 'dec']}}"
      ]
     },
     "execution_count": 25,
     "metadata": {},
     "output_type": "execute_result"
    }
   ],
   "source": [
    "new_order_entry = [\"redshift\", \"t0\",\"x1\",\"c\", \"beta\", \"magabs\", \"magobs\", \"radec\"]\n",
    "good_order_model = {k:new_model[k] for k in new_order_entry}\n",
    "good_order_model"
   ]
  },
  {
   "cell_type": "markdown",
   "id": "438ef5f7",
   "metadata": {},
   "source": [
    "and let's change the model as such"
   ]
  },
  {
   "cell_type": "code",
   "execution_count": 26,
   "id": "66c13060",
   "metadata": {},
   "outputs": [],
   "source": [
    "snia.set_model(good_order_model) # this overwrite the whole model, use update_model to only change one entry"
   ]
  },
  {
   "cell_type": "code",
   "execution_count": 28,
   "id": "bfaa208b",
   "metadata": {},
   "outputs": [
    {
     "data": {
      "text/html": [
       "<div>\n",
       "<style scoped>\n",
       "    .dataframe tbody tr th:only-of-type {\n",
       "        vertical-align: middle;\n",
       "    }\n",
       "\n",
       "    .dataframe tbody tr th {\n",
       "        vertical-align: top;\n",
       "    }\n",
       "\n",
       "    .dataframe thead th {\n",
       "        text-align: right;\n",
       "    }\n",
       "</style>\n",
       "<table border=\"1\" class=\"dataframe\">\n",
       "  <thead>\n",
       "    <tr style=\"text-align: right;\">\n",
       "      <th></th>\n",
       "      <th>z</th>\n",
       "      <th>t0</th>\n",
       "      <th>x1</th>\n",
       "      <th>c</th>\n",
       "      <th>beta</th>\n",
       "      <th>magabs</th>\n",
       "      <th>magobs</th>\n",
       "      <th>ra</th>\n",
       "      <th>dec</th>\n",
       "    </tr>\n",
       "  </thead>\n",
       "  <tbody>\n",
       "    <tr>\n",
       "      <th>0</th>\n",
       "      <td>0.1985</td>\n",
       "      <td>56140.660693</td>\n",
       "      <td>-1.785</td>\n",
       "      <td>0.082</td>\n",
       "      <td>3.571039</td>\n",
       "      <td>-18.731823</td>\n",
       "      <td>21.276484</td>\n",
       "      <td>254.556142</td>\n",
       "      <td>63.549139</td>\n",
       "    </tr>\n",
       "    <tr>\n",
       "      <th>1</th>\n",
       "      <td>0.1515</td>\n",
       "      <td>56105.821699</td>\n",
       "      <td>0.990</td>\n",
       "      <td>0.018</td>\n",
       "      <td>3.339867</td>\n",
       "      <td>-19.272846</td>\n",
       "      <td>20.087870</td>\n",
       "      <td>179.827768</td>\n",
       "      <td>-52.060241</td>\n",
       "    </tr>\n",
       "    <tr>\n",
       "      <th>2</th>\n",
       "      <td>0.1935</td>\n",
       "      <td>56098.556128</td>\n",
       "      <td>1.595</td>\n",
       "      <td>-0.114</td>\n",
       "      <td>3.380784</td>\n",
       "      <td>-19.884403</td>\n",
       "      <td>20.062218</td>\n",
       "      <td>94.350955</td>\n",
       "      <td>56.477604</td>\n",
       "    </tr>\n",
       "    <tr>\n",
       "      <th>3</th>\n",
       "      <td>0.0945</td>\n",
       "      <td>56040.359785</td>\n",
       "      <td>0.490</td>\n",
       "      <td>0.037</td>\n",
       "      <td>3.351074</td>\n",
       "      <td>-19.271783</td>\n",
       "      <td>18.984658</td>\n",
       "      <td>21.044348</td>\n",
       "      <td>29.985743</td>\n",
       "    </tr>\n",
       "    <tr>\n",
       "      <th>4</th>\n",
       "      <td>0.1175</td>\n",
       "      <td>56049.750106</td>\n",
       "      <td>0.985</td>\n",
       "      <td>0.037</td>\n",
       "      <td>3.522649</td>\n",
       "      <td>-19.266887</td>\n",
       "      <td>19.495384</td>\n",
       "      <td>231.466217</td>\n",
       "      <td>51.874937</td>\n",
       "    </tr>\n",
       "    <tr>\n",
       "      <th>...</th>\n",
       "      <td>...</td>\n",
       "      <td>...</td>\n",
       "      <td>...</td>\n",
       "      <td>...</td>\n",
       "      <td>...</td>\n",
       "      <td>...</td>\n",
       "      <td>...</td>\n",
       "      <td>...</td>\n",
       "      <td>...</td>\n",
       "    </tr>\n",
       "    <tr>\n",
       "      <th>995</th>\n",
       "      <td>0.0975</td>\n",
       "      <td>56123.756739</td>\n",
       "      <td>0.260</td>\n",
       "      <td>0.003</td>\n",
       "      <td>3.371597</td>\n",
       "      <td>-19.408330</td>\n",
       "      <td>18.920315</td>\n",
       "      <td>141.169291</td>\n",
       "      <td>-30.503641</td>\n",
       "    </tr>\n",
       "    <tr>\n",
       "      <th>996</th>\n",
       "      <td>0.1965</td>\n",
       "      <td>56166.634653</td>\n",
       "      <td>0.245</td>\n",
       "      <td>0.081</td>\n",
       "      <td>3.611956</td>\n",
       "      <td>-19.051809</td>\n",
       "      <td>20.931998</td>\n",
       "      <td>135.009314</td>\n",
       "      <td>31.284049</td>\n",
       "    </tr>\n",
       "    <tr>\n",
       "      <th>997</th>\n",
       "      <td>0.1105</td>\n",
       "      <td>56142.081683</td>\n",
       "      <td>-0.020</td>\n",
       "      <td>0.174</td>\n",
       "      <td>3.566042</td>\n",
       "      <td>-18.754513</td>\n",
       "      <td>19.864511</td>\n",
       "      <td>53.913440</td>\n",
       "      <td>-37.079336</td>\n",
       "    </tr>\n",
       "    <tr>\n",
       "      <th>998</th>\n",
       "      <td>0.1385</td>\n",
       "      <td>56089.443525</td>\n",
       "      <td>0.615</td>\n",
       "      <td>-0.040</td>\n",
       "      <td>3.444480</td>\n",
       "      <td>-19.578625</td>\n",
       "      <td>19.569732</td>\n",
       "      <td>251.727729</td>\n",
       "      <td>-39.007539</td>\n",
       "    </tr>\n",
       "    <tr>\n",
       "      <th>999</th>\n",
       "      <td>0.1655</td>\n",
       "      <td>56039.002770</td>\n",
       "      <td>-1.095</td>\n",
       "      <td>0.071</td>\n",
       "      <td>3.574024</td>\n",
       "      <td>-18.871557</td>\n",
       "      <td>20.699627</td>\n",
       "      <td>296.473901</td>\n",
       "      <td>-58.051118</td>\n",
       "    </tr>\n",
       "  </tbody>\n",
       "</table>\n",
       "<p>1000 rows × 9 columns</p>\n",
       "</div>"
      ],
      "text/plain": [
       "          z            t0     x1      c      beta     magabs     magobs  \\\n",
       "0    0.1985  56140.660693 -1.785  0.082  3.571039 -18.731823  21.276484   \n",
       "1    0.1515  56105.821699  0.990  0.018  3.339867 -19.272846  20.087870   \n",
       "2    0.1935  56098.556128  1.595 -0.114  3.380784 -19.884403  20.062218   \n",
       "3    0.0945  56040.359785  0.490  0.037  3.351074 -19.271783  18.984658   \n",
       "4    0.1175  56049.750106  0.985  0.037  3.522649 -19.266887  19.495384   \n",
       "..      ...           ...    ...    ...       ...        ...        ...   \n",
       "995  0.0975  56123.756739  0.260  0.003  3.371597 -19.408330  18.920315   \n",
       "996  0.1965  56166.634653  0.245  0.081  3.611956 -19.051809  20.931998   \n",
       "997  0.1105  56142.081683 -0.020  0.174  3.566042 -18.754513  19.864511   \n",
       "998  0.1385  56089.443525  0.615 -0.040  3.444480 -19.578625  19.569732   \n",
       "999  0.1655  56039.002770 -1.095  0.071  3.574024 -18.871557  20.699627   \n",
       "\n",
       "             ra        dec  \n",
       "0    254.556142  63.549139  \n",
       "1    179.827768 -52.060241  \n",
       "2     94.350955  56.477604  \n",
       "3     21.044348  29.985743  \n",
       "4    231.466217  51.874937  \n",
       "..          ...        ...  \n",
       "995  141.169291 -30.503641  \n",
       "996  135.009314  31.284049  \n",
       "997   53.913440 -37.079336  \n",
       "998  251.727729 -39.007539  \n",
       "999  296.473901 -58.051118  \n",
       "\n",
       "[1000 rows x 9 columns]"
      ]
     },
     "execution_count": 28,
     "metadata": {},
     "output_type": "execute_result"
    }
   ],
   "source": [
    "data = snia.draw(1_000)\n",
    "data"
   ]
  },
  {
   "cell_type": "markdown",
   "id": "e1b3324b",
   "metadata": {},
   "source": [
    "The best may actually be here to create a new Transient."
   ]
  }
 ],
 "metadata": {
  "kernelspec": {
   "display_name": "Python 3 (ipykernel)",
   "language": "python",
   "name": "python3"
  },
  "language_info": {
   "codemirror_mode": {
    "name": "ipython",
    "version": 3
   },
   "file_extension": ".py",
   "mimetype": "text/x-python",
   "name": "python",
   "nbconvert_exporter": "python",
   "pygments_lexer": "ipython3",
   "version": "3.9.16"
  }
 },
 "nbformat": 4,
 "nbformat_minor": 5
}
