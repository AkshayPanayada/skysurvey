{
 "cells": [
  {
   "cell_type": "markdown",
   "id": "1ccb29b8",
   "metadata": {},
   "source": [
    "# Update/change an existing target\n",
    "\n",
    "Sometime, you don't want to use exactly the pre-defined target as it is given. You may want to change the model function parameters (the `kwargs`) or even the function (the `func`) used to draw a given target. \n",
    "\n",
    "You can do that while calling `draw()`, `from_draw()` or simply using `update_model()`. \n",
    "\n",
    "Let's see the difference."
   ]
  },
  {
   "cell_type": "markdown",
   "id": "952c6e49",
   "metadata": {},
   "source": [
    "***\n",
    "## Changing model entry's parameters\n",
    "\n",
    "This is the simplest and the most commun usage. You want to change the `func` parameters of a given model. You can do that using the `**kwargs` of `draw()` (`from_draw()`) method. \n",
    "\n",
    "for instance, let's change the **alpha** and **beta** parameters of the SNeIa model. **alpha** and **beta** are parameters of the magabs model (see, `skysurvey.target.snia.SNeIaMagnitude.tripp1998`):"
   ]
  },
  {
   "cell_type": "code",
   "execution_count": 1,
   "id": "e4bde080",
   "metadata": {},
   "outputs": [
    {
     "data": {
      "text/html": [
       "<div>\n",
       "<style scoped>\n",
       "    .dataframe tbody tr th:only-of-type {\n",
       "        vertical-align: middle;\n",
       "    }\n",
       "\n",
       "    .dataframe tbody tr th {\n",
       "        vertical-align: top;\n",
       "    }\n",
       "\n",
       "    .dataframe thead th {\n",
       "        text-align: right;\n",
       "    }\n",
       "</style>\n",
       "<table border=\"1\" class=\"dataframe\">\n",
       "  <thead>\n",
       "    <tr style=\"text-align: right;\">\n",
       "      <th></th>\n",
       "      <th>z</th>\n",
       "      <th>x1</th>\n",
       "      <th>c</th>\n",
       "      <th>t0</th>\n",
       "      <th>magabs</th>\n",
       "      <th>magobs</th>\n",
       "      <th>x0</th>\n",
       "      <th>ra</th>\n",
       "      <th>dec</th>\n",
       "      <th>template</th>\n",
       "    </tr>\n",
       "  </thead>\n",
       "  <tbody>\n",
       "    <tr>\n",
       "      <th>0</th>\n",
       "      <td>0.1325</td>\n",
       "      <td>0.090</td>\n",
       "      <td>0.037</td>\n",
       "      <td>56131.175781</td>\n",
       "      <td>-19.097757</td>\n",
       "      <td>19.946224</td>\n",
       "      <td>0.000167</td>\n",
       "      <td>108.411896</td>\n",
       "      <td>50.401718</td>\n",
       "      <td>salt2</td>\n",
       "    </tr>\n",
       "    <tr>\n",
       "      <th>1</th>\n",
       "      <td>0.1615</td>\n",
       "      <td>-0.725</td>\n",
       "      <td>0.040</td>\n",
       "      <td>56150.039062</td>\n",
       "      <td>-19.057224</td>\n",
       "      <td>20.455572</td>\n",
       "      <td>0.000104</td>\n",
       "      <td>116.750946</td>\n",
       "      <td>26.500448</td>\n",
       "      <td>salt2</td>\n",
       "    </tr>\n",
       "    <tr>\n",
       "      <th>2</th>\n",
       "      <td>0.1735</td>\n",
       "      <td>-0.620</td>\n",
       "      <td>0.204</td>\n",
       "      <td>56162.152344</td>\n",
       "      <td>-18.386381</td>\n",
       "      <td>21.297745</td>\n",
       "      <td>0.000048</td>\n",
       "      <td>264.678986</td>\n",
       "      <td>-35.023483</td>\n",
       "      <td>salt2</td>\n",
       "    </tr>\n",
       "    <tr>\n",
       "      <th>3</th>\n",
       "      <td>0.1515</td>\n",
       "      <td>0.340</td>\n",
       "      <td>-0.002</td>\n",
       "      <td>56087.441406</td>\n",
       "      <td>-19.240986</td>\n",
       "      <td>20.119730</td>\n",
       "      <td>0.000142</td>\n",
       "      <td>233.167725</td>\n",
       "      <td>15.450485</td>\n",
       "      <td>salt2</td>\n",
       "    </tr>\n",
       "    <tr>\n",
       "      <th>4</th>\n",
       "      <td>0.1815</td>\n",
       "      <td>-0.440</td>\n",
       "      <td>0.195</td>\n",
       "      <td>56027.406250</td>\n",
       "      <td>-18.636923</td>\n",
       "      <td>21.155407</td>\n",
       "      <td>0.000055</td>\n",
       "      <td>282.316711</td>\n",
       "      <td>80.363380</td>\n",
       "      <td>salt2</td>\n",
       "    </tr>\n",
       "    <tr>\n",
       "      <th>...</th>\n",
       "      <td>...</td>\n",
       "      <td>...</td>\n",
       "      <td>...</td>\n",
       "      <td>...</td>\n",
       "      <td>...</td>\n",
       "      <td>...</td>\n",
       "      <td>...</td>\n",
       "      <td>...</td>\n",
       "      <td>...</td>\n",
       "      <td>...</td>\n",
       "    </tr>\n",
       "    <tr>\n",
       "      <th>995</th>\n",
       "      <td>0.1735</td>\n",
       "      <td>-0.545</td>\n",
       "      <td>0.172</td>\n",
       "      <td>56026.535156</td>\n",
       "      <td>-18.644131</td>\n",
       "      <td>21.039995</td>\n",
       "      <td>0.000061</td>\n",
       "      <td>182.266571</td>\n",
       "      <td>-7.816083</td>\n",
       "      <td>salt2</td>\n",
       "    </tr>\n",
       "    <tr>\n",
       "      <th>996</th>\n",
       "      <td>0.1475</td>\n",
       "      <td>-0.900</td>\n",
       "      <td>-0.028</td>\n",
       "      <td>56038.398438</td>\n",
       "      <td>-19.179735</td>\n",
       "      <td>20.117514</td>\n",
       "      <td>0.000142</td>\n",
       "      <td>200.803375</td>\n",
       "      <td>-62.042667</td>\n",
       "      <td>salt2</td>\n",
       "    </tr>\n",
       "    <tr>\n",
       "      <th>997</th>\n",
       "      <td>0.1405</td>\n",
       "      <td>0.585</td>\n",
       "      <td>0.109</td>\n",
       "      <td>56031.257812</td>\n",
       "      <td>-19.018888</td>\n",
       "      <td>20.163321</td>\n",
       "      <td>0.000137</td>\n",
       "      <td>20.879925</td>\n",
       "      <td>6.125438</td>\n",
       "      <td>salt2</td>\n",
       "    </tr>\n",
       "    <tr>\n",
       "      <th>998</th>\n",
       "      <td>0.1785</td>\n",
       "      <td>1.480</td>\n",
       "      <td>-0.094</td>\n",
       "      <td>56079.078125</td>\n",
       "      <td>-19.868958</td>\n",
       "      <td>19.883324</td>\n",
       "      <td>0.000177</td>\n",
       "      <td>162.705109</td>\n",
       "      <td>-26.562500</td>\n",
       "      <td>salt2</td>\n",
       "    </tr>\n",
       "    <tr>\n",
       "      <th>999</th>\n",
       "      <td>0.1935</td>\n",
       "      <td>0.395</td>\n",
       "      <td>0.041</td>\n",
       "      <td>56112.511719</td>\n",
       "      <td>-19.319052</td>\n",
       "      <td>20.627569</td>\n",
       "      <td>0.000089</td>\n",
       "      <td>328.011108</td>\n",
       "      <td>0.762652</td>\n",
       "      <td>salt2</td>\n",
       "    </tr>\n",
       "  </tbody>\n",
       "</table>\n",
       "<p>1000 rows × 10 columns</p>\n",
       "</div>"
      ],
      "text/plain": [
       "          z     x1      c            t0     magabs     magobs        x0  \\\n",
       "0    0.1325  0.090  0.037  56131.175781 -19.097757  19.946224  0.000167   \n",
       "1    0.1615 -0.725  0.040  56150.039062 -19.057224  20.455572  0.000104   \n",
       "2    0.1735 -0.620  0.204  56162.152344 -18.386381  21.297745  0.000048   \n",
       "3    0.1515  0.340 -0.002  56087.441406 -19.240986  20.119730  0.000142   \n",
       "4    0.1815 -0.440  0.195  56027.406250 -18.636923  21.155407  0.000055   \n",
       "..      ...    ...    ...           ...        ...        ...       ...   \n",
       "995  0.1735 -0.545  0.172  56026.535156 -18.644131  21.039995  0.000061   \n",
       "996  0.1475 -0.900 -0.028  56038.398438 -19.179735  20.117514  0.000142   \n",
       "997  0.1405  0.585  0.109  56031.257812 -19.018888  20.163321  0.000137   \n",
       "998  0.1785  1.480 -0.094  56079.078125 -19.868958  19.883324  0.000177   \n",
       "999  0.1935  0.395  0.041  56112.511719 -19.319052  20.627569  0.000089   \n",
       "\n",
       "             ra        dec template  \n",
       "0    108.411896  50.401718    salt2  \n",
       "1    116.750946  26.500448    salt2  \n",
       "2    264.678986 -35.023483    salt2  \n",
       "3    233.167725  15.450485    salt2  \n",
       "4    282.316711  80.363380    salt2  \n",
       "..          ...        ...      ...  \n",
       "995  182.266571  -7.816083    salt2  \n",
       "996  200.803375 -62.042667    salt2  \n",
       "997   20.879925   6.125438    salt2  \n",
       "998  162.705109 -26.562500    salt2  \n",
       "999  328.011108   0.762652    salt2  \n",
       "\n",
       "[1000 rows x 10 columns]"
      ]
     },
     "execution_count": 1,
     "metadata": {},
     "output_type": "execute_result"
    }
   ],
   "source": [
    "import skysurvey\n",
    "\n",
    "snia = skysurvey.SNeIa.from_draw(size=1_000, \n",
    "                                 magabs={\"alpha\":-0.15, \"beta\":3.8} # kwargs here\n",
    "                                )\n",
    "snia.data"
   ]
  },
  {
   "cell_type": "markdown",
   "id": "8dd25aa4",
   "metadata": {},
   "source": [
    "Any kwargs change like that is not affecting the actual object model, but simply updates it while drawing the data. \n",
    "\n",
    "so the model itself is not changed."
   ]
  },
  {
   "cell_type": "code",
   "execution_count": 2,
   "id": "1eb3c5e8",
   "metadata": {},
   "outputs": [
    {
     "data": {
      "text/plain": [
       "{'redshift': {'kwargs': {'zmax': 0.2}, 'as': 'z'},\n",
       " 'x1': {'func': <function SNeIaStretch.nicolas2021 at 0x294a161f0>},\n",
       " 'c': {'func': <function SNeIaColor.intrinsic_and_dust at 0x294a16160>},\n",
       " 't0': {'func': <built-in method uniform of numpy.random.mtrand.RandomState object at 0x1063e1640>,\n",
       "        'kwargs': {'low': 56000, 'high': 56200}},\n",
       " 'magabs': {'func': <function SNeIaMagnitude.tripp1998 at 0x294a16280>,\n",
       "            'kwargs': {'x1': '@x1', 'c': '@c', 'mabs': -19.3, 'sigmaint': 0.1}},\n",
       " 'magobs': {'func': 'magabs_to_magobs',\n",
       "            'kwargs': {'z': '@z', 'magabs': '@magabs'}},\n",
       " 'x0': {'func': 'magobs_to_amplitude',\n",
       "        'kwargs': {'magobs': '@magobs', 'param_name': 'x0'}},\n",
       " 'radec': {'func': <function random_radec at 0x16c714160>,\n",
       "           'kwargs': {},\n",
       "           'as': ['ra', 'dec']}}"
      ]
     },
     "execution_count": 2,
     "metadata": {},
     "output_type": "execute_result"
    }
   ],
   "source": [
    "snia.model"
   ]
  },
  {
   "cell_type": "markdown",
   "id": "fe6e1ab6",
   "metadata": {},
   "source": [
    "**consequently, drawing again from the model will not be affected by this update**"
   ]
  },
  {
   "cell_type": "markdown",
   "id": "7b173464",
   "metadata": {},
   "source": [
    "### update the instance model entry parameter\n",
    "\n",
    "To permanently change the model of the instance, you need to use ``self.update_model_parameter()``"
   ]
  },
  {
   "cell_type": "code",
   "execution_count": 3,
   "id": "6ae022fb",
   "metadata": {},
   "outputs": [
    {
     "data": {
      "text/plain": [
       "{'redshift': {'kwargs': {'zmax': 0.2}, 'as': 'z'},\n",
       " 'x1': {'func': <function SNeIaStretch.nicolas2021 at 0x294a161f0>},\n",
       " 'c': {'func': <function SNeIaColor.intrinsic_and_dust at 0x294a16160>},\n",
       " 't0': {'func': <built-in method uniform of numpy.random.mtrand.RandomState object at 0x1063e1640>,\n",
       "        'kwargs': {'low': 56000, 'high': 56200}},\n",
       " 'magabs': {'func': <function SNeIaMagnitude.tripp1998 at 0x294a16280>,\n",
       "            'kwargs': {'x1': '@x1',\n",
       "                       'c': '@c',\n",
       "                       'mabs': -19.3,\n",
       "                       'sigmaint': 0.1,\n",
       "                       'alpha': -0.15,\n",
       "                       'beta': 3.8}},\n",
       " 'magobs': {'func': 'magabs_to_magobs',\n",
       "            'kwargs': {'z': '@z', 'magabs': '@magabs'}},\n",
       " 'x0': {'func': 'magobs_to_amplitude',\n",
       "        'kwargs': {'magobs': '@magobs', 'param_name': 'x0'}},\n",
       " 'radec': {'func': <function random_radec at 0x16c714160>,\n",
       "           'kwargs': {},\n",
       "           'as': ['ra', 'dec']}}"
      ]
     },
     "execution_count": 3,
     "metadata": {},
     "output_type": "execute_result"
    }
   ],
   "source": [
    "snia.update_model_parameter(magabs={\"alpha\":-0.15, \"beta\":3.8} )\n",
    "snia.model"
   ]
  },
  {
   "cell_type": "markdown",
   "id": "8f57eadd",
   "metadata": {},
   "source": [
    "***\n",
    "## Changing model entry's (func and kwargs)\n",
    "\n",
    "changing the entry's func (and its parameters) changes the model more in depts. To do that, you can use:\n",
    "- the **model** option in `draw()`: this will update the model used to draw but will not affect the actual instance's model\n",
    "- the **model** option in `from_draw()`: this changes the model while creating the instance, it is thus permanent \n",
    "- the `update_model()` method: this is permanent (it is what `from_draw()` uses).\n",
    "\n",
    "For instance, let's say that the snia \"c\" parameter should not be drawn following a uniform distribution between -1 and +3. You need to redifined how c is modelled:"
   ]
  },
  {
   "cell_type": "code",
   "execution_count": 4,
   "id": "f3ea54e1",
   "metadata": {},
   "outputs": [],
   "source": [
    "import numpy as np\n",
    "model_c = {\"c\": {\"func\": np.random.uniform, \"kwargs\": {\"low\":-1, \"high\":+3}}}"
   ]
  },
  {
   "cell_type": "code",
   "execution_count": 5,
   "id": "31941aa2",
   "metadata": {},
   "outputs": [],
   "source": [
    "snia = skysurvey.SNeIa.from_draw(size=1_000, \n",
    "                                 model=model_c\n",
    "                                )\n"
   ]
  },
  {
   "cell_type": "code",
   "execution_count": 20,
   "id": "30592009",
   "metadata": {},
   "outputs": [
    {
     "data": {
      "text/plain": [
       "<Axes: ylabel='Frequency'>"
      ]
     },
     "execution_count": 20,
     "metadata": {},
     "output_type": "execute_result"
    },
    {
     "data": {
      "image/png": "[encoded data removed]",
      "text/plain": [
       "<Figure size 432x288 with 1 Axes>"
      ]
     },
     "metadata": {
      "needs_background": "light"
     },
     "output_type": "display_data"
    }
   ],
   "source": [
    "snia.data[\"c\"].plot.hist()"
   ]
  },
  {
   "cell_type": "markdown",
   "id": "31bef94f",
   "metadata": {},
   "source": [
    "so here, the change is permanent:"
   ]
  },
  {
   "cell_type": "code",
   "execution_count": 9,
   "id": "e105012a",
   "metadata": {},
   "outputs": [
    {
     "data": {
      "text/plain": [
       "{'redshift': {'kwargs': {'zmax': 0.2}, 'as': 'z'},\n",
       " 'x1': {'func': <function SNeIaStretch.nicolas2021 at 0x294a161f0>},\n",
       " 'c': {'func': <built-in method uniform of numpy.random.mtrand.RandomState object at 0x1063e1640>,\n",
       "       'kwargs': {'low': -1, 'high': 3}},\n",
       " 't0': {'func': <built-in method uniform of numpy.random.mtrand.RandomState object at 0x1063e1640>,\n",
       "        'kwargs': {'low': 56000, 'high': 56200}},\n",
       " 'magabs': {'func': <function SNeIaMagnitude.tripp1998 at 0x294a16280>,\n",
       "            'kwargs': {'x1': '@x1', 'c': '@c', 'mabs': -19.3, 'sigmaint': 0.1}},\n",
       " 'magobs': {'func': 'magabs_to_magobs',\n",
       "            'kwargs': {'z': '@z', 'magabs': '@magabs'}},\n",
       " 'x0': {'func': 'magobs_to_amplitude',\n",
       "        'kwargs': {'magobs': '@magobs', 'param_name': 'x0'}},\n",
       " 'radec': {'func': <function random_radec at 0x16c714160>,\n",
       "           'kwargs': {},\n",
       "           'as': ['ra', 'dec']}}"
      ]
     },
     "execution_count": 9,
     "metadata": {},
     "output_type": "execute_result"
    }
   ],
   "source": [
    "snia.model # check-out the c-entry"
   ]
  },
  {
   "cell_type": "markdown",
   "id": "c3da21e8",
   "metadata": {},
   "source": [
    "But if we now draw again, changing, say x1 as a uniform distribution too"
   ]
  },
  {
   "cell_type": "code",
   "execution_count": 18,
   "id": "3bba4dd0",
   "metadata": {},
   "outputs": [
    {
     "data": {
      "text/plain": [
       "<Axes: ylabel='Frequency'>"
      ]
     },
     "execution_count": 18,
     "metadata": {},
     "output_type": "execute_result"
    },
    {
     "data": {
      "image/png": "[encoded data removed]",
      "text/plain": [
       "<Figure size 432x288 with 1 Axes>"
      ]
     },
     "metadata": {
      "needs_background": "light"
     },
     "output_type": "display_data"
    }
   ],
   "source": [
    "model_x1 = {\"x1\": {\"func\": np.random.uniform, \"kwargs\": {\"low\":-3, \"high\":+3}}}\n",
    "data_x1flat = snia.draw(size=1000, model=model_x1)\n",
    "data_x1flat[\"x1\"].plot.hist()"
   ]
  },
  {
   "cell_type": "markdown",
   "id": "5bfa933c",
   "metadata": {},
   "source": [
    "but if we do it again without:"
   ]
  },
  {
   "cell_type": "code",
   "execution_count": 19,
   "id": "ce99c321",
   "metadata": {},
   "outputs": [
    {
     "data": {
      "text/plain": [
       "<Axes: ylabel='Frequency'>"
      ]
     },
     "execution_count": 19,
     "metadata": {},
     "output_type": "execute_result"
    },
    {
     "data": {
      "image/png": "[encoded data removed]",
      "text/plain": [
       "<Figure size 432x288 with 1 Axes>"
      ]
     },
     "metadata": {
      "needs_background": "light"
     },
     "output_type": "display_data"
    }
   ],
   "source": [
    "\n",
    "data_x1flat = snia.draw(size=1000)#, model=model_x1)\n",
    "data_x1flat[\"x1\"].plot.hist()"
   ]
  },
  {
   "cell_type": "markdown",
   "id": "a94f40bc",
   "metadata": {},
   "source": [
    "while \"c\" still is flat"
   ]
  },
  {
   "cell_type": "code",
   "execution_count": 21,
   "id": "c74c4722",
   "metadata": {},
   "outputs": [
    {
     "data": {
      "text/plain": [
       "<Axes: ylabel='Frequency'>"
      ]
     },
     "execution_count": 21,
     "metadata": {},
     "output_type": "execute_result"
    },
    {
     "data": {
      "image/png": "[encoded data removed]",
      "text/plain": [
       "<Figure size 432x288 with 1 Axes>"
      ]
     },
     "metadata": {
      "needs_background": "light"
     },
     "output_type": "display_data"
    }
   ],
   "source": [
    "\n",
    "data_x1flat = snia.draw(size=1000)#, model=model_x1)\n",
    "data_x1flat[\"c\"].plot.hist()"
   ]
  },
  {
   "cell_type": "markdown",
   "id": "0d31bd32",
   "metadata": {},
   "source": [
    "### update_model\n",
    "\n",
    "you can directly change (permanently) the model using update_model"
   ]
  },
  {
   "cell_type": "code",
   "execution_count": 22,
   "id": "3c96e9f6",
   "metadata": {},
   "outputs": [],
   "source": [
    "flat_model = {\"c\": {\"func\": np.random.uniform, \"kwargs\": {\"low\":-0.1, \"high\":+1}},\n",
    "              \"x1\": {\"func\": np.random.uniform, \"kwargs\": {\"low\":-3, \"high\":+3}}\n",
    "             }\n",
    "\n",
    "snia = skysurvey.SNeIa()\n",
    "snia.update_model(**flat_model)\n",
    "data = snia.draw(1_000)"
   ]
  },
  {
   "cell_type": "code",
   "execution_count": 23,
   "id": "bf8a1ee3",
   "metadata": {},
   "outputs": [
    {
     "data": {
      "text/html": [
       "<div>\n",
       "<style scoped>\n",
       "    .dataframe tbody tr th:only-of-type {\n",
       "        vertical-align: middle;\n",
       "    }\n",
       "\n",
       "    .dataframe tbody tr th {\n",
       "        vertical-align: top;\n",
       "    }\n",
       "\n",
       "    .dataframe thead th {\n",
       "        text-align: right;\n",
       "    }\n",
       "</style>\n",
       "<table border=\"1\" class=\"dataframe\">\n",
       "  <thead>\n",
       "    <tr style=\"text-align: right;\">\n",
       "      <th></th>\n",
       "      <th>z</th>\n",
       "      <th>x1</th>\n",
       "      <th>c</th>\n",
       "      <th>t0</th>\n",
       "      <th>magabs</th>\n",
       "      <th>magobs</th>\n",
       "      <th>x0</th>\n",
       "      <th>ra</th>\n",
       "      <th>dec</th>\n",
       "    </tr>\n",
       "  </thead>\n",
       "  <tbody>\n",
       "    <tr>\n",
       "      <th>0</th>\n",
       "      <td>0.0745</td>\n",
       "      <td>2.085478</td>\n",
       "      <td>0.123513</td>\n",
       "      <td>56060.344394</td>\n",
       "      <td>-19.241942</td>\n",
       "      <td>18.468710</td>\n",
       "      <td>0.000650</td>\n",
       "      <td>82.838320</td>\n",
       "      <td>47.200583</td>\n",
       "    </tr>\n",
       "    <tr>\n",
       "      <th>1</th>\n",
       "      <td>0.0805</td>\n",
       "      <td>-2.025811</td>\n",
       "      <td>0.433947</td>\n",
       "      <td>56015.415034</td>\n",
       "      <td>-17.655552</td>\n",
       "      <td>20.232211</td>\n",
       "      <td>0.000128</td>\n",
       "      <td>161.117479</td>\n",
       "      <td>-37.949688</td>\n",
       "    </tr>\n",
       "    <tr>\n",
       "      <th>2</th>\n",
       "      <td>0.1065</td>\n",
       "      <td>0.807496</td>\n",
       "      <td>0.332289</td>\n",
       "      <td>56097.928460</td>\n",
       "      <td>-18.323621</td>\n",
       "      <td>20.209656</td>\n",
       "      <td>0.000131</td>\n",
       "      <td>11.324980</td>\n",
       "      <td>-28.978693</td>\n",
       "    </tr>\n",
       "    <tr>\n",
       "      <th>3</th>\n",
       "      <td>0.1555</td>\n",
       "      <td>-2.034821</td>\n",
       "      <td>0.016078</td>\n",
       "      <td>56158.402271</td>\n",
       "      <td>-18.965969</td>\n",
       "      <td>20.456669</td>\n",
       "      <td>0.000104</td>\n",
       "      <td>236.731620</td>\n",
       "      <td>4.145109</td>\n",
       "    </tr>\n",
       "    <tr>\n",
       "      <th>4</th>\n",
       "      <td>0.0795</td>\n",
       "      <td>-0.781528</td>\n",
       "      <td>0.513631</td>\n",
       "      <td>56175.316082</td>\n",
       "      <td>-17.702513</td>\n",
       "      <td>20.156626</td>\n",
       "      <td>0.000137</td>\n",
       "      <td>59.901789</td>\n",
       "      <td>72.593947</td>\n",
       "    </tr>\n",
       "    <tr>\n",
       "      <th>...</th>\n",
       "      <td>...</td>\n",
       "      <td>...</td>\n",
       "      <td>...</td>\n",
       "      <td>...</td>\n",
       "      <td>...</td>\n",
       "      <td>...</td>\n",
       "      <td>...</td>\n",
       "      <td>...</td>\n",
       "      <td>...</td>\n",
       "    </tr>\n",
       "    <tr>\n",
       "      <th>995</th>\n",
       "      <td>0.1515</td>\n",
       "      <td>-2.396482</td>\n",
       "      <td>0.249506</td>\n",
       "      <td>56127.273247</td>\n",
       "      <td>-18.044146</td>\n",
       "      <td>21.316569</td>\n",
       "      <td>0.000047</td>\n",
       "      <td>203.948231</td>\n",
       "      <td>-34.998608</td>\n",
       "    </tr>\n",
       "    <tr>\n",
       "      <th>996</th>\n",
       "      <td>0.1305</td>\n",
       "      <td>-1.267226</td>\n",
       "      <td>0.390439</td>\n",
       "      <td>56072.642337</td>\n",
       "      <td>-17.709347</td>\n",
       "      <td>21.298857</td>\n",
       "      <td>0.000048</td>\n",
       "      <td>144.105919</td>\n",
       "      <td>0.309306</td>\n",
       "    </tr>\n",
       "    <tr>\n",
       "      <th>997</th>\n",
       "      <td>0.1985</td>\n",
       "      <td>2.901974</td>\n",
       "      <td>0.340106</td>\n",
       "      <td>56189.542496</td>\n",
       "      <td>-18.551960</td>\n",
       "      <td>21.456346</td>\n",
       "      <td>0.000042</td>\n",
       "      <td>74.972726</td>\n",
       "      <td>-50.966763</td>\n",
       "    </tr>\n",
       "    <tr>\n",
       "      <th>998</th>\n",
       "      <td>0.1215</td>\n",
       "      <td>-1.502519</td>\n",
       "      <td>0.693316</td>\n",
       "      <td>56155.863761</td>\n",
       "      <td>-16.975052</td>\n",
       "      <td>21.865506</td>\n",
       "      <td>0.000028</td>\n",
       "      <td>199.213455</td>\n",
       "      <td>-0.512277</td>\n",
       "    </tr>\n",
       "    <tr>\n",
       "      <th>999</th>\n",
       "      <td>0.0795</td>\n",
       "      <td>-1.155078</td>\n",
       "      <td>0.621589</td>\n",
       "      <td>56071.965803</td>\n",
       "      <td>-17.069171</td>\n",
       "      <td>20.789967</td>\n",
       "      <td>0.000077</td>\n",
       "      <td>57.301850</td>\n",
       "      <td>-3.519883</td>\n",
       "    </tr>\n",
       "  </tbody>\n",
       "</table>\n",
       "<p>1000 rows × 9 columns</p>\n",
       "</div>"
      ],
      "text/plain": [
       "          z        x1         c            t0     magabs     magobs        x0  \\\n",
       "0    0.0745  2.085478  0.123513  56060.344394 -19.241942  18.468710  0.000650   \n",
       "1    0.0805 -2.025811  0.433947  56015.415034 -17.655552  20.232211  0.000128   \n",
       "2    0.1065  0.807496  0.332289  56097.928460 -18.323621  20.209656  0.000131   \n",
       "3    0.1555 -2.034821  0.016078  56158.402271 -18.965969  20.456669  0.000104   \n",
       "4    0.0795 -0.781528  0.513631  56175.316082 -17.702513  20.156626  0.000137   \n",
       "..      ...       ...       ...           ...        ...        ...       ...   \n",
       "995  0.1515 -2.396482  0.249506  56127.273247 -18.044146  21.316569  0.000047   \n",
       "996  0.1305 -1.267226  0.390439  56072.642337 -17.709347  21.298857  0.000048   \n",
       "997  0.1985  2.901974  0.340106  56189.542496 -18.551960  21.456346  0.000042   \n",
       "998  0.1215 -1.502519  0.693316  56155.863761 -16.975052  21.865506  0.000028   \n",
       "999  0.0795 -1.155078  0.621589  56071.965803 -17.069171  20.789967  0.000077   \n",
       "\n",
       "             ra        dec  \n",
       "0     82.838320  47.200583  \n",
       "1    161.117479 -37.949688  \n",
       "2     11.324980 -28.978693  \n",
       "3    236.731620   4.145109  \n",
       "4     59.901789  72.593947  \n",
       "..          ...        ...  \n",
       "995  203.948231 -34.998608  \n",
       "996  144.105919   0.309306  \n",
       "997   74.972726 -50.966763  \n",
       "998  199.213455  -0.512277  \n",
       "999   57.301850  -3.519883  \n",
       "\n",
       "[1000 rows x 9 columns]"
      ]
     },
     "execution_count": 23,
     "metadata": {},
     "output_type": "execute_result"
    }
   ],
   "source": [
    "data"
   ]
  },
  {
   "cell_type": "code",
   "execution_count": null,
   "id": "ba91c177",
   "metadata": {},
   "outputs": [],
   "source": []
  }
 ],
 "metadata": {
  "kernelspec": {
   "display_name": "Python 3 (ipykernel)",
   "language": "python",
   "name": "python3"
  },
  "language_info": {
   "codemirror_mode": {
    "name": "ipython",
    "version": 3
   },
   "file_extension": ".py",
   "mimetype": "text/x-python",
   "name": "python",
   "nbconvert_exporter": "python",
   "pygments_lexer": "ipython3",
   "version": "3.9.16"
  }
 },
 "nbformat": 4,
 "nbformat_minor": 5
}
