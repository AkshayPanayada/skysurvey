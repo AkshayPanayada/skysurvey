{
 "cells": [
  {
   "cell_type": "markdown",
   "id": "1ccb29b8",
   "metadata": {},
   "source": [
    "# Update/change an existing target\n",
    "\n",
    "Sometime, you don't want to use the pre-defined targets as given. You may want to change the model function parameters (the `kwargs`) or even the function (the `func`) used to draw the target's parameters. \n",
    "\n",
    "You can do that while calling `draw()`, `from_draw()` or simply using `update_model()`. \n",
    "\n",
    "Let's see the differences."
   ]
  },
  {
   "cell_type": "markdown",
   "id": "952c6e49",
   "metadata": {},
   "source": [
    "***\n",
    "## Changing model entry's parameters\n",
    "\n",
    "This is the simplest and the most commun usage. \n",
    "\n",
    "You want to change the model's parameters. You can do that using `**kwargs` of `draw()` (`from_draw()`) method, with the format:\n",
    "```python\n",
    "{entry_name: dict}\n",
    "```\n",
    "\n",
    "\n",
    "For instance, let's change the **alpha** and **beta** parameters of the SNeIa model ; these are parameters of the **magabs** function (see, `skysurvey.target.snia.SNeIaMagnitude.tripp1998`):"
   ]
  },
  {
   "cell_type": "code",
   "execution_count": 24,
   "id": "e4bde080",
   "metadata": {},
   "outputs": [
    {
     "data": {
      "text/html": [
       "<div>\n",
       "<style scoped>\n",
       "    .dataframe tbody tr th:only-of-type {\n",
       "        vertical-align: middle;\n",
       "    }\n",
       "\n",
       "    .dataframe tbody tr th {\n",
       "        vertical-align: top;\n",
       "    }\n",
       "\n",
       "    .dataframe thead th {\n",
       "        text-align: right;\n",
       "    }\n",
       "</style>\n",
       "<table border=\"1\" class=\"dataframe\">\n",
       "  <thead>\n",
       "    <tr style=\"text-align: right;\">\n",
       "      <th></th>\n",
       "      <th>z</th>\n",
       "      <th>x1</th>\n",
       "      <th>c</th>\n",
       "      <th>t0</th>\n",
       "      <th>magabs</th>\n",
       "      <th>magobs</th>\n",
       "      <th>x0</th>\n",
       "      <th>ra</th>\n",
       "      <th>dec</th>\n",
       "      <th>template</th>\n",
       "    </tr>\n",
       "  </thead>\n",
       "  <tbody>\n",
       "    <tr>\n",
       "      <th>0</th>\n",
       "      <td>0.1795</td>\n",
       "      <td>0.625</td>\n",
       "      <td>-0.012</td>\n",
       "      <td>56048.535156</td>\n",
       "      <td>-19.420927</td>\n",
       "      <td>20.344774</td>\n",
       "      <td>0.000116</td>\n",
       "      <td>150.139282</td>\n",
       "      <td>-5.958224</td>\n",
       "      <td>salt2</td>\n",
       "    </tr>\n",
       "    <tr>\n",
       "      <th>1</th>\n",
       "      <td>0.1985</td>\n",
       "      <td>0.665</td>\n",
       "      <td>0.094</td>\n",
       "      <td>56177.761719</td>\n",
       "      <td>-18.835100</td>\n",
       "      <td>21.173206</td>\n",
       "      <td>0.000054</td>\n",
       "      <td>273.204529</td>\n",
       "      <td>-5.637442</td>\n",
       "      <td>salt2</td>\n",
       "    </tr>\n",
       "    <tr>\n",
       "      <th>2</th>\n",
       "      <td>0.0915</td>\n",
       "      <td>0.645</td>\n",
       "      <td>0.077</td>\n",
       "      <td>56031.519531</td>\n",
       "      <td>-18.976067</td>\n",
       "      <td>19.205963</td>\n",
       "      <td>0.000330</td>\n",
       "      <td>352.532471</td>\n",
       "      <td>81.346268</td>\n",
       "      <td>salt2</td>\n",
       "    </tr>\n",
       "    <tr>\n",
       "      <th>3</th>\n",
       "      <td>0.1205</td>\n",
       "      <td>-1.835</td>\n",
       "      <td>0.064</td>\n",
       "      <td>56058.148438</td>\n",
       "      <td>-18.713734</td>\n",
       "      <td>20.107481</td>\n",
       "      <td>0.000144</td>\n",
       "      <td>131.439423</td>\n",
       "      <td>-48.628906</td>\n",
       "      <td>salt2</td>\n",
       "    </tr>\n",
       "    <tr>\n",
       "      <th>4</th>\n",
       "      <td>0.1415</td>\n",
       "      <td>-0.800</td>\n",
       "      <td>0.250</td>\n",
       "      <td>56039.902344</td>\n",
       "      <td>-18.093487</td>\n",
       "      <td>21.105480</td>\n",
       "      <td>0.000057</td>\n",
       "      <td>175.672821</td>\n",
       "      <td>1.257089</td>\n",
       "      <td>salt2</td>\n",
       "    </tr>\n",
       "    <tr>\n",
       "      <th>...</th>\n",
       "      <td>...</td>\n",
       "      <td>...</td>\n",
       "      <td>...</td>\n",
       "      <td>...</td>\n",
       "      <td>...</td>\n",
       "      <td>...</td>\n",
       "      <td>...</td>\n",
       "      <td>...</td>\n",
       "      <td>...</td>\n",
       "      <td>...</td>\n",
       "    </tr>\n",
       "    <tr>\n",
       "      <th>995</th>\n",
       "      <td>0.1335</td>\n",
       "      <td>1.260</td>\n",
       "      <td>0.003</td>\n",
       "      <td>56114.656250</td>\n",
       "      <td>-19.543327</td>\n",
       "      <td>19.518353</td>\n",
       "      <td>0.000247</td>\n",
       "      <td>206.876236</td>\n",
       "      <td>50.277973</td>\n",
       "      <td>salt2</td>\n",
       "    </tr>\n",
       "    <tr>\n",
       "      <th>996</th>\n",
       "      <td>0.1295</td>\n",
       "      <td>-2.130</td>\n",
       "      <td>-0.046</td>\n",
       "      <td>56025.613281</td>\n",
       "      <td>-19.364727</td>\n",
       "      <td>19.625395</td>\n",
       "      <td>0.000224</td>\n",
       "      <td>348.446777</td>\n",
       "      <td>47.212788</td>\n",
       "      <td>salt2</td>\n",
       "    </tr>\n",
       "    <tr>\n",
       "      <th>997</th>\n",
       "      <td>0.1685</td>\n",
       "      <td>-1.165</td>\n",
       "      <td>-0.084</td>\n",
       "      <td>56107.847656</td>\n",
       "      <td>-19.506569</td>\n",
       "      <td>20.107552</td>\n",
       "      <td>0.000144</td>\n",
       "      <td>79.449783</td>\n",
       "      <td>7.230572</td>\n",
       "      <td>salt2</td>\n",
       "    </tr>\n",
       "    <tr>\n",
       "      <th>998</th>\n",
       "      <td>0.1325</td>\n",
       "      <td>-1.375</td>\n",
       "      <td>0.054</td>\n",
       "      <td>56113.195312</td>\n",
       "      <td>-18.827452</td>\n",
       "      <td>20.216530</td>\n",
       "      <td>0.000130</td>\n",
       "      <td>115.708275</td>\n",
       "      <td>21.965523</td>\n",
       "      <td>salt2</td>\n",
       "    </tr>\n",
       "    <tr>\n",
       "      <th>999</th>\n",
       "      <td>0.1685</td>\n",
       "      <td>0.330</td>\n",
       "      <td>0.088</td>\n",
       "      <td>56091.644531</td>\n",
       "      <td>-18.928373</td>\n",
       "      <td>20.685747</td>\n",
       "      <td>0.000084</td>\n",
       "      <td>252.552216</td>\n",
       "      <td>-39.276497</td>\n",
       "      <td>salt2</td>\n",
       "    </tr>\n",
       "  </tbody>\n",
       "</table>\n",
       "<p>1000 rows × 10 columns</p>\n",
       "</div>"
      ],
      "text/plain": [
       "          z     x1      c            t0     magabs     magobs        x0  \\\n",
       "0    0.1795  0.625 -0.012  56048.535156 -19.420927  20.344774  0.000116   \n",
       "1    0.1985  0.665  0.094  56177.761719 -18.835100  21.173206  0.000054   \n",
       "2    0.0915  0.645  0.077  56031.519531 -18.976067  19.205963  0.000330   \n",
       "3    0.1205 -1.835  0.064  56058.148438 -18.713734  20.107481  0.000144   \n",
       "4    0.1415 -0.800  0.250  56039.902344 -18.093487  21.105480  0.000057   \n",
       "..      ...    ...    ...           ...        ...        ...       ...   \n",
       "995  0.1335  1.260  0.003  56114.656250 -19.543327  19.518353  0.000247   \n",
       "996  0.1295 -2.130 -0.046  56025.613281 -19.364727  19.625395  0.000224   \n",
       "997  0.1685 -1.165 -0.084  56107.847656 -19.506569  20.107552  0.000144   \n",
       "998  0.1325 -1.375  0.054  56113.195312 -18.827452  20.216530  0.000130   \n",
       "999  0.1685  0.330  0.088  56091.644531 -18.928373  20.685747  0.000084   \n",
       "\n",
       "             ra        dec template  \n",
       "0    150.139282  -5.958224    salt2  \n",
       "1    273.204529  -5.637442    salt2  \n",
       "2    352.532471  81.346268    salt2  \n",
       "3    131.439423 -48.628906    salt2  \n",
       "4    175.672821   1.257089    salt2  \n",
       "..          ...        ...      ...  \n",
       "995  206.876236  50.277973    salt2  \n",
       "996  348.446777  47.212788    salt2  \n",
       "997   79.449783   7.230572    salt2  \n",
       "998  115.708275  21.965523    salt2  \n",
       "999  252.552216 -39.276497    salt2  \n",
       "\n",
       "[1000 rows x 10 columns]"
      ]
     },
     "execution_count": 24,
     "metadata": {},
     "output_type": "execute_result"
    }
   ],
   "source": [
    "import skysurvey\n",
    "\n",
    "snia = skysurvey.SNeIa.from_draw(size=1_000, \n",
    "                                 magabs={\"alpha\":-0.15, \"beta\":3.8} # kwargs here\n",
    "                                )\n",
    "snia.data"
   ]
  },
  {
   "cell_type": "markdown",
   "id": "8dd25aa4",
   "metadata": {},
   "source": [
    "**Using `kwargs` does not update the actual instance's model, but simply what is used to draw the data**\n",
    "\n",
    "Consequently, so the ``model`` itself is not changed."
   ]
  },
  {
   "cell_type": "code",
   "execution_count": 25,
   "id": "1eb3c5e8",
   "metadata": {},
   "outputs": [
    {
     "data": {
      "text/plain": [
       "{'redshift': {'kwargs': {'zmax': 0.2}, 'as': 'z'},\n",
       " 'x1': {'func': <function SNeIaStretch.nicolas2021 at 0x294a161f0>},\n",
       " 'c': {'func': <function SNeIaColor.intrinsic_and_dust at 0x294a16160>},\n",
       " 't0': {'func': <built-in method uniform of numpy.random.mtrand.RandomState object at 0x1063e1640>,\n",
       "        'kwargs': {'low': 56000, 'high': 56200}},\n",
       " 'magabs': {'func': <function SNeIaMagnitude.tripp1998 at 0x294a16280>,\n",
       "            'kwargs': {'x1': '@x1', 'c': '@c', 'mabs': -19.3, 'sigmaint': 0.1}},\n",
       " 'magobs': {'func': 'magabs_to_magobs',\n",
       "            'kwargs': {'z': '@z', 'magabs': '@magabs'}},\n",
       " 'x0': {'func': 'magobs_to_amplitude',\n",
       "        'kwargs': {'magobs': '@magobs', 'param_name': 'x0'}},\n",
       " 'radec': {'func': <function random_radec at 0x16c714160>,\n",
       "           'kwargs': {},\n",
       "           'as': ['ra', 'dec']}}"
      ]
     },
     "execution_count": 25,
     "metadata": {},
     "output_type": "execute_result"
    }
   ],
   "source": [
    "snia.model"
   ]
  },
  {
   "cell_type": "markdown",
   "id": "7b173464",
   "metadata": {},
   "source": [
    "### how to permanently change instance's model parameters ?\n",
    "\n",
    "To permanently change the model of the instance, you need to use ``self.update_model_parameter()``"
   ]
  },
  {
   "cell_type": "code",
   "execution_count": 3,
   "id": "6ae022fb",
   "metadata": {},
   "outputs": [
    {
     "data": {
      "text/plain": [
       "{'redshift': {'kwargs': {'zmax': 0.2}, 'as': 'z'},\n",
       " 'x1': {'func': <function SNeIaStretch.nicolas2021 at 0x294a161f0>},\n",
       " 'c': {'func': <function SNeIaColor.intrinsic_and_dust at 0x294a16160>},\n",
       " 't0': {'func': <built-in method uniform of numpy.random.mtrand.RandomState object at 0x1063e1640>,\n",
       "        'kwargs': {'low': 56000, 'high': 56200}},\n",
       " 'magabs': {'func': <function SNeIaMagnitude.tripp1998 at 0x294a16280>,\n",
       "            'kwargs': {'x1': '@x1',\n",
       "                       'c': '@c',\n",
       "                       'mabs': -19.3,\n",
       "                       'sigmaint': 0.1,\n",
       "                       'alpha': -0.15,\n",
       "                       'beta': 3.8}},\n",
       " 'magobs': {'func': 'magabs_to_magobs',\n",
       "            'kwargs': {'z': '@z', 'magabs': '@magabs'}},\n",
       " 'x0': {'func': 'magobs_to_amplitude',\n",
       "        'kwargs': {'magobs': '@magobs', 'param_name': 'x0'}},\n",
       " 'radec': {'func': <function random_radec at 0x16c714160>,\n",
       "           'kwargs': {},\n",
       "           'as': ['ra', 'dec']}}"
      ]
     },
     "execution_count": 3,
     "metadata": {},
     "output_type": "execute_result"
    }
   ],
   "source": [
    "snia.update_model_parameter(magabs={\"alpha\":-0.15, \"beta\":3.8} )\n",
    "snia.model"
   ]
  },
  {
   "cell_type": "markdown",
   "id": "8f57eadd",
   "metadata": {},
   "source": [
    "***\n",
    "## Changing model entry's (`func` and `kwargs`)\n",
    "\n",
    "You can also change the way a parameter is drawn, not just it's function parameters.\n",
    "\n",
    "To do so, you need to update `func` and provide its new `kwargs` (if any). This means, updating the `model` for the entry.\n",
    "\n",
    "To do that, you can use:\n",
    "- the **model** option in `draw()`: this will update the model used to draw but will not affect the actual instance's model\n",
    "- the **model** option in `from_draw()`: this changes the model while creating the instance, it is thus permanent \n",
    "- the `update_model()` method: this is permanent (it is what `from_draw()` uses).\n",
    "\n",
    "The format is that of a model (see [modelDAG](https://modeldag.readthedocs.io/en/latest/)):\n",
    "```python\n",
    "{entry_name: {\"func\": a_function, [\"kwargs\": dict, \"as\": string_or_list]}}\n",
    "```\n",
    "\n",
    "\n",
    "For instance, say we want to change how the **c** parameter is drawn, we want to use a uniform distribution between -1 and +3: "
   ]
  },
  {
   "cell_type": "code",
   "execution_count": 26,
   "id": "f3ea54e1",
   "metadata": {},
   "outputs": [],
   "source": [
    "import numpy as np\n",
    "new_model_for_c = {\"c\": {\"func\": np.random.uniform, \"kwargs\": {\"low\":-1, \"high\":+3}}}"
   ]
  },
  {
   "cell_type": "code",
   "execution_count": 27,
   "id": "31941aa2",
   "metadata": {},
   "outputs": [],
   "source": [
    "snia = skysurvey.SNeIa.from_draw(size=1_000, \n",
    "                                 model=new_model_for_c\n",
    "                                )\n"
   ]
  },
  {
   "cell_type": "code",
   "execution_count": 28,
   "id": "30592009",
   "metadata": {},
   "outputs": [
    {
     "data": {
      "text/plain": [
       "<Axes: ylabel='Frequency'>"
      ]
     },
     "execution_count": 28,
     "metadata": {},
     "output_type": "execute_result"
    },
    {
     "data": {
      "image/png": "[encoded data removed]",
      "text/plain": [
       "<Figure size 432x288 with 1 Axes>"
      ]
     },
     "metadata": {
      "needs_background": "light"
     },
     "output_type": "display_data"
    }
   ],
   "source": [
    "snia.data[\"c\"].plot.hist()"
   ]
  },
  {
   "cell_type": "markdown",
   "id": "31bef94f",
   "metadata": {},
   "source": [
    "**here, the change is permanent, as you changed the model used to load the instance**"
   ]
  },
  {
   "cell_type": "code",
   "execution_count": 29,
   "id": "e105012a",
   "metadata": {},
   "outputs": [
    {
     "data": {
      "text/plain": [
       "{'redshift': {'kwargs': {'zmax': 0.2}, 'as': 'z'},\n",
       " 'x1': {'func': <function SNeIaStretch.nicolas2021 at 0x294a161f0>},\n",
       " 'c': {'func': <built-in method uniform of numpy.random.mtrand.RandomState object at 0x1063e1640>,\n",
       "       'kwargs': {'low': -1, 'high': 3}},\n",
       " 't0': {'func': <built-in method uniform of numpy.random.mtrand.RandomState object at 0x1063e1640>,\n",
       "        'kwargs': {'low': 56000, 'high': 56200}},\n",
       " 'magabs': {'func': <function SNeIaMagnitude.tripp1998 at 0x294a16280>,\n",
       "            'kwargs': {'x1': '@x1', 'c': '@c', 'mabs': -19.3, 'sigmaint': 0.1}},\n",
       " 'magobs': {'func': 'magabs_to_magobs',\n",
       "            'kwargs': {'z': '@z', 'magabs': '@magabs'}},\n",
       " 'x0': {'func': 'magobs_to_amplitude',\n",
       "        'kwargs': {'magobs': '@magobs', 'param_name': 'x0'}},\n",
       " 'radec': {'func': <function random_radec at 0x16c714160>,\n",
       "           'kwargs': {},\n",
       "           'as': ['ra', 'dec']}}"
      ]
     },
     "execution_count": 29,
     "metadata": {},
     "output_type": "execute_result"
    }
   ],
   "source": [
    "snia.model # check-out the c-entry"
   ]
  },
  {
   "cell_type": "markdown",
   "id": "cf6b8ff2",
   "metadata": {},
   "source": [
    "to change the model only for a `draw()` call"
   ]
  },
  {
   "cell_type": "code",
   "execution_count": 30,
   "id": "16cf2315",
   "metadata": {},
   "outputs": [],
   "source": [
    "snia = skysurvey.SNeIa()\n",
    "data_updated = snia.draw(size=1_000, model=new_model_for_c)\n",
    "data_not_updated = snia.draw(size=1_000)"
   ]
  },
  {
   "cell_type": "code",
   "execution_count": 32,
   "id": "c2dad663",
   "metadata": {},
   "outputs": [
    {
     "data": {
      "text/plain": [
       "<Axes: ylabel='Frequency'>"
      ]
     },
     "execution_count": 32,
     "metadata": {},
     "output_type": "execute_result"
    },
    {
     "data": {
      "image/png": "[encoded data removed]",
      "text/plain": [
       "<Figure size 432x288 with 1 Axes>"
      ]
     },
     "metadata": {
      "needs_background": "light"
     },
     "output_type": "display_data"
    }
   ],
   "source": [
    "data_updated[\"c\"].plot.hist()"
   ]
  },
  {
   "cell_type": "code",
   "execution_count": 33,
   "id": "a78c1d7e",
   "metadata": {},
   "outputs": [
    {
     "data": {
      "text/plain": [
       "<Axes: ylabel='Frequency'>"
      ]
     },
     "execution_count": 33,
     "metadata": {},
     "output_type": "execute_result"
    },
    {
     "data": {
      "image/png": "[encoded data removed]",
      "text/plain": [
       "<Figure size 432x288 with 1 Axes>"
      ]
     },
     "metadata": {
      "needs_background": "light"
     },
     "output_type": "display_data"
    }
   ],
   "source": [
    "data_not_updated[\"c\"].plot.hist()"
   ]
  },
  {
   "cell_type": "markdown",
   "id": "0d31bd32",
   "metadata": {},
   "source": [
    "### use `update_model()`\n",
    "\n",
    "you can directly change (permanently) the model using update_model"
   ]
  },
  {
   "cell_type": "code",
   "execution_count": 34,
   "id": "3c96e9f6",
   "metadata": {},
   "outputs": [],
   "source": [
    "flat_model = {\"c\": {\"func\": np.random.uniform, \"kwargs\": {\"low\":-0.1, \"high\":+1}},\n",
    "              \"x1\": {\"func\": np.random.uniform, \"kwargs\": {\"low\":-3, \"high\":+3}}\n",
    "             }\n",
    "\n",
    "snia = skysurvey.SNeIa()\n",
    "snia.update_model(**flat_model)\n",
    "data = snia.draw(1_000)"
   ]
  },
  {
   "cell_type": "code",
   "execution_count": 23,
   "id": "bf8a1ee3",
   "metadata": {},
   "outputs": [
    {
     "data": {
      "text/html": [
       "<div>\n",
       "<style scoped>\n",
       "    .dataframe tbody tr th:only-of-type {\n",
       "        vertical-align: middle;\n",
       "    }\n",
       "\n",
       "    .dataframe tbody tr th {\n",
       "        vertical-align: top;\n",
       "    }\n",
       "\n",
       "    .dataframe thead th {\n",
       "        text-align: right;\n",
       "    }\n",
       "</style>\n",
       "<table border=\"1\" class=\"dataframe\">\n",
       "  <thead>\n",
       "    <tr style=\"text-align: right;\">\n",
       "      <th></th>\n",
       "      <th>z</th>\n",
       "      <th>x1</th>\n",
       "      <th>c</th>\n",
       "      <th>t0</th>\n",
       "      <th>magabs</th>\n",
       "      <th>magobs</th>\n",
       "      <th>x0</th>\n",
       "      <th>ra</th>\n",
       "      <th>dec</th>\n",
       "    </tr>\n",
       "  </thead>\n",
       "  <tbody>\n",
       "    <tr>\n",
       "      <th>0</th>\n",
       "      <td>0.0745</td>\n",
       "      <td>2.085478</td>\n",
       "      <td>0.123513</td>\n",
       "      <td>56060.344394</td>\n",
       "      <td>-19.241942</td>\n",
       "      <td>18.468710</td>\n",
       "      <td>0.000650</td>\n",
       "      <td>82.838320</td>\n",
       "      <td>47.200583</td>\n",
       "    </tr>\n",
       "    <tr>\n",
       "      <th>1</th>\n",
       "      <td>0.0805</td>\n",
       "      <td>-2.025811</td>\n",
       "      <td>0.433947</td>\n",
       "      <td>56015.415034</td>\n",
       "      <td>-17.655552</td>\n",
       "      <td>20.232211</td>\n",
       "      <td>0.000128</td>\n",
       "      <td>161.117479</td>\n",
       "      <td>-37.949688</td>\n",
       "    </tr>\n",
       "    <tr>\n",
       "      <th>2</th>\n",
       "      <td>0.1065</td>\n",
       "      <td>0.807496</td>\n",
       "      <td>0.332289</td>\n",
       "      <td>56097.928460</td>\n",
       "      <td>-18.323621</td>\n",
       "      <td>20.209656</td>\n",
       "      <td>0.000131</td>\n",
       "      <td>11.324980</td>\n",
       "      <td>-28.978693</td>\n",
       "    </tr>\n",
       "    <tr>\n",
       "      <th>3</th>\n",
       "      <td>0.1555</td>\n",
       "      <td>-2.034821</td>\n",
       "      <td>0.016078</td>\n",
       "      <td>56158.402271</td>\n",
       "      <td>-18.965969</td>\n",
       "      <td>20.456669</td>\n",
       "      <td>0.000104</td>\n",
       "      <td>236.731620</td>\n",
       "      <td>4.145109</td>\n",
       "    </tr>\n",
       "    <tr>\n",
       "      <th>4</th>\n",
       "      <td>0.0795</td>\n",
       "      <td>-0.781528</td>\n",
       "      <td>0.513631</td>\n",
       "      <td>56175.316082</td>\n",
       "      <td>-17.702513</td>\n",
       "      <td>20.156626</td>\n",
       "      <td>0.000137</td>\n",
       "      <td>59.901789</td>\n",
       "      <td>72.593947</td>\n",
       "    </tr>\n",
       "    <tr>\n",
       "      <th>...</th>\n",
       "      <td>...</td>\n",
       "      <td>...</td>\n",
       "      <td>...</td>\n",
       "      <td>...</td>\n",
       "      <td>...</td>\n",
       "      <td>...</td>\n",
       "      <td>...</td>\n",
       "      <td>...</td>\n",
       "      <td>...</td>\n",
       "    </tr>\n",
       "    <tr>\n",
       "      <th>995</th>\n",
       "      <td>0.1515</td>\n",
       "      <td>-2.396482</td>\n",
       "      <td>0.249506</td>\n",
       "      <td>56127.273247</td>\n",
       "      <td>-18.044146</td>\n",
       "      <td>21.316569</td>\n",
       "      <td>0.000047</td>\n",
       "      <td>203.948231</td>\n",
       "      <td>-34.998608</td>\n",
       "    </tr>\n",
       "    <tr>\n",
       "      <th>996</th>\n",
       "      <td>0.1305</td>\n",
       "      <td>-1.267226</td>\n",
       "      <td>0.390439</td>\n",
       "      <td>56072.642337</td>\n",
       "      <td>-17.709347</td>\n",
       "      <td>21.298857</td>\n",
       "      <td>0.000048</td>\n",
       "      <td>144.105919</td>\n",
       "      <td>0.309306</td>\n",
       "    </tr>\n",
       "    <tr>\n",
       "      <th>997</th>\n",
       "      <td>0.1985</td>\n",
       "      <td>2.901974</td>\n",
       "      <td>0.340106</td>\n",
       "      <td>56189.542496</td>\n",
       "      <td>-18.551960</td>\n",
       "      <td>21.456346</td>\n",
       "      <td>0.000042</td>\n",
       "      <td>74.972726</td>\n",
       "      <td>-50.966763</td>\n",
       "    </tr>\n",
       "    <tr>\n",
       "      <th>998</th>\n",
       "      <td>0.1215</td>\n",
       "      <td>-1.502519</td>\n",
       "      <td>0.693316</td>\n",
       "      <td>56155.863761</td>\n",
       "      <td>-16.975052</td>\n",
       "      <td>21.865506</td>\n",
       "      <td>0.000028</td>\n",
       "      <td>199.213455</td>\n",
       "      <td>-0.512277</td>\n",
       "    </tr>\n",
       "    <tr>\n",
       "      <th>999</th>\n",
       "      <td>0.0795</td>\n",
       "      <td>-1.155078</td>\n",
       "      <td>0.621589</td>\n",
       "      <td>56071.965803</td>\n",
       "      <td>-17.069171</td>\n",
       "      <td>20.789967</td>\n",
       "      <td>0.000077</td>\n",
       "      <td>57.301850</td>\n",
       "      <td>-3.519883</td>\n",
       "    </tr>\n",
       "  </tbody>\n",
       "</table>\n",
       "<p>1000 rows × 9 columns</p>\n",
       "</div>"
      ],
      "text/plain": [
       "          z        x1         c            t0     magabs     magobs        x0  \\\n",
       "0    0.0745  2.085478  0.123513  56060.344394 -19.241942  18.468710  0.000650   \n",
       "1    0.0805 -2.025811  0.433947  56015.415034 -17.655552  20.232211  0.000128   \n",
       "2    0.1065  0.807496  0.332289  56097.928460 -18.323621  20.209656  0.000131   \n",
       "3    0.1555 -2.034821  0.016078  56158.402271 -18.965969  20.456669  0.000104   \n",
       "4    0.0795 -0.781528  0.513631  56175.316082 -17.702513  20.156626  0.000137   \n",
       "..      ...       ...       ...           ...        ...        ...       ...   \n",
       "995  0.1515 -2.396482  0.249506  56127.273247 -18.044146  21.316569  0.000047   \n",
       "996  0.1305 -1.267226  0.390439  56072.642337 -17.709347  21.298857  0.000048   \n",
       "997  0.1985  2.901974  0.340106  56189.542496 -18.551960  21.456346  0.000042   \n",
       "998  0.1215 -1.502519  0.693316  56155.863761 -16.975052  21.865506  0.000028   \n",
       "999  0.0795 -1.155078  0.621589  56071.965803 -17.069171  20.789967  0.000077   \n",
       "\n",
       "             ra        dec  \n",
       "0     82.838320  47.200583  \n",
       "1    161.117479 -37.949688  \n",
       "2     11.324980 -28.978693  \n",
       "3    236.731620   4.145109  \n",
       "4     59.901789  72.593947  \n",
       "..          ...        ...  \n",
       "995  203.948231 -34.998608  \n",
       "996  144.105919   0.309306  \n",
       "997   74.972726 -50.966763  \n",
       "998  199.213455  -0.512277  \n",
       "999   57.301850  -3.519883  \n",
       "\n",
       "[1000 rows x 9 columns]"
      ]
     },
     "execution_count": 23,
     "metadata": {},
     "output_type": "execute_result"
    }
   ],
   "source": [
    "data"
   ]
  },
  {
   "cell_type": "markdown",
   "id": "d9f20d6e",
   "metadata": {},
   "source": [
    "### shall I update a model or create a new one ?\n",
    "\n",
    "`model` option can **affect any entry**, you can even **add entry**, but any new entry will be appended at the end of the dist model. **So to create an internal dependency, you will need to create a new model from scratch.**\n",
    "\n",
    "\n",
    "#### For instance, this would not work:\n",
    "\n",
    "Say you want to randomly draw **beta** from a normal distribution and use this drawn parameter as input of **magabs**\n"
   ]
  },
  {
   "cell_type": "code",
   "execution_count": 36,
   "id": "7d38ed33",
   "metadata": {},
   "outputs": [],
   "source": [
    "random_beta_model = {\"beta\": {\"func\": np.random.normal, \"kwargs\": {\"loc\":3.5, \"scale\":0.1}},\n",
    "                     \"magabs\": {\"func\": skysurvey.target.snia.SNeIaMagnitude.tripp1998,\n",
    "                                \"kwargs\": {\"x1\":\"@x1\", \"c\":\"@c\", \"beta\":\"@beta\"}}\n",
    "                     }"
   ]
  },
  {
   "cell_type": "code",
   "execution_count": 37,
   "id": "54f74ee3",
   "metadata": {},
   "outputs": [],
   "source": [
    "snia = skysurvey.SNeIa()"
   ]
  },
  {
   "cell_type": "code",
   "execution_count": 38,
   "id": "152bc60b",
   "metadata": {},
   "outputs": [
    {
     "ename": "KeyError",
     "evalue": "'beta'",
     "output_type": "error",
     "traceback": [
      "\u001b[0;31m---------------------------------------------------------------------------\u001b[0m",
      "\u001b[0;31mKeyError\u001b[0m                                  Traceback (most recent call last)",
      "File \u001b[0;32m~/miniforge3/lib/python3.9/site-packages/pandas/core/indexes/base.py:3652\u001b[0m, in \u001b[0;36mIndex.get_loc\u001b[0;34m(self, key)\u001b[0m\n\u001b[1;32m   3651\u001b[0m \u001b[38;5;28;01mtry\u001b[39;00m:\n\u001b[0;32m-> 3652\u001b[0m     \u001b[38;5;28;01mreturn\u001b[39;00m \u001b[38;5;28;43mself\u001b[39;49m\u001b[38;5;241;43m.\u001b[39;49m\u001b[43m_engine\u001b[49m\u001b[38;5;241;43m.\u001b[39;49m\u001b[43mget_loc\u001b[49m\u001b[43m(\u001b[49m\u001b[43mcasted_key\u001b[49m\u001b[43m)\u001b[49m\n\u001b[1;32m   3653\u001b[0m \u001b[38;5;28;01mexcept\u001b[39;00m \u001b[38;5;167;01mKeyError\u001b[39;00m \u001b[38;5;28;01mas\u001b[39;00m err:\n",
      "File \u001b[0;32m~/miniforge3/lib/python3.9/site-packages/pandas/_libs/index.pyx:147\u001b[0m, in \u001b[0;36mpandas._libs.index.IndexEngine.get_loc\u001b[0;34m()\u001b[0m\n",
      "File \u001b[0;32m~/miniforge3/lib/python3.9/site-packages/pandas/_libs/index.pyx:176\u001b[0m, in \u001b[0;36mpandas._libs.index.IndexEngine.get_loc\u001b[0;34m()\u001b[0m\n",
      "File \u001b[0;32mpandas/_libs/hashtable_class_helper.pxi:7080\u001b[0m, in \u001b[0;36mpandas._libs.hashtable.PyObjectHashTable.get_item\u001b[0;34m()\u001b[0m\n",
      "File \u001b[0;32mpandas/_libs/hashtable_class_helper.pxi:7088\u001b[0m, in \u001b[0;36mpandas._libs.hashtable.PyObjectHashTable.get_item\u001b[0;34m()\u001b[0m\n",
      "\u001b[0;31mKeyError\u001b[0m: 'beta'",
      "\nThe above exception was the direct cause of the following exception:\n",
      "\u001b[0;31mKeyError\u001b[0m                                  Traceback (most recent call last)",
      "Input \u001b[0;32mIn [38]\u001b[0m, in \u001b[0;36m<cell line: 1>\u001b[0;34m()\u001b[0m\n\u001b[0;32m----> 1\u001b[0m _ \u001b[38;5;241m=\u001b[39m \u001b[43msnia\u001b[49m\u001b[38;5;241;43m.\u001b[39;49m\u001b[43mdraw\u001b[49m\u001b[43m(\u001b[49m\u001b[38;5;241;43m1_000\u001b[39;49m\u001b[43m,\u001b[49m\u001b[43m \u001b[49m\u001b[43mmodel\u001b[49m\u001b[38;5;241;43m=\u001b[39;49m\u001b[43mrandom_beta_model\u001b[49m\u001b[43m)\u001b[49m\n",
      "File \u001b[0;32m~/miniforge3/lib/python3.9/site-packages/skysurvey/target/core.py:891\u001b[0m, in \u001b[0;36mTarget.draw\u001b[0;34m(self, size, zmax, zmin, tstart, tstop, nyears, skyarea, inplace, model, **kwargs)\u001b[0m\n\u001b[1;32m    888\u001b[0m     size \u001b[38;5;241m=\u001b[39m \u001b[38;5;28mint\u001b[39m((\u001b[38;5;28mself\u001b[39m\u001b[38;5;241m.\u001b[39mget_rate(zmax, skyarea\u001b[38;5;241m=\u001b[39mskyarea)\u001b[38;5;241m-\u001b[39mrate_min) \u001b[38;5;241m*\u001b[39m nyears)\n\u001b[1;32m    890\u001b[0m \u001b[38;5;66;03m# actually draw the data\u001b[39;00m\n\u001b[0;32m--> 891\u001b[0m data \u001b[38;5;241m=\u001b[39m \u001b[43mdrawn_model\u001b[49m\u001b[38;5;241;43m.\u001b[39;49m\u001b[43mdraw\u001b[49m\u001b[43m(\u001b[49m\u001b[43msize\u001b[49m\u001b[38;5;241;43m=\u001b[39;49m\u001b[43msize\u001b[49m\u001b[43m,\u001b[49m\u001b[43m \u001b[49m\u001b[38;5;241;43m*\u001b[39;49m\u001b[38;5;241;43m*\u001b[39;49m\u001b[43mkwargs\u001b[49m\u001b[43m)\u001b[49m\n\u001b[1;32m    892\u001b[0m \u001b[38;5;28;01mif\u001b[39;00m inplace:\n\u001b[1;32m    893\u001b[0m     \u001b[38;5;66;03m# lower precision\u001b[39;00m\n\u001b[1;32m    894\u001b[0m     data \u001b[38;5;241m=\u001b[39m data\u001b[38;5;241m.\u001b[39mastype( {k: \u001b[38;5;28mstr\u001b[39m(v)\u001b[38;5;241m.\u001b[39mreplace(\u001b[38;5;124m\"\u001b[39m\u001b[38;5;124m64\u001b[39m\u001b[38;5;124m\"\u001b[39m,\u001b[38;5;124m\"\u001b[39m\u001b[38;5;124m32\u001b[39m\u001b[38;5;124m\"\u001b[39m) \u001b[38;5;28;01mfor\u001b[39;00m k, v \u001b[38;5;129;01min\u001b[39;00m data\u001b[38;5;241m.\u001b[39mdtypes\u001b[38;5;241m.\u001b[39mto_dict()\u001b[38;5;241m.\u001b[39mitems()})\n",
      "File \u001b[0;32m~/miniforge3/lib/python3.9/site-packages/modeldag/modeldag.py:324\u001b[0m, in \u001b[0;36mModelDAG.draw\u001b[0;34m(self, size, limit_to_entries, data, **kwargs)\u001b[0m\n\u001b[1;32m    300\u001b[0m \u001b[38;5;250m\u001b[39m\u001b[38;5;124;03m\"\"\" draw a random sampling of the parameters following\u001b[39;00m\n\u001b[1;32m    301\u001b[0m \u001b[38;5;124;03mthe model DAG\u001b[39;00m\n\u001b[1;32m    302\u001b[0m \n\u001b[0;32m   (...)\u001b[0m\n\u001b[1;32m    321\u001b[0m \u001b[38;5;124;03m    N=size lines and at least 1 column per model entry\u001b[39;00m\n\u001b[1;32m    322\u001b[0m \u001b[38;5;124;03m\"\"\"\u001b[39;00m\n\u001b[1;32m    323\u001b[0m model \u001b[38;5;241m=\u001b[39m \u001b[38;5;28mself\u001b[39m\u001b[38;5;241m.\u001b[39mget_model(\u001b[38;5;241m*\u001b[39m\u001b[38;5;241m*\u001b[39mkwargs)\n\u001b[0;32m--> 324\u001b[0m \u001b[38;5;28;01mreturn\u001b[39;00m \u001b[38;5;28;43mself\u001b[39;49m\u001b[38;5;241;43m.\u001b[39;49m\u001b[43m_draw\u001b[49m\u001b[43m(\u001b[49m\u001b[43mmodel\u001b[49m\u001b[43m,\u001b[49m\u001b[43m \u001b[49m\u001b[43msize\u001b[49m\u001b[38;5;241;43m=\u001b[39;49m\u001b[43msize\u001b[49m\u001b[43m,\u001b[49m\u001b[43m \u001b[49m\u001b[43mlimit_to_entries\u001b[49m\u001b[38;5;241;43m=\u001b[39;49m\u001b[43mlimit_to_entries\u001b[49m\u001b[43m,\u001b[49m\n\u001b[1;32m    325\u001b[0m \u001b[43m                      \u001b[49m\u001b[43mdata\u001b[49m\u001b[38;5;241;43m=\u001b[39;49m\u001b[43mdata\u001b[49m\u001b[43m)\u001b[49m\n",
      "File \u001b[0;32m~/miniforge3/lib/python3.9/site-packages/modeldag/modeldag.py:430\u001b[0m, in \u001b[0;36mModelDAG._draw\u001b[0;34m(self, model, size, limit_to_entries, data)\u001b[0m\n\u001b[1;32m    428\u001b[0m     \u001b[38;5;28;01mif\u001b[39;00m \u001b[38;5;28mtype\u001b[39m(v) \u001b[38;5;129;01mis\u001b[39;00m \u001b[38;5;28mstr\u001b[39m \u001b[38;5;129;01mand\u001b[39;00m \u001b[38;5;124m\"\u001b[39m\u001b[38;5;124m@\u001b[39m\u001b[38;5;124m\"\u001b[39m \u001b[38;5;129;01min\u001b[39;00m v:\n\u001b[1;32m    429\u001b[0m         key \u001b[38;5;241m=\u001b[39m v\u001b[38;5;241m.\u001b[39msplit(\u001b[38;5;124m\"\u001b[39m\u001b[38;5;124m@\u001b[39m\u001b[38;5;124m\"\u001b[39m)[\u001b[38;5;241m-\u001b[39m\u001b[38;5;241m1\u001b[39m]\u001b[38;5;241m.\u001b[39msplit(\u001b[38;5;124m\"\u001b[39m\u001b[38;5;124m \u001b[39m\u001b[38;5;124m\"\u001b[39m)[\u001b[38;5;241m0\u001b[39m]\n\u001b[0;32m--> 430\u001b[0m         inprop[k] \u001b[38;5;241m=\u001b[39m \u001b[43mdata\u001b[49m\u001b[43m[\u001b[49m\u001b[43mkey\u001b[49m\u001b[43m]\u001b[49m\u001b[38;5;241m.\u001b[39mvalues\n\u001b[1;32m    431\u001b[0m         params[\u001b[38;5;124m\"\u001b[39m\u001b[38;5;124msize\u001b[39m\u001b[38;5;124m\"\u001b[39m] \u001b[38;5;241m=\u001b[39m \u001b[38;5;28;01mNone\u001b[39;00m\n\u001b[1;32m    433\u001b[0m \u001b[38;5;66;03m# set the model ; this overwrite prop['model'] but that make sense.\u001b[39;00m\n",
      "File \u001b[0;32m~/miniforge3/lib/python3.9/site-packages/pandas/core/frame.py:3761\u001b[0m, in \u001b[0;36mDataFrame.__getitem__\u001b[0;34m(self, key)\u001b[0m\n\u001b[1;32m   3759\u001b[0m \u001b[38;5;28;01mif\u001b[39;00m \u001b[38;5;28mself\u001b[39m\u001b[38;5;241m.\u001b[39mcolumns\u001b[38;5;241m.\u001b[39mnlevels \u001b[38;5;241m>\u001b[39m \u001b[38;5;241m1\u001b[39m:\n\u001b[1;32m   3760\u001b[0m     \u001b[38;5;28;01mreturn\u001b[39;00m \u001b[38;5;28mself\u001b[39m\u001b[38;5;241m.\u001b[39m_getitem_multilevel(key)\n\u001b[0;32m-> 3761\u001b[0m indexer \u001b[38;5;241m=\u001b[39m \u001b[38;5;28;43mself\u001b[39;49m\u001b[38;5;241;43m.\u001b[39;49m\u001b[43mcolumns\u001b[49m\u001b[38;5;241;43m.\u001b[39;49m\u001b[43mget_loc\u001b[49m\u001b[43m(\u001b[49m\u001b[43mkey\u001b[49m\u001b[43m)\u001b[49m\n\u001b[1;32m   3762\u001b[0m \u001b[38;5;28;01mif\u001b[39;00m is_integer(indexer):\n\u001b[1;32m   3763\u001b[0m     indexer \u001b[38;5;241m=\u001b[39m [indexer]\n",
      "File \u001b[0;32m~/miniforge3/lib/python3.9/site-packages/pandas/core/indexes/base.py:3654\u001b[0m, in \u001b[0;36mIndex.get_loc\u001b[0;34m(self, key)\u001b[0m\n\u001b[1;32m   3652\u001b[0m     \u001b[38;5;28;01mreturn\u001b[39;00m \u001b[38;5;28mself\u001b[39m\u001b[38;5;241m.\u001b[39m_engine\u001b[38;5;241m.\u001b[39mget_loc(casted_key)\n\u001b[1;32m   3653\u001b[0m \u001b[38;5;28;01mexcept\u001b[39;00m \u001b[38;5;167;01mKeyError\u001b[39;00m \u001b[38;5;28;01mas\u001b[39;00m err:\n\u001b[0;32m-> 3654\u001b[0m     \u001b[38;5;28;01mraise\u001b[39;00m \u001b[38;5;167;01mKeyError\u001b[39;00m(key) \u001b[38;5;28;01mfrom\u001b[39;00m \u001b[38;5;21;01merr\u001b[39;00m\n\u001b[1;32m   3655\u001b[0m \u001b[38;5;28;01mexcept\u001b[39;00m \u001b[38;5;167;01mTypeError\u001b[39;00m:\n\u001b[1;32m   3656\u001b[0m     \u001b[38;5;66;03m# If we have a listlike key, _check_indexing_error will raise\u001b[39;00m\n\u001b[1;32m   3657\u001b[0m     \u001b[38;5;66;03m#  InvalidIndexError. Otherwise we fall through and re-raise\u001b[39;00m\n\u001b[1;32m   3658\u001b[0m     \u001b[38;5;66;03m#  the TypeError.\u001b[39;00m\n\u001b[1;32m   3659\u001b[0m     \u001b[38;5;28mself\u001b[39m\u001b[38;5;241m.\u001b[39m_check_indexing_error(key)\n",
      "\u001b[0;31mKeyError\u001b[0m: 'beta'"
     ]
    }
   ],
   "source": [
    "_ = snia.draw(1_000, model=random_beta_model)"
   ]
  },
  {
   "cell_type": "code",
   "execution_count": null,
   "id": "9de13d67",
   "metadata": {},
   "outputs": [],
   "source": []
  }
 ],
 "metadata": {
  "kernelspec": {
   "display_name": "Python 3 (ipykernel)",
   "language": "python",
   "name": "python3"
  },
  "language_info": {
   "codemirror_mode": {
    "name": "ipython",
    "version": 3
   },
   "file_extension": ".py",
   "mimetype": "text/x-python",
   "name": "python",
   "nbconvert_exporter": "python",
   "pygments_lexer": "ipython3",
   "version": "3.9.16"
  }
 },
 "nbformat": 4,
 "nbformat_minor": 5
}
