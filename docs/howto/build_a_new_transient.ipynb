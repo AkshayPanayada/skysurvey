{
 "cells": [
  {
   "cell_type": "markdown",
   "id": "47ed3ce2",
   "metadata": {},
   "source": [
    "# Build a new transient (*non volumetric rate* ; *host-bias model*)\n",
    "\n",
    "To build a new transient, you only need 3 things:\n",
    "- a **rate**: how many targets to draw as a function of redshift. \n",
    "- a **template**: what is the spectro-photometric template as a function of phase\n",
    "- a **model**: what are the transient parameter drawn. This enters [modeldag](https://github.com/MickaelRigault/modeldag).\n",
    "\n",
    "**Then, simply do that:**\n",
    "***\n",
    "```python\n",
    "from skysurvey.target import Transient\n",
    "class MyTransient( Transient):\n",
    "    _KIND = \"SN_III\" # your transient name\n",
    "    _TEMPLATE = \"a_template\" # skysurvey.Template or sncosmo.source (or name)\n",
    "    _RATE = float # float (Volume Rate in Gyr/year ; or redshift function)\n",
    "    _MODEL = dict # how are parameter drawn\n",
    "```\n",
    "***"
   ]
  },
  {
   "cell_type": "markdown",
   "id": "4f499b5d",
   "metadata": {},
   "source": [
    "## Here is the transient we will do\n",
    "\n",
    "\n",
    "We will create a new transient, based on the **v19-2004gq-corr** [sncosmo source](https://sncosmo.readthedocs.io/en/stable/source-list.html#list-of-built-in-sources) **template** (a TimeSerie). \n",
    "\n",
    "This transient will have a **rate** that increases up-to z=1 and then drops ; we will use a normal distribution. \n",
    "\n",
    "The TimeSerie sncosmo sources have 3 parameters, `z`, `amplitude` and `t0`. But, our transient has its absolute magnitude that dependent on his host's mass: these from masses greater than 10^10 solar masses are brighter than those from lower mass hosts.\n",
    "\n",
    "**Ok, let's go !**"
   ]
  },
  {
   "cell_type": "markdown",
   "id": "e4f3d23a",
   "metadata": {},
   "source": [
    "## 1. the template\n",
    "\n",
    "That is very simple, `skysurvey` accepts any sncosmo source."
   ]
  },
  {
   "cell_type": "code",
   "execution_count": 1,
   "id": "4d42da53",
   "metadata": {},
   "outputs": [],
   "source": [
    "my_template = \"v19-2004gt-corr\""
   ]
  },
  {
   "cell_type": "markdown",
   "id": "1da1242d",
   "metadata": {},
   "source": [
    "to be more explicit you could also do (this is what will happen under the hood):"
   ]
  },
  {
   "cell_type": "code",
   "execution_count": 2,
   "id": "7c93bc85",
   "metadata": {},
   "outputs": [],
   "source": [
    "from skysurvey.template import Template\n",
    "my_template = Template.from_sncosmo(\"v19-2004gt-corr\")"
   ]
  },
  {
   "cell_type": "markdown",
   "id": "cec7485d",
   "metadata": {},
   "source": [
    "## 2. change the rate\n",
    "\n",
    "We do not want a simple volumetric rate, but one that depends on redshift."
   ]
  },
  {
   "cell_type": "code",
   "execution_count": 26,
   "id": "f33cf1ad",
   "metadata": {},
   "outputs": [
    {
     "data": {
      "image/png": "[encoded data removed]",
      "text/plain": [
       "<Figure size 432x216 with 1 Axes>"
      ]
     },
     "metadata": {
      "needs_background": "light"
     },
     "output_type": "display_data"
    }
   ],
   "source": [
    "import numpy as np\n",
    "from scipy import stats\n",
    "def my_rate(z_, zmax=2, rise=1):\n",
    "    \"\"\" my own rate somewhat connected to Star Formation history \"\"\"\n",
    "    c = stats.norm.pdf(z_, loc=zmax, scale=rise)\n",
    "    return 0.015+c\n",
    "    \n",
    "# This is how it looks\n",
    "import matplotlib.pyplot as plt\n",
    "fig = plt.figure(figsize=[6,3])\n",
    "ax = fig.add_subplot(111)\n",
    "\n",
    "zz = np.linspace(0,5,1_000)\n",
    "ax.plot(zz, my_rate(zz))\n",
    "ax.set_xlabel(\"redshift\", fontsize=\"large\");"
   ]
  },
  {
   "cell_type": "markdown",
   "id": "95b0160b",
   "metadata": {},
   "source": [
    "The `my_rate` function can directly be used as **_RATE** class attribute"
   ]
  },
  {
   "cell_type": "markdown",
   "id": "70623e61",
   "metadata": {},
   "source": [
    "### Changing the rate of a TimeSerie\n",
    "\n",
    "So far, the only thing we do is to change the rate of a TimeSerie Transient, so let's inherite a TSTransient changing its rate, using `my_rate`"
   ]
  },
  {
   "cell_type": "code",
   "execution_count": 4,
   "id": "9fbb332c",
   "metadata": {},
   "outputs": [],
   "source": [
    "import skysurvey\n",
    "class MyTransient( skysurvey.TSTransient):\n",
    "    _TEMPLATE = \"v19-2004gt-corr\" # skysurvey.Template or sncosmo.source (or name)\n",
    "    _RATE = staticmethod(my_rate) # don't forget the static if given have class attribute"
   ]
  },
  {
   "cell_type": "code",
   "execution_count": 5,
   "id": "a023b82f",
   "metadata": {},
   "outputs": [],
   "source": [
    "mine = MyTransient.from_draw(size=10_000, zmax=2)\n",
    "\n",
    "classic = skysurvey.TSTransient.from_draw(size=10_000, zmax=2, \n",
    "                                          # For generic transient, specify the source and rate\n",
    "                                          rate=0.001, source=\"v19-2004gt-corr\")"
   ]
  },
  {
   "cell_type": "code",
   "execution_count": 27,
   "id": "e953aeb8",
   "metadata": {},
   "outputs": [
    {
     "data": {
      "image/png": "[encoded data removed]",
      "text/plain": [
       "<Figure size 360x288 with 1 Axes>"
      ]
     },
     "metadata": {
      "needs_background": "light"
     },
     "output_type": "display_data"
    }
   ],
   "source": [
    "from matplotlib.colors import to_rgba\n",
    "\n",
    "fig = plt.figure(figsize=[5,4])\n",
    "ax = fig.add_subplot(111)\n",
    "\n",
    "prop = dict(histtype=\"step\", fill=True, range=[0,2], bins=\"auto\")\n",
    "ax.hist(mine.data[\"z\"], facecolor=to_rgba(\"C0\",0.2), edgecolor=\"C0\", label=\"my_rate\", **prop)\n",
    "ax.hist(classic.data[\"z\"],  facecolor=to_rgba(\"C1\",0.2), edgecolor=\"C1\", label=\"volume rate\", **prop)\n",
    "\n",
    "ax.legend(loc=\"best\");"
   ]
  },
  {
   "cell_type": "markdown",
   "id": "d3cd81c5",
   "metadata": {},
   "source": [
    "### Directly using TSTransient.from_draw()\n",
    "\n",
    "`TSTransient` is very generic, so as long as you don't want to create a new class of transient to be vastly used, but simply want to see the effect of changing the rate, the model or the template, you can directly do it while calling `TSTransient.from_draw()`. These change will only affect the instance loaded. \n",
    "\n",
    "for instance, the above `mine` could have been created as such"
   ]
  },
  {
   "cell_type": "code",
   "execution_count": 7,
   "id": "716f79fd",
   "metadata": {},
   "outputs": [],
   "source": [
    "mine = skysurvey.TSTransient.from_draw(size=10_000, zmax=2, \n",
    "                                          # For generic transient, specify the source and rate\n",
    "                                          rate=my_rate, source=\"v19-2004gt-corr\")"
   ]
  },
  {
   "cell_type": "markdown",
   "id": "5d2efdeb",
   "metadata": {},
   "source": [
    "## 3. change the model\n",
    "\n",
    "\n",
    "As mentioned, we want a transient which absolute magnitude dependents on his host's mass. So we need to specify the host mass distribution model and how this connect the the absolute luminosity of the transient"
   ]
  },
  {
   "cell_type": "markdown",
   "id": "99843517",
   "metadata": {},
   "source": [
    "### 3.1 the `hostmass`\n",
    "\n",
    "[modeldag](https://github.com/MickaelRigault/modeldag) model's `func` can either return a list of values matching size (like random.uniform(size=)) or return 2 values, x and pdf(x). The code will then know it is a PDF and draw x, following this PDF to get the sample random distribution"
   ]
  },
  {
   "cell_type": "code",
   "execution_count": 8,
   "id": "17894c67",
   "metadata": {},
   "outputs": [],
   "source": [
    "def get_skewednormal(xx=\"6:13:0.01\", mu=11, sigma=2, skewness=-3):\n",
    "    \"\"\" pdf model for the host mass\"\"\"\n",
    "    if type(xx) == str: # assumed r_ input\n",
    "        xx = eval(f\"np.r_[{xx}]\")\n",
    "\n",
    "    pdf = (2/sigma) * stats.norm.pdf(xx, mu, sigma) * stats.norm.cdf(skewness*(xx-mu)/sigma, 0, 1)\n",
    "    # returns x and pdf(x) for modeldag\n",
    "    return xx, pdf\n",
    "    "
   ]
  },
  {
   "cell_type": "markdown",
   "id": "6a4e95d2",
   "metadata": {},
   "source": [
    "example:"
   ]
  },
  {
   "cell_type": "code",
   "execution_count": 9,
   "id": "50f43c80",
   "metadata": {},
   "outputs": [],
   "source": [
    "my_model = {\"hostmass\": {\"func\":get_skewednormal,\n",
    "                        \"kwargs\":{}}}"
   ]
  },
  {
   "cell_type": "code",
   "execution_count": 10,
   "id": "1b44f867",
   "metadata": {},
   "outputs": [],
   "source": [
    "import modeldag\n",
    "dag = modeldag.ModelDAG(my_model)"
   ]
  },
  {
   "cell_type": "code",
   "execution_count": 11,
   "id": "6c636ec9",
   "metadata": {},
   "outputs": [
    {
     "data": {
      "text/html": [
       "<div>\n",
       "<style scoped>\n",
       "    .dataframe tbody tr th:only-of-type {\n",
       "        vertical-align: middle;\n",
       "    }\n",
       "\n",
       "    .dataframe tbody tr th {\n",
       "        vertical-align: top;\n",
       "    }\n",
       "\n",
       "    .dataframe thead th {\n",
       "        text-align: right;\n",
       "    }\n",
       "</style>\n",
       "<table border=\"1\" class=\"dataframe\">\n",
       "  <thead>\n",
       "    <tr style=\"text-align: right;\">\n",
       "      <th></th>\n",
       "      <th>hostmass</th>\n",
       "    </tr>\n",
       "  </thead>\n",
       "  <tbody>\n",
       "    <tr>\n",
       "      <th>0</th>\n",
       "      <td>11.27</td>\n",
       "    </tr>\n",
       "    <tr>\n",
       "      <th>1</th>\n",
       "      <td>7.43</td>\n",
       "    </tr>\n",
       "    <tr>\n",
       "      <th>2</th>\n",
       "      <td>9.51</td>\n",
       "    </tr>\n",
       "    <tr>\n",
       "      <th>3</th>\n",
       "      <td>10.99</td>\n",
       "    </tr>\n",
       "    <tr>\n",
       "      <th>4</th>\n",
       "      <td>8.57</td>\n",
       "    </tr>\n",
       "  </tbody>\n",
       "</table>\n",
       "</div>"
      ],
      "text/plain": [
       "   hostmass\n",
       "0     11.27\n",
       "1      7.43\n",
       "2      9.51\n",
       "3     10.99\n",
       "4      8.57"
      ]
     },
     "execution_count": 11,
     "metadata": {},
     "output_type": "execute_result"
    }
   ],
   "source": [
    "dag.draw(100).head(5)"
   ]
  },
  {
   "cell_type": "markdown",
   "id": "e7c18251",
   "metadata": {},
   "source": [
    "### 3.2 An absolute magnitude (`magabs`) that depends on `hostmass`\n",
    "\n",
    "Say we want the targets to have a norm distribution ob -18±1 mag.\n",
    "\n",
    "But we want to targets from $hostmass > 10^{10}$ solar masses to be 0.1 mag brighter (so -19±1 mag)"
   ]
  },
  {
   "cell_type": "code",
   "execution_count": 12,
   "id": "6ccdb3a3",
   "metadata": {},
   "outputs": [],
   "source": [
    "def get_absolute_magnitude(hostmass, mean=-18, scale=1, magoffset=-1, masscut=10):\n",
    "    \"\"\" simple normal distribution with an offset for highmass hosts \"\"\"\n",
    "    size = len(hostmass)\n",
    "    magabs = np.random.normal(size=size, loc=-18, scale=1)\n",
    "    magabs[hostmass>masscut] += magoffset\n",
    "    return magabs"
   ]
  },
  {
   "cell_type": "markdown",
   "id": "07e4e78d",
   "metadata": {},
   "source": [
    "To connect the function and parameter (see [modeldag](https://github.com/MickaelRigault/modeldag))"
   ]
  },
  {
   "cell_type": "code",
   "execution_count": 13,
   "id": "8efd1276",
   "metadata": {},
   "outputs": [
    {
     "data": {
      "text/html": [
       "<div>\n",
       "<style scoped>\n",
       "    .dataframe tbody tr th:only-of-type {\n",
       "        vertical-align: middle;\n",
       "    }\n",
       "\n",
       "    .dataframe tbody tr th {\n",
       "        vertical-align: top;\n",
       "    }\n",
       "\n",
       "    .dataframe thead th {\n",
       "        text-align: right;\n",
       "    }\n",
       "</style>\n",
       "<table border=\"1\" class=\"dataframe\">\n",
       "  <thead>\n",
       "    <tr style=\"text-align: right;\">\n",
       "      <th></th>\n",
       "      <th>hostmass</th>\n",
       "      <th>magabs</th>\n",
       "    </tr>\n",
       "  </thead>\n",
       "  <tbody>\n",
       "    <tr>\n",
       "      <th>0</th>\n",
       "      <td>6.30</td>\n",
       "      <td>-17.478876</td>\n",
       "    </tr>\n",
       "    <tr>\n",
       "      <th>1</th>\n",
       "      <td>10.12</td>\n",
       "      <td>-18.296278</td>\n",
       "    </tr>\n",
       "    <tr>\n",
       "      <th>2</th>\n",
       "      <td>6.95</td>\n",
       "      <td>-18.516237</td>\n",
       "    </tr>\n",
       "    <tr>\n",
       "      <th>3</th>\n",
       "      <td>9.34</td>\n",
       "      <td>-17.528627</td>\n",
       "    </tr>\n",
       "    <tr>\n",
       "      <th>4</th>\n",
       "      <td>8.59</td>\n",
       "      <td>-18.331026</td>\n",
       "    </tr>\n",
       "  </tbody>\n",
       "</table>\n",
       "</div>"
      ],
      "text/plain": [
       "   hostmass     magabs\n",
       "0      6.30 -17.478876\n",
       "1     10.12 -18.296278\n",
       "2      6.95 -18.516237\n",
       "3      9.34 -17.528627\n",
       "4      8.59 -18.331026"
      ]
     },
     "execution_count": 13,
     "metadata": {},
     "output_type": "execute_result"
    }
   ],
   "source": [
    "my_model = {\"hostmass\": {\"func\":get_skewednormal,\n",
    "                        \"kwargs\":{}},\n",
    "           \"magabs\": {\"func\": get_absolute_magnitude,\n",
    "                      \"kwargs\":{\"hostmass\":\"@hostmass\"}\n",
    "                     }\n",
    "           }\n",
    "dag = modeldag.ModelDAG(my_model)\n",
    "dag.draw(100).head(5)"
   ]
  },
  {
   "cell_type": "markdown",
   "id": "64292267",
   "metadata": {},
   "source": [
    "### 3.3 draw `t0`,  `z`\n",
    "\n",
    "let's use simple uniform distribution for `t0` and the rate for `z`."
   ]
  },
  {
   "cell_type": "code",
   "execution_count": 14,
   "id": "ecd7ad4a",
   "metadata": {},
   "outputs": [],
   "source": [
    "my_model = {\"hostmass\": {\"func\":get_skewednormal,\n",
    "                        \"kwargs\":{}},\n",
    "           \"magabs\": {\"func\": get_absolute_magnitude,\n",
    "                      \"kwargs\":{\"hostmass\":\"@hostmass\"}\n",
    "                     },\n",
    "           \"t0\": {\"func\": np.random.uniform,\n",
    "                 \"kwargs\": {\"low\":56_000, \"high\":56_100}\n",
    "                 },\n",
    "            \"redshift\": {\"as\":\"z\"}, # use redshift with know other info to use rate\n",
    "           }\n"
   ]
  },
  {
   "cell_type": "markdown",
   "id": "489d20d4",
   "metadata": {},
   "source": [
    "### 3.4 the transient coordinates `ra`,`dec` (requested for matching the transient with a survey)"
   ]
  },
  {
   "cell_type": "code",
   "execution_count": 15,
   "id": "6e02829d",
   "metadata": {},
   "outputs": [],
   "source": [
    "from skysurvey.tools import random_radec"
   ]
  },
  {
   "cell_type": "code",
   "execution_count": 16,
   "id": "dde45744",
   "metadata": {},
   "outputs": [],
   "source": [
    "my_model = {\"hostmass\": {\"func\":get_skewednormal,\n",
    "                        \"kwargs\":{}},\n",
    "           \"magabs\": {\"func\": get_absolute_magnitude,\n",
    "                      \"kwargs\":{\"hostmass\":\"@hostmass\"}\n",
    "                     },\n",
    "           \"t0\": {\"func\": np.random.uniform,\n",
    "                 \"kwargs\": {\"low\":56_000, \"high\":56_100}\n",
    "                 },\n",
    "            \"redshift\": {\"as\":\"z\"}, # use redshift with know other info to use rate\n",
    "            \"radec\": {\"func\":random_radec,\n",
    "                     \"as\":[\"ra\",\"dec\"]} # random_radec returns a list, here are the names\n",
    "           }"
   ]
  },
  {
   "cell_type": "markdown",
   "id": "580fb5cb",
   "metadata": {},
   "source": [
    "### 3.4 derive `magobs` and `amplitude`\n",
    "\n",
    "The conversion methods between absolute magnitude to observed magnitude to model amplitude are part of the core Transient methods"
   ]
  },
  {
   "cell_type": "code",
   "execution_count": 17,
   "id": "34d6be6f",
   "metadata": {},
   "outputs": [],
   "source": [
    "my_model = {\"hostmass\": {\"func\":get_skewednormal,\n",
    "                        \"kwargs\":{}},\n",
    "           \"magabs\": {\"func\": get_absolute_magnitude,\n",
    "                      \"kwargs\":{\"hostmass\":\"@hostmass\"}\n",
    "                     },\n",
    "           \"t0\": {\"func\": np.random.uniform,\n",
    "                 \"kwargs\": {\"low\":56_000, \"high\":56_100}\n",
    "                 },\n",
    "            \"redshift\": {\"as\":\"z\", \"kwargs\":{\"zmax\":0.2}}, # use redshift with know other info to use rate\n",
    "            \"radec\": {\"func\":random_radec,\n",
    "                     \"as\":[\"ra\",\"dec\"]  # random_radec returns a list, here are the names\n",
    "                     },\n",
    "        \n",
    "            \"magobs\": {\"func\": \"magabs_to_magobs\", # in string, means method of Transient\n",
    "                        \"kwargs\":{\"z\": \"@z\", \"magabs\": \"@magabs\"}, # name of the input, after 'as'\n",
    "                     },\n",
    "            \"amplitude\": {\"func\":\"magobs_to_amplitude\",# in string, means method of Transient\n",
    "                          \"kwargs\":{\"magobs\":\"@magobs\"},\n",
    "                        }\n",
    "           }"
   ]
  },
  {
   "cell_type": "markdown",
   "id": "d172cfae",
   "metadata": {},
   "source": [
    "## `MyTransient`"
   ]
  },
  {
   "cell_type": "code",
   "execution_count": 18,
   "id": "928d5541",
   "metadata": {},
   "outputs": [],
   "source": [
    "from skysurvey.target import Transient\n",
    "class MyTransient( Transient):\n",
    "    _KIND = \"my_own_transient\" \n",
    "    _TEMPLATE = my_template\n",
    "    _RATE = staticmethod(my_rate)\n",
    "    _MODEL = my_model\n"
   ]
  },
  {
   "cell_type": "code",
   "execution_count": 19,
   "id": "0dbbc8e3",
   "metadata": {},
   "outputs": [],
   "source": [
    "my_transient = MyTransient()"
   ]
  },
  {
   "cell_type": "code",
   "execution_count": 20,
   "id": "38b6dd6c",
   "metadata": {},
   "outputs": [
    {
     "data": {
      "image/svg+xml": [
       "<svg xmlns=\"http://www.w3.org/2000/svg\" xmlns:xlink=\"http://www.w3.org/1999/xlink\" width=\"314pt\" height=\"260pt\" viewBox=\"0.00 0.00 314.21 260.00\">\n",
       "<g id=\"graph0\" class=\"graph\" transform=\"scale(1 1) rotate(0) translate(4 256)\">\n",
       "<polygon fill=\"white\" stroke=\"none\" points=\"-4,4 -4,-256 310.21,-256 310.21,4 -4,4\"/>\n",
       "<!-- hostmass -->\n",
       "<g id=\"node1\" class=\"node\">\n",
       "<title>hostmass</title>\n",
       "<ellipse fill=\"none\" stroke=\"black\" cx=\"45.21\" cy=\"-234\" rx=\"45.21\" ry=\"18\"/>\n",
       "<text text-anchor=\"middle\" x=\"45.21\" y=\"-228.95\" font-family=\"Times,serif\" font-size=\"14.00\">hostmass</text>\n",
       "</g>\n",
       "<!-- magabs -->\n",
       "<g id=\"node2\" class=\"node\">\n",
       "<title>magabs</title>\n",
       "<ellipse fill=\"none\" stroke=\"black\" cx=\"45.21\" cy=\"-162\" rx=\"39.58\" ry=\"18\"/>\n",
       "<text text-anchor=\"middle\" x=\"45.21\" y=\"-156.95\" font-family=\"Times,serif\" font-size=\"14.00\">magabs</text>\n",
       "</g>\n",
       "<!-- hostmass&#45;&gt;magabs -->\n",
       "<g id=\"edge1\" class=\"edge\">\n",
       "<title>hostmass-&gt;magabs</title>\n",
       "<path fill=\"none\" stroke=\"black\" d=\"M45.21,-215.7C45.21,-208.24 45.21,-199.32 45.21,-190.97\"/>\n",
       "<polygon fill=\"black\" stroke=\"black\" points=\"48.71,-191.1 45.21,-181.1 41.71,-191.1 48.71,-191.1\"/>\n",
       "</g>\n",
       "<!-- magobs -->\n",
       "<g id=\"node3\" class=\"node\">\n",
       "<title>magobs</title>\n",
       "<ellipse fill=\"none\" stroke=\"black\" cx=\"87.21\" cy=\"-90\" rx=\"40.09\" ry=\"18\"/>\n",
       "<text text-anchor=\"middle\" x=\"87.21\" y=\"-84.95\" font-family=\"Times,serif\" font-size=\"14.00\">magobs</text>\n",
       "</g>\n",
       "<!-- magabs&#45;&gt;magobs -->\n",
       "<g id=\"edge2\" class=\"edge\">\n",
       "<title>magabs-&gt;magobs</title>\n",
       "<path fill=\"none\" stroke=\"black\" d=\"M55.16,-144.41C60.13,-136.13 66.25,-125.92 71.81,-116.66\"/>\n",
       "<polygon fill=\"black\" stroke=\"black\" points=\"75.18,-118.85 77.33,-108.47 69.18,-115.24 75.18,-118.85\"/>\n",
       "</g>\n",
       "<!-- amplitude -->\n",
       "<g id=\"node4\" class=\"node\">\n",
       "<title>amplitude</title>\n",
       "<ellipse fill=\"none\" stroke=\"black\" cx=\"87.21\" cy=\"-18\" rx=\"48.28\" ry=\"18\"/>\n",
       "<text text-anchor=\"middle\" x=\"87.21\" y=\"-12.95\" font-family=\"Times,serif\" font-size=\"14.00\">amplitude</text>\n",
       "</g>\n",
       "<!-- magobs&#45;&gt;amplitude -->\n",
       "<g id=\"edge3\" class=\"edge\">\n",
       "<title>magobs-&gt;amplitude</title>\n",
       "<path fill=\"none\" stroke=\"black\" d=\"M87.21,-71.7C87.21,-64.24 87.21,-55.32 87.21,-46.97\"/>\n",
       "<polygon fill=\"black\" stroke=\"black\" points=\"90.71,-47.1 87.21,-37.1 83.71,-47.1 90.71,-47.1\"/>\n",
       "</g>\n",
       "<!-- t0 -->\n",
       "<g id=\"node5\" class=\"node\">\n",
       "<title>t0</title>\n",
       "<ellipse fill=\"none\" stroke=\"black\" cx=\"135.21\" cy=\"-234\" rx=\"27\" ry=\"18\"/>\n",
       "<text text-anchor=\"middle\" x=\"135.21\" y=\"-228.95\" font-family=\"Times,serif\" font-size=\"14.00\">t0</text>\n",
       "</g>\n",
       "<!-- z -->\n",
       "<g id=\"node6\" class=\"node\">\n",
       "<title>z</title>\n",
       "<ellipse fill=\"none\" stroke=\"black\" cx=\"130.21\" cy=\"-162\" rx=\"27\" ry=\"18\"/>\n",
       "<text text-anchor=\"middle\" x=\"130.21\" y=\"-156.95\" font-family=\"Times,serif\" font-size=\"14.00\">z</text>\n",
       "</g>\n",
       "<!-- z&#45;&gt;magobs -->\n",
       "<g id=\"edge4\" class=\"edge\">\n",
       "<title>z-&gt;magobs</title>\n",
       "<path fill=\"none\" stroke=\"black\" d=\"M120.24,-144.76C115.15,-136.49 108.85,-126.23 103.12,-116.9\"/>\n",
       "<polygon fill=\"black\" stroke=\"black\" points=\"105.64,-115.32 97.43,-108.63 99.68,-118.98 105.64,-115.32\"/>\n",
       "</g>\n",
       "<!-- ra -->\n",
       "<g id=\"node7\" class=\"node\">\n",
       "<title>ra</title>\n",
       "<ellipse fill=\"none\" stroke=\"black\" cx=\"207.21\" cy=\"-234\" rx=\"27\" ry=\"18\"/>\n",
       "<text text-anchor=\"middle\" x=\"207.21\" y=\"-228.95\" font-family=\"Times,serif\" font-size=\"14.00\">ra</text>\n",
       "</g>\n",
       "<!-- dec -->\n",
       "<g id=\"node8\" class=\"node\">\n",
       "<title>dec</title>\n",
       "<ellipse fill=\"none\" stroke=\"black\" cx=\"279.21\" cy=\"-234\" rx=\"27\" ry=\"18\"/>\n",
       "<text text-anchor=\"middle\" x=\"279.21\" y=\"-228.95\" font-family=\"Times,serif\" font-size=\"14.00\">dec</text>\n",
       "</g>\n",
       "</g>\n",
       "</svg>"
      ],
      "text/plain": [
       "<IPython.core.display.SVG object>"
      ]
     },
     "execution_count": 20,
     "metadata": {},
     "output_type": "execute_result"
    }
   ],
   "source": [
    "my_transient.model.visualize()"
   ]
  },
  {
   "cell_type": "code",
   "execution_count": 21,
   "id": "a4ad9dee",
   "metadata": {},
   "outputs": [],
   "source": [
    "_ = my_transient.draw(1_000)"
   ]
  },
  {
   "cell_type": "markdown",
   "id": "aa6337df",
   "metadata": {},
   "source": [
    "If now you are checking the variations"
   ]
  },
  {
   "cell_type": "code",
   "execution_count": 25,
   "id": "53312d9c",
   "metadata": {},
   "outputs": [
    {
     "data": {
      "image/png": "[encoded data removed]",
      "text/plain": [
       "<Figure size 504x288 with 1 Axes>"
      ]
     },
     "metadata": {
      "needs_background": "light"
     },
     "output_type": "display_data"
    }
   ],
   "source": [
    "fig = my_transient.show_scatter(\"hostmass\", \"magabs\")\n",
    "ax= fig.axes[0]\n",
    "\n",
    "ax.set_xlabel(\"host mass\", fontsize=\"large\")\n",
    "ax.set_ylabel(\"absolute magnitude\", fontsize=\"large\");\n"
   ]
  },
  {
   "cell_type": "code",
   "execution_count": null,
   "id": "9d4d30d8",
   "metadata": {},
   "outputs": [],
   "source": []
  }
 ],
 "metadata": {
  "kernelspec": {
   "display_name": "Python 3 (ipykernel)",
   "language": "python",
   "name": "python3"
  },
  "language_info": {
   "codemirror_mode": {
    "name": "ipython",
    "version": 3
   },
   "file_extension": ".py",
   "mimetype": "text/x-python",
   "name": "python",
   "nbconvert_exporter": "python",
   "pygments_lexer": "ipython3",
   "version": "3.9.16"
  }
 },
 "nbformat": 4,
 "nbformat_minor": 5
}
