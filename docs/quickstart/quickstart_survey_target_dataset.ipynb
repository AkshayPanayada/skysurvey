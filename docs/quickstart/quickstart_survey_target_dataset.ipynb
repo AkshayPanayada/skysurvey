{
 "cells": [
  {
   "cell_type": "markdown",
   "id": "b60ec1f5",
   "metadata": {},
   "source": [
    "# Quickstart: Target x Survey\n",
    "\n",
    "learn how to merge target inside a survey and simulate a dataset (observed version of target's data)"
   ]
  },
  {
   "cell_type": "code",
   "execution_count": 1,
   "id": "3dcbaca7",
   "metadata": {},
   "outputs": [],
   "source": [
    "from skysurvey import survey, target"
   ]
  },
  {
   "cell_type": "markdown",
   "id": "87b6af94",
   "metadata": {},
   "source": [
    "Following what we learned in Quickstart: target, let's create a SNeIa dataset of 5 000 targets"
   ]
  },
  {
   "cell_type": "markdown",
   "id": "b6935d9c",
   "metadata": {},
   "source": [
    "### Target | data given by nature"
   ]
  },
  {
   "cell_type": "code",
   "execution_count": 2,
   "id": "59aef035",
   "metadata": {},
   "outputs": [
    {
     "name": "stdout",
     "output_type": "stream",
     "text": [
      "CPU times: user 297 ms, sys: 13.5 ms, total: 310 ms\n",
      "Wall time: 312 ms\n"
     ]
    }
   ],
   "source": [
    "%%time\n",
    "snia = target.SNeIa.from_draw(500)"
   ]
  },
  {
   "cell_type": "markdown",
   "id": "0d7d9a8d",
   "metadata": {},
   "source": [
    "let's check when \"nature started\""
   ]
  },
  {
   "cell_type": "code",
   "execution_count": 3,
   "id": "8fa736b1",
   "metadata": {},
   "outputs": [],
   "source": [
    "starting_date = snia.data[\"t0\"].min()-50 # 50 days before the first target, no need to simulate a survey before that"
   ]
  },
  {
   "cell_type": "markdown",
   "id": "b91219d2",
   "metadata": {},
   "source": [
    "### Survey | What has been observed when and how. Here ZTF case"
   ]
  },
  {
   "cell_type": "code",
   "execution_count": 4,
   "id": "c2d2d2e4",
   "metadata": {},
   "outputs": [
    {
     "name": "stdout",
     "output_type": "stream",
     "text": [
      "CPU times: user 704 ms, sys: 45 ms, total: 749 ms\n",
      "Wall time: 758 ms\n"
     ]
    }
   ],
   "source": [
    "%%time\n",
    "ztf = survey.ZTF.from_random(size=365*2*500, # number of observation  2 years, 500 per day, small for the doc\n",
    "                     bands=[\"ztfg\",\"ztfr\",\"ztfi\"], # band to observed\n",
    "                     mjd_range=[starting_date, starting_date+365*4], # timerange of observation\n",
    "                     skynoise_range=[10,20], # sky noise\n",
    "                     )"
   ]
  },
  {
   "cell_type": "markdown",
   "id": "c867c7b9",
   "metadata": {},
   "source": [
    "### Target in Survey | let's check which target belongs to which field.\n",
    "\n",
    "This is particularly optiomized thanks to a combination of shapely, pandas and geopandas"
   ]
  },
  {
   "cell_type": "code",
   "execution_count": 7,
   "id": "d6484a5a",
   "metadata": {},
   "outputs": [
    {
     "name": "stdout",
     "output_type": "stream",
     "text": [
      "CPU times: user 29.4 ms, sys: 2.77 ms, total: 32.2 ms\n",
      "Wall time: 39 ms\n"
     ]
    }
   ],
   "source": [
    "%%time\n",
    "fieldid_of_targets = ztf.radec_to_fieldid(snia.data[[\"ra\",\"dec\"]].values)"
   ]
  },
  {
   "cell_type": "code",
   "execution_count": 8,
   "id": "2dc39eaf",
   "metadata": {},
   "outputs": [
    {
     "data": {
      "text/html": [
       "<div>\n",
       "<style scoped>\n",
       "    .dataframe tbody tr th:only-of-type {\n",
       "        vertical-align: middle;\n",
       "    }\n",
       "\n",
       "    .dataframe tbody tr th {\n",
       "        vertical-align: top;\n",
       "    }\n",
       "\n",
       "    .dataframe thead th {\n",
       "        text-align: right;\n",
       "    }\n",
       "</style>\n",
       "<table border=\"1\" class=\"dataframe\">\n",
       "  <thead>\n",
       "    <tr style=\"text-align: right;\">\n",
       "      <th></th>\n",
       "      <th>fieldid</th>\n",
       "    </tr>\n",
       "    <tr>\n",
       "      <th>index_radec</th>\n",
       "      <th></th>\n",
       "    </tr>\n",
       "  </thead>\n",
       "  <tbody>\n",
       "    <tr>\n",
       "      <th>0</th>\n",
       "      <td>458</td>\n",
       "    </tr>\n",
       "    <tr>\n",
       "      <th>0</th>\n",
       "      <td>1504</td>\n",
       "    </tr>\n",
       "    <tr>\n",
       "      <th>1</th>\n",
       "      <td>1661</td>\n",
       "    </tr>\n",
       "    <tr>\n",
       "      <th>1</th>\n",
       "      <td>1662</td>\n",
       "    </tr>\n",
       "    <tr>\n",
       "      <th>1</th>\n",
       "      <td>664</td>\n",
       "    </tr>\n",
       "    <tr>\n",
       "      <th>...</th>\n",
       "      <td>...</td>\n",
       "    </tr>\n",
       "    <tr>\n",
       "      <th>498</th>\n",
       "      <td>1692</td>\n",
       "    </tr>\n",
       "    <tr>\n",
       "      <th>498</th>\n",
       "      <td>694</td>\n",
       "    </tr>\n",
       "    <tr>\n",
       "      <th>499</th>\n",
       "      <td>783</td>\n",
       "    </tr>\n",
       "    <tr>\n",
       "      <th>499</th>\n",
       "      <td>1785</td>\n",
       "    </tr>\n",
       "    <tr>\n",
       "      <th>499</th>\n",
       "      <td>1818</td>\n",
       "    </tr>\n",
       "  </tbody>\n",
       "</table>\n",
       "<p>1121 rows × 1 columns</p>\n",
       "</div>"
      ],
      "text/plain": [
       "             fieldid\n",
       "index_radec         \n",
       "0                458\n",
       "0               1504\n",
       "1               1661\n",
       "1               1662\n",
       "1                664\n",
       "...              ...\n",
       "498             1692\n",
       "498              694\n",
       "499              783\n",
       "499             1785\n",
       "499             1818\n",
       "\n",
       "[1121 rows x 1 columns]"
      ]
     },
     "execution_count": 8,
     "metadata": {},
     "output_type": "execute_result"
    }
   ],
   "source": [
    "fieldid_of_targets"
   ]
  },
  {
   "cell_type": "markdown",
   "id": "e6c84dcc",
   "metadata": {},
   "source": [
    "### DataSet | The object that exploite the target x survey combination."
   ]
  },
  {
   "cell_type": "code",
   "execution_count": 9,
   "id": "02338908",
   "metadata": {},
   "outputs": [],
   "source": [
    "from skysurvey import DataSet"
   ]
  },
  {
   "cell_type": "markdown",
   "id": "0c99ecec",
   "metadata": {},
   "source": [
    "this not only match then SN with the target but already simulate the obseving point. "
   ]
  },
  {
   "cell_type": "code",
   "execution_count": 10,
   "id": "b4e72ee7",
   "metadata": {},
   "outputs": [
    {
     "name": "stdout",
     "output_type": "stream",
     "text": [
      "CPU times: user 2.5 s, sys: 63.9 ms, total: 2.56 s\n",
      "Wall time: 2.56 s\n"
     ]
    }
   ],
   "source": [
    "%%time\n",
    "dset = DataSet.from_targets_and_survey(snia, ztf)"
   ]
  },
  {
   "cell_type": "code",
   "execution_count": 11,
   "id": "34384fd1",
   "metadata": {},
   "outputs": [
    {
     "data": {
      "text/html": [
       "<div>\n",
       "<style scoped>\n",
       "    .dataframe tbody tr th:only-of-type {\n",
       "        vertical-align: middle;\n",
       "    }\n",
       "\n",
       "    .dataframe tbody tr th {\n",
       "        vertical-align: top;\n",
       "    }\n",
       "\n",
       "    .dataframe thead th {\n",
       "        text-align: right;\n",
       "    }\n",
       "</style>\n",
       "<table border=\"1\" class=\"dataframe\">\n",
       "  <thead>\n",
       "    <tr style=\"text-align: right;\">\n",
       "      <th></th>\n",
       "      <th></th>\n",
       "      <th>fieldid</th>\n",
       "      <th>time</th>\n",
       "      <th>band</th>\n",
       "      <th>flux</th>\n",
       "      <th>fluxerr</th>\n",
       "      <th>zp</th>\n",
       "      <th>zpsys</th>\n",
       "    </tr>\n",
       "    <tr>\n",
       "      <th>index</th>\n",
       "      <th></th>\n",
       "      <th></th>\n",
       "      <th></th>\n",
       "      <th></th>\n",
       "      <th></th>\n",
       "      <th></th>\n",
       "      <th></th>\n",
       "      <th></th>\n",
       "    </tr>\n",
       "  </thead>\n",
       "  <tbody>\n",
       "    <tr>\n",
       "      <th rowspan=\"5\" valign=\"top\">344</th>\n",
       "      <th>5447</th>\n",
       "      <td>199</td>\n",
       "      <td>55972.347656</td>\n",
       "      <td>ztfr</td>\n",
       "      <td>-6.720069</td>\n",
       "      <td>12.746425</td>\n",
       "      <td>25.0</td>\n",
       "      <td>ab</td>\n",
       "    </tr>\n",
       "    <tr>\n",
       "      <th>8518</th>\n",
       "      <td>199</td>\n",
       "      <td>55984.535156</td>\n",
       "      <td>ztfg</td>\n",
       "      <td>0.249437</td>\n",
       "      <td>18.556173</td>\n",
       "      <td>25.0</td>\n",
       "      <td>ab</td>\n",
       "    </tr>\n",
       "    <tr>\n",
       "      <th>9835</th>\n",
       "      <td>199</td>\n",
       "      <td>55989.562500</td>\n",
       "      <td>ztfg</td>\n",
       "      <td>8.388445</td>\n",
       "      <td>15.568666</td>\n",
       "      <td>25.0</td>\n",
       "      <td>ab</td>\n",
       "    </tr>\n",
       "    <tr>\n",
       "      <th>13112</th>\n",
       "      <td>199</td>\n",
       "      <td>56002.988281</td>\n",
       "      <td>ztfi</td>\n",
       "      <td>2.395748</td>\n",
       "      <td>18.125595</td>\n",
       "      <td>25.0</td>\n",
       "      <td>ab</td>\n",
       "    </tr>\n",
       "    <tr>\n",
       "      <th>13705</th>\n",
       "      <td>199</td>\n",
       "      <td>56005.488281</td>\n",
       "      <td>ztfr</td>\n",
       "      <td>21.348891</td>\n",
       "      <td>16.354838</td>\n",
       "      <td>25.0</td>\n",
       "      <td>ab</td>\n",
       "    </tr>\n",
       "    <tr>\n",
       "      <th>...</th>\n",
       "      <th>...</th>\n",
       "      <td>...</td>\n",
       "      <td>...</td>\n",
       "      <td>...</td>\n",
       "      <td>...</td>\n",
       "      <td>...</td>\n",
       "      <td>...</td>\n",
       "      <td>...</td>\n",
       "    </tr>\n",
       "    <tr>\n",
       "      <th rowspan=\"5\" valign=\"top\">289</th>\n",
       "      <th>357602</th>\n",
       "      <td>1895</td>\n",
       "      <td>57380.433594</td>\n",
       "      <td>ztfr</td>\n",
       "      <td>1.276450</td>\n",
       "      <td>16.059053</td>\n",
       "      <td>25.0</td>\n",
       "      <td>ab</td>\n",
       "    </tr>\n",
       "    <tr>\n",
       "      <th>358082</th>\n",
       "      <td>1895</td>\n",
       "      <td>57382.363281</td>\n",
       "      <td>ztfr</td>\n",
       "      <td>23.098223</td>\n",
       "      <td>16.139620</td>\n",
       "      <td>25.0</td>\n",
       "      <td>ab</td>\n",
       "    </tr>\n",
       "    <tr>\n",
       "      <th>360734</th>\n",
       "      <td>1895</td>\n",
       "      <td>57393.062500</td>\n",
       "      <td>ztfi</td>\n",
       "      <td>19.760541</td>\n",
       "      <td>17.794781</td>\n",
       "      <td>25.0</td>\n",
       "      <td>ab</td>\n",
       "    </tr>\n",
       "    <tr>\n",
       "      <th>362830</th>\n",
       "      <td>1895</td>\n",
       "      <td>57401.339844</td>\n",
       "      <td>ztfi</td>\n",
       "      <td>-41.647041</td>\n",
       "      <td>14.575265</td>\n",
       "      <td>25.0</td>\n",
       "      <td>ab</td>\n",
       "    </tr>\n",
       "    <tr>\n",
       "      <th>364667</th>\n",
       "      <td>1895</td>\n",
       "      <td>57408.808594</td>\n",
       "      <td>ztfi</td>\n",
       "      <td>11.506163</td>\n",
       "      <td>18.682911</td>\n",
       "      <td>25.0</td>\n",
       "      <td>ab</td>\n",
       "    </tr>\n",
       "  </tbody>\n",
       "</table>\n",
       "<p>230426 rows × 7 columns</p>\n",
       "</div>"
      ],
      "text/plain": [
       "              fieldid          time  band       flux    fluxerr    zp zpsys\n",
       "index                                                                      \n",
       "344   5447        199  55972.347656  ztfr  -6.720069  12.746425  25.0    ab\n",
       "      8518        199  55984.535156  ztfg   0.249437  18.556173  25.0    ab\n",
       "      9835        199  55989.562500  ztfg   8.388445  15.568666  25.0    ab\n",
       "      13112       199  56002.988281  ztfi   2.395748  18.125595  25.0    ab\n",
       "      13705       199  56005.488281  ztfr  21.348891  16.354838  25.0    ab\n",
       "...               ...           ...   ...        ...        ...   ...   ...\n",
       "289   357602     1895  57380.433594  ztfr   1.276450  16.059053  25.0    ab\n",
       "      358082     1895  57382.363281  ztfr  23.098223  16.139620  25.0    ab\n",
       "      360734     1895  57393.062500  ztfi  19.760541  17.794781  25.0    ab\n",
       "      362830     1895  57401.339844  ztfi -41.647041  14.575265  25.0    ab\n",
       "      364667     1895  57408.808594  ztfi  11.506163  18.682911  25.0    ab\n",
       "\n",
       "[230426 rows x 7 columns]"
      ]
     },
     "execution_count": 11,
     "metadata": {},
     "output_type": "execute_result"
    }
   ],
   "source": [
    "dset.data"
   ]
  },
  {
   "cell_type": "code",
   "execution_count": null,
   "id": "d19c9dd5",
   "metadata": {},
   "outputs": [],
   "source": []
  },
  {
   "cell_type": "code",
   "execution_count": 12,
   "id": "28c43d05",
   "metadata": {
    "scrolled": false
   },
   "outputs": [
    {
     "data": {
      "text/plain": [
       "z         0.195500\n",
       "x1       -0.100000\n",
       "c         0.080000\n",
       "t0    56882.218750\n",
       "x0        0.000076\n",
       "Name: 90, dtype: float32"
      ]
     },
     "execution_count": 12,
     "metadata": {},
     "output_type": "execute_result"
    },
    {
     "data": {
      "image/png": "[encoded data removed]",
      "text/plain": [
       "<Figure size 504x288 with 1 Axes>"
      ]
     },
     "metadata": {
      "needs_background": "light"
     },
     "output_type": "display_data"
    }
   ],
   "source": [
    "_ = dset.show_target_lightcurve(index=90, phase_window=[-30, 70])\n",
    "dset.targets.get_template_parameters(index=90)"
   ]
  },
  {
   "cell_type": "code",
   "execution_count": 13,
   "id": "5473ea4f",
   "metadata": {},
   "outputs": [
    {
     "name": "stdout",
     "output_type": "stream",
     "text": [
      "CPU times: user 27.4 ms, sys: 8.91 ms, total: 36.3 ms\n",
      "Wall time: 38.8 ms\n"
     ]
    },
    {
     "data": {
      "text/plain": [
       "index  band\n",
       "0      ztfg    1\n",
       "       ztfi    3\n",
       "       ztfr    1\n",
       "1      ztfg    0\n",
       "       ztfi    1\n",
       "              ..\n",
       "498    ztfi    0\n",
       "       ztfr    2\n",
       "499    ztfg    3\n",
       "       ztfi    2\n",
       "       ztfr    1\n",
       "Name: detected, Length: 1497, dtype: int64"
      ]
     },
     "execution_count": 13,
     "metadata": {},
     "output_type": "execute_result"
    }
   ],
   "source": [
    "%%time\n",
    "dset.get_ndetection(per_band=True)"
   ]
  },
  {
   "cell_type": "code",
   "execution_count": null,
   "id": "b4980801",
   "metadata": {},
   "outputs": [],
   "source": []
  }
 ],
 "metadata": {
  "kernelspec": {
   "display_name": "Python 3 (ipykernel)",
   "language": "python",
   "name": "python3"
  },
  "language_info": {
   "codemirror_mode": {
    "name": "ipython",
    "version": 3
   },
   "file_extension": ".py",
   "mimetype": "text/x-python",
   "name": "python",
   "nbconvert_exporter": "python",
   "pygments_lexer": "ipython3",
   "version": "3.9.16"
  }
 },
 "nbformat": 4,
 "nbformat_minor": 5
}
