{
 "cells": [
  {
   "cell_type": "markdown",
   "id": "b60ec1f5",
   "metadata": {},
   "source": [
    "# Quickstart: Target x Survey\n",
    "\n",
    "learn how to merge target inside a survey and simulate a dataset (observed version of target's data)"
   ]
  },
  {
   "cell_type": "code",
   "execution_count": 1,
   "id": "3dcbaca7",
   "metadata": {},
   "outputs": [
    {
     "name": "stderr",
     "output_type": "stream",
     "text": [
      "WARNING: AstropyDeprecationWarning: The update_default_config function is deprecated and may be removed in a future version. [sncosmo]\n",
      "/Users/rigault/miniforge3/lib/python3.9/site-packages/ztfquery-1.19.1-py3.9.egg/ztfquery/utils/tools.py:78: VisibleDeprecationWarning: Creating an ndarray from ragged nested sequences (which is a list-or-tuple of lists-or-tuples-or ndarrays with different lengths or shapes) is deprecated. If you meant to do this, you must specify 'dtype=object' when creating the ndarray.\n",
      "  return np.asarray([v[0]*np.cos(theta*_DEG2RA) - v[2]*np.sin(theta*_DEG2RA),\n"
     ]
    }
   ],
   "source": [
    "from skysurvey import survey, target"
   ]
  },
  {
   "cell_type": "markdown",
   "id": "87b6af94",
   "metadata": {},
   "source": [
    "Following what we learned in Quickstart: target, let's create a SNeIa dataset of 5 000 targets"
   ]
  },
  {
   "cell_type": "markdown",
   "id": "b6935d9c",
   "metadata": {},
   "source": [
    "### Target | data given by nature"
   ]
  },
  {
   "cell_type": "code",
   "execution_count": 2,
   "id": "59aef035",
   "metadata": {},
   "outputs": [
    {
     "name": "stdout",
     "output_type": "stream",
     "text": [
      "CPU times: user 105 ms, sys: 9.1 ms, total: 114 ms\n",
      "Wall time: 113 ms\n"
     ]
    }
   ],
   "source": [
    "%%time\n",
    "snia = target.SNeIa.from_draw(500)"
   ]
  },
  {
   "cell_type": "markdown",
   "id": "0d7d9a8d",
   "metadata": {},
   "source": [
    "let's check when \"nature started\""
   ]
  },
  {
   "cell_type": "code",
   "execution_count": 3,
   "id": "8fa736b1",
   "metadata": {},
   "outputs": [],
   "source": [
    "starting_date = snia.data[\"t0\"].min()-50 # 50 days before the first target, no need to simulate a survey before that"
   ]
  },
  {
   "cell_type": "markdown",
   "id": "b91219d2",
   "metadata": {},
   "source": [
    "### Survey | What has been observed when and how. Here ZTF case"
   ]
  },
  {
   "cell_type": "code",
   "execution_count": 4,
   "id": "c2d2d2e4",
   "metadata": {},
   "outputs": [
    {
     "name": "stdout",
     "output_type": "stream",
     "text": [
      "CPU times: user 375 ms, sys: 37.2 ms, total: 412 ms\n",
      "Wall time: 411 ms\n"
     ]
    }
   ],
   "source": [
    "%%time\n",
    "ztf = survey.ZTF.from_random(size=365*2*500, # number of observation  2 years, 500 per day, small for the doc\n",
    "                     bands=[\"ztfg\",\"ztfr\",\"ztfi\"], # band to observed\n",
    "                     mjd_range=[starting_date, starting_date+365*4], # timerange of observation\n",
    "                     skynoise_range=[10,20], # sky noise\n",
    "                     )"
   ]
  },
  {
   "cell_type": "markdown",
   "id": "c867c7b9",
   "metadata": {},
   "source": [
    "### Target in Survey | let's check which target belongs to which field.\n",
    "\n",
    "This is particularly optiomized thanks to a combination of shapely, pandas and geopandas"
   ]
  },
  {
   "cell_type": "code",
   "execution_count": 5,
   "id": "d6484a5a",
   "metadata": {},
   "outputs": [
    {
     "name": "stdout",
     "output_type": "stream",
     "text": [
      "CPU times: user 96.7 ms, sys: 2.81 ms, total: 99.5 ms\n",
      "Wall time: 102 ms\n"
     ]
    }
   ],
   "source": [
    "%%time\n",
    "fieldid_of_targets = ztf.radec_to_fieldid(*snia.data[[\"ra\",\"dec\"]].values.T)"
   ]
  },
  {
   "cell_type": "code",
   "execution_count": 6,
   "id": "2dc39eaf",
   "metadata": {},
   "outputs": [
    {
     "data": {
      "text/plain": [
       "index_radec\n",
       "0            [1889, 874]\n",
       "1      [1834, 829, 1859]\n",
       "2            [609, 1654]\n",
       "3       [771, 1807, 803]\n",
       "4            [1307, 315]\n",
       "             ...        \n",
       "495          [381, 1426]\n",
       "496    [1354, 362, 1406]\n",
       "497          [514, 1508]\n",
       "498     [572, 571, 1567]\n",
       "499          [1538, 492]\n",
       "Name: fieldid, Length: 499, dtype: object"
      ]
     },
     "execution_count": 6,
     "metadata": {},
     "output_type": "execute_result"
    }
   ],
   "source": [
    "fieldid_of_targets"
   ]
  },
  {
   "cell_type": "markdown",
   "id": "e6c84dcc",
   "metadata": {},
   "source": [
    "### DataSet | The object that exploite the target x survey combination."
   ]
  },
  {
   "cell_type": "code",
   "execution_count": 7,
   "id": "02338908",
   "metadata": {},
   "outputs": [],
   "source": [
    "from skysurvey import DataSet"
   ]
  },
  {
   "cell_type": "markdown",
   "id": "0c99ecec",
   "metadata": {},
   "source": [
    "this not only match then SN with the target but already simulate the obseving point. "
   ]
  },
  {
   "cell_type": "code",
   "execution_count": 8,
   "id": "b4e72ee7",
   "metadata": {},
   "outputs": [
    {
     "name": "stdout",
     "output_type": "stream",
     "text": [
      "CPU times: user 2.92 s, sys: 184 ms, total: 3.11 s\n",
      "Wall time: 3.12 s\n"
     ]
    }
   ],
   "source": [
    "%%time\n",
    "dset = DataSet.from_targets_and_survey(snia, ztf)"
   ]
  },
  {
   "cell_type": "code",
   "execution_count": 9,
   "id": "34384fd1",
   "metadata": {},
   "outputs": [
    {
     "data": {
      "text/html": [
       "<div>\n",
       "<style scoped>\n",
       "    .dataframe tbody tr th:only-of-type {\n",
       "        vertical-align: middle;\n",
       "    }\n",
       "\n",
       "    .dataframe tbody tr th {\n",
       "        vertical-align: top;\n",
       "    }\n",
       "\n",
       "    .dataframe thead th {\n",
       "        text-align: right;\n",
       "    }\n",
       "</style>\n",
       "<table border=\"1\" class=\"dataframe\">\n",
       "  <thead>\n",
       "    <tr style=\"text-align: right;\">\n",
       "      <th></th>\n",
       "      <th></th>\n",
       "      <th>fieldid</th>\n",
       "      <th>time</th>\n",
       "      <th>band</th>\n",
       "      <th>flux</th>\n",
       "      <th>fluxerr</th>\n",
       "      <th>zp</th>\n",
       "      <th>zpsys</th>\n",
       "    </tr>\n",
       "  </thead>\n",
       "  <tbody>\n",
       "    <tr>\n",
       "      <th rowspan=\"5\" valign=\"top\">0</th>\n",
       "      <th>0</th>\n",
       "      <td>1634</td>\n",
       "      <td>60202.547250</td>\n",
       "      <td>ztfi</td>\n",
       "      <td>-17.630831</td>\n",
       "      <td>12.885751</td>\n",
       "      <td>25.0</td>\n",
       "      <td>ab</td>\n",
       "    </tr>\n",
       "    <tr>\n",
       "      <th>1</th>\n",
       "      <td>1634</td>\n",
       "      <td>60209.519592</td>\n",
       "      <td>ztfi</td>\n",
       "      <td>6.734005</td>\n",
       "      <td>17.697652</td>\n",
       "      <td>25.0</td>\n",
       "      <td>ab</td>\n",
       "    </tr>\n",
       "    <tr>\n",
       "      <th>2</th>\n",
       "      <td>1634</td>\n",
       "      <td>60214.536581</td>\n",
       "      <td>ztfr</td>\n",
       "      <td>-23.603692</td>\n",
       "      <td>17.212283</td>\n",
       "      <td>25.0</td>\n",
       "      <td>ab</td>\n",
       "    </tr>\n",
       "    <tr>\n",
       "      <th>3</th>\n",
       "      <td>1634</td>\n",
       "      <td>60223.346646</td>\n",
       "      <td>ztfg</td>\n",
       "      <td>11.628628</td>\n",
       "      <td>10.428724</td>\n",
       "      <td>25.0</td>\n",
       "      <td>ab</td>\n",
       "    </tr>\n",
       "    <tr>\n",
       "      <th>4</th>\n",
       "      <td>1634</td>\n",
       "      <td>60223.889017</td>\n",
       "      <td>ztfr</td>\n",
       "      <td>-10.949704</td>\n",
       "      <td>16.725492</td>\n",
       "      <td>25.0</td>\n",
       "      <td>ab</td>\n",
       "    </tr>\n",
       "    <tr>\n",
       "      <th>...</th>\n",
       "      <th>...</th>\n",
       "      <td>...</td>\n",
       "      <td>...</td>\n",
       "      <td>...</td>\n",
       "      <td>...</td>\n",
       "      <td>...</td>\n",
       "      <td>...</td>\n",
       "      <td>...</td>\n",
       "    </tr>\n",
       "    <tr>\n",
       "      <th rowspan=\"5\" valign=\"top\">498</th>\n",
       "      <th>209</th>\n",
       "      <td>1424</td>\n",
       "      <td>61621.617909</td>\n",
       "      <td>ztfi</td>\n",
       "      <td>17.613123</td>\n",
       "      <td>17.177373</td>\n",
       "      <td>25.0</td>\n",
       "      <td>ab</td>\n",
       "    </tr>\n",
       "    <tr>\n",
       "      <th>210</th>\n",
       "      <td>1424</td>\n",
       "      <td>61640.130176</td>\n",
       "      <td>ztfg</td>\n",
       "      <td>-24.355185</td>\n",
       "      <td>19.809705</td>\n",
       "      <td>25.0</td>\n",
       "      <td>ab</td>\n",
       "    </tr>\n",
       "    <tr>\n",
       "      <th>211</th>\n",
       "      <td>1424</td>\n",
       "      <td>61648.902346</td>\n",
       "      <td>ztfi</td>\n",
       "      <td>0.745269</td>\n",
       "      <td>18.472136</td>\n",
       "      <td>25.0</td>\n",
       "      <td>ab</td>\n",
       "    </tr>\n",
       "    <tr>\n",
       "      <th>212</th>\n",
       "      <td>1424</td>\n",
       "      <td>61652.950660</td>\n",
       "      <td>ztfg</td>\n",
       "      <td>18.452039</td>\n",
       "      <td>17.785061</td>\n",
       "      <td>25.0</td>\n",
       "      <td>ab</td>\n",
       "    </tr>\n",
       "    <tr>\n",
       "      <th>213</th>\n",
       "      <td>1424</td>\n",
       "      <td>61655.064544</td>\n",
       "      <td>ztfi</td>\n",
       "      <td>-8.593325</td>\n",
       "      <td>15.680207</td>\n",
       "      <td>25.0</td>\n",
       "      <td>ab</td>\n",
       "    </tr>\n",
       "  </tbody>\n",
       "</table>\n",
       "<p>230889 rows × 7 columns</p>\n",
       "</div>"
      ],
      "text/plain": [
       "         fieldid          time  band       flux    fluxerr    zp zpsys\n",
       "0   0       1634  60202.547250  ztfi -17.630831  12.885751  25.0    ab\n",
       "    1       1634  60209.519592  ztfi   6.734005  17.697652  25.0    ab\n",
       "    2       1634  60214.536581  ztfr -23.603692  17.212283  25.0    ab\n",
       "    3       1634  60223.346646  ztfg  11.628628  10.428724  25.0    ab\n",
       "    4       1634  60223.889017  ztfr -10.949704  16.725492  25.0    ab\n",
       "...          ...           ...   ...        ...        ...   ...   ...\n",
       "498 209     1424  61621.617909  ztfi  17.613123  17.177373  25.0    ab\n",
       "    210     1424  61640.130176  ztfg -24.355185  19.809705  25.0    ab\n",
       "    211     1424  61648.902346  ztfi   0.745269  18.472136  25.0    ab\n",
       "    212     1424  61652.950660  ztfg  18.452039  17.785061  25.0    ab\n",
       "    213     1424  61655.064544  ztfi  -8.593325  15.680207  25.0    ab\n",
       "\n",
       "[230889 rows x 7 columns]"
      ]
     },
     "execution_count": 9,
     "metadata": {},
     "output_type": "execute_result"
    }
   ],
   "source": [
    "dset.data"
   ]
  },
  {
   "cell_type": "code",
   "execution_count": null,
   "id": "d19c9dd5",
   "metadata": {},
   "outputs": [],
   "source": []
  },
  {
   "cell_type": "code",
   "execution_count": 10,
   "id": "28c43d05",
   "metadata": {
    "scrolled": false
   },
   "outputs": [
    {
     "data": {
      "text/plain": [
       "z         0.145500\n",
       "x1       -0.839000\n",
       "c        -0.012000\n",
       "t0    60249.357479\n",
       "x0        0.000189\n",
       "Name: 90, dtype: float64"
      ]
     },
     "execution_count": 10,
     "metadata": {},
     "output_type": "execute_result"
    },
    {
     "data": {
      "image/png": "[encoded data removed]",
      "text/plain": [
       "<Figure size 504x288 with 1 Axes>"
      ]
     },
     "metadata": {
      "needs_background": "light"
     },
     "output_type": "display_data"
    }
   ],
   "source": [
    "_ = dset.show_target_lightcurve(index=90, phase_window=[-30, 70])\n",
    "dset.targets.get_template_parameters(index=90)"
   ]
  },
  {
   "cell_type": "code",
   "execution_count": 11,
   "id": "5473ea4f",
   "metadata": {},
   "outputs": [
    {
     "name": "stdout",
     "output_type": "stream",
     "text": [
      "CPU times: user 39.7 ms, sys: 25.7 ms, total: 65.3 ms\n",
      "Wall time: 65.4 ms\n"
     ]
    },
    {
     "data": {
      "text/plain": [
       "level_0  band\n",
       "0        ztfg    0\n",
       "         ztfi    2\n",
       "         ztfr    1\n",
       "1        ztfg    3\n",
       "         ztfi    3\n",
       "                ..\n",
       "498      ztfi    6\n",
       "         ztfr    6\n",
       "499      ztfg    0\n",
       "         ztfi    0\n",
       "         ztfr    0\n",
       "Name: detected, Length: 1497, dtype: int64"
      ]
     },
     "execution_count": 11,
     "metadata": {},
     "output_type": "execute_result"
    }
   ],
   "source": [
    "%%time\n",
    "dset.get_ndetection(per_band=True)"
   ]
  },
  {
   "cell_type": "markdown",
   "id": "c0836e20",
   "metadata": {},
   "source": [
    "***"
   ]
  }
 ],
 "metadata": {
  "kernelspec": {
   "display_name": "Python 3 (ipykernel)",
   "language": "python",
   "name": "python3"
  },
  "language_info": {
   "codemirror_mode": {
    "name": "ipython",
    "version": 3
   },
   "file_extension": ".py",
   "mimetype": "text/x-python",
   "name": "python",
   "nbconvert_exporter": "python",
   "pygments_lexer": "ipython3",
   "version": "3.9.13"
  }
 },
 "nbformat": 4,
 "nbformat_minor": 5
}
