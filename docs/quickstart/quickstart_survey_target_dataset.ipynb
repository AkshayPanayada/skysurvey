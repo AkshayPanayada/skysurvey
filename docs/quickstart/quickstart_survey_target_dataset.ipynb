{
 "cells": [
  {
   "cell_type": "markdown",
   "id": "b60ec1f5",
   "metadata": {},
   "source": [
    "# Quickstart: Target x Survey\n",
    "\n",
    "learn how to merge target inside a survey and simulate a dataset (observed version of target's data)"
   ]
  },
  {
   "cell_type": "code",
   "execution_count": 1,
   "id": "3dcbaca7",
   "metadata": {},
   "outputs": [
    {
     "name": "stderr",
     "output_type": "stream",
     "text": [
      "WARNING: AstropyDeprecationWarning: The update_default_config function is deprecated and may be removed in a future version. [sncosmo]\n",
      "/Users/rigault/miniforge3/lib/python3.9/site-packages/ztfquery-1.19.0-py3.9.egg/ztfquery/utils/tools.py:78: VisibleDeprecationWarning: Creating an ndarray from ragged nested sequences (which is a list-or-tuple of lists-or-tuples-or ndarrays with different lengths or shapes) is deprecated. If you meant to do this, you must specify 'dtype=object' when creating the ndarray.\n",
      "  return np.asarray([v[0]*np.cos(theta*_DEG2RA) - v[2]*np.sin(theta*_DEG2RA),\n"
     ]
    }
   ],
   "source": [
    "from skysurvey import survey, target"
   ]
  },
  {
   "cell_type": "markdown",
   "id": "87b6af94",
   "metadata": {},
   "source": [
    "Following what we learned in Quickstart: target, let's create a SNeIa dataset of 5 000 targets"
   ]
  },
  {
   "cell_type": "markdown",
   "id": "b6935d9c",
   "metadata": {},
   "source": [
    "### Target | data given by nature"
   ]
  },
  {
   "cell_type": "code",
   "execution_count": 2,
   "id": "59aef035",
   "metadata": {},
   "outputs": [
    {
     "name": "stdout",
     "output_type": "stream",
     "text": [
      "CPU times: user 106 ms, sys: 9.2 ms, total: 115 ms\n",
      "Wall time: 114 ms\n"
     ]
    }
   ],
   "source": [
    "%%time\n",
    "snia = target.SNeIa.from_draw(500)"
   ]
  },
  {
   "cell_type": "markdown",
   "id": "0d7d9a8d",
   "metadata": {},
   "source": [
    "let's check when \"nature started\""
   ]
  },
  {
   "cell_type": "code",
   "execution_count": 3,
   "id": "8fa736b1",
   "metadata": {},
   "outputs": [],
   "source": [
    "starting_date = snia.data[\"t0\"].min()-50 # 50 days before the first target, no need to simulate a survey before that"
   ]
  },
  {
   "cell_type": "markdown",
   "id": "b91219d2",
   "metadata": {},
   "source": [
    "### Survey | What has been observed when and how. Here ZTF case"
   ]
  },
  {
   "cell_type": "code",
   "execution_count": 4,
   "id": "c2d2d2e4",
   "metadata": {},
   "outputs": [
    {
     "name": "stdout",
     "output_type": "stream",
     "text": [
      "CPU times: user 376 ms, sys: 40.6 ms, total: 416 ms\n",
      "Wall time: 418 ms\n"
     ]
    }
   ],
   "source": [
    "%%time\n",
    "ztf = survey.ZTF.from_random(size=365*2*500, # number of observation  2 years, 500 per day, small for the doc\n",
    "                     bands=[\"ztfg\",\"ztfr\",\"ztfi\"], # band to observed\n",
    "                     mjd_range=[starting_date, starting_date+365*4], # timerange of observation\n",
    "                     skynoise_range=[10,20], # sky noise\n",
    "                     )"
   ]
  },
  {
   "cell_type": "markdown",
   "id": "c867c7b9",
   "metadata": {},
   "source": [
    "### Target in Survey | let's check which target belongs to which field.\n",
    "\n",
    "This is particularly optiomized thanks to a combination of shapely, pandas and geopandas"
   ]
  },
  {
   "cell_type": "code",
   "execution_count": 5,
   "id": "d6484a5a",
   "metadata": {},
   "outputs": [
    {
     "name": "stdout",
     "output_type": "stream",
     "text": [
      "CPU times: user 114 ms, sys: 3.68 ms, total: 117 ms\n",
      "Wall time: 121 ms\n"
     ]
    }
   ],
   "source": [
    "%%time\n",
    "fieldid_of_targets = ztf.radec_to_fieldid(*snia.data[[\"ra\",\"dec\"]].values.T)"
   ]
  },
  {
   "cell_type": "code",
   "execution_count": 6,
   "id": "2dc39eaf",
   "metadata": {},
   "outputs": [
    {
     "data": {
      "text/plain": [
       "index_radec\n",
       "0      [1850, 1822, 818, 1849]\n",
       "1                  [290, 1332]\n",
       "2                  [1645, 648]\n",
       "3                  [1306, 314]\n",
       "4            [1741, 1740, 742]\n",
       "                ...           \n",
       "495                [1680, 635]\n",
       "496                [1325, 333]\n",
       "497                [762, 1798]\n",
       "498                [602, 1598]\n",
       "499                [351, 1343]\n",
       "Name: fieldid, Length: 498, dtype: object"
      ]
     },
     "execution_count": 6,
     "metadata": {},
     "output_type": "execute_result"
    }
   ],
   "source": [
    "fieldid_of_targets"
   ]
  },
  {
   "cell_type": "markdown",
   "id": "e6c84dcc",
   "metadata": {},
   "source": [
    "### DataSet | The object that exploite the target x survey combination."
   ]
  },
  {
   "cell_type": "code",
   "execution_count": 7,
   "id": "02338908",
   "metadata": {},
   "outputs": [],
   "source": [
    "from skysurvey import DataSet"
   ]
  },
  {
   "cell_type": "markdown",
   "id": "0c99ecec",
   "metadata": {},
   "source": [
    "this not only match then SN with the target but already simulate the obseving point. "
   ]
  },
  {
   "cell_type": "code",
   "execution_count": 8,
   "id": "b4e72ee7",
   "metadata": {},
   "outputs": [
    {
     "name": "stdout",
     "output_type": "stream",
     "text": [
      "CPU times: user 2.83 s, sys: 117 ms, total: 2.94 s\n",
      "Wall time: 2.95 s\n"
     ]
    }
   ],
   "source": [
    "%%time\n",
    "dset = DataSet.from_targets_and_survey(snia, ztf)"
   ]
  },
  {
   "cell_type": "code",
   "execution_count": 9,
   "id": "34384fd1",
   "metadata": {},
   "outputs": [
    {
     "data": {
      "text/html": [
       "<div>\n",
       "<style scoped>\n",
       "    .dataframe tbody tr th:only-of-type {\n",
       "        vertical-align: middle;\n",
       "    }\n",
       "\n",
       "    .dataframe tbody tr th {\n",
       "        vertical-align: top;\n",
       "    }\n",
       "\n",
       "    .dataframe thead th {\n",
       "        text-align: right;\n",
       "    }\n",
       "</style>\n",
       "<table border=\"1\" class=\"dataframe\">\n",
       "  <thead>\n",
       "    <tr style=\"text-align: right;\">\n",
       "      <th></th>\n",
       "      <th></th>\n",
       "      <th>fieldid</th>\n",
       "      <th>time</th>\n",
       "      <th>band</th>\n",
       "      <th>flux</th>\n",
       "      <th>fluxerr</th>\n",
       "      <th>zp</th>\n",
       "      <th>zpsys</th>\n",
       "    </tr>\n",
       "  </thead>\n",
       "  <tbody>\n",
       "    <tr>\n",
       "      <th rowspan=\"5\" valign=\"top\">0</th>\n",
       "      <th>0</th>\n",
       "      <td>1850</td>\n",
       "      <td>59103.746445</td>\n",
       "      <td>ztfi</td>\n",
       "      <td>18.828721</td>\n",
       "      <td>15.363310</td>\n",
       "      <td>25.0</td>\n",
       "      <td>ab</td>\n",
       "    </tr>\n",
       "    <tr>\n",
       "      <th>1</th>\n",
       "      <td>1850</td>\n",
       "      <td>59124.039846</td>\n",
       "      <td>ztfi</td>\n",
       "      <td>19.057347</td>\n",
       "      <td>15.473821</td>\n",
       "      <td>25.0</td>\n",
       "      <td>ab</td>\n",
       "    </tr>\n",
       "    <tr>\n",
       "      <th>2</th>\n",
       "      <td>1850</td>\n",
       "      <td>59146.449039</td>\n",
       "      <td>ztfi</td>\n",
       "      <td>52.044695</td>\n",
       "      <td>15.141607</td>\n",
       "      <td>25.0</td>\n",
       "      <td>ab</td>\n",
       "    </tr>\n",
       "    <tr>\n",
       "      <th>3</th>\n",
       "      <td>1850</td>\n",
       "      <td>59146.647904</td>\n",
       "      <td>ztfi</td>\n",
       "      <td>28.543276</td>\n",
       "      <td>13.438131</td>\n",
       "      <td>25.0</td>\n",
       "      <td>ab</td>\n",
       "    </tr>\n",
       "    <tr>\n",
       "      <th>4</th>\n",
       "      <td>1850</td>\n",
       "      <td>59161.834208</td>\n",
       "      <td>ztfg</td>\n",
       "      <td>39.857087</td>\n",
       "      <td>16.792113</td>\n",
       "      <td>25.0</td>\n",
       "      <td>ab</td>\n",
       "    </tr>\n",
       "    <tr>\n",
       "      <th>...</th>\n",
       "      <th>...</th>\n",
       "      <td>...</td>\n",
       "      <td>...</td>\n",
       "      <td>...</td>\n",
       "      <td>...</td>\n",
       "      <td>...</td>\n",
       "      <td>...</td>\n",
       "      <td>...</td>\n",
       "    </tr>\n",
       "    <tr>\n",
       "      <th rowspan=\"5\" valign=\"top\">498</th>\n",
       "      <th>224</th>\n",
       "      <td>1598</td>\n",
       "      <td>60545.805442</td>\n",
       "      <td>ztfi</td>\n",
       "      <td>8.001690</td>\n",
       "      <td>10.051593</td>\n",
       "      <td>25.0</td>\n",
       "      <td>ab</td>\n",
       "    </tr>\n",
       "    <tr>\n",
       "      <th>225</th>\n",
       "      <td>1598</td>\n",
       "      <td>60546.562207</td>\n",
       "      <td>ztfr</td>\n",
       "      <td>-17.922059</td>\n",
       "      <td>15.900517</td>\n",
       "      <td>25.0</td>\n",
       "      <td>ab</td>\n",
       "    </tr>\n",
       "    <tr>\n",
       "      <th>226</th>\n",
       "      <td>1598</td>\n",
       "      <td>60550.372139</td>\n",
       "      <td>ztfg</td>\n",
       "      <td>13.451672</td>\n",
       "      <td>17.007259</td>\n",
       "      <td>25.0</td>\n",
       "      <td>ab</td>\n",
       "    </tr>\n",
       "    <tr>\n",
       "      <th>227</th>\n",
       "      <td>1598</td>\n",
       "      <td>60551.245558</td>\n",
       "      <td>ztfr</td>\n",
       "      <td>-5.831162</td>\n",
       "      <td>14.729821</td>\n",
       "      <td>25.0</td>\n",
       "      <td>ab</td>\n",
       "    </tr>\n",
       "    <tr>\n",
       "      <th>228</th>\n",
       "      <td>1598</td>\n",
       "      <td>60558.744831</td>\n",
       "      <td>ztfg</td>\n",
       "      <td>-10.270831</td>\n",
       "      <td>11.625389</td>\n",
       "      <td>25.0</td>\n",
       "      <td>ab</td>\n",
       "    </tr>\n",
       "  </tbody>\n",
       "</table>\n",
       "<p>233019 rows × 7 columns</p>\n",
       "</div>"
      ],
      "text/plain": [
       "         fieldid          time  band       flux    fluxerr    zp zpsys\n",
       "0   0       1850  59103.746445  ztfi  18.828721  15.363310  25.0    ab\n",
       "    1       1850  59124.039846  ztfi  19.057347  15.473821  25.0    ab\n",
       "    2       1850  59146.449039  ztfi  52.044695  15.141607  25.0    ab\n",
       "    3       1850  59146.647904  ztfi  28.543276  13.438131  25.0    ab\n",
       "    4       1850  59161.834208  ztfg  39.857087  16.792113  25.0    ab\n",
       "...          ...           ...   ...        ...        ...   ...   ...\n",
       "498 224     1598  60545.805442  ztfi   8.001690  10.051593  25.0    ab\n",
       "    225     1598  60546.562207  ztfr -17.922059  15.900517  25.0    ab\n",
       "    226     1598  60550.372139  ztfg  13.451672  17.007259  25.0    ab\n",
       "    227     1598  60551.245558  ztfr  -5.831162  14.729821  25.0    ab\n",
       "    228     1598  60558.744831  ztfg -10.270831  11.625389  25.0    ab\n",
       "\n",
       "[233019 rows x 7 columns]"
      ]
     },
     "execution_count": 9,
     "metadata": {},
     "output_type": "execute_result"
    }
   ],
   "source": [
    "dset.data"
   ]
  },
  {
   "cell_type": "code",
   "execution_count": null,
   "id": "d19c9dd5",
   "metadata": {},
   "outputs": [],
   "source": []
  },
  {
   "cell_type": "code",
   "execution_count": 10,
   "id": "28c43d05",
   "metadata": {
    "scrolled": false
   },
   "outputs": [
    {
     "data": {
      "text/plain": [
       "z         0.138500\n",
       "x1        1.740000\n",
       "c        -0.068000\n",
       "t0    59149.420957\n",
       "x0        0.000328\n",
       "Name: 90, dtype: float64"
      ]
     },
     "execution_count": 10,
     "metadata": {},
     "output_type": "execute_result"
    },
    {
     "data": {
      "image/png": "[encoded data removed]",
      "text/plain": [
       "<Figure size 504x288 with 1 Axes>"
      ]
     },
     "metadata": {
      "needs_background": "light"
     },
     "output_type": "display_data"
    }
   ],
   "source": [
    "_ = dset.show_target_lightcurve(index=90, phase_window=[-30, 70])\n",
    "dset.targets.get_template_parameters(index=90)"
   ]
  },
  {
   "cell_type": "code",
   "execution_count": 11,
   "id": "5473ea4f",
   "metadata": {},
   "outputs": [
    {
     "name": "stdout",
     "output_type": "stream",
     "text": [
      "CPU times: user 52.1 ms, sys: 17.6 ms, total: 69.7 ms\n",
      "Wall time: 68.7 ms\n"
     ]
    },
    {
     "data": {
      "text/plain": [
       "level_0  band\n",
       "0        ztfg    0\n",
       "         ztfi    0\n",
       "         ztfr    0\n",
       "1        ztfg    0\n",
       "         ztfi    2\n",
       "                ..\n",
       "498      ztfi    6\n",
       "         ztfr    9\n",
       "499      ztfg    0\n",
       "         ztfi    0\n",
       "         ztfr    1\n",
       "Name: detected, Length: 1494, dtype: int64"
      ]
     },
     "execution_count": 11,
     "metadata": {},
     "output_type": "execute_result"
    }
   ],
   "source": [
    "%%time\n",
    "dset.get_ndetection(per_band=True)"
   ]
  },
  {
   "cell_type": "code",
   "execution_count": null,
   "id": "f7145823",
   "metadata": {},
   "outputs": [],
   "source": []
  }
 ],
 "metadata": {
  "kernelspec": {
   "display_name": "Python 3 (ipykernel)",
   "language": "python",
   "name": "python3"
  },
  "language_info": {
   "codemirror_mode": {
    "name": "ipython",
    "version": 3
   },
   "file_extension": ".py",
   "mimetype": "text/x-python",
   "name": "python",
   "nbconvert_exporter": "python",
   "pygments_lexer": "ipython3",
   "version": "3.9.13"
  }
 },
 "nbformat": 4,
 "nbformat_minor": 5
}
