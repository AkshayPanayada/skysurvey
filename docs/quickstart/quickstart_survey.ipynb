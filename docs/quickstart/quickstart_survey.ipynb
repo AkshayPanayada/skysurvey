{
 "cells": [
  {
   "cell_type": "markdown",
   "id": "b60ec1f5",
   "metadata": {},
   "source": [
    "# Quickstart: Survey\n",
    "\n",
    "learn how to generate a survey"
   ]
  },
  {
   "cell_type": "code",
   "execution_count": 1,
   "id": "3dcbaca7",
   "metadata": {},
   "outputs": [],
   "source": [
    "from skysurvey import survey"
   ]
  },
  {
   "cell_type": "markdown",
   "id": "87b6af94",
   "metadata": {},
   "source": [
    "let's start with two predefined survey. A generic HealpixSurvey (based on healpix sky segmentation) \n",
    "and a real one ZTF (based on polygon sky segmentation)"
   ]
  },
  {
   "cell_type": "markdown",
   "id": "ed7e777c",
   "metadata": {},
   "source": [
    "### Healpix Survey"
   ]
  },
  {
   "cell_type": "code",
   "execution_count": 2,
   "id": "ff37b039",
   "metadata": {},
   "outputs": [],
   "source": [
    "hpsurvey = survey.HealpixSurvey(9)"
   ]
  },
  {
   "cell_type": "markdown",
   "id": "70a28f36",
   "metadata": {},
   "source": [
    "Let's draw the equivalent of 4 years of observations assuming 1000 healpix pixel pointings per day\n",
    "\n",
    "Remark that, as such mjd_range and size are drawn independenly so, 1000 pointing per day is an average. "
   ]
  },
  {
   "cell_type": "code",
   "execution_count": 3,
   "id": "6ed988ad",
   "metadata": {},
   "outputs": [
    {
     "name": "stdout",
     "output_type": "stream",
     "text": [
      "CPU times: user 2.67 s, sys: 134 ms, total: 2.81 s\n",
      "Wall time: 2.81 s\n"
     ]
    }
   ],
   "source": [
    "%%time\n",
    "hpsurvey.draw_random(size=365*4*1000, # number of observation \n",
    "                     bands=[\"ztf:g\",\"ztf:r\",\"ztf:i\"], # band to observed\n",
    "                     mjd_range=[56000, 56000+365*4], # timerange of observation\n",
    "                     skynoise_range=[180,210], # sky noise\n",
    "                     ra_range=[-30,90], \n",
    "                    inplace=True)  # set the self.data and do not return a new HealpixSurvey"
   ]
  },
  {
   "cell_type": "markdown",
   "id": "0ba9ad1d",
   "metadata": {},
   "source": [
    "Remark: you could have load it directly this way using the ``from_random`` classmethod"
   ]
  },
  {
   "cell_type": "code",
   "execution_count": 4,
   "id": "4188e123",
   "metadata": {},
   "outputs": [
    {
     "name": "stdout",
     "output_type": "stream",
     "text": [
      "CPU times: user 2.81 s, sys: 71.4 ms, total: 2.88 s\n",
      "Wall time: 2.88 s\n"
     ]
    }
   ],
   "source": [
    "%%time\n",
    "hpsurvey = survey.HealpixSurvey.from_random(nside=9, \n",
    "                                     size=365*4*1000, # number of observation \n",
    "                                     bands=[\"ztf:g\",\"ztf:r\",\"ztf:i\"],\n",
    "                                     mjd_range=[56000, 56000+365*4], \n",
    "                                     skynoise_range=[180,210], \n",
    "                                     ra_range=[-30,90])"
   ]
  },
  {
   "cell_type": "code",
   "execution_count": 5,
   "id": "31aa7121",
   "metadata": {},
   "outputs": [
    {
     "data": {
      "text/html": [
       "<div>\n",
       "<style scoped>\n",
       "    .dataframe tbody tr th:only-of-type {\n",
       "        vertical-align: middle;\n",
       "    }\n",
       "\n",
       "    .dataframe tbody tr th {\n",
       "        vertical-align: top;\n",
       "    }\n",
       "\n",
       "    .dataframe thead th {\n",
       "        text-align: right;\n",
       "    }\n",
       "</style>\n",
       "<table border=\"1\" class=\"dataframe\">\n",
       "  <thead>\n",
       "    <tr style=\"text-align: right;\">\n",
       "      <th></th>\n",
       "      <th>index</th>\n",
       "      <th>mjd</th>\n",
       "      <th>band</th>\n",
       "      <th>skynoise</th>\n",
       "      <th>gain</th>\n",
       "      <th>zp</th>\n",
       "      <th>fieldid</th>\n",
       "    </tr>\n",
       "  </thead>\n",
       "  <tbody>\n",
       "    <tr>\n",
       "      <th>0</th>\n",
       "      <td>551839</td>\n",
       "      <td>56000.003906</td>\n",
       "      <td>ztf:i</td>\n",
       "      <td>196.617020</td>\n",
       "      <td>1.0</td>\n",
       "      <td>25.0</td>\n",
       "      <td>719</td>\n",
       "    </tr>\n",
       "    <tr>\n",
       "      <th>1</th>\n",
       "      <td>1348736</td>\n",
       "      <td>56000.007812</td>\n",
       "      <td>ztf:r</td>\n",
       "      <td>202.884354</td>\n",
       "      <td>1.0</td>\n",
       "      <td>25.0</td>\n",
       "      <td>537</td>\n",
       "    </tr>\n",
       "    <tr>\n",
       "      <th>2</th>\n",
       "      <td>114679</td>\n",
       "      <td>56000.007812</td>\n",
       "      <td>ztf:g</td>\n",
       "      <td>206.403152</td>\n",
       "      <td>1.0</td>\n",
       "      <td>25.0</td>\n",
       "      <td>237</td>\n",
       "    </tr>\n",
       "    <tr>\n",
       "      <th>3</th>\n",
       "      <td>166625</td>\n",
       "      <td>56000.007812</td>\n",
       "      <td>ztf:i</td>\n",
       "      <td>201.249756</td>\n",
       "      <td>1.0</td>\n",
       "      <td>25.0</td>\n",
       "      <td>281</td>\n",
       "    </tr>\n",
       "    <tr>\n",
       "      <th>4</th>\n",
       "      <td>987224</td>\n",
       "      <td>56000.007812</td>\n",
       "      <td>ztf:i</td>\n",
       "      <td>208.462891</td>\n",
       "      <td>1.0</td>\n",
       "      <td>25.0</td>\n",
       "      <td>124</td>\n",
       "    </tr>\n",
       "    <tr>\n",
       "      <th>...</th>\n",
       "      <td>...</td>\n",
       "      <td>...</td>\n",
       "      <td>...</td>\n",
       "      <td>...</td>\n",
       "      <td>...</td>\n",
       "      <td>...</td>\n",
       "      <td>...</td>\n",
       "    </tr>\n",
       "    <tr>\n",
       "      <th>1459995</th>\n",
       "      <td>1010984</td>\n",
       "      <td>57459.996094</td>\n",
       "      <td>ztf:i</td>\n",
       "      <td>197.845139</td>\n",
       "      <td>1.0</td>\n",
       "      <td>25.0</td>\n",
       "      <td>317</td>\n",
       "    </tr>\n",
       "    <tr>\n",
       "      <th>1459996</th>\n",
       "      <td>337579</td>\n",
       "      <td>57459.996094</td>\n",
       "      <td>ztf:i</td>\n",
       "      <td>200.270432</td>\n",
       "      <td>1.0</td>\n",
       "      <td>25.0</td>\n",
       "      <td>290</td>\n",
       "    </tr>\n",
       "    <tr>\n",
       "      <th>1459997</th>\n",
       "      <td>412011</td>\n",
       "      <td>57459.996094</td>\n",
       "      <td>ztf:r</td>\n",
       "      <td>180.047531</td>\n",
       "      <td>1.0</td>\n",
       "      <td>25.0</td>\n",
       "      <td>108</td>\n",
       "    </tr>\n",
       "    <tr>\n",
       "      <th>1459998</th>\n",
       "      <td>1080495</td>\n",
       "      <td>57460.000000</td>\n",
       "      <td>ztf:r</td>\n",
       "      <td>209.244919</td>\n",
       "      <td>1.0</td>\n",
       "      <td>25.0</td>\n",
       "      <td>587</td>\n",
       "    </tr>\n",
       "    <tr>\n",
       "      <th>1459999</th>\n",
       "      <td>773883</td>\n",
       "      <td>57460.000000</td>\n",
       "      <td>ztf:r</td>\n",
       "      <td>200.483994</td>\n",
       "      <td>1.0</td>\n",
       "      <td>25.0</td>\n",
       "      <td>136</td>\n",
       "    </tr>\n",
       "  </tbody>\n",
       "</table>\n",
       "<p>1460000 rows × 7 columns</p>\n",
       "</div>"
      ],
      "text/plain": [
       "           index           mjd   band    skynoise  gain    zp  fieldid\n",
       "0         551839  56000.003906  ztf:i  196.617020   1.0  25.0      719\n",
       "1        1348736  56000.007812  ztf:r  202.884354   1.0  25.0      537\n",
       "2         114679  56000.007812  ztf:g  206.403152   1.0  25.0      237\n",
       "3         166625  56000.007812  ztf:i  201.249756   1.0  25.0      281\n",
       "4         987224  56000.007812  ztf:i  208.462891   1.0  25.0      124\n",
       "...          ...           ...    ...         ...   ...   ...      ...\n",
       "1459995  1010984  57459.996094  ztf:i  197.845139   1.0  25.0      317\n",
       "1459996   337579  57459.996094  ztf:i  200.270432   1.0  25.0      290\n",
       "1459997   412011  57459.996094  ztf:r  180.047531   1.0  25.0      108\n",
       "1459998  1080495  57460.000000  ztf:r  209.244919   1.0  25.0      587\n",
       "1459999   773883  57460.000000  ztf:r  200.483994   1.0  25.0      136\n",
       "\n",
       "[1460000 rows x 7 columns]"
      ]
     },
     "execution_count": 5,
     "metadata": {},
     "output_type": "execute_result"
    }
   ],
   "source": [
    "hpsurvey.data # Show the data generated. time, band sky noise, gain, zp and fieldid."
   ]
  },
  {
   "cell_type": "markdown",
   "id": "06a09453",
   "metadata": {},
   "source": [
    "Let's get the number of time a 'field' has been observed"
   ]
  },
  {
   "cell_type": "code",
   "execution_count": 6,
   "id": "2fc972c3",
   "metadata": {},
   "outputs": [
    {
     "data": {
      "text/plain": [
       "fieldid\n",
       "253    2204\n",
       "283    2177\n",
       "168    2171\n",
       "139    2151\n",
       "469    2143\n",
       "       ... \n",
       "206    1930\n",
       "115    1930\n",
       "507    1922\n",
       "508    1900\n",
       "216    1884\n",
       "Name: count, Length: 720, dtype: int64"
      ]
     },
     "execution_count": 6,
     "metadata": {},
     "output_type": "execute_result"
    }
   ],
   "source": [
    "hpsurvey.get_fieldstat(\"size\") "
   ]
  },
  {
   "cell_type": "markdown",
   "id": "91bb5fca",
   "metadata": {},
   "source": [
    "These are just short cut to pandas dataframe contained in self.data\n",
    "\n",
    "So you can play.\n",
    "\n",
    "Let's measure the number of observation we have per day and per band"
   ]
  },
  {
   "cell_type": "code",
   "execution_count": 7,
   "id": "19bcc9b4",
   "metadata": {},
   "outputs": [],
   "source": [
    "data = hpsurvey.data.copy()\n",
    "data[\"day\"] = data[\"mjd\"].astype(int)"
   ]
  },
  {
   "cell_type": "code",
   "execution_count": 8,
   "id": "c83ff93f",
   "metadata": {},
   "outputs": [
    {
     "data": {
      "text/plain": [
       "day    band \n",
       "56000  ztf:g    346\n",
       "       ztf:i    353\n",
       "       ztf:r    345\n",
       "56001  ztf:g    358\n",
       "       ztf:i    352\n",
       "               ... \n",
       "57458  ztf:r    311\n",
       "57459  ztf:g    371\n",
       "       ztf:i    331\n",
       "       ztf:r    339\n",
       "57460  ztf:r      2\n",
       "Length: 4381, dtype: int64"
      ]
     },
     "execution_count": 8,
     "metadata": {},
     "output_type": "execute_result"
    }
   ],
   "source": [
    "dailybands = data.groupby([\"day\",\"band\"]).size()\n",
    "dailybands"
   ]
  },
  {
   "cell_type": "code",
   "execution_count": 9,
   "id": "dc9a1dc5",
   "metadata": {},
   "outputs": [
    {
     "data": {
      "text/plain": [
       "<matplotlib.legend.Legend at 0x2b2a91fa0>"
      ]
     },
     "execution_count": 9,
     "metadata": {},
     "output_type": "execute_result"
    },
    {
     "data": {
      "image/png": "[encoded data removed]",
      "text/plain": [
       "<Figure size 432x288 with 1 Axes>"
      ]
     },
     "metadata": {
      "needs_background": "light"
     },
     "output_type": "display_data"
    }
   ],
   "source": [
    "import matplotlib.pyplot as plt\n",
    "fig = plt.figure()\n",
    "ax = fig.add_subplot()\n",
    "\n",
    "prop = dict(lw=2, histtype=\"step\")\n",
    "ax.hist(dailybands.xs(\"ztf:g\", level=1), color=\"tab:green\", label=\"ztf:g\", **prop) \n",
    "ax.hist(dailybands.xs(\"ztf:r\", level=1), color=\"tab:red\", label=\"ztf:r\",**prop)\n",
    "ax.hist(dailybands.xs(\"ztf:i\", level=1), color=\"tab:orange\", label=\"ztf:i\",**prop)\n",
    "ax.legend(loc='best')"
   ]
  },
  {
   "cell_type": "markdown",
   "id": "7c0fc675",
   "metadata": {},
   "source": [
    "#### Get the field of a target\n",
    "\n",
    "This is an important feature that enable us to know whic field contains which target"
   ]
  },
  {
   "cell_type": "code",
   "execution_count": 10,
   "id": "3be595aa",
   "metadata": {},
   "outputs": [
    {
     "data": {
      "text/plain": [
       "189"
      ]
     },
     "execution_count": 10,
     "metadata": {},
     "output_type": "execute_result"
    }
   ],
   "source": [
    "hpsurvey.radec_to_fieldid([40, 90])"
   ]
  },
  {
   "cell_type": "code",
   "execution_count": 11,
   "id": "d121d311",
   "metadata": {
    "scrolled": false
   },
   "outputs": [
    {
     "data": {
      "text/plain": [
       "array([236,   4, 137, 346, 443, 291, 603, 117,   2, 565, 413,  83, 346,\n",
       "       614,   1, 707,  92, 564, 550,   0, 390, 380, 684, 482, 349, 243,\n",
       "       147,   1,   4, 251, 212, 531,  72,   9, 212,   3, 322,  86,  31,\n",
       "        17, 231, 505, 206, 693, 379, 700, 120, 645, 569,  14, 292, 382,\n",
       "        92, 336, 360, 553,  51, 163,  56, 369, 120, 679, 153, 485,  36,\n",
       "       537, 674,   1,  34, 651, 140,  15,  76, 633,  28,  78, 224, 147,\n",
       "       176, 578, 692, 531,  46, 278, 426, 684, 156, 639,   2,   6, 381,\n",
       "       439, 308, 139,  22, 508,  26, 473,  76,  92,   1, 272, 404, 221,\n",
       "        40, 704, 592, 149, 544, 584, 244, 669, 515, 419,  36,  59, 460,\n",
       "       228, 178, 532, 347, 698,   6,  55,   2, 395, 648,  15, 441, 463,\n",
       "       657,   2, 369, 202, 520,  89, 483, 574, 161,  22, 127, 623, 599,\n",
       "       128,  50,  69, 117, 192, 629,  15, 127, 230, 655, 547,  70,  20,\n",
       "        45, 118,   4, 681,  15,   3, 174, 364,  78, 126, 386, 285, 306,\n",
       "         3, 127, 572, 601,  75,  54, 352, 163,   0,  60,   8,  82,  88,\n",
       "        28, 696,  55,  25, 555,  52, 102, 428, 719, 250,  29, 247,  11,\n",
       "         7, 452,  28, 188, 227,   7,   1, 413,  43, 457, 124, 499, 206,\n",
       "       545, 361, 350, 332, 208, 371, 431, 138, 334, 572, 131, 343, 480,\n",
       "       557, 601, 116, 433, 431,  20, 513, 229, 128, 265, 138,  84, 684,\n",
       "       577,  62,   1, 165, 666,   8,  80, 305,   0, 371,  29,  47, 662,\n",
       "       253, 563,  48, 718,  34, 320, 224, 121,   6, 226, 573, 554, 546,\n",
       "       208,  25, 366, 335, 223, 441, 360, 672,  95, 112, 409,  99, 531,\n",
       "       317, 646, 452, 518,   2, 159, 306, 126, 101, 717, 632,   2, 618,\n",
       "       424,  21, 440,   7, 346,  47, 179,  49, 623, 465,   7, 249, 147,\n",
       "       165,  12, 105,  11, 487, 343, 404, 621,  72,  49, 250, 147,  94,\n",
       "       493, 438, 455,  15, 634,  57,  80, 474, 664, 489,   8,   3, 227,\n",
       "       145, 587, 699, 150, 520,  59, 598,   1, 340,  21, 184,  29,  16,\n",
       "       239,  52,  86,  41,  57, 456,  13, 672, 457, 101,   0,  19, 707,\n",
       "        10,  48, 550, 636, 376, 555, 717,   7, 163,  49,   5, 383, 718,\n",
       "        19,  22, 241,  35,   2, 354,   1, 602,  39,  10, 366,  93,   9,\n",
       "       167, 598, 351,  37,  35, 441, 709,   7, 459, 326, 330, 596, 555,\n",
       "       754,  64,  14, 119,  51, 294, 258,  10,  91, 662, 678, 727, 678,\n",
       "       506, 421, 137, 212,  43, 100, 450, 566, 292,  42, 568,  11,   3,\n",
       "       300, 389, 655,  47, 422,  37, 453, 151, 667,  39, 705, 414, 303,\n",
       "       306, 629,  37, 528, 691,  22, 233, 629, 456, 242, 665,   3,  21,\n",
       "       701, 571,   1, 196, 332,   4,  26, 202, 695,  68, 174, 121,   2,\n",
       "       356,  39, 208, 488, 163, 684, 439,  48, 218,   1, 233, 158, 389,\n",
       "        99,  62,  16, 221, 560, 211, 220, 486,  87,  74, 318, 583, 550,\n",
       "       282, 119, 459, 154, 637, 220, 320, 501, 557, 362, 419,   8,  27,\n",
       "       135, 107, 549,   0, 236,  71, 579,  57, 245, 335, 163, 636, 494,\n",
       "       446, 171, 482, 265, 582,  11,  53,   5, 644, 478, 321, 687, 314,\n",
       "       499, 518, 255, 223, 117, 514, 744, 259,  60, 588, 677, 122, 476,\n",
       "       652, 498, 620,  55,  69, 359, 708,  58,   1,  21, 120, 339, 581,\n",
       "        62,  26,  10, 428, 118, 163, 298, 123, 611, 707,  44, 366,  71,\n",
       "       515, 359,  90,   3,   9,  32, 502, 353, 423,  26,   8,  59,  22,\n",
       "       465,  33,  42, 115,   4, 699,  37,  33,  21, 565, 131, 196, 270,\n",
       "         6, 145, 525, 507, 210, 411, 712, 646, 495, 132, 215, 699, 255,\n",
       "       730,   3, 752, 612,   2, 713,   1, 178, 493,  71, 346, 542,  26,\n",
       "        64,  37, 184,  41,   6, 152,  99,   0, 502, 283, 309, 377,   0,\n",
       "       282,   3, 158, 707,  30,  12, 318, 322,   4, 606, 653, 206, 545,\n",
       "       277,  11, 117, 194, 340,  53,  68, 642, 367,  47, 643, 143, 120,\n",
       "       121, 512, 380, 506, 180, 719, 427, 106,   8, 562,   4, 343, 127,\n",
       "       521,  35, 161, 301,  81, 194, 252, 425, 126, 294,  16,  12,  21,\n",
       "       672,  19,  22,  71, 107,  96,  35, 110,   9, 267, 437, 152, 498,\n",
       "       256, 425, 541,  23,  19, 478, 613, 563,  37, 663, 546,  58,  17,\n",
       "        98, 620,  81, 622, 662,  18, 612,   1, 747, 589, 344, 337, 712,\n",
       "       657,  19, 484,  27, 297, 505, 158, 136, 121, 230, 529,   2,  55,\n",
       "        39, 331, 150, 448, 100, 688,  16,  31, 238,  27,   8, 242, 597,\n",
       "       657, 258, 559,  61, 247, 338,  41, 709, 150,  80,  43,  41, 465,\n",
       "       483, 657, 526, 288,  32,   3, 307, 682, 599, 688, 305, 440, 527,\n",
       "        22, 260, 582, 600,  70, 525, 326, 276, 161, 288,  22, 128, 383,\n",
       "       718,  65,  79, 315, 587, 694,   8, 301,   7, 213, 426,   8, 549,\n",
       "       255, 317,  59, 123,  12,   1, 702, 470, 600,  95, 236,  32, 309,\n",
       "        94, 364, 239, 326, 605, 421, 156, 541, 572, 272, 698, 643, 343,\n",
       "       553,  80, 654,  20,  64, 578, 180,  95, 129, 655, 226, 283, 724,\n",
       "       168, 145, 338, 316, 642, 537, 179, 668,  14, 584,   9, 324, 709,\n",
       "        96, 165, 664,  22, 669,  45, 478, 715, 625,  86,  81,  17, 184,\n",
       "       435, 473, 295,   1,   6, 361,  37,   1,  34, 590, 334, 398, 571,\n",
       "       263, 644, 518,   7,  34, 201, 178, 166, 413,  83, 515, 420,   1,\n",
       "       690, 469,   0, 398, 608, 592,  54, 558, 640, 318, 427, 301,  63,\n",
       "       196,  79, 743, 725,  81, 475, 454, 292, 165, 570, 245,  66, 313,\n",
       "        51, 666,  16, 398, 218, 417, 420, 555,  52,   1, 101, 279, 565,\n",
       "       413, 445,   1, 557, 635, 513, 148, 437, 648, 207, 564, 167, 283,\n",
       "        29, 299, 129, 577,   1,  20, 253, 176, 273, 649, 104, 427,  47,\n",
       "         0, 225,  81, 648,  99,  57, 334,   0,  80, 269,  45, 181, 582,\n",
       "         5,  19, 111, 104, 188, 116, 334, 750, 244,  27, 319, 258, 606,\n",
       "       544, 624, 291, 128,  97, 345, 182,   0, 513, 334, 500, 301, 331,\n",
       "       291, 467, 390, 463, 448,   5, 106,  32, 521, 221, 143,   9])"
      ]
     },
     "execution_count": 11,
     "metadata": {},
     "output_type": "execute_result"
    }
   ],
   "source": [
    "import numpy as np\n",
    "# remark that, doing that this way, it won't be homogeneous.\n",
    "ra_flat = np.random.uniform(-30, 90, 1000)\n",
    "dec_flat = np.random.uniform(0, 360, 1000)\n",
    "hpsurvey.radec_to_fieldid([ra_flat,dec_flat])"
   ]
  },
  {
   "cell_type": "code",
   "execution_count": null,
   "id": "6bc6a4ba",
   "metadata": {},
   "outputs": [],
   "source": []
  },
  {
   "cell_type": "markdown",
   "id": "b9ea1b1a",
   "metadata": {},
   "source": [
    "### ZTF, a polygon survey\n",
    "\n",
    "polygon survey are surveys which pointings are defined by a (potentially very long) list of fieldid. (see self."
   ]
  },
  {
   "cell_type": "code",
   "execution_count": 13,
   "id": "6660ea99",
   "metadata": {},
   "outputs": [],
   "source": [
    "from skysurvey.survey import ZTF"
   ]
  },
  {
   "cell_type": "markdown",
   "id": "b47870f2",
   "metadata": {},
   "source": [
    "random is using the real ZTF field definition, but enables you to generate a random draw (unrealistic) as for HealpixSurvey"
   ]
  },
  {
   "cell_type": "code",
   "execution_count": 14,
   "id": "2faa9a26",
   "metadata": {},
   "outputs": [
    {
     "name": "stdout",
     "output_type": "stream",
     "text": [
      "CPU times: user 2.8 s, sys: 62.8 ms, total: 2.87 s\n",
      "Wall time: 2.88 s\n"
     ]
    }
   ],
   "source": [
    "%%time\n",
    "ztf = ZTF.from_random(size=365*4*1000, # number of observation \n",
    "                     bands=[\"ztf:g\",\"ztf:r\",\"ztf:i\"], # band to observed\n",
    "                     mjd_range=[56000, 56000+365*4], # timerange of observation\n",
    "                     skynoise_range=[180,210], # sky noise\n",
    "                     )"
   ]
  },
  {
   "cell_type": "code",
   "execution_count": null,
   "id": "68adaf54",
   "metadata": {},
   "outputs": [],
   "source": []
  },
  {
   "cell_type": "markdown",
   "id": "71934ff8",
   "metadata": {},
   "source": [
    "If you have a list of observation have these data. load directly a ztf instance with that"
   ]
  },
  {
   "cell_type": "code",
   "execution_count": 15,
   "id": "f1b0058c",
   "metadata": {},
   "outputs": [
    {
     "name": "stdout",
     "output_type": "stream",
     "text": [
      "CPU times: user 33.2 ms, sys: 4.53 ms, total: 37.7 ms\n",
      "Wall time: 37.1 ms\n"
     ]
    }
   ],
   "source": [
    "%%time\n",
    "other_ztf = ZTF(data=data)"
   ]
  },
  {
   "cell_type": "code",
   "execution_count": 16,
   "id": "f8acac62",
   "metadata": {},
   "outputs": [
    {
     "data": {
      "text/plain": [
       "fieldid\n",
       "253    2204\n",
       "283    2177\n",
       "168    2171\n",
       "139    2151\n",
       "469    2143\n",
       "       ... \n",
       "206    1930\n",
       "115    1930\n",
       "507    1922\n",
       "508    1900\n",
       "216    1884\n",
       "Name: count, Length: 720, dtype: int64"
      ]
     },
     "execution_count": 16,
     "metadata": {},
     "output_type": "execute_result"
    }
   ],
   "source": [
    "other_ztf.get_fieldstat(\"size\")"
   ]
  },
  {
   "cell_type": "markdown",
   "id": "239a2808",
   "metadata": {},
   "source": [
    "**Next let's join targets and survey**"
   ]
  },
  {
   "cell_type": "code",
   "execution_count": null,
   "id": "a6f631a4",
   "metadata": {},
   "outputs": [],
   "source": []
  }
 ],
 "metadata": {
  "kernelspec": {
   "display_name": "Python 3 (ipykernel)",
   "language": "python",
   "name": "python3"
  },
  "language_info": {
   "codemirror_mode": {
    "name": "ipython",
    "version": 3
   },
   "file_extension": ".py",
   "mimetype": "text/x-python",
   "name": "python",
   "nbconvert_exporter": "python",
   "pygments_lexer": "ipython3",
   "version": "3.9.16"
  }
 },
 "nbformat": 4,
 "nbformat_minor": 5
}
