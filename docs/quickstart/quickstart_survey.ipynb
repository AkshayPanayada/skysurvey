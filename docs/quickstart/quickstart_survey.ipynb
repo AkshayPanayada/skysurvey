{
 "cells": [
  {
   "cell_type": "markdown",
   "id": "b60ec1f5",
   "metadata": {},
   "source": [
    "# Quickstart: Survey\n",
    "\n",
    "learn how to generate a survey"
   ]
  },
  {
   "cell_type": "code",
   "execution_count": 1,
   "id": "3dcbaca7",
   "metadata": {},
   "outputs": [
    {
     "name": "stderr",
     "output_type": "stream",
     "text": [
      "WARNING: AstropyDeprecationWarning: The update_default_config function is deprecated and may be removed in a future version. [sncosmo]\n",
      "/Users/rigault/miniforge3/lib/python3.9/site-packages/ztfquery-1.19.0-py3.9.egg/ztfquery/utils/tools.py:78: VisibleDeprecationWarning: Creating an ndarray from ragged nested sequences (which is a list-or-tuple of lists-or-tuples-or ndarrays with different lengths or shapes) is deprecated. If you meant to do this, you must specify 'dtype=object' when creating the ndarray.\n",
      "  return np.asarray([v[0]*np.cos(theta*_DEG2RA) - v[2]*np.sin(theta*_DEG2RA),\n"
     ]
    }
   ],
   "source": [
    "from skysurvey import survey"
   ]
  },
  {
   "cell_type": "markdown",
   "id": "87b6af94",
   "metadata": {},
   "source": [
    "let's start with two predefined survey. A generic HealpixSurvey (based on healpix sky segmentation) \n",
    "and a real one ZTF (based on polygon sky segmentation)"
   ]
  },
  {
   "cell_type": "markdown",
   "id": "ed7e777c",
   "metadata": {},
   "source": [
    "### Healpix Survey"
   ]
  },
  {
   "cell_type": "code",
   "execution_count": 2,
   "id": "ff37b039",
   "metadata": {},
   "outputs": [],
   "source": [
    "hpsurvey = survey.HealpixSurvey(9)"
   ]
  },
  {
   "cell_type": "markdown",
   "id": "70a28f36",
   "metadata": {},
   "source": [
    "Let's draw the equivalent of 4 years of observations assuming 1000 healpix pixel pointings per day\n",
    "\n",
    "Remark that, as such mjd_range and size are drawn independenly so, 1000 pointing per day is an average. "
   ]
  },
  {
   "cell_type": "code",
   "execution_count": 3,
   "id": "6ed988ad",
   "metadata": {},
   "outputs": [
    {
     "name": "stdout",
     "output_type": "stream",
     "text": [
      "CPU times: user 1.43 s, sys: 127 ms, total: 1.56 s\n",
      "Wall time: 1.57 s\n"
     ]
    }
   ],
   "source": [
    "%%time\n",
    "hpsurvey.draw_random(size=365*4*1000, # number of observation \n",
    "                     bands=[\"ztf:g\",\"ztf:r\",\"ztf:i\"], # band to observed\n",
    "                     mjd_range=[56000, 56000+365*4], # timerange of observation\n",
    "                     skynoise_range=[180,210], # sky noise\n",
    "                     ra_range=[-30,90], \n",
    "                    inplace=True)  # set the self.data and do not return a new HealpixSurvey"
   ]
  },
  {
   "cell_type": "markdown",
   "id": "0ba9ad1d",
   "metadata": {},
   "source": [
    "Remark: you could have load it directly this way using the ``from_random`` classmethod"
   ]
  },
  {
   "cell_type": "code",
   "execution_count": 4,
   "id": "4188e123",
   "metadata": {},
   "outputs": [
    {
     "name": "stdout",
     "output_type": "stream",
     "text": [
      "CPU times: user 1.58 s, sys: 88.6 ms, total: 1.67 s\n",
      "Wall time: 1.67 s\n"
     ]
    }
   ],
   "source": [
    "%%time\n",
    "hpsurvey = survey.HealpixSurvey.from_random(nside=9, \n",
    "                                     size=365*4*1000, # number of observation \n",
    "                                     bands=[\"ztf:g\",\"ztf:r\",\"ztf:i\"],\n",
    "                                     mjd_range=[56000, 56000+365*4], \n",
    "                                     skynoise_range=[180,210], \n",
    "                                     ra_range=[-30,90])"
   ]
  },
  {
   "cell_type": "code",
   "execution_count": 5,
   "id": "31aa7121",
   "metadata": {},
   "outputs": [
    {
     "data": {
      "text/html": [
       "<div>\n",
       "<style scoped>\n",
       "    .dataframe tbody tr th:only-of-type {\n",
       "        vertical-align: middle;\n",
       "    }\n",
       "\n",
       "    .dataframe tbody tr th {\n",
       "        vertical-align: top;\n",
       "    }\n",
       "\n",
       "    .dataframe thead th {\n",
       "        text-align: right;\n",
       "    }\n",
       "</style>\n",
       "<table border=\"1\" class=\"dataframe\">\n",
       "  <thead>\n",
       "    <tr style=\"text-align: right;\">\n",
       "      <th></th>\n",
       "      <th>index</th>\n",
       "      <th>mjd</th>\n",
       "      <th>band</th>\n",
       "      <th>skynoise</th>\n",
       "      <th>gain</th>\n",
       "      <th>zp</th>\n",
       "      <th>fieldid</th>\n",
       "    </tr>\n",
       "  </thead>\n",
       "  <tbody>\n",
       "    <tr>\n",
       "      <th>0</th>\n",
       "      <td>1376732</td>\n",
       "      <td>56000.002833</td>\n",
       "      <td>ztf:r</td>\n",
       "      <td>199.988260</td>\n",
       "      <td>1.0</td>\n",
       "      <td>25.0</td>\n",
       "      <td>582</td>\n",
       "    </tr>\n",
       "    <tr>\n",
       "      <th>1</th>\n",
       "      <td>1233282</td>\n",
       "      <td>56000.003534</td>\n",
       "      <td>ztf:i</td>\n",
       "      <td>207.353659</td>\n",
       "      <td>1.0</td>\n",
       "      <td>25.0</td>\n",
       "      <td>41</td>\n",
       "    </tr>\n",
       "    <tr>\n",
       "      <th>2</th>\n",
       "      <td>46602</td>\n",
       "      <td>56000.004359</td>\n",
       "      <td>ztf:i</td>\n",
       "      <td>181.503385</td>\n",
       "      <td>1.0</td>\n",
       "      <td>25.0</td>\n",
       "      <td>270</td>\n",
       "    </tr>\n",
       "    <tr>\n",
       "      <th>3</th>\n",
       "      <td>725227</td>\n",
       "      <td>56000.006909</td>\n",
       "      <td>ztf:i</td>\n",
       "      <td>186.936721</td>\n",
       "      <td>1.0</td>\n",
       "      <td>25.0</td>\n",
       "      <td>87</td>\n",
       "    </tr>\n",
       "    <tr>\n",
       "      <th>4</th>\n",
       "      <td>258599</td>\n",
       "      <td>56000.007750</td>\n",
       "      <td>ztf:g</td>\n",
       "      <td>204.752454</td>\n",
       "      <td>1.0</td>\n",
       "      <td>25.0</td>\n",
       "      <td>82</td>\n",
       "    </tr>\n",
       "    <tr>\n",
       "      <th>...</th>\n",
       "      <td>...</td>\n",
       "      <td>...</td>\n",
       "      <td>...</td>\n",
       "      <td>...</td>\n",
       "      <td>...</td>\n",
       "      <td>...</td>\n",
       "      <td>...</td>\n",
       "    </tr>\n",
       "    <tr>\n",
       "      <th>1459995</th>\n",
       "      <td>891576</td>\n",
       "      <td>57459.992057</td>\n",
       "      <td>ztf:g</td>\n",
       "      <td>207.086858</td>\n",
       "      <td>1.0</td>\n",
       "      <td>25.0</td>\n",
       "      <td>159</td>\n",
       "    </tr>\n",
       "    <tr>\n",
       "      <th>1459996</th>\n",
       "      <td>21047</td>\n",
       "      <td>57459.992484</td>\n",
       "      <td>ztf:r</td>\n",
       "      <td>180.078056</td>\n",
       "      <td>1.0</td>\n",
       "      <td>25.0</td>\n",
       "      <td>343</td>\n",
       "    </tr>\n",
       "    <tr>\n",
       "      <th>1459997</th>\n",
       "      <td>40775</td>\n",
       "      <td>57459.993943</td>\n",
       "      <td>ztf:r</td>\n",
       "      <td>191.445406</td>\n",
       "      <td>1.0</td>\n",
       "      <td>25.0</td>\n",
       "      <td>284</td>\n",
       "    </tr>\n",
       "    <tr>\n",
       "      <th>1459998</th>\n",
       "      <td>1133746</td>\n",
       "      <td>57459.995424</td>\n",
       "      <td>ztf:r</td>\n",
       "      <td>186.317511</td>\n",
       "      <td>1.0</td>\n",
       "      <td>25.0</td>\n",
       "      <td>656</td>\n",
       "    </tr>\n",
       "    <tr>\n",
       "      <th>1459999</th>\n",
       "      <td>950875</td>\n",
       "      <td>57459.999955</td>\n",
       "      <td>ztf:r</td>\n",
       "      <td>189.994970</td>\n",
       "      <td>1.0</td>\n",
       "      <td>25.0</td>\n",
       "      <td>63</td>\n",
       "    </tr>\n",
       "  </tbody>\n",
       "</table>\n",
       "<p>1460000 rows × 7 columns</p>\n",
       "</div>"
      ],
      "text/plain": [
       "           index           mjd   band    skynoise  gain    zp  fieldid\n",
       "0        1376732  56000.002833  ztf:r  199.988260   1.0  25.0      582\n",
       "1        1233282  56000.003534  ztf:i  207.353659   1.0  25.0       41\n",
       "2          46602  56000.004359  ztf:i  181.503385   1.0  25.0      270\n",
       "3         725227  56000.006909  ztf:i  186.936721   1.0  25.0       87\n",
       "4         258599  56000.007750  ztf:g  204.752454   1.0  25.0       82\n",
       "...          ...           ...    ...         ...   ...   ...      ...\n",
       "1459995   891576  57459.992057  ztf:g  207.086858   1.0  25.0      159\n",
       "1459996    21047  57459.992484  ztf:r  180.078056   1.0  25.0      343\n",
       "1459997    40775  57459.993943  ztf:r  191.445406   1.0  25.0      284\n",
       "1459998  1133746  57459.995424  ztf:r  186.317511   1.0  25.0      656\n",
       "1459999   950875  57459.999955  ztf:r  189.994970   1.0  25.0       63\n",
       "\n",
       "[1460000 rows x 7 columns]"
      ]
     },
     "execution_count": 5,
     "metadata": {},
     "output_type": "execute_result"
    }
   ],
   "source": [
    "hpsurvey.data # Show the data generated. time, band sky noise, gain, zp and fieldid."
   ]
  },
  {
   "cell_type": "markdown",
   "id": "06a09453",
   "metadata": {},
   "source": [
    "Let's get the number of time a 'field' has been observed"
   ]
  },
  {
   "cell_type": "code",
   "execution_count": 6,
   "id": "2fc972c3",
   "metadata": {},
   "outputs": [
    {
     "data": {
      "text/plain": [
       "323    2168\n",
       "538    2158\n",
       "436    2153\n",
       "624    2153\n",
       "131    2146\n",
       "       ... \n",
       "290    1915\n",
       "696    1914\n",
       "34     1912\n",
       "476    1905\n",
       "565    1869\n",
       "Name: fieldid, Length: 720, dtype: int64"
      ]
     },
     "execution_count": 6,
     "metadata": {},
     "output_type": "execute_result"
    }
   ],
   "source": [
    "hpsurvey.get_fieldstat(\"size\") "
   ]
  },
  {
   "cell_type": "markdown",
   "id": "91bb5fca",
   "metadata": {},
   "source": [
    "These are just short cut to pandas dataframe contained in self.data\n",
    "\n",
    "So you can play.\n",
    "\n",
    "Let's measure the number of observation we have per day and per band"
   ]
  },
  {
   "cell_type": "code",
   "execution_count": 7,
   "id": "19bcc9b4",
   "metadata": {},
   "outputs": [],
   "source": [
    "data = hpsurvey.data.copy()\n",
    "data[\"day\"] = data[\"mjd\"].astype(int)"
   ]
  },
  {
   "cell_type": "code",
   "execution_count": 8,
   "id": "c83ff93f",
   "metadata": {},
   "outputs": [
    {
     "data": {
      "text/plain": [
       "day    band \n",
       "56000  ztf:g    311\n",
       "       ztf:i    333\n",
       "       ztf:r    349\n",
       "56001  ztf:g    353\n",
       "       ztf:i    322\n",
       "               ... \n",
       "57458  ztf:i    299\n",
       "       ztf:r    337\n",
       "57459  ztf:g    333\n",
       "       ztf:i    319\n",
       "       ztf:r    328\n",
       "Length: 4380, dtype: int64"
      ]
     },
     "execution_count": 8,
     "metadata": {},
     "output_type": "execute_result"
    }
   ],
   "source": [
    "dailybands = data.groupby([\"day\",\"band\"]).size()\n",
    "dailybands"
   ]
  },
  {
   "cell_type": "code",
   "execution_count": 9,
   "id": "dc9a1dc5",
   "metadata": {},
   "outputs": [
    {
     "data": {
      "text/plain": [
       "<matplotlib.legend.Legend at 0x2c45edfd0>"
      ]
     },
     "execution_count": 9,
     "metadata": {},
     "output_type": "execute_result"
    },
    {
     "data": {
      "image/png": "[encoded data removed]",
      "text/plain": [
       "<Figure size 432x288 with 1 Axes>"
      ]
     },
     "metadata": {
      "needs_background": "light"
     },
     "output_type": "display_data"
    }
   ],
   "source": [
    "import matplotlib.pyplot as plt\n",
    "fig = plt.figure()\n",
    "ax = fig.add_subplot()\n",
    "\n",
    "prop = dict(lw=2, histtype=\"step\")\n",
    "ax.hist(dailybands.xs(\"ztf:g\", level=1), color=\"tab:green\", label=\"ztf:g\", **prop) \n",
    "ax.hist(dailybands.xs(\"ztf:r\", level=1), color=\"tab:red\", label=\"ztf:r\",**prop)\n",
    "ax.hist(dailybands.xs(\"ztf:i\", level=1), color=\"tab:orange\", label=\"ztf:i\",**prop)\n",
    "ax.legend(loc='best')"
   ]
  },
  {
   "cell_type": "markdown",
   "id": "7c0fc675",
   "metadata": {},
   "source": [
    "#### Get the field of a target\n",
    "\n",
    "This is an important feature that enable us to know whic field contains which target"
   ]
  },
  {
   "cell_type": "code",
   "execution_count": 10,
   "id": "3be595aa",
   "metadata": {},
   "outputs": [
    {
     "data": {
      "text/plain": [
       "189"
      ]
     },
     "execution_count": 10,
     "metadata": {},
     "output_type": "execute_result"
    }
   ],
   "source": [
    "hpsurvey.radec_to_fieldid(40, 90)"
   ]
  },
  {
   "cell_type": "code",
   "execution_count": 11,
   "id": "d121d311",
   "metadata": {},
   "outputs": [
    {
     "data": {
      "text/plain": [
       "array([554, 648,   3, 133, 165,  35, 177, 402, 388,  93,  45, 673, 577,\n",
       "       572, 629,   1,   5, 211, 453, 379, 116, 106,  66, 257, 305, 234,\n",
       "        78, 482,  58, 442, 557, 165, 271, 448, 634, 195,  10, 510, 563,\n",
       "       328, 315, 299, 659,   2, 318,   9, 218, 105, 450, 162,  18,   7,\n",
       "       404,  75, 502, 236,  58, 111, 143,  38,   6, 442, 667, 676, 372,\n",
       "       347, 366,  40,   1, 701, 254,  44, 560, 353, 491, 119, 740,   4,\n",
       "        84, 624, 537, 276, 503, 282, 201, 185,  63, 596, 530, 715, 608,\n",
       "       139, 135, 509, 552, 459, 262,   2,  44, 223,  13, 217, 322, 630,\n",
       "       443, 145, 699,   3, 578,  10, 383,   1, 599,  44,  10, 316,   9,\n",
       "        43, 391, 658,  66, 146,   2, 703,   0,  48,  53, 108,   3, 628,\n",
       "       352,  77, 159, 686, 563,   1, 471,  20, 422, 547,  90,  12,  59,\n",
       "       341, 162, 193,  42, 408, 220,  12, 455, 135, 105,  39, 381, 373,\n",
       "       151,   3,  39, 270, 451, 362, 277, 171, 439, 421, 150, 452, 126,\n",
       "       607, 628, 641, 614,   9,   3, 103, 287,  82,  32, 195, 280, 513,\n",
       "       190, 430,   1, 406, 335, 168, 376, 178, 201, 610, 575, 594,   0,\n",
       "       347, 542, 680, 347, 314, 707, 246, 233,  23, 218, 289, 108, 714,\n",
       "       232, 160,  32,  34, 631,  22, 310, 696, 540, 258,  30, 536,  74,\n",
       "       632, 751,  57,  14, 322,   1, 452, 281, 139,  73, 700,  32,  48,\n",
       "       605,  20,  37, 204, 583, 436, 726,  41, 176, 377, 395, 334, 191,\n",
       "       571, 615,  34,  45, 420, 410, 651, 370,  56, 333,  87, 674, 651,\n",
       "        90,   3, 323, 288,  56, 166,  95,  75,  91,  61, 578, 237, 154,\n",
       "        61, 475, 132,  74, 121,  22, 651, 675, 655, 347,  66, 503, 354,\n",
       "       512, 534, 472, 120, 159, 142, 302, 425, 417, 556, 457, 146, 468,\n",
       "       640,  43, 293, 443, 197, 284, 385,   7, 438, 461,   3, 628, 244,\n",
       "       408, 637, 513, 353, 734,  59,  12, 396, 108, 253,  34, 173, 110,\n",
       "       295,  64, 207, 154, 564, 103,  63, 123, 134,  97,  13, 483, 629,\n",
       "       680, 300, 395, 676, 454, 145,  16, 164, 203, 234,  71, 478,  31,\n",
       "       465, 505, 143, 310, 413,   0, 264, 409, 400, 621,   1,   2, 281,\n",
       "       717, 622,   7, 446,  46,  22,  76, 195,  13,   0, 511, 223,  38,\n",
       "       656,  67,  76, 196, 621, 340, 704,  38, 666,  75, 107,  29, 491,\n",
       "         9, 393, 394, 404, 368,   2, 109,  10, 181, 131, 110, 714,  15,\n",
       "         3, 328, 189, 103, 118, 655, 321, 549, 291,  74,  56, 373, 517,\n",
       "        12, 420,   9,  45, 288, 168, 266,  49, 708, 603, 301, 435, 633,\n",
       "       378, 233, 519,  32, 362,  15,  89, 143,  16,  83, 106, 128,   7,\n",
       "        89, 430, 436, 388, 475,  56, 423, 195,   7, 696, 707,   2, 452,\n",
       "         2, 579, 288, 152,  27, 103, 528,  32, 582,   3, 232, 331,   3,\n",
       "        58, 348, 554, 536, 342,  60, 435, 176,  56, 250,  33, 557, 149,\n",
       "       597, 288, 391, 658, 469, 620, 601, 432, 181, 366, 192,   1,   0,\n",
       "        14,  50,   3, 464, 570,  33,   4,  32,  50, 712, 443, 278, 432,\n",
       "       139,   4,   0, 434, 281,  48, 159, 605,  16,  17, 734, 129, 609,\n",
       "       722, 206, 685, 450, 289,  18,  24, 153,   3, 570,   3, 149, 433,\n",
       "         5, 327, 468, 191, 180,  14,  35, 105, 239,   3,   9,   9,   3,\n",
       "         0, 490, 590,   1, 170, 624, 280, 197, 509, 408, 592, 455, 502,\n",
       "       632,  12, 287, 101, 176,   0, 562, 578, 520, 633, 159, 658, 556,\n",
       "         4,   1, 396,   5, 561, 499, 269,  76, 445,   7,   3, 125, 376,\n",
       "       551, 404,  27, 118,  33,  54, 359,  30,  27, 119, 207,   3, 290,\n",
       "       654, 336, 567, 190, 223,  70,  52, 430, 567, 573, 260, 552,   1,\n",
       "       144, 472,   1,  52, 144,  19, 188, 247, 556, 677,   2,  56,  97,\n",
       "       101, 188,  26, 197, 277, 227, 624, 635, 580, 678, 614, 364, 436,\n",
       "        12, 712, 684,  36, 294, 637,  80, 189, 422,  46,   1,  10,   1,\n",
       "       562, 651,  64, 518, 210, 170, 320,   2,  27, 125,  20, 250, 457,\n",
       "       111, 295, 479, 325, 454, 656, 717, 190, 419,  68,   3, 631, 173,\n",
       "         4,  30, 174,  56, 697, 588, 176, 193,   2,  16,  29,  52, 482,\n",
       "       146,  79, 628, 152, 135, 656,  44, 290, 515, 551, 442, 572, 654,\n",
       "       130,  47,  23, 509, 624, 709, 661, 657,  30, 205, 113,  23,  34,\n",
       "       699, 546, 331, 174, 117, 165, 450,   1, 121, 185, 110,  63, 149,\n",
       "       558, 185, 217, 626, 392, 298,  23, 612, 202, 708, 434, 479, 574,\n",
       "       704, 494, 486,  23, 456, 542,   2,  24, 193,   3,  95, 358, 637,\n",
       "       466, 357, 156, 570, 552, 406, 348, 611, 193, 649, 631,  19, 621,\n",
       "         2, 441,  11, 236, 456, 301, 727, 142, 672, 512, 618, 239, 111,\n",
       "       282, 303, 678, 384,  71, 257, 191, 186, 751, 640, 557, 367,  33,\n",
       "       344, 503,  52,   3, 511,  39,  28, 491, 171, 521, 260, 584,   9,\n",
       "       108, 452, 238, 515,   3, 225, 282, 124, 107,  10, 109,   0, 107,\n",
       "       350, 134, 247,  19,   6,  13,   0,  39, 370, 286,  12, 244,  35,\n",
       "       610, 177, 446,  21, 147, 122, 324, 706, 176,  19,  26, 496,   7,\n",
       "       128, 373, 573,  56,  25, 196,  12, 267,  56, 403, 165,  16, 199,\n",
       "        51, 749, 404,   1, 254,  12, 256,  88, 314, 192, 624,  67, 498,\n",
       "         2,  31,  19,  19, 288, 640, 290,  47, 667, 397,  77, 216,  16,\n",
       "       645, 592, 276,  18, 163, 598, 342, 715, 724, 350,  39,   4,  28,\n",
       "         8, 114,  88, 600, 222, 232, 140, 455, 104, 211, 517, 515, 114,\n",
       "       119, 199, 443, 509,   5,   7, 661,   3, 504, 106, 692,   1, 145,\n",
       "       684, 713, 593, 644, 588, 138, 142, 177, 170, 597, 700, 107, 146,\n",
       "       375, 572, 364,  79, 681, 383,  59,   1,   5,   0,  53, 141, 184,\n",
       "       594, 481,  15,  85, 269,  74,  19,   9, 306, 227,  32,   0, 464,\n",
       "       205,  10, 521,  63, 370,  71,  60, 529, 308, 653, 258, 559, 538,\n",
       "        89, 315, 118, 423,  88,  86, 394, 704, 496, 559, 196,   0,   3,\n",
       "        14, 597,   5,  31,   1, 125, 149, 515,  57, 530,  11, 292])"
      ]
     },
     "execution_count": 11,
     "metadata": {},
     "output_type": "execute_result"
    }
   ],
   "source": [
    "import numpy as np\n",
    "# remark that, doing that this way, it won't be homogeneous.\n",
    "ra_flat = np.random.uniform(-30, 90, 1000)\n",
    "dec_flat = np.random.uniform(0, 360, 1000)\n",
    "hpsurvey.radec_to_fieldid(ra_flat, dec_flat)"
   ]
  },
  {
   "cell_type": "markdown",
   "id": "b9ea1b1a",
   "metadata": {},
   "source": [
    "### ZTF, a polygon survey\n",
    "\n",
    "polygon survey are surveys which pointings are defined by a (potentially very long) list of fieldid. (see self."
   ]
  },
  {
   "cell_type": "code",
   "execution_count": 12,
   "id": "6660ea99",
   "metadata": {},
   "outputs": [],
   "source": [
    "from skysurvey.survey import ZTF"
   ]
  },
  {
   "cell_type": "markdown",
   "id": "b47870f2",
   "metadata": {},
   "source": [
    "random is using the real ZTF field definition, but enables you to generate a random draw (unrealistic) as for HealpixSurvey"
   ]
  },
  {
   "cell_type": "code",
   "execution_count": 13,
   "id": "2faa9a26",
   "metadata": {},
   "outputs": [
    {
     "name": "stdout",
     "output_type": "stream",
     "text": [
      "CPU times: user 1.56 s, sys: 74.1 ms, total: 1.64 s\n",
      "Wall time: 1.65 s\n"
     ]
    }
   ],
   "source": [
    "%%time\n",
    "ztf = ZTF.from_random(size=365*4*1000, # number of observation \n",
    "                     bands=[\"ztf:g\",\"ztf:r\",\"ztf:i\"], # band to observed\n",
    "                     mjd_range=[56000, 56000+365*4], # timerange of observation\n",
    "                     skynoise_range=[180,210], # sky noise\n",
    "                     )"
   ]
  },
  {
   "cell_type": "code",
   "execution_count": null,
   "id": "68adaf54",
   "metadata": {},
   "outputs": [],
   "source": []
  },
  {
   "cell_type": "markdown",
   "id": "71934ff8",
   "metadata": {},
   "source": [
    "If you have a list of observation have these data. load directly a ztf instance with that"
   ]
  },
  {
   "cell_type": "code",
   "execution_count": 14,
   "id": "f1b0058c",
   "metadata": {},
   "outputs": [
    {
     "name": "stdout",
     "output_type": "stream",
     "text": [
      "CPU times: user 34 ms, sys: 8.7 ms, total: 42.7 ms\n",
      "Wall time: 38.6 ms\n"
     ]
    }
   ],
   "source": [
    "%%time\n",
    "other_ztf = ZTF(data=data)"
   ]
  },
  {
   "cell_type": "code",
   "execution_count": 15,
   "id": "f8acac62",
   "metadata": {},
   "outputs": [
    {
     "data": {
      "text/plain": [
       "323    2168\n",
       "538    2158\n",
       "436    2153\n",
       "624    2153\n",
       "131    2146\n",
       "       ... \n",
       "290    1915\n",
       "696    1914\n",
       "34     1912\n",
       "476    1905\n",
       "565    1869\n",
       "Name: fieldid, Length: 720, dtype: int64"
      ]
     },
     "execution_count": 15,
     "metadata": {},
     "output_type": "execute_result"
    }
   ],
   "source": [
    "other_ztf.get_fieldstat(\"size\")"
   ]
  },
  {
   "cell_type": "markdown",
   "id": "239a2808",
   "metadata": {},
   "source": [
    "**Next let's join targets and survey**"
   ]
  }
 ],
 "metadata": {
  "kernelspec": {
   "display_name": "Python 3 (ipykernel)",
   "language": "python",
   "name": "python3"
  },
  "language_info": {
   "codemirror_mode": {
    "name": "ipython",
    "version": 3
   },
   "file_extension": ".py",
   "mimetype": "text/x-python",
   "name": "python",
   "nbconvert_exporter": "python",
   "pygments_lexer": "ipython3",
   "version": "3.9.13"
  }
 },
 "nbformat": 4,
 "nbformat_minor": 5
}
