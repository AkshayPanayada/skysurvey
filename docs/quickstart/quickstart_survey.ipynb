{
 "cells": [
  {
   "cell_type": "markdown",
   "id": "b60ec1f5",
   "metadata": {},
   "source": [
    "# Quickstart: Survey\n",
    "\n",
    "learn how to generate a survey"
   ]
  },
  {
   "cell_type": "code",
   "execution_count": 1,
   "id": "3dcbaca7",
   "metadata": {},
   "outputs": [
    {
     "name": "stderr",
     "output_type": "stream",
     "text": [
      "WARNING: AstropyDeprecationWarning: The update_default_config function is deprecated and may be removed in a future version. [sncosmo]\n",
      "/Users/rigault/miniforge3/lib/python3.9/site-packages/ztfquery-1.19.1-py3.9.egg/ztfquery/utils/tools.py:78: VisibleDeprecationWarning: Creating an ndarray from ragged nested sequences (which is a list-or-tuple of lists-or-tuples-or ndarrays with different lengths or shapes) is deprecated. If you meant to do this, you must specify 'dtype=object' when creating the ndarray.\n",
      "  return np.asarray([v[0]*np.cos(theta*_DEG2RA) - v[2]*np.sin(theta*_DEG2RA),\n"
     ]
    }
   ],
   "source": [
    "from skysurvey import survey"
   ]
  },
  {
   "cell_type": "markdown",
   "id": "87b6af94",
   "metadata": {},
   "source": [
    "let's start with two predefined survey. A generic HealpixSurvey (based on healpix sky segmentation) \n",
    "and a real one ZTF (based on polygon sky segmentation)"
   ]
  },
  {
   "cell_type": "markdown",
   "id": "ed7e777c",
   "metadata": {},
   "source": [
    "### Healpix Survey"
   ]
  },
  {
   "cell_type": "code",
   "execution_count": 2,
   "id": "ff37b039",
   "metadata": {},
   "outputs": [],
   "source": [
    "hpsurvey = survey.HealpixSurvey(9)"
   ]
  },
  {
   "cell_type": "markdown",
   "id": "70a28f36",
   "metadata": {},
   "source": [
    "Let's draw the equivalent of 4 years of observations assuming 1000 healpix pixel pointings per day\n",
    "\n",
    "Remark that, as such mjd_range and size are drawn independenly so, 1000 pointing per day is an average. "
   ]
  },
  {
   "cell_type": "code",
   "execution_count": 3,
   "id": "6ed988ad",
   "metadata": {},
   "outputs": [
    {
     "name": "stdout",
     "output_type": "stream",
     "text": [
      "CPU times: user 1.46 s, sys: 222 ms, total: 1.69 s\n",
      "Wall time: 1.69 s\n"
     ]
    }
   ],
   "source": [
    "%%time\n",
    "hpsurvey.draw_random(size=365*4*1000, # number of observation \n",
    "                     bands=[\"ztf:g\",\"ztf:r\",\"ztf:i\"], # band to observed\n",
    "                     mjd_range=[56000, 56000+365*4], # timerange of observation\n",
    "                     skynoise_range=[180,210], # sky noise\n",
    "                     ra_range=[-30,90], \n",
    "                    inplace=True)  # set the self.data and do not return a new HealpixSurvey"
   ]
  },
  {
   "cell_type": "markdown",
   "id": "0ba9ad1d",
   "metadata": {},
   "source": [
    "Remark: you could have load it directly this way using the ``from_random`` classmethod"
   ]
  },
  {
   "cell_type": "code",
   "execution_count": 4,
   "id": "4188e123",
   "metadata": {},
   "outputs": [
    {
     "name": "stdout",
     "output_type": "stream",
     "text": [
      "CPU times: user 1.6 s, sys: 165 ms, total: 1.77 s\n",
      "Wall time: 1.77 s\n"
     ]
    }
   ],
   "source": [
    "%%time\n",
    "hpsurvey = survey.HealpixSurvey.from_random(nside=9, \n",
    "                                     size=365*4*1000, # number of observation \n",
    "                                     bands=[\"ztf:g\",\"ztf:r\",\"ztf:i\"],\n",
    "                                     mjd_range=[56000, 56000+365*4], \n",
    "                                     skynoise_range=[180,210], \n",
    "                                     ra_range=[-30,90])"
   ]
  },
  {
   "cell_type": "code",
   "execution_count": 5,
   "id": "31aa7121",
   "metadata": {},
   "outputs": [
    {
     "data": {
      "text/html": [
       "<div>\n",
       "<style scoped>\n",
       "    .dataframe tbody tr th:only-of-type {\n",
       "        vertical-align: middle;\n",
       "    }\n",
       "\n",
       "    .dataframe tbody tr th {\n",
       "        vertical-align: top;\n",
       "    }\n",
       "\n",
       "    .dataframe thead th {\n",
       "        text-align: right;\n",
       "    }\n",
       "</style>\n",
       "<table border=\"1\" class=\"dataframe\">\n",
       "  <thead>\n",
       "    <tr style=\"text-align: right;\">\n",
       "      <th></th>\n",
       "      <th>index</th>\n",
       "      <th>mjd</th>\n",
       "      <th>band</th>\n",
       "      <th>skynoise</th>\n",
       "      <th>gain</th>\n",
       "      <th>zp</th>\n",
       "      <th>fieldid</th>\n",
       "    </tr>\n",
       "  </thead>\n",
       "  <tbody>\n",
       "    <tr>\n",
       "      <th>0</th>\n",
       "      <td>1204851</td>\n",
       "      <td>56000.000482</td>\n",
       "      <td>ztf:i</td>\n",
       "      <td>200.368636</td>\n",
       "      <td>1.0</td>\n",
       "      <td>25.0</td>\n",
       "      <td>558</td>\n",
       "    </tr>\n",
       "    <tr>\n",
       "      <th>1</th>\n",
       "      <td>502089</td>\n",
       "      <td>56000.001237</td>\n",
       "      <td>ztf:g</td>\n",
       "      <td>189.830118</td>\n",
       "      <td>1.0</td>\n",
       "      <td>25.0</td>\n",
       "      <td>432</td>\n",
       "    </tr>\n",
       "    <tr>\n",
       "      <th>2</th>\n",
       "      <td>782278</td>\n",
       "      <td>56000.003051</td>\n",
       "      <td>ztf:r</td>\n",
       "      <td>203.177772</td>\n",
       "      <td>1.0</td>\n",
       "      <td>25.0</td>\n",
       "      <td>201</td>\n",
       "    </tr>\n",
       "    <tr>\n",
       "      <th>3</th>\n",
       "      <td>571834</td>\n",
       "      <td>56000.004849</td>\n",
       "      <td>ztf:i</td>\n",
       "      <td>196.402707</td>\n",
       "      <td>1.0</td>\n",
       "      <td>25.0</td>\n",
       "      <td>243</td>\n",
       "    </tr>\n",
       "    <tr>\n",
       "      <th>4</th>\n",
       "      <td>251007</td>\n",
       "      <td>56000.005039</td>\n",
       "      <td>ztf:g</td>\n",
       "      <td>209.766236</td>\n",
       "      <td>1.0</td>\n",
       "      <td>25.0</td>\n",
       "      <td>344</td>\n",
       "    </tr>\n",
       "    <tr>\n",
       "      <th>...</th>\n",
       "      <td>...</td>\n",
       "      <td>...</td>\n",
       "      <td>...</td>\n",
       "      <td>...</td>\n",
       "      <td>...</td>\n",
       "      <td>...</td>\n",
       "      <td>...</td>\n",
       "    </tr>\n",
       "    <tr>\n",
       "      <th>1459995</th>\n",
       "      <td>314794</td>\n",
       "      <td>57459.996481</td>\n",
       "      <td>ztf:i</td>\n",
       "      <td>207.382923</td>\n",
       "      <td>1.0</td>\n",
       "      <td>25.0</td>\n",
       "      <td>641</td>\n",
       "    </tr>\n",
       "    <tr>\n",
       "      <th>1459996</th>\n",
       "      <td>1030355</td>\n",
       "      <td>57459.997576</td>\n",
       "      <td>ztf:i</td>\n",
       "      <td>185.046363</td>\n",
       "      <td>1.0</td>\n",
       "      <td>25.0</td>\n",
       "      <td>507</td>\n",
       "    </tr>\n",
       "    <tr>\n",
       "      <th>1459997</th>\n",
       "      <td>68383</td>\n",
       "      <td>57459.998672</td>\n",
       "      <td>ztf:g</td>\n",
       "      <td>194.275565</td>\n",
       "      <td>1.0</td>\n",
       "      <td>25.0</td>\n",
       "      <td>541</td>\n",
       "    </tr>\n",
       "    <tr>\n",
       "      <th>1459998</th>\n",
       "      <td>1081974</td>\n",
       "      <td>57459.999427</td>\n",
       "      <td>ztf:r</td>\n",
       "      <td>198.539872</td>\n",
       "      <td>1.0</td>\n",
       "      <td>25.0</td>\n",
       "      <td>360</td>\n",
       "    </tr>\n",
       "    <tr>\n",
       "      <th>1459999</th>\n",
       "      <td>851628</td>\n",
       "      <td>57459.999567</td>\n",
       "      <td>ztf:r</td>\n",
       "      <td>187.694933</td>\n",
       "      <td>1.0</td>\n",
       "      <td>25.0</td>\n",
       "      <td>414</td>\n",
       "    </tr>\n",
       "  </tbody>\n",
       "</table>\n",
       "<p>1460000 rows × 7 columns</p>\n",
       "</div>"
      ],
      "text/plain": [
       "           index           mjd   band    skynoise  gain    zp  fieldid\n",
       "0        1204851  56000.000482  ztf:i  200.368636   1.0  25.0      558\n",
       "1         502089  56000.001237  ztf:g  189.830118   1.0  25.0      432\n",
       "2         782278  56000.003051  ztf:r  203.177772   1.0  25.0      201\n",
       "3         571834  56000.004849  ztf:i  196.402707   1.0  25.0      243\n",
       "4         251007  56000.005039  ztf:g  209.766236   1.0  25.0      344\n",
       "...          ...           ...    ...         ...   ...   ...      ...\n",
       "1459995   314794  57459.996481  ztf:i  207.382923   1.0  25.0      641\n",
       "1459996  1030355  57459.997576  ztf:i  185.046363   1.0  25.0      507\n",
       "1459997    68383  57459.998672  ztf:g  194.275565   1.0  25.0      541\n",
       "1459998  1081974  57459.999427  ztf:r  198.539872   1.0  25.0      360\n",
       "1459999   851628  57459.999567  ztf:r  187.694933   1.0  25.0      414\n",
       "\n",
       "[1460000 rows x 7 columns]"
      ]
     },
     "execution_count": 5,
     "metadata": {},
     "output_type": "execute_result"
    }
   ],
   "source": [
    "hpsurvey.data # Show the data generated. time, band sky noise, gain, zp and fieldid."
   ]
  },
  {
   "cell_type": "markdown",
   "id": "06a09453",
   "metadata": {},
   "source": [
    "Let's get the number of time a 'field' has been observed"
   ]
  },
  {
   "cell_type": "code",
   "execution_count": 6,
   "id": "2fc972c3",
   "metadata": {},
   "outputs": [
    {
     "data": {
      "text/plain": [
       "13     2189\n",
       "610    2158\n",
       "316    2155\n",
       "558    2136\n",
       "147    2134\n",
       "       ... \n",
       "245    1924\n",
       "480    1922\n",
       "307    1922\n",
       "41     1921\n",
       "396    1915\n",
       "Name: fieldid, Length: 720, dtype: int64"
      ]
     },
     "execution_count": 6,
     "metadata": {},
     "output_type": "execute_result"
    }
   ],
   "source": [
    "hpsurvey.get_fieldstat(\"size\") "
   ]
  },
  {
   "cell_type": "markdown",
   "id": "91bb5fca",
   "metadata": {},
   "source": [
    "These are just short cut to pandas dataframe contained in self.data\n",
    "\n",
    "So you can play.\n",
    "\n",
    "Let's measure the number of observation we have per day and per band"
   ]
  },
  {
   "cell_type": "code",
   "execution_count": 7,
   "id": "19bcc9b4",
   "metadata": {},
   "outputs": [],
   "source": [
    "data = hpsurvey.data.copy()\n",
    "data[\"day\"] = data[\"mjd\"].astype(int)"
   ]
  },
  {
   "cell_type": "code",
   "execution_count": 8,
   "id": "c83ff93f",
   "metadata": {},
   "outputs": [
    {
     "data": {
      "text/plain": [
       "day    band \n",
       "56000  ztf:g    327\n",
       "       ztf:i    325\n",
       "       ztf:r    360\n",
       "56001  ztf:g    328\n",
       "       ztf:i    342\n",
       "               ... \n",
       "57458  ztf:i    367\n",
       "       ztf:r    345\n",
       "57459  ztf:g    315\n",
       "       ztf:i    319\n",
       "       ztf:r    324\n",
       "Length: 4380, dtype: int64"
      ]
     },
     "execution_count": 8,
     "metadata": {},
     "output_type": "execute_result"
    }
   ],
   "source": [
    "dailybands = data.groupby([\"day\",\"band\"]).size()\n",
    "dailybands"
   ]
  },
  {
   "cell_type": "code",
   "execution_count": 9,
   "id": "dc9a1dc5",
   "metadata": {},
   "outputs": [
    {
     "data": {
      "text/plain": [
       "<matplotlib.legend.Legend at 0x2a4bcdd60>"
      ]
     },
     "execution_count": 9,
     "metadata": {},
     "output_type": "execute_result"
    },
    {
     "data": {
      "image/png": "[encoded data removed]",
      "text/plain": [
       "<Figure size 432x288 with 1 Axes>"
      ]
     },
     "metadata": {
      "needs_background": "light"
     },
     "output_type": "display_data"
    }
   ],
   "source": [
    "import matplotlib.pyplot as plt\n",
    "fig = plt.figure()\n",
    "ax = fig.add_subplot()\n",
    "\n",
    "prop = dict(lw=2, histtype=\"step\")\n",
    "ax.hist(dailybands.xs(\"ztf:g\", level=1), color=\"tab:green\", label=\"ztf:g\", **prop) \n",
    "ax.hist(dailybands.xs(\"ztf:r\", level=1), color=\"tab:red\", label=\"ztf:r\",**prop)\n",
    "ax.hist(dailybands.xs(\"ztf:i\", level=1), color=\"tab:orange\", label=\"ztf:i\",**prop)\n",
    "ax.legend(loc='best')"
   ]
  },
  {
   "cell_type": "markdown",
   "id": "7c0fc675",
   "metadata": {},
   "source": [
    "#### Get the field of a target\n",
    "\n",
    "This is an important feature that enable us to know whic field contains which target"
   ]
  },
  {
   "cell_type": "code",
   "execution_count": 10,
   "id": "3be595aa",
   "metadata": {},
   "outputs": [
    {
     "data": {
      "text/plain": [
       "189"
      ]
     },
     "execution_count": 10,
     "metadata": {},
     "output_type": "execute_result"
    }
   ],
   "source": [
    "hpsurvey.radec_to_fieldid(40, 90)"
   ]
  },
  {
   "cell_type": "code",
   "execution_count": 11,
   "id": "d121d311",
   "metadata": {
    "scrolled": false
   },
   "outputs": [
    {
     "data": {
      "text/plain": [
       "array([155, 327,  37, 324,   6, 336,  10, 574,  34, 470, 265,  27, 413,\n",
       "       679, 462, 687,  34, 277, 431,  33,  40, 670,  11, 114, 505,  75,\n",
       "        11,  18,   0,   2, 727, 627, 437,  19, 180, 510, 489,  15,  77,\n",
       "       642, 450, 643, 271,  42, 416, 553, 381, 104,  15, 705, 528, 234,\n",
       "       404, 220, 690,   5, 400,   9, 581, 412, 183, 546, 326,  85,  15,\n",
       "       418, 215, 652,  37, 534, 139, 302, 501, 592,   8, 226,   1, 657,\n",
       "       316, 273,   2, 409, 257, 658, 104, 583,  25, 103,  38, 280, 372,\n",
       "       198, 315, 298, 394,  97, 521,  50, 509, 103,  11, 236, 622, 166,\n",
       "        74, 429, 452,  14, 252, 219, 415, 397,   0, 662, 211, 418,  17,\n",
       "       554, 134, 115, 412, 240,   2, 399, 296, 701,  94, 156, 147, 245,\n",
       "       108,   3, 253, 355,  21, 534, 617, 226, 193, 199,  89,  57,  76,\n",
       "       100,   3, 686,   0, 164, 736,  50,  15,  50, 518, 463, 376, 691,\n",
       "       345,  15, 134, 665, 247, 716,  87, 408,   1, 687,  47, 661, 175,\n",
       "         1, 633,  15, 606, 153, 254, 181, 456,   1,   0,   3, 280, 341,\n",
       "       396, 162, 103, 582, 640,   2, 239, 139,  37, 109,  48, 390, 346,\n",
       "       644, 489, 544, 519,  24, 461,  21, 626, 433, 394,  19,   1,  40,\n",
       "       656, 755, 306, 331, 689, 516,  13, 487,  15,  75, 345, 271, 522,\n",
       "       520, 372, 119, 738, 110, 106,   3, 106, 493, 642, 393, 631, 377,\n",
       "        16, 171, 621, 575, 480, 536,  70, 592, 302, 420, 325, 141, 587,\n",
       "       135, 381, 724, 116,   1, 613, 694, 430,  64, 184, 217, 225, 483,\n",
       "        13,  10, 579, 563, 204,  99, 353, 256,  12, 527, 309,  23,  72,\n",
       "       594,   7, 371, 320, 307, 122,  29, 308, 273, 333, 742, 320,  82,\n",
       "        72,  12,   8, 483, 616, 456, 117, 755, 452, 159, 428, 474,   5,\n",
       "       326, 585, 238, 243, 409,  21,  56, 659, 493, 116,  40, 483,  91,\n",
       "       167,  46,   3, 128, 211, 676, 120, 679, 635, 587, 554, 121, 645,\n",
       "       527,  44,  35,  61,  33, 303,  68,  19, 389,  68, 130,   9,   2,\n",
       "       152, 417,   6, 548, 190, 462, 312, 707, 456,   2,  14,  59, 501,\n",
       "       707, 670,  10,  28,  78,  39, 547,  53, 389, 584, 171,   4, 451,\n",
       "       189,   3,  99,   5,  62, 582,  52,  33,  70, 497,  94, 396, 465,\n",
       "       407,  34,   1, 117,  69, 321, 710, 448, 277,  61,  17,  55, 566,\n",
       "       637, 748,  45, 393, 325, 402,  30, 167, 213, 390, 738, 379, 339,\n",
       "       552, 231,  55, 585,  10, 426, 458, 738, 589, 557,   8,   5, 637,\n",
       "       255, 217, 227, 681, 511,  37, 200, 631, 145, 183, 559, 158,   1,\n",
       "       521, 266,  19, 343, 404, 212, 704,  31,  49, 664, 686,   6,   8,\n",
       "       534,  70, 590, 422,  91, 291, 417, 570,  77,   4, 230,  11,  46,\n",
       "       673,  91, 406, 421, 292, 250, 522, 202,   9, 385,  71, 464,  18,\n",
       "       430, 599, 282, 354,   2, 122, 634, 605, 528,  17, 211,  31, 213,\n",
       "       193, 123, 477,  89, 693, 517,  38,  60, 488,  92, 442,  64,   4,\n",
       "       302, 672, 478, 445, 225, 202,  59, 627, 505, 273,   3, 343,   1,\n",
       "         1, 323, 703,  38,  27, 638,  97, 564, 426, 568, 100,  63, 320,\n",
       "        48, 343,   4, 432,  32,  80,   5, 371,  36, 270,  88, 365, 355,\n",
       "        88, 307, 545,  27,  81,   5, 235, 217,  23,  80,  68,  53, 118,\n",
       "        31,  78, 498,  84, 360, 199, 527, 183,  24, 260,  34, 198, 221,\n",
       "       418,  93, 127, 155, 594,  18,  57, 668,  88, 122, 494, 110, 670,\n",
       "       295,   2, 171, 740, 419, 473, 421, 156, 357,  29, 509, 169, 641,\n",
       "         5, 452,  48,   3,  15,  45,  77, 115,  82, 719, 454, 184, 284,\n",
       "       292,  16, 600, 178, 736, 365,  21, 582, 273, 319, 575,  59, 705,\n",
       "       620,  30, 660, 626, 602, 456,   4,   0, 104,   2, 512, 491, 363,\n",
       "       217,  15,  22,   0, 126, 335,  11, 168, 165, 658, 551, 550, 177,\n",
       "       543, 462, 166,  54,  64,  19,  65,  24, 592,  83, 353,  18,  33,\n",
       "       222,  10,  46, 553, 131, 124, 121, 159,   3,  63, 153, 184, 467,\n",
       "        25, 157, 116, 626, 674, 316, 123, 375,  65, 676, 368, 464, 234,\n",
       "        58,   1, 621, 606,  36, 461, 613,  79, 240, 610, 669, 217,  43,\n",
       "       281, 624,  35, 424, 633, 642,  49, 134, 270,  10,  66, 524, 589,\n",
       "       328, 269, 345,  38, 293, 548, 526, 110,   2,  26,  67, 162, 710,\n",
       "       606,   4, 531, 331, 344, 438, 585, 510, 539,   6, 673, 688,  32,\n",
       "       704, 480,   6, 214, 374, 147,  28,   7, 447, 318, 716,   6,  36,\n",
       "       414,  10,  23, 397, 556, 172, 293, 278, 131,   2, 315,  44,  13,\n",
       "       301, 447, 693,  28, 517, 248, 170,  52,   1, 543,  24, 253,   9,\n",
       "        81, 148,  94, 201, 171, 104,  97,  12, 233, 131, 394, 322, 689,\n",
       "       187, 371, 148, 419,  83, 247,  48, 296, 465, 537, 728, 480, 662,\n",
       "       609, 219, 409, 711, 437, 285, 352,  50, 440,   2, 142, 385, 223,\n",
       "       607, 150, 181, 670, 122, 108, 198,  92, 349, 251, 527, 619, 105,\n",
       "       211,  50, 121,  10, 566,  18,   9, 575, 707,   1,  76, 330, 204,\n",
       "       694,   8, 342,   1, 295, 343, 259, 667, 340, 698,   5, 551, 133,\n",
       "       532, 242,   7, 266, 252, 599, 670, 175,  14, 527, 287,  66,  67,\n",
       "       738, 286,   0, 373, 694,  63, 708, 362,  11,   1, 525, 644, 114,\n",
       "       709, 111,  76,  82,  49,   3, 573, 175,  58, 137, 147, 643,  35,\n",
       "        98, 383,  71,  19, 171,  57, 657, 321, 440,  67,   0,  42, 377,\n",
       "       618, 282,  36, 586, 424,  57, 727, 587, 577, 524, 553,   2, 420,\n",
       "       661, 386,   1, 462,  22, 433, 521, 641, 175, 511, 246,  22, 663,\n",
       "       434,  19,  13, 619,  69, 268,  33, 392, 672,  47,  28, 649,  99,\n",
       "        35,  13, 118, 294,  15, 523, 453, 751, 185, 430, 480, 633, 151,\n",
       "       653, 164,  48, 172,  59,  15, 642,  48, 128,  85, 290, 509, 305,\n",
       "       672, 267, 262, 245,  10,   3, 343, 515, 112, 210, 392, 331, 185,\n",
       "       541, 397,  63, 333, 600,  30, 178, 294,  20, 538, 656, 312, 682,\n",
       "        33, 164,  70,  45,  84,  61,   4, 752, 662, 569, 204, 601])"
      ]
     },
     "execution_count": 11,
     "metadata": {},
     "output_type": "execute_result"
    }
   ],
   "source": [
    "import numpy as np\n",
    "# remark that, doing that this way, it won't be homogeneous.\n",
    "ra_flat = np.random.uniform(-30, 90, 1000)\n",
    "dec_flat = np.random.uniform(0, 360, 1000)\n",
    "hpsurvey.radec_to_fieldid(ra_flat, dec_flat)"
   ]
  },
  {
   "cell_type": "markdown",
   "id": "b9ea1b1a",
   "metadata": {},
   "source": [
    "### ZTF, a polygon survey\n",
    "\n",
    "polygon survey are surveys which pointings are defined by a (potentially very long) list of fieldid. (see self."
   ]
  },
  {
   "cell_type": "code",
   "execution_count": 12,
   "id": "6660ea99",
   "metadata": {},
   "outputs": [],
   "source": [
    "from skysurvey.survey import ZTF"
   ]
  },
  {
   "cell_type": "markdown",
   "id": "b47870f2",
   "metadata": {},
   "source": [
    "random is using the real ZTF field definition, but enables you to generate a random draw (unrealistic) as for HealpixSurvey"
   ]
  },
  {
   "cell_type": "code",
   "execution_count": 13,
   "id": "2faa9a26",
   "metadata": {},
   "outputs": [
    {
     "name": "stdout",
     "output_type": "stream",
     "text": [
      "CPU times: user 1.51 s, sys: 64.3 ms, total: 1.57 s\n",
      "Wall time: 1.57 s\n"
     ]
    }
   ],
   "source": [
    "%%time\n",
    "ztf = ZTF.from_random(size=365*4*1000, # number of observation \n",
    "                     bands=[\"ztf:g\",\"ztf:r\",\"ztf:i\"], # band to observed\n",
    "                     mjd_range=[56000, 56000+365*4], # timerange of observation\n",
    "                     skynoise_range=[180,210], # sky noise\n",
    "                     )"
   ]
  },
  {
   "cell_type": "code",
   "execution_count": null,
   "id": "68adaf54",
   "metadata": {},
   "outputs": [],
   "source": []
  },
  {
   "cell_type": "markdown",
   "id": "71934ff8",
   "metadata": {},
   "source": [
    "If you have a list of observation have these data. load directly a ztf instance with that"
   ]
  },
  {
   "cell_type": "code",
   "execution_count": 14,
   "id": "f1b0058c",
   "metadata": {},
   "outputs": [
    {
     "name": "stdout",
     "output_type": "stream",
     "text": [
      "CPU times: user 15.9 ms, sys: 1.91 ms, total: 17.8 ms\n",
      "Wall time: 16.4 ms\n"
     ]
    }
   ],
   "source": [
    "%%time\n",
    "other_ztf = ZTF(data=data)"
   ]
  },
  {
   "cell_type": "code",
   "execution_count": 15,
   "id": "f8acac62",
   "metadata": {},
   "outputs": [
    {
     "data": {
      "text/plain": [
       "13     2189\n",
       "610    2158\n",
       "316    2155\n",
       "558    2136\n",
       "147    2134\n",
       "       ... \n",
       "245    1924\n",
       "480    1922\n",
       "307    1922\n",
       "41     1921\n",
       "396    1915\n",
       "Name: fieldid, Length: 720, dtype: int64"
      ]
     },
     "execution_count": 15,
     "metadata": {},
     "output_type": "execute_result"
    }
   ],
   "source": [
    "other_ztf.get_fieldstat(\"size\")"
   ]
  },
  {
   "cell_type": "markdown",
   "id": "239a2808",
   "metadata": {},
   "source": [
    "**Next let's join targets and survey**"
   ]
  }
 ],
 "metadata": {
  "kernelspec": {
   "display_name": "Python 3 (ipykernel)",
   "language": "python",
   "name": "python3"
  },
  "language_info": {
   "codemirror_mode": {
    "name": "ipython",
    "version": 3
   },
   "file_extension": ".py",
   "mimetype": "text/x-python",
   "name": "python",
   "nbconvert_exporter": "python",
   "pygments_lexer": "ipython3",
   "version": "3.9.16"
  }
 },
 "nbformat": 4,
 "nbformat_minor": 5
}
