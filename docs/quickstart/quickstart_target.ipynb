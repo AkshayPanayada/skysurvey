{
 "cells": [
  {
   "cell_type": "markdown",
   "id": "b60ec1f5",
   "metadata": {},
   "source": [
    "# quickstart with transients\n",
    "\n",
    "\n",
    "The `Transient` object has a **rate**, a **template** and a **model**.\n",
    "\n",
    "- The **rate** informs on how many we expect to have in nature for a redshift range. *This is a float*\n",
    "\n",
    "- The **model** specifies how the template parameters are drawn. *This is a dict.*\n",
    "\n",
    "and optionally:\n",
    "- The **template** provides the spectro-photometric time serie of the transient given input parameters. *The is a sncosmo.Model*\n",
    "\n",
    "The first two enables you to draw a sample of transients as given by nature. This last one is needed only if you want to get the transient lightcurves (so when you create a dataset when combining transient with a survey). "
   ]
  },
  {
   "cell_type": "markdown",
   "id": "a1ab19d6",
   "metadata": {},
   "source": [
    "## SNeIa Example"
   ]
  },
  {
   "cell_type": "code",
   "execution_count": 1,
   "id": "3dcbaca7",
   "metadata": {},
   "outputs": [
    {
     "name": "stderr",
     "output_type": "stream",
     "text": [
      "WARNING: AstropyDeprecationWarning: The update_default_config function is deprecated and may be removed in a future version. [sncosmo]\n"
     ]
    }
   ],
   "source": [
    "from skysurvey import target"
   ]
  },
  {
   "cell_type": "markdown",
   "id": "87b6af94",
   "metadata": {},
   "source": [
    "The **SNeIa** Transient is already defined and ready to use. "
   ]
  },
  {
   "cell_type": "code",
   "execution_count": 4,
   "id": "5e6aa32a",
   "metadata": {},
   "outputs": [],
   "source": [
    "snia = target.SNeIa()"
   ]
  },
  {
   "cell_type": "markdown",
   "id": "c7a2aab8",
   "metadata": {},
   "source": [
    "You can then draw as many SNeIa as you want. The parameters will be drawn following the transient's model (see below).\n",
    "These are SNeIa as given by nature following this model."
   ]
  },
  {
   "cell_type": "code",
   "execution_count": 6,
   "id": "3a2f61f7",
   "metadata": {},
   "outputs": [
    {
     "name": "stdout",
     "output_type": "stream",
     "text": [
      "CPU times: user 103 ms, sys: 4.13 ms, total: 107 ms\n",
      "Wall time: 106 ms\n"
     ]
    }
   ],
   "source": [
    "%%time\n",
    "data = snia.draw(size=10000)"
   ]
  },
  {
   "cell_type": "code",
   "execution_count": 7,
   "id": "5be5715b",
   "metadata": {},
   "outputs": [
    {
     "data": {
      "text/html": [
       "<div>\n",
       "<style scoped>\n",
       "    .dataframe tbody tr th:only-of-type {\n",
       "        vertical-align: middle;\n",
       "    }\n",
       "\n",
       "    .dataframe tbody tr th {\n",
       "        vertical-align: top;\n",
       "    }\n",
       "\n",
       "    .dataframe thead th {\n",
       "        text-align: right;\n",
       "    }\n",
       "</style>\n",
       "<table border=\"1\" class=\"dataframe\">\n",
       "  <thead>\n",
       "    <tr style=\"text-align: right;\">\n",
       "      <th></th>\n",
       "      <th>z</th>\n",
       "      <th>x1</th>\n",
       "      <th>c</th>\n",
       "      <th>t0</th>\n",
       "      <th>magabs</th>\n",
       "      <th>magobs</th>\n",
       "      <th>x0</th>\n",
       "      <th>ra</th>\n",
       "      <th>dec</th>\n",
       "    </tr>\n",
       "  </thead>\n",
       "  <tbody>\n",
       "    <tr>\n",
       "      <th>0</th>\n",
       "      <td>0.1415</td>\n",
       "      <td>-0.096</td>\n",
       "      <td>-0.039</td>\n",
       "      <td>59255.094953</td>\n",
       "      <td>-19.435586</td>\n",
       "      <td>19.763381</td>\n",
       "      <td>0.000197</td>\n",
       "      <td>183.147252</td>\n",
       "      <td>-28.834651</td>\n",
       "    </tr>\n",
       "    <tr>\n",
       "      <th>1</th>\n",
       "      <td>0.1355</td>\n",
       "      <td>0.531</td>\n",
       "      <td>0.071</td>\n",
       "      <td>59255.094953</td>\n",
       "      <td>-19.176866</td>\n",
       "      <td>19.919844</td>\n",
       "      <td>0.000171</td>\n",
       "      <td>187.902196</td>\n",
       "      <td>19.683835</td>\n",
       "    </tr>\n",
       "    <tr>\n",
       "      <th>2</th>\n",
       "      <td>0.1905</td>\n",
       "      <td>0.879</td>\n",
       "      <td>0.011</td>\n",
       "      <td>59255.094953</td>\n",
       "      <td>-19.414586</td>\n",
       "      <td>20.494312</td>\n",
       "      <td>0.000101</td>\n",
       "      <td>147.527537</td>\n",
       "      <td>53.607326</td>\n",
       "    </tr>\n",
       "    <tr>\n",
       "      <th>3</th>\n",
       "      <td>0.1735</td>\n",
       "      <td>-0.750</td>\n",
       "      <td>0.039</td>\n",
       "      <td>59255.094953</td>\n",
       "      <td>-19.098326</td>\n",
       "      <td>20.585800</td>\n",
       "      <td>0.000093</td>\n",
       "      <td>125.366304</td>\n",
       "      <td>45.891122</td>\n",
       "    </tr>\n",
       "    <tr>\n",
       "      <th>4</th>\n",
       "      <td>0.1585</td>\n",
       "      <td>0.013</td>\n",
       "      <td>0.018</td>\n",
       "      <td>59255.094953</td>\n",
       "      <td>-19.271296</td>\n",
       "      <td>20.196819</td>\n",
       "      <td>0.000132</td>\n",
       "      <td>193.071191</td>\n",
       "      <td>-9.358510</td>\n",
       "    </tr>\n",
       "    <tr>\n",
       "      <th>...</th>\n",
       "      <td>...</td>\n",
       "      <td>...</td>\n",
       "      <td>...</td>\n",
       "      <td>...</td>\n",
       "      <td>...</td>\n",
       "      <td>...</td>\n",
       "      <td>...</td>\n",
       "      <td>...</td>\n",
       "      <td>...</td>\n",
       "    </tr>\n",
       "    <tr>\n",
       "      <th>9995</th>\n",
       "      <td>0.1825</td>\n",
       "      <td>1.681</td>\n",
       "      <td>-0.044</td>\n",
       "      <td>59255.094953</td>\n",
       "      <td>-19.700116</td>\n",
       "      <td>20.105428</td>\n",
       "      <td>0.000144</td>\n",
       "      <td>195.241763</td>\n",
       "      <td>62.936479</td>\n",
       "    </tr>\n",
       "    <tr>\n",
       "      <th>9996</th>\n",
       "      <td>0.0785</td>\n",
       "      <td>-0.401</td>\n",
       "      <td>0.085</td>\n",
       "      <td>59255.094953</td>\n",
       "      <td>-19.002286</td>\n",
       "      <td>18.827883</td>\n",
       "      <td>0.000467</td>\n",
       "      <td>32.181298</td>\n",
       "      <td>-0.706600</td>\n",
       "    </tr>\n",
       "    <tr>\n",
       "      <th>9997</th>\n",
       "      <td>0.1455</td>\n",
       "      <td>0.316</td>\n",
       "      <td>-0.055</td>\n",
       "      <td>59255.094953</td>\n",
       "      <td>-19.543666</td>\n",
       "      <td>19.721244</td>\n",
       "      <td>0.000205</td>\n",
       "      <td>22.688827</td>\n",
       "      <td>2.666206</td>\n",
       "    </tr>\n",
       "    <tr>\n",
       "      <th>9998</th>\n",
       "      <td>0.1165</td>\n",
       "      <td>0.195</td>\n",
       "      <td>-0.016</td>\n",
       "      <td>59255.094953</td>\n",
       "      <td>-19.403876</td>\n",
       "      <td>19.338431</td>\n",
       "      <td>0.000292</td>\n",
       "      <td>173.375862</td>\n",
       "      <td>39.842611</td>\n",
       "    </tr>\n",
       "    <tr>\n",
       "      <th>9999</th>\n",
       "      <td>0.1395</td>\n",
       "      <td>0.101</td>\n",
       "      <td>0.074</td>\n",
       "      <td>59255.094953</td>\n",
       "      <td>-19.107216</td>\n",
       "      <td>20.058124</td>\n",
       "      <td>0.000151</td>\n",
       "      <td>71.251619</td>\n",
       "      <td>50.848393</td>\n",
       "    </tr>\n",
       "  </tbody>\n",
       "</table>\n",
       "<p>10000 rows × 9 columns</p>\n",
       "</div>"
      ],
      "text/plain": [
       "           z     x1      c            t0     magabs     magobs        x0  \\\n",
       "0     0.1415 -0.096 -0.039  59255.094953 -19.435586  19.763381  0.000197   \n",
       "1     0.1355  0.531  0.071  59255.094953 -19.176866  19.919844  0.000171   \n",
       "2     0.1905  0.879  0.011  59255.094953 -19.414586  20.494312  0.000101   \n",
       "3     0.1735 -0.750  0.039  59255.094953 -19.098326  20.585800  0.000093   \n",
       "4     0.1585  0.013  0.018  59255.094953 -19.271296  20.196819  0.000132   \n",
       "...      ...    ...    ...           ...        ...        ...       ...   \n",
       "9995  0.1825  1.681 -0.044  59255.094953 -19.700116  20.105428  0.000144   \n",
       "9996  0.0785 -0.401  0.085  59255.094953 -19.002286  18.827883  0.000467   \n",
       "9997  0.1455  0.316 -0.055  59255.094953 -19.543666  19.721244  0.000205   \n",
       "9998  0.1165  0.195 -0.016  59255.094953 -19.403876  19.338431  0.000292   \n",
       "9999  0.1395  0.101  0.074  59255.094953 -19.107216  20.058124  0.000151   \n",
       "\n",
       "              ra        dec  \n",
       "0     183.147252 -28.834651  \n",
       "1     187.902196  19.683835  \n",
       "2     147.527537  53.607326  \n",
       "3     125.366304  45.891122  \n",
       "4     193.071191  -9.358510  \n",
       "...          ...        ...  \n",
       "9995  195.241763  62.936479  \n",
       "9996   32.181298  -0.706600  \n",
       "9997   22.688827   2.666206  \n",
       "9998  173.375862  39.842611  \n",
       "9999   71.251619  50.848393  \n",
       "\n",
       "[10000 rows x 9 columns]"
      ]
     },
     "execution_count": 7,
     "metadata": {},
     "output_type": "execute_result"
    }
   ],
   "source": [
    "data # another copy is stored as snia.data"
   ]
  },
  {
   "cell_type": "code",
   "execution_count": 8,
   "id": "310ea5b2",
   "metadata": {},
   "outputs": [
    {
     "data": {
      "text/html": [
       "<div>\n",
       "<style scoped>\n",
       "    .dataframe tbody tr th:only-of-type {\n",
       "        vertical-align: middle;\n",
       "    }\n",
       "\n",
       "    .dataframe tbody tr th {\n",
       "        vertical-align: top;\n",
       "    }\n",
       "\n",
       "    .dataframe thead th {\n",
       "        text-align: right;\n",
       "    }\n",
       "</style>\n",
       "<table border=\"1\" class=\"dataframe\">\n",
       "  <thead>\n",
       "    <tr style=\"text-align: right;\">\n",
       "      <th></th>\n",
       "      <th>z</th>\n",
       "      <th>x1</th>\n",
       "      <th>c</th>\n",
       "      <th>t0</th>\n",
       "      <th>magabs</th>\n",
       "      <th>magobs</th>\n",
       "      <th>x0</th>\n",
       "      <th>ra</th>\n",
       "      <th>dec</th>\n",
       "    </tr>\n",
       "  </thead>\n",
       "  <tbody>\n",
       "    <tr>\n",
       "      <th>0</th>\n",
       "      <td>0.1415</td>\n",
       "      <td>-0.096</td>\n",
       "      <td>-0.039</td>\n",
       "      <td>59255.094953</td>\n",
       "      <td>-19.435586</td>\n",
       "      <td>19.763381</td>\n",
       "      <td>0.000197</td>\n",
       "      <td>183.147252</td>\n",
       "      <td>-28.834651</td>\n",
       "    </tr>\n",
       "    <tr>\n",
       "      <th>1</th>\n",
       "      <td>0.1355</td>\n",
       "      <td>0.531</td>\n",
       "      <td>0.071</td>\n",
       "      <td>59255.094953</td>\n",
       "      <td>-19.176866</td>\n",
       "      <td>19.919844</td>\n",
       "      <td>0.000171</td>\n",
       "      <td>187.902196</td>\n",
       "      <td>19.683835</td>\n",
       "    </tr>\n",
       "    <tr>\n",
       "      <th>2</th>\n",
       "      <td>0.1905</td>\n",
       "      <td>0.879</td>\n",
       "      <td>0.011</td>\n",
       "      <td>59255.094953</td>\n",
       "      <td>-19.414586</td>\n",
       "      <td>20.494312</td>\n",
       "      <td>0.000101</td>\n",
       "      <td>147.527537</td>\n",
       "      <td>53.607326</td>\n",
       "    </tr>\n",
       "    <tr>\n",
       "      <th>3</th>\n",
       "      <td>0.1735</td>\n",
       "      <td>-0.750</td>\n",
       "      <td>0.039</td>\n",
       "      <td>59255.094953</td>\n",
       "      <td>-19.098326</td>\n",
       "      <td>20.585800</td>\n",
       "      <td>0.000093</td>\n",
       "      <td>125.366304</td>\n",
       "      <td>45.891122</td>\n",
       "    </tr>\n",
       "    <tr>\n",
       "      <th>4</th>\n",
       "      <td>0.1585</td>\n",
       "      <td>0.013</td>\n",
       "      <td>0.018</td>\n",
       "      <td>59255.094953</td>\n",
       "      <td>-19.271296</td>\n",
       "      <td>20.196819</td>\n",
       "      <td>0.000132</td>\n",
       "      <td>193.071191</td>\n",
       "      <td>-9.358510</td>\n",
       "    </tr>\n",
       "    <tr>\n",
       "      <th>...</th>\n",
       "      <td>...</td>\n",
       "      <td>...</td>\n",
       "      <td>...</td>\n",
       "      <td>...</td>\n",
       "      <td>...</td>\n",
       "      <td>...</td>\n",
       "      <td>...</td>\n",
       "      <td>...</td>\n",
       "      <td>...</td>\n",
       "    </tr>\n",
       "    <tr>\n",
       "      <th>9995</th>\n",
       "      <td>0.1825</td>\n",
       "      <td>1.681</td>\n",
       "      <td>-0.044</td>\n",
       "      <td>59255.094953</td>\n",
       "      <td>-19.700116</td>\n",
       "      <td>20.105428</td>\n",
       "      <td>0.000144</td>\n",
       "      <td>195.241763</td>\n",
       "      <td>62.936479</td>\n",
       "    </tr>\n",
       "    <tr>\n",
       "      <th>9996</th>\n",
       "      <td>0.0785</td>\n",
       "      <td>-0.401</td>\n",
       "      <td>0.085</td>\n",
       "      <td>59255.094953</td>\n",
       "      <td>-19.002286</td>\n",
       "      <td>18.827883</td>\n",
       "      <td>0.000467</td>\n",
       "      <td>32.181298</td>\n",
       "      <td>-0.706600</td>\n",
       "    </tr>\n",
       "    <tr>\n",
       "      <th>9997</th>\n",
       "      <td>0.1455</td>\n",
       "      <td>0.316</td>\n",
       "      <td>-0.055</td>\n",
       "      <td>59255.094953</td>\n",
       "      <td>-19.543666</td>\n",
       "      <td>19.721244</td>\n",
       "      <td>0.000205</td>\n",
       "      <td>22.688827</td>\n",
       "      <td>2.666206</td>\n",
       "    </tr>\n",
       "    <tr>\n",
       "      <th>9998</th>\n",
       "      <td>0.1165</td>\n",
       "      <td>0.195</td>\n",
       "      <td>-0.016</td>\n",
       "      <td>59255.094953</td>\n",
       "      <td>-19.403876</td>\n",
       "      <td>19.338431</td>\n",
       "      <td>0.000292</td>\n",
       "      <td>173.375862</td>\n",
       "      <td>39.842611</td>\n",
       "    </tr>\n",
       "    <tr>\n",
       "      <th>9999</th>\n",
       "      <td>0.1395</td>\n",
       "      <td>0.101</td>\n",
       "      <td>0.074</td>\n",
       "      <td>59255.094953</td>\n",
       "      <td>-19.107216</td>\n",
       "      <td>20.058124</td>\n",
       "      <td>0.000151</td>\n",
       "      <td>71.251619</td>\n",
       "      <td>50.848393</td>\n",
       "    </tr>\n",
       "  </tbody>\n",
       "</table>\n",
       "<p>10000 rows × 9 columns</p>\n",
       "</div>"
      ],
      "text/plain": [
       "           z     x1      c            t0     magabs     magobs        x0  \\\n",
       "0     0.1415 -0.096 -0.039  59255.094953 -19.435586  19.763381  0.000197   \n",
       "1     0.1355  0.531  0.071  59255.094953 -19.176866  19.919844  0.000171   \n",
       "2     0.1905  0.879  0.011  59255.094953 -19.414586  20.494312  0.000101   \n",
       "3     0.1735 -0.750  0.039  59255.094953 -19.098326  20.585800  0.000093   \n",
       "4     0.1585  0.013  0.018  59255.094953 -19.271296  20.196819  0.000132   \n",
       "...      ...    ...    ...           ...        ...        ...       ...   \n",
       "9995  0.1825  1.681 -0.044  59255.094953 -19.700116  20.105428  0.000144   \n",
       "9996  0.0785 -0.401  0.085  59255.094953 -19.002286  18.827883  0.000467   \n",
       "9997  0.1455  0.316 -0.055  59255.094953 -19.543666  19.721244  0.000205   \n",
       "9998  0.1165  0.195 -0.016  59255.094953 -19.403876  19.338431  0.000292   \n",
       "9999  0.1395  0.101  0.074  59255.094953 -19.107216  20.058124  0.000151   \n",
       "\n",
       "              ra        dec  \n",
       "0     183.147252 -28.834651  \n",
       "1     187.902196  19.683835  \n",
       "2     147.527537  53.607326  \n",
       "3     125.366304  45.891122  \n",
       "4     193.071191  -9.358510  \n",
       "...          ...        ...  \n",
       "9995  195.241763  62.936479  \n",
       "9996   32.181298  -0.706600  \n",
       "9997   22.688827   2.666206  \n",
       "9998  173.375862  39.842611  \n",
       "9999   71.251619  50.848393  \n",
       "\n",
       "[10000 rows x 9 columns]"
      ]
     },
     "execution_count": 8,
     "metadata": {},
     "output_type": "execute_result"
    }
   ],
   "source": [
    "snia.data"
   ]
  },
  {
   "cell_type": "markdown",
   "id": "e50717af",
   "metadata": {},
   "source": [
    "**Tip**: You can  directly use the ``from_draw()`` classmethod to load a transient instance already drawn."
   ]
  },
  {
   "cell_type": "code",
   "execution_count": 9,
   "id": "01717a75",
   "metadata": {},
   "outputs": [
    {
     "name": "stdout",
     "output_type": "stream",
     "text": [
      "CPU times: user 95 ms, sys: 4.16 ms, total: 99.2 ms\n",
      "Wall time: 99.6 ms\n"
     ]
    }
   ],
   "source": [
    "%%time\n",
    "snia = target.SNeIa.from_draw(10000)"
   ]
  },
  {
   "cell_type": "code",
   "execution_count": 10,
   "id": "94941134",
   "metadata": {},
   "outputs": [
    {
     "data": {
      "text/html": [
       "<div>\n",
       "<style scoped>\n",
       "    .dataframe tbody tr th:only-of-type {\n",
       "        vertical-align: middle;\n",
       "    }\n",
       "\n",
       "    .dataframe tbody tr th {\n",
       "        vertical-align: top;\n",
       "    }\n",
       "\n",
       "    .dataframe thead th {\n",
       "        text-align: right;\n",
       "    }\n",
       "</style>\n",
       "<table border=\"1\" class=\"dataframe\">\n",
       "  <thead>\n",
       "    <tr style=\"text-align: right;\">\n",
       "      <th></th>\n",
       "      <th>z</th>\n",
       "      <th>x1</th>\n",
       "      <th>c</th>\n",
       "      <th>t0</th>\n",
       "      <th>magabs</th>\n",
       "      <th>magobs</th>\n",
       "      <th>x0</th>\n",
       "      <th>ra</th>\n",
       "      <th>dec</th>\n",
       "    </tr>\n",
       "  </thead>\n",
       "  <tbody>\n",
       "    <tr>\n",
       "      <th>0</th>\n",
       "      <td>0.1385</td>\n",
       "      <td>0.281</td>\n",
       "      <td>0.064</td>\n",
       "      <td>59174.916025</td>\n",
       "      <td>-19.214813</td>\n",
       "      <td>19.933544</td>\n",
       "      <td>0.000169</td>\n",
       "      <td>241.497675</td>\n",
       "      <td>13.432507</td>\n",
       "    </tr>\n",
       "    <tr>\n",
       "      <th>1</th>\n",
       "      <td>0.1085</td>\n",
       "      <td>0.540</td>\n",
       "      <td>-0.013</td>\n",
       "      <td>59174.916025</td>\n",
       "      <td>-19.493623</td>\n",
       "      <td>19.082900</td>\n",
       "      <td>0.000370</td>\n",
       "      <td>243.894815</td>\n",
       "      <td>21.795798</td>\n",
       "    </tr>\n",
       "    <tr>\n",
       "      <th>2</th>\n",
       "      <td>0.1795</td>\n",
       "      <td>-1.244</td>\n",
       "      <td>0.080</td>\n",
       "      <td>59174.916025</td>\n",
       "      <td>-18.950913</td>\n",
       "      <td>20.814788</td>\n",
       "      <td>0.000075</td>\n",
       "      <td>319.784230</td>\n",
       "      <td>-8.529972</td>\n",
       "    </tr>\n",
       "    <tr>\n",
       "      <th>3</th>\n",
       "      <td>0.1795</td>\n",
       "      <td>-0.545</td>\n",
       "      <td>0.042</td>\n",
       "      <td>59174.916025</td>\n",
       "      <td>-19.168473</td>\n",
       "      <td>20.597228</td>\n",
       "      <td>0.000092</td>\n",
       "      <td>50.508613</td>\n",
       "      <td>-25.470084</td>\n",
       "    </tr>\n",
       "    <tr>\n",
       "      <th>4</th>\n",
       "      <td>0.1015</td>\n",
       "      <td>-0.826</td>\n",
       "      <td>0.125</td>\n",
       "      <td>59174.916025</td>\n",
       "      <td>-18.867683</td>\n",
       "      <td>19.554026</td>\n",
       "      <td>0.000239</td>\n",
       "      <td>103.421639</td>\n",
       "      <td>-27.139519</td>\n",
       "    </tr>\n",
       "    <tr>\n",
       "      <th>...</th>\n",
       "      <td>...</td>\n",
       "      <td>...</td>\n",
       "      <td>...</td>\n",
       "      <td>...</td>\n",
       "      <td>...</td>\n",
       "      <td>...</td>\n",
       "      <td>...</td>\n",
       "      <td>...</td>\n",
       "      <td>...</td>\n",
       "    </tr>\n",
       "    <tr>\n",
       "      <th>9995</th>\n",
       "      <td>0.1925</td>\n",
       "      <td>0.588</td>\n",
       "      <td>-0.031</td>\n",
       "      <td>59174.916025</td>\n",
       "      <td>-19.557043</td>\n",
       "      <td>20.377064</td>\n",
       "      <td>0.000112</td>\n",
       "      <td>4.165953</td>\n",
       "      <td>22.386873</td>\n",
       "    </tr>\n",
       "    <tr>\n",
       "      <th>9996</th>\n",
       "      <td>0.1595</td>\n",
       "      <td>-0.284</td>\n",
       "      <td>-0.037</td>\n",
       "      <td>59174.916025</td>\n",
       "      <td>-19.453863</td>\n",
       "      <td>20.029232</td>\n",
       "      <td>0.000155</td>\n",
       "      <td>44.413758</td>\n",
       "      <td>16.632149</td>\n",
       "    </tr>\n",
       "    <tr>\n",
       "      <th>9997</th>\n",
       "      <td>0.1275</td>\n",
       "      <td>0.303</td>\n",
       "      <td>-0.004</td>\n",
       "      <td>59174.916025</td>\n",
       "      <td>-19.432093</td>\n",
       "      <td>19.521468</td>\n",
       "      <td>0.000247</td>\n",
       "      <td>145.143476</td>\n",
       "      <td>74.820858</td>\n",
       "    </tr>\n",
       "    <tr>\n",
       "      <th>9998</th>\n",
       "      <td>0.0705</td>\n",
       "      <td>1.340</td>\n",
       "      <td>0.179</td>\n",
       "      <td>59174.916025</td>\n",
       "      <td>-19.000823</td>\n",
       "      <td>18.584008</td>\n",
       "      <td>0.000585</td>\n",
       "      <td>56.348310</td>\n",
       "      <td>-22.747536</td>\n",
       "    </tr>\n",
       "    <tr>\n",
       "      <th>9999</th>\n",
       "      <td>0.1835</td>\n",
       "      <td>1.173</td>\n",
       "      <td>0.131</td>\n",
       "      <td>59174.916025</td>\n",
       "      <td>-19.128643</td>\n",
       "      <td>20.690047</td>\n",
       "      <td>0.000084</td>\n",
       "      <td>116.597684</td>\n",
       "      <td>39.549349</td>\n",
       "    </tr>\n",
       "  </tbody>\n",
       "</table>\n",
       "<p>10000 rows × 9 columns</p>\n",
       "</div>"
      ],
      "text/plain": [
       "           z     x1      c            t0     magabs     magobs        x0  \\\n",
       "0     0.1385  0.281  0.064  59174.916025 -19.214813  19.933544  0.000169   \n",
       "1     0.1085  0.540 -0.013  59174.916025 -19.493623  19.082900  0.000370   \n",
       "2     0.1795 -1.244  0.080  59174.916025 -18.950913  20.814788  0.000075   \n",
       "3     0.1795 -0.545  0.042  59174.916025 -19.168473  20.597228  0.000092   \n",
       "4     0.1015 -0.826  0.125  59174.916025 -18.867683  19.554026  0.000239   \n",
       "...      ...    ...    ...           ...        ...        ...       ...   \n",
       "9995  0.1925  0.588 -0.031  59174.916025 -19.557043  20.377064  0.000112   \n",
       "9996  0.1595 -0.284 -0.037  59174.916025 -19.453863  20.029232  0.000155   \n",
       "9997  0.1275  0.303 -0.004  59174.916025 -19.432093  19.521468  0.000247   \n",
       "9998  0.0705  1.340  0.179  59174.916025 -19.000823  18.584008  0.000585   \n",
       "9999  0.1835  1.173  0.131  59174.916025 -19.128643  20.690047  0.000084   \n",
       "\n",
       "              ra        dec  \n",
       "0     241.497675  13.432507  \n",
       "1     243.894815  21.795798  \n",
       "2     319.784230  -8.529972  \n",
       "3      50.508613 -25.470084  \n",
       "4     103.421639 -27.139519  \n",
       "...          ...        ...  \n",
       "9995    4.165953  22.386873  \n",
       "9996   44.413758  16.632149  \n",
       "9997  145.143476  74.820858  \n",
       "9998   56.348310 -22.747536  \n",
       "9999  116.597684  39.549349  \n",
       "\n",
       "[10000 rows x 9 columns]"
      ]
     },
     "execution_count": 10,
     "metadata": {},
     "output_type": "execute_result"
    }
   ],
   "source": [
    "snia.data"
   ]
  },
  {
   "cell_type": "markdown",
   "id": "cafde1b8",
   "metadata": {},
   "source": [
    "## Model\n",
    "\n",
    "The ``data`` (list of transients) are generated following the **model**, stored as ``self.model``."
   ]
  },
  {
   "cell_type": "code",
   "execution_count": 17,
   "id": "139b1ccc",
   "metadata": {},
   "outputs": [
    {
     "data": {
      "text/plain": [
       "{'redshift': {'param': {'zmax': 0.2, 'model': None}, 'as': 'z'},\n",
       " 'x1': {'model': 'nicolas2021'},\n",
       " 'c': {'model': 'intrinsic_and_dust'},\n",
       " 't0': {'model': 'uniform',\n",
       "  'param': {'mjd_range': [59000, 60460], 'model': 'uniform'}},\n",
       " 'magabs': {'model': 'tripp1998', 'input': ['x1', 'c']},\n",
       " 'magobs': {'model': 'magabs_to_magobs', 'input': ['z', 'magabs']},\n",
       " 'x0': {'model': 'magobs_to_x0', 'input': ['magobs']},\n",
       " 'radec': {'model': 'random',\n",
       "  'param': {'ra_range': [0, 360], 'dec_range': [-30, 90], 'model': 'random'},\n",
       "  'as': ['ra', 'dec']}}"
      ]
     },
     "execution_count": 17,
     "metadata": {},
     "output_type": "execute_result"
    }
   ],
   "source": [
    "snia.model"
   ]
  },
  {
   "cell_type": "markdown",
   "id": "14df0350",
   "metadata": {},
   "source": [
    "**tip**: the transient model is display (better formated) when you print the object"
   ]
  },
  {
   "cell_type": "code",
   "execution_count": 19,
   "id": "15bc8ed1",
   "metadata": {},
   "outputs": [
    {
     "data": {
      "text/plain": [
       "{'redshift': {'param': {'zmax': 0.2, 'model': None}, 'as': 'z'},\n",
       " 'x1': {'model': 'nicolas2021'},\n",
       " 'c': {'model': 'intrinsic_and_dust'},\n",
       " 't0': {'model': 'uniform',\n",
       "        'param': {'mjd_range': [59000, 60460], 'model': 'uniform'}},\n",
       " 'magabs': {'model': 'tripp1998', 'input': ['x1', 'c']},\n",
       " 'magobs': {'model': 'magabs_to_magobs', 'input': ['z', 'magabs']},\n",
       " 'x0': {'model': 'magobs_to_x0', 'input': ['magobs']},\n",
       " 'radec': {'model': 'random',\n",
       "           'param': {'ra_range': [0, 360],\n",
       "                     'dec_range': [-30, 90],\n",
       "                     'model': 'random'},\n",
       "           'as': ['ra', 'dec']}}"
      ]
     },
     "execution_count": 19,
     "metadata": {},
     "output_type": "execute_result"
    }
   ],
   "source": [
    "snia"
   ]
  },
  {
   "cell_type": "markdown",
   "id": "8a098043",
   "metadata": {},
   "source": [
    "#### How does **model** works\n",
    "\n",
    "\n",
    "To generate ``data``, the code reads **model** line-by-line and follows the instructions it contains. \n",
    "\n",
    "In this SNeIa example, **model** contains 8 entries. So the generated ``data`` will contains at least 8 columns (see the *as* option).\n",
    "\n",
    "A **model** entry accepts 4 keywords:\n",
    "  1. *model*: (name of) the function used to draw the sample, e.g. np.random.uniform ;\n",
    "  2. *param*: options that enter the function as kwargs ;\n",
    "  3. *as*: (list of) name(s) of the column on the resulting ``data`` ;\n",
    "  4. *input*: list of already drawn entry used as argument for the *model* function (see e.g. ``magobs``)\n",
    "\n",
    "#### the *input* option making **model**  a \"DAG\"\n",
    "The *input* option enables you to generate self-consistent parameters. \n",
    "\n",
    "For instance, the absolute magnitude of a SNeIa depends on its stretch and color (following the ``alpha*x_1 - beta*c `` Tripp's relation). Hence, once the ``x_1``and ``c`` (independent) variables have been drawn, the SNeIa absolute magnitude (``magabs``) can be obtained using as input the already drawn ``x_1`` and ``c`` parameters. Same goes for the observed magnitude, it only dependents on the absolute magnitude ``magabs`` and the redshift ``z``. \n",
    "\n",
    "The (potentially complex) connections between the variables enabled by the *input* corresponds to the creation a [Directed acyclic graph](https://en.wikipedia.org/wiki/Directed_acyclic_graph).\n",
    "You can complexify as you which your **model** creating as many variables and intermediate variables as you want.\n",
    "\n",
    "#### Build a model\n",
    "\n",
    "See the \"Build a new model\" tutorial to learn more about Transient's modelling\n"
   ]
  },
  {
   "cell_type": "markdown",
   "id": "7e3ff6c3",
   "metadata": {},
   "source": [
    "## Plotting\n",
    "\n",
    "Show a given lightcurve in any band known by sncosmo, for instance here that on the snia index 9 ``snia.data.loc[9]``\n",
    "\n",
    "### Lightcurve "
   ]
  },
  {
   "cell_type": "code",
   "execution_count": 20,
   "id": "834948cf",
   "metadata": {
    "scrolled": false
   },
   "outputs": [
    {
     "data": {
      "image/png": "[encoded data removed]",
      "text/plain": [
       "<Figure size 504x288 with 1 Axes>"
      ]
     },
     "metadata": {
      "needs_background": "light"
     },
     "output_type": "display_data"
    }
   ],
   "source": [
    "band = [\"ztfr\",\"ztfg\"]\n",
    "fig = snia.show_lightcurve(band, index=9, in_mag=True)"
   ]
  },
  {
   "cell_type": "markdown",
   "id": "c075f180",
   "metadata": {},
   "source": [
    "### Parameters (visualize the relation created by self.model)\n",
    "\n",
    "You can also show the scatter between any parameters. The parameter correlations have handle by your `model`"
   ]
  },
  {
   "cell_type": "code",
   "execution_count": 21,
   "id": "3c8c7e65",
   "metadata": {
    "scrolled": false
   },
   "outputs": [
    {
     "data": {
      "image/png": "[encoded data removed]",
      "text/plain": [
       "<Figure size 504x288 with 1 Axes>"
      ]
     },
     "metadata": {
      "needs_background": "light"
     },
     "output_type": "display_data"
    }
   ],
   "source": [
    "fig = snia.show_scatter(\"z\", \"magobs\", ckey=\"x1\") \n",
    "ax = fig.axes[0]\n",
    "\n",
    "_ = ax.set_ylabel(\"observed magnitude\")\n",
    "_ = ax.set_xlabel(\"redshift\")"
   ]
  },
  {
   "cell_type": "code",
   "execution_count": 27,
   "id": "b3e0cfbb",
   "metadata": {},
   "outputs": [
    {
     "data": {
      "image/png": "[encoded data removed]",
      "text/plain": [
       "<Figure size 648x216 with 2 Axes>"
      ]
     },
     "metadata": {
      "needs_background": "light"
     },
     "output_type": "display_data"
    }
   ],
   "source": [
    "import matplotlib.pyplot as plt\n",
    "fig = plt.figure(figsize=[9,3])\n",
    "ax1 = fig.add_subplot(121)\n",
    "ax2 = fig.add_subplot(122)\n",
    "\n",
    "_ = snia.show_scatter(\"x1\", \"magabs\", ckey=\"c\", ax=ax1) \n",
    "_ = snia.show_scatter(\"c\", \"magabs\", ckey=\"x1\", ax=ax2) \n",
    "\n",
    "_ = ax1.set_ylabel(\"absolute magnitude\")\n",
    "_ = ax1.set_xlabel(fr\"Stretch ($x_1$)\")\n",
    "_ = ax2.set_xlabel(fr\"Color ($c$)\")"
   ]
  },
  {
   "cell_type": "markdown",
   "id": "b0f911a5",
   "metadata": {},
   "source": [
    "## Getter\n",
    "\n",
    "You have several pre-defined method to access parameters or the template directly"
   ]
  },
  {
   "cell_type": "markdown",
   "id": "98b61027",
   "metadata": {},
   "source": [
    "### template parameters\n",
    "\n",
    "the `get_template_parameters` method enbales you to get the subpart of ``data`` that corresponds to actual template (sncosmo.Model) parameters"
   ]
  },
  {
   "cell_type": "code",
   "execution_count": 28,
   "id": "207b8213",
   "metadata": {},
   "outputs": [
    {
     "data": {
      "text/html": [
       "<div>\n",
       "<style scoped>\n",
       "    .dataframe tbody tr th:only-of-type {\n",
       "        vertical-align: middle;\n",
       "    }\n",
       "\n",
       "    .dataframe tbody tr th {\n",
       "        vertical-align: top;\n",
       "    }\n",
       "\n",
       "    .dataframe thead th {\n",
       "        text-align: right;\n",
       "    }\n",
       "</style>\n",
       "<table border=\"1\" class=\"dataframe\">\n",
       "  <thead>\n",
       "    <tr style=\"text-align: right;\">\n",
       "      <th></th>\n",
       "      <th>z</th>\n",
       "      <th>x1</th>\n",
       "      <th>c</th>\n",
       "      <th>t0</th>\n",
       "      <th>x0</th>\n",
       "    </tr>\n",
       "  </thead>\n",
       "  <tbody>\n",
       "    <tr>\n",
       "      <th>0</th>\n",
       "      <td>0.1385</td>\n",
       "      <td>0.281</td>\n",
       "      <td>0.064</td>\n",
       "      <td>59174.916025</td>\n",
       "      <td>0.000169</td>\n",
       "    </tr>\n",
       "    <tr>\n",
       "      <th>1</th>\n",
       "      <td>0.1085</td>\n",
       "      <td>0.540</td>\n",
       "      <td>-0.013</td>\n",
       "      <td>59174.916025</td>\n",
       "      <td>0.000370</td>\n",
       "    </tr>\n",
       "    <tr>\n",
       "      <th>2</th>\n",
       "      <td>0.1795</td>\n",
       "      <td>-1.244</td>\n",
       "      <td>0.080</td>\n",
       "      <td>59174.916025</td>\n",
       "      <td>0.000075</td>\n",
       "    </tr>\n",
       "    <tr>\n",
       "      <th>3</th>\n",
       "      <td>0.1795</td>\n",
       "      <td>-0.545</td>\n",
       "      <td>0.042</td>\n",
       "      <td>59174.916025</td>\n",
       "      <td>0.000092</td>\n",
       "    </tr>\n",
       "    <tr>\n",
       "      <th>4</th>\n",
       "      <td>0.1015</td>\n",
       "      <td>-0.826</td>\n",
       "      <td>0.125</td>\n",
       "      <td>59174.916025</td>\n",
       "      <td>0.000239</td>\n",
       "    </tr>\n",
       "    <tr>\n",
       "      <th>...</th>\n",
       "      <td>...</td>\n",
       "      <td>...</td>\n",
       "      <td>...</td>\n",
       "      <td>...</td>\n",
       "      <td>...</td>\n",
       "    </tr>\n",
       "    <tr>\n",
       "      <th>9995</th>\n",
       "      <td>0.1925</td>\n",
       "      <td>0.588</td>\n",
       "      <td>-0.031</td>\n",
       "      <td>59174.916025</td>\n",
       "      <td>0.000112</td>\n",
       "    </tr>\n",
       "    <tr>\n",
       "      <th>9996</th>\n",
       "      <td>0.1595</td>\n",
       "      <td>-0.284</td>\n",
       "      <td>-0.037</td>\n",
       "      <td>59174.916025</td>\n",
       "      <td>0.000155</td>\n",
       "    </tr>\n",
       "    <tr>\n",
       "      <th>9997</th>\n",
       "      <td>0.1275</td>\n",
       "      <td>0.303</td>\n",
       "      <td>-0.004</td>\n",
       "      <td>59174.916025</td>\n",
       "      <td>0.000247</td>\n",
       "    </tr>\n",
       "    <tr>\n",
       "      <th>9998</th>\n",
       "      <td>0.0705</td>\n",
       "      <td>1.340</td>\n",
       "      <td>0.179</td>\n",
       "      <td>59174.916025</td>\n",
       "      <td>0.000585</td>\n",
       "    </tr>\n",
       "    <tr>\n",
       "      <th>9999</th>\n",
       "      <td>0.1835</td>\n",
       "      <td>1.173</td>\n",
       "      <td>0.131</td>\n",
       "      <td>59174.916025</td>\n",
       "      <td>0.000084</td>\n",
       "    </tr>\n",
       "  </tbody>\n",
       "</table>\n",
       "<p>10000 rows × 5 columns</p>\n",
       "</div>"
      ],
      "text/plain": [
       "           z     x1      c            t0        x0\n",
       "0     0.1385  0.281  0.064  59174.916025  0.000169\n",
       "1     0.1085  0.540 -0.013  59174.916025  0.000370\n",
       "2     0.1795 -1.244  0.080  59174.916025  0.000075\n",
       "3     0.1795 -0.545  0.042  59174.916025  0.000092\n",
       "4     0.1015 -0.826  0.125  59174.916025  0.000239\n",
       "...      ...    ...    ...           ...       ...\n",
       "9995  0.1925  0.588 -0.031  59174.916025  0.000112\n",
       "9996  0.1595 -0.284 -0.037  59174.916025  0.000155\n",
       "9997  0.1275  0.303 -0.004  59174.916025  0.000247\n",
       "9998  0.0705  1.340  0.179  59174.916025  0.000585\n",
       "9999  0.1835  1.173  0.131  59174.916025  0.000084\n",
       "\n",
       "[10000 rows x 5 columns]"
      ]
     },
     "execution_count": 28,
     "metadata": {},
     "output_type": "execute_result"
    }
   ],
   "source": [
    "snia.get_template_parameters()"
   ]
  },
  {
   "cell_type": "markdown",
   "id": "ffdf15a5",
   "metadata": {},
   "source": [
    "You can also request to only have the template parameter for a given target\n",
    "(similar to as `snia.get_template_parameters().loc[index]`)"
   ]
  },
  {
   "cell_type": "code",
   "execution_count": 29,
   "id": "8b5cfd83",
   "metadata": {},
   "outputs": [
    {
     "data": {
      "text/plain": [
       "z         0.123500\n",
       "x1        0.136000\n",
       "c        -0.073000\n",
       "t0    59174.916025\n",
       "x0        0.000316\n",
       "Name: 9, dtype: float64"
      ]
     },
     "execution_count": 29,
     "metadata": {},
     "output_type": "execute_result"
    }
   ],
   "source": [
    "snia.get_template_parameters(index=9)"
   ]
  },
  {
   "cell_type": "markdown",
   "id": "7bf650d3",
   "metadata": {},
   "source": [
    "### Template (sncosmo.Model)\n",
    "\n",
    "You can get a template (sncosmo.Model) either with default values"
   ]
  },
  {
   "cell_type": "code",
   "execution_count": 30,
   "id": "767e77a1",
   "metadata": {},
   "outputs": [],
   "source": [
    "template = snia.get_template() # default"
   ]
  },
  {
   "cell_type": "code",
   "execution_count": 31,
   "id": "17ad1367",
   "metadata": {},
   "outputs": [
    {
     "data": {
      "text/plain": [
       "<sncosmo.models.Model at 0x29af219a0>"
      ]
     },
     "execution_count": 31,
     "metadata": {},
     "output_type": "execute_result"
    }
   ],
   "source": [
    "template"
   ]
  },
  {
   "cell_type": "code",
   "execution_count": 32,
   "id": "0d41898a",
   "metadata": {},
   "outputs": [
    {
     "data": {
      "text/plain": [
       "array([0. , 0. , 1. , 0. , 0. , 0. , 3.1])"
      ]
     },
     "execution_count": 32,
     "metadata": {},
     "output_type": "execute_result"
    }
   ],
   "source": [
    "template.parameters"
   ]
  },
  {
   "cell_type": "markdown",
   "id": "5199c94e",
   "metadata": {},
   "source": [
    "or with parameter set to that of a target "
   ]
  },
  {
   "cell_type": "code",
   "execution_count": 34,
   "id": "5f39042f",
   "metadata": {},
   "outputs": [
    {
     "data": {
      "text/plain": [
       "array([ 1.23500000e-01,  5.91749160e+04,  3.16034433e-04,  1.36000000e-01,\n",
       "       -7.30000000e-02,  0.00000000e+00,  3.10000000e+00])"
      ]
     },
     "execution_count": 34,
     "metadata": {},
     "output_type": "execute_result"
    }
   ],
   "source": [
    "template_target9 = snia.get_template(index=9) \n",
    "template_target9.parameters"
   ]
  },
  {
   "cell_type": "markdown",
   "id": "3fecddde",
   "metadata": {},
   "source": [
    "or affecting parameters"
   ]
  },
  {
   "cell_type": "code",
   "execution_count": 36,
   "id": "5b42ec47",
   "metadata": {},
   "outputs": [
    {
     "data": {
      "text/plain": [
       "array([ 1.23500000e-01,  5.91749160e+04,  3.16034433e-04, -5.00000000e+00,\n",
       "       -7.30000000e-02,  0.00000000e+00,  3.10000000e+00])"
      ]
     },
     "execution_count": 36,
     "metadata": {},
     "output_type": "execute_result"
    }
   ],
   "source": [
    "template_target9 = snia.get_template(index=9, x1=-5) \n",
    "template_target9.parameters"
   ]
  },
  {
   "cell_type": "code",
   "execution_count": null,
   "id": "1168daa0",
   "metadata": {},
   "outputs": [],
   "source": []
  }
 ],
 "metadata": {
  "kernelspec": {
   "display_name": "Python 3 (ipykernel)",
   "language": "python",
   "name": "python3"
  },
  "language_info": {
   "codemirror_mode": {
    "name": "ipython",
    "version": 3
   },
   "file_extension": ".py",
   "mimetype": "text/x-python",
   "name": "python",
   "nbconvert_exporter": "python",
   "pygments_lexer": "ipython3",
   "version": "3.9.13"
  }
 },
 "nbformat": 4,
 "nbformat_minor": 5
}
