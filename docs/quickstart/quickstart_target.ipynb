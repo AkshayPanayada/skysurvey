{
 "cells": [
  {
   "cell_type": "markdown",
   "id": "b60ec1f5",
   "metadata": {},
   "source": [
    "# quickstart with transients\n",
    "\n",
    "\n",
    "The `Transient` object has a **rate**, a **template** and a **model**.\n",
    "\n",
    "- The **rate** informs on how many target we expect to have in nature for a redshift range. *This is a float*\n",
    "\n",
    "- The **model** specifies how the template parameters are drawn. *This is a dict.*\n",
    "\n",
    "- The **template** provides the spectro-photometric time serie of the transient given input parameters. *This is based on sncosmo.Model*\n",
    "\n",
    "The first two enables you to draw a sample of transients as given by nature. This last one is needed only if you want to get the transient lightcurves (hence, notably, when you create a dataset). \n",
    "\n",
    "Two sets of transient have already been implemented:\n",
    "- SNeIa (based on salt2 or salt3)\n",
    "- A generic Transient associated to any single sncosmo.TimeSerieSource (see the list [here](https://sncosmo.readthedocs.io/en/stable/source-list.html))"
   ]
  },
  {
   "cell_type": "markdown",
   "id": "a1ab19d6",
   "metadata": {},
   "source": [
    "## SNeIa and \"v19-2010al (a type IIb)\" Examples"
   ]
  },
  {
   "cell_type": "code",
   "execution_count": 1,
   "id": "3dcbaca7",
   "metadata": {},
   "outputs": [
    {
     "name": "stderr",
     "output_type": "stream",
     "text": [
      "WARNING: AstropyDeprecationWarning: The update_default_config function is deprecated and may be removed in a future version. [sncosmo]\n"
     ]
    }
   ],
   "source": [
    "from skysurvey import target"
   ]
  },
  {
   "cell_type": "markdown",
   "id": "87b6af94",
   "metadata": {},
   "source": [
    "Let's start with Type Ia Supernovae.\n",
    "\n",
    "The **SNeIa** Transient is already defined and ready to use. "
   ]
  },
  {
   "cell_type": "code",
   "execution_count": 2,
   "id": "5e6aa32a",
   "metadata": {},
   "outputs": [],
   "source": [
    "snia = target.SNeIa()"
   ]
  },
  {
   "cell_type": "markdown",
   "id": "587100e9",
   "metadata": {},
   "source": [
    "### template, rate and model\n",
    "\n",
    "**The following methods and attribute are commun to all transients ; sneia here is just an example**"
   ]
  },
  {
   "cell_type": "markdown",
   "id": "1887ac38",
   "metadata": {},
   "source": [
    "#### template\n",
    "the `template` (skysurvey object) is stored here"
   ]
  },
  {
   "cell_type": "code",
   "execution_count": 3,
   "id": "1c413f80",
   "metadata": {},
   "outputs": [
    {
     "data": {
      "text/plain": [
       "<skysurvey.template.Template at 0x105400610>"
      ]
     },
     "execution_count": 3,
     "metadata": {},
     "output_type": "execute_result"
    }
   ],
   "source": [
    "snia.template"
   ]
  },
  {
   "cell_type": "markdown",
   "id": "6c16c1db",
   "metadata": {},
   "source": [
    "and it's main attibute is the sncosmo_model up on which the template methods are built"
   ]
  },
  {
   "cell_type": "code",
   "execution_count": 4,
   "id": "81afc6ef",
   "metadata": {},
   "outputs": [
    {
     "data": {
      "text/plain": [
       "<sncosmo.models.Model at 0x14ee77280>"
      ]
     },
     "execution_count": 4,
     "metadata": {},
     "output_type": "execute_result"
    }
   ],
   "source": [
    "snia.template.sncosmo_model"
   ]
  },
  {
   "cell_type": "code",
   "execution_count": 5,
   "id": "9f0ede72",
   "metadata": {},
   "outputs": [
    {
     "data": {
      "text/plain": [
       "<SALT2Source 'salt2' version='2.4' at 0x10545ad30>"
      ]
     },
     "execution_count": 5,
     "metadata": {},
     "output_type": "execute_result"
    }
   ],
   "source": [
    "snia.template.source # short cut to snia.template.sncosmo_model.source"
   ]
  },
  {
   "cell_type": "markdown",
   "id": "6fb5bc99",
   "metadata": {},
   "source": [
    "the template parameters are here (shortcut to `snia.template.parameters`)"
   ]
  },
  {
   "cell_type": "code",
   "execution_count": 6,
   "id": "fcbf1987",
   "metadata": {},
   "outputs": [
    {
     "data": {
      "text/plain": [
       "['z', 't0', 'x0', 'x1', 'c', 'mwebv', 'mwr_v']"
      ]
     },
     "execution_count": 6,
     "metadata": {},
     "output_type": "execute_result"
    }
   ],
   "source": [
    "snia.template_parameters # short"
   ]
  },
  {
   "cell_type": "markdown",
   "id": "26165cd7",
   "metadata": {},
   "source": [
    "#### rate\n",
    "\n",
    "Transient have the volume_rate parameter that provide the number of transient expected per year and per $Gpc^3$"
   ]
  },
  {
   "cell_type": "code",
   "execution_count": 7,
   "id": "9b71cbfe",
   "metadata": {},
   "outputs": [
    {
     "data": {
      "text/plain": [
       "23500.0"
      ]
     },
     "execution_count": 7,
     "metadata": {},
     "output_type": "execute_result"
    }
   ],
   "source": [
    "snia.rate # in target/Gpc^3/year"
   ]
  },
  {
   "cell_type": "markdown",
   "id": "afb0367a",
   "metadata": {},
   "source": [
    "To get the number of expected transient in a redshift shell (full sky volume)  use `get_rate(z)`."
   ]
  },
  {
   "cell_type": "code",
   "execution_count": 8,
   "id": "fea5fa38",
   "metadata": {},
   "outputs": [
    {
     "data": {
      "text/plain": [
       "7967.328115462929"
      ]
     },
     "execution_count": 8,
     "metadata": {},
     "output_type": "execute_result"
    }
   ],
   "source": [
    "snia.get_rate(0.1) # Nature should provide ~8000 SNeIa (full sky) up to z=0.1"
   ]
  },
  {
   "cell_type": "markdown",
   "id": "d5c772b0",
   "metadata": {},
   "source": [
    "#### model\n",
    "\n",
    "The model is the core of what defines a transient. It provides how the template parameters are generated"
   ]
  },
  {
   "cell_type": "code",
   "execution_count": 9,
   "id": "bed137ac",
   "metadata": {},
   "outputs": [
    {
     "name": "stdout",
     "output_type": "stream",
     "text": [
      "{'c': {'model': <function SNeIaColor.intrinsic_and_dust at 0x14ee78ca0>},\n",
      " 'magabs': {'input': ['x1', 'c'],\n",
      "            'model': <function SNeIaMagnitude.tripp1998 at 0x14ee78dc0>,\n",
      "            'param': {'mabs': -19.3, 'sigmaint': 0.1}},\n",
      " 'magobs': {'input': ['z', 'magabs'], 'model': 'magabs_to_magobs'},\n",
      " 'radec': {'as': ['ra', 'dec'],\n",
      "           'model': 'random',\n",
      "           'param': {'dec_range': [-30, 90], 'ra_range': [0, 360]}},\n",
      " 'redshift': {'as': 'z', 'param': {'zmax': 0.2}},\n",
      " 't0': {'model': <built-in method uniform of numpy.random.mtrand.RandomState object at 0x106a37c40>,\n",
      "        'param': {'high': 57000, 'low': 56000}},\n",
      " 'x0': {'input': ['magobs'],\n",
      "        'model': 'magobs_to_amplitude',\n",
      "        'param': {'param_name': 'x0'}},\n",
      " 'x1': {'model': <function SNeIaStretch.nicolas2021 at 0x14ee78d30>}}\n"
     ]
    }
   ],
   "source": [
    "from pprint import pprint\n",
    "pprint(snia.model.model)"
   ]
  },
  {
   "cell_type": "markdown",
   "id": "2e0ed2b3",
   "metadata": {},
   "source": [
    "See details below"
   ]
  },
  {
   "cell_type": "markdown",
   "id": "0f478941",
   "metadata": {},
   "source": [
    "## Draw a sample (as given by nature)"
   ]
  },
  {
   "cell_type": "markdown",
   "id": "c7a2aab8",
   "metadata": {},
   "source": [
    "You can then draw as many SNeIa as you want. The parameters will be drawn following the transient's model (see below).\n",
    "These are SNeIa as given by nature following this model."
   ]
  },
  {
   "cell_type": "code",
   "execution_count": 10,
   "id": "3a2f61f7",
   "metadata": {},
   "outputs": [
    {
     "name": "stdout",
     "output_type": "stream",
     "text": [
      "CPU times: user 103 ms, sys: 5.64 ms, total: 109 ms\n",
      "Wall time: 110 ms\n"
     ]
    }
   ],
   "source": [
    "%%time\n",
    "data = snia.draw(size=10000)"
   ]
  },
  {
   "cell_type": "code",
   "execution_count": 11,
   "id": "5be5715b",
   "metadata": {},
   "outputs": [
    {
     "data": {
      "text/html": [
       "<div>\n",
       "<style scoped>\n",
       "    .dataframe tbody tr th:only-of-type {\n",
       "        vertical-align: middle;\n",
       "    }\n",
       "\n",
       "    .dataframe tbody tr th {\n",
       "        vertical-align: top;\n",
       "    }\n",
       "\n",
       "    .dataframe thead th {\n",
       "        text-align: right;\n",
       "    }\n",
       "</style>\n",
       "<table border=\"1\" class=\"dataframe\">\n",
       "  <thead>\n",
       "    <tr style=\"text-align: right;\">\n",
       "      <th></th>\n",
       "      <th>z</th>\n",
       "      <th>x1</th>\n",
       "      <th>c</th>\n",
       "      <th>t0</th>\n",
       "      <th>magabs</th>\n",
       "      <th>magobs</th>\n",
       "      <th>x0</th>\n",
       "      <th>ra</th>\n",
       "      <th>dec</th>\n",
       "    </tr>\n",
       "  </thead>\n",
       "  <tbody>\n",
       "    <tr>\n",
       "      <th>0</th>\n",
       "      <td>0.1085</td>\n",
       "      <td>-0.40</td>\n",
       "      <td>0.23</td>\n",
       "      <td>56254.776650</td>\n",
       "      <td>-18.228372</td>\n",
       "      <td>20.348151</td>\n",
       "      <td>0.000115</td>\n",
       "      <td>244.079603</td>\n",
       "      <td>15.570231</td>\n",
       "    </tr>\n",
       "    <tr>\n",
       "      <th>1</th>\n",
       "      <td>0.1095</td>\n",
       "      <td>-0.20</td>\n",
       "      <td>0.22</td>\n",
       "      <td>56705.557371</td>\n",
       "      <td>-18.287872</td>\n",
       "      <td>20.309993</td>\n",
       "      <td>0.000119</td>\n",
       "      <td>284.676532</td>\n",
       "      <td>60.818549</td>\n",
       "    </tr>\n",
       "    <tr>\n",
       "      <th>2</th>\n",
       "      <td>0.1695</td>\n",
       "      <td>0.75</td>\n",
       "      <td>0.25</td>\n",
       "      <td>56986.573709</td>\n",
       "      <td>-18.326372</td>\n",
       "      <td>21.301902</td>\n",
       "      <td>0.000048</td>\n",
       "      <td>238.440640</td>\n",
       "      <td>-17.065604</td>\n",
       "    </tr>\n",
       "    <tr>\n",
       "      <th>3</th>\n",
       "      <td>0.1485</td>\n",
       "      <td>0.30</td>\n",
       "      <td>-0.07</td>\n",
       "      <td>56894.047209</td>\n",
       "      <td>-19.271372</td>\n",
       "      <td>20.041892</td>\n",
       "      <td>0.000153</td>\n",
       "      <td>276.304724</td>\n",
       "      <td>0.237086</td>\n",
       "    </tr>\n",
       "    <tr>\n",
       "      <th>4</th>\n",
       "      <td>0.1105</td>\n",
       "      <td>0.65</td>\n",
       "      <td>0.03</td>\n",
       "      <td>56627.589065</td>\n",
       "      <td>-19.005372</td>\n",
       "      <td>19.613652</td>\n",
       "      <td>0.000227</td>\n",
       "      <td>225.335276</td>\n",
       "      <td>9.824540</td>\n",
       "    </tr>\n",
       "    <tr>\n",
       "      <th>...</th>\n",
       "      <td>...</td>\n",
       "      <td>...</td>\n",
       "      <td>...</td>\n",
       "      <td>...</td>\n",
       "      <td>...</td>\n",
       "      <td>...</td>\n",
       "      <td>...</td>\n",
       "      <td>...</td>\n",
       "      <td>...</td>\n",
       "    </tr>\n",
       "    <tr>\n",
       "      <th>9995</th>\n",
       "      <td>0.1965</td>\n",
       "      <td>-1.20</td>\n",
       "      <td>0.13</td>\n",
       "      <td>56972.950633</td>\n",
       "      <td>-18.431372</td>\n",
       "      <td>21.552435</td>\n",
       "      <td>0.000038</td>\n",
       "      <td>37.990202</td>\n",
       "      <td>64.046108</td>\n",
       "    </tr>\n",
       "    <tr>\n",
       "      <th>9996</th>\n",
       "      <td>0.1175</td>\n",
       "      <td>-0.85</td>\n",
       "      <td>0.31</td>\n",
       "      <td>56875.691853</td>\n",
       "      <td>-17.913372</td>\n",
       "      <td>20.848899</td>\n",
       "      <td>0.000073</td>\n",
       "      <td>289.851062</td>\n",
       "      <td>52.723925</td>\n",
       "    </tr>\n",
       "    <tr>\n",
       "      <th>9997</th>\n",
       "      <td>0.1485</td>\n",
       "      <td>0.10</td>\n",
       "      <td>0.02</td>\n",
       "      <td>56807.498485</td>\n",
       "      <td>-18.959872</td>\n",
       "      <td>20.353392</td>\n",
       "      <td>0.000115</td>\n",
       "      <td>68.731339</td>\n",
       "      <td>16.637341</td>\n",
       "    </tr>\n",
       "    <tr>\n",
       "      <th>9998</th>\n",
       "      <td>0.0715</td>\n",
       "      <td>-1.45</td>\n",
       "      <td>-0.04</td>\n",
       "      <td>56595.900970</td>\n",
       "      <td>-18.931872</td>\n",
       "      <td>18.685043</td>\n",
       "      <td>0.000533</td>\n",
       "      <td>30.185517</td>\n",
       "      <td>-2.108780</td>\n",
       "    </tr>\n",
       "    <tr>\n",
       "      <th>9999</th>\n",
       "      <td>0.1555</td>\n",
       "      <td>0.05</td>\n",
       "      <td>-0.08</td>\n",
       "      <td>56005.582705</td>\n",
       "      <td>-19.267872</td>\n",
       "      <td>20.154767</td>\n",
       "      <td>0.000138</td>\n",
       "      <td>286.404964</td>\n",
       "      <td>12.757548</td>\n",
       "    </tr>\n",
       "  </tbody>\n",
       "</table>\n",
       "<p>10000 rows × 9 columns</p>\n",
       "</div>"
      ],
      "text/plain": [
       "           z    x1     c            t0     magabs     magobs        x0  \\\n",
       "0     0.1085 -0.40  0.23  56254.776650 -18.228372  20.348151  0.000115   \n",
       "1     0.1095 -0.20  0.22  56705.557371 -18.287872  20.309993  0.000119   \n",
       "2     0.1695  0.75  0.25  56986.573709 -18.326372  21.301902  0.000048   \n",
       "3     0.1485  0.30 -0.07  56894.047209 -19.271372  20.041892  0.000153   \n",
       "4     0.1105  0.65  0.03  56627.589065 -19.005372  19.613652  0.000227   \n",
       "...      ...   ...   ...           ...        ...        ...       ...   \n",
       "9995  0.1965 -1.20  0.13  56972.950633 -18.431372  21.552435  0.000038   \n",
       "9996  0.1175 -0.85  0.31  56875.691853 -17.913372  20.848899  0.000073   \n",
       "9997  0.1485  0.10  0.02  56807.498485 -18.959872  20.353392  0.000115   \n",
       "9998  0.0715 -1.45 -0.04  56595.900970 -18.931872  18.685043  0.000533   \n",
       "9999  0.1555  0.05 -0.08  56005.582705 -19.267872  20.154767  0.000138   \n",
       "\n",
       "              ra        dec  \n",
       "0     244.079603  15.570231  \n",
       "1     284.676532  60.818549  \n",
       "2     238.440640 -17.065604  \n",
       "3     276.304724   0.237086  \n",
       "4     225.335276   9.824540  \n",
       "...          ...        ...  \n",
       "9995   37.990202  64.046108  \n",
       "9996  289.851062  52.723925  \n",
       "9997   68.731339  16.637341  \n",
       "9998   30.185517  -2.108780  \n",
       "9999  286.404964  12.757548  \n",
       "\n",
       "[10000 rows x 9 columns]"
      ]
     },
     "execution_count": 11,
     "metadata": {},
     "output_type": "execute_result"
    }
   ],
   "source": [
    "data # another copy is stored as snia.data"
   ]
  },
  {
   "cell_type": "code",
   "execution_count": 12,
   "id": "310ea5b2",
   "metadata": {},
   "outputs": [
    {
     "data": {
      "text/html": [
       "<div>\n",
       "<style scoped>\n",
       "    .dataframe tbody tr th:only-of-type {\n",
       "        vertical-align: middle;\n",
       "    }\n",
       "\n",
       "    .dataframe tbody tr th {\n",
       "        vertical-align: top;\n",
       "    }\n",
       "\n",
       "    .dataframe thead th {\n",
       "        text-align: right;\n",
       "    }\n",
       "</style>\n",
       "<table border=\"1\" class=\"dataframe\">\n",
       "  <thead>\n",
       "    <tr style=\"text-align: right;\">\n",
       "      <th></th>\n",
       "      <th>z</th>\n",
       "      <th>x1</th>\n",
       "      <th>c</th>\n",
       "      <th>t0</th>\n",
       "      <th>magabs</th>\n",
       "      <th>magobs</th>\n",
       "      <th>x0</th>\n",
       "      <th>ra</th>\n",
       "      <th>dec</th>\n",
       "    </tr>\n",
       "  </thead>\n",
       "  <tbody>\n",
       "    <tr>\n",
       "      <th>0</th>\n",
       "      <td>0.1085</td>\n",
       "      <td>-0.40</td>\n",
       "      <td>0.23</td>\n",
       "      <td>56254.776650</td>\n",
       "      <td>-18.228372</td>\n",
       "      <td>20.348151</td>\n",
       "      <td>0.000115</td>\n",
       "      <td>244.079603</td>\n",
       "      <td>15.570231</td>\n",
       "    </tr>\n",
       "    <tr>\n",
       "      <th>1</th>\n",
       "      <td>0.1095</td>\n",
       "      <td>-0.20</td>\n",
       "      <td>0.22</td>\n",
       "      <td>56705.557371</td>\n",
       "      <td>-18.287872</td>\n",
       "      <td>20.309993</td>\n",
       "      <td>0.000119</td>\n",
       "      <td>284.676532</td>\n",
       "      <td>60.818549</td>\n",
       "    </tr>\n",
       "    <tr>\n",
       "      <th>2</th>\n",
       "      <td>0.1695</td>\n",
       "      <td>0.75</td>\n",
       "      <td>0.25</td>\n",
       "      <td>56986.573709</td>\n",
       "      <td>-18.326372</td>\n",
       "      <td>21.301902</td>\n",
       "      <td>0.000048</td>\n",
       "      <td>238.440640</td>\n",
       "      <td>-17.065604</td>\n",
       "    </tr>\n",
       "    <tr>\n",
       "      <th>3</th>\n",
       "      <td>0.1485</td>\n",
       "      <td>0.30</td>\n",
       "      <td>-0.07</td>\n",
       "      <td>56894.047209</td>\n",
       "      <td>-19.271372</td>\n",
       "      <td>20.041892</td>\n",
       "      <td>0.000153</td>\n",
       "      <td>276.304724</td>\n",
       "      <td>0.237086</td>\n",
       "    </tr>\n",
       "    <tr>\n",
       "      <th>4</th>\n",
       "      <td>0.1105</td>\n",
       "      <td>0.65</td>\n",
       "      <td>0.03</td>\n",
       "      <td>56627.589065</td>\n",
       "      <td>-19.005372</td>\n",
       "      <td>19.613652</td>\n",
       "      <td>0.000227</td>\n",
       "      <td>225.335276</td>\n",
       "      <td>9.824540</td>\n",
       "    </tr>\n",
       "    <tr>\n",
       "      <th>...</th>\n",
       "      <td>...</td>\n",
       "      <td>...</td>\n",
       "      <td>...</td>\n",
       "      <td>...</td>\n",
       "      <td>...</td>\n",
       "      <td>...</td>\n",
       "      <td>...</td>\n",
       "      <td>...</td>\n",
       "      <td>...</td>\n",
       "    </tr>\n",
       "    <tr>\n",
       "      <th>9995</th>\n",
       "      <td>0.1965</td>\n",
       "      <td>-1.20</td>\n",
       "      <td>0.13</td>\n",
       "      <td>56972.950633</td>\n",
       "      <td>-18.431372</td>\n",
       "      <td>21.552435</td>\n",
       "      <td>0.000038</td>\n",
       "      <td>37.990202</td>\n",
       "      <td>64.046108</td>\n",
       "    </tr>\n",
       "    <tr>\n",
       "      <th>9996</th>\n",
       "      <td>0.1175</td>\n",
       "      <td>-0.85</td>\n",
       "      <td>0.31</td>\n",
       "      <td>56875.691853</td>\n",
       "      <td>-17.913372</td>\n",
       "      <td>20.848899</td>\n",
       "      <td>0.000073</td>\n",
       "      <td>289.851062</td>\n",
       "      <td>52.723925</td>\n",
       "    </tr>\n",
       "    <tr>\n",
       "      <th>9997</th>\n",
       "      <td>0.1485</td>\n",
       "      <td>0.10</td>\n",
       "      <td>0.02</td>\n",
       "      <td>56807.498485</td>\n",
       "      <td>-18.959872</td>\n",
       "      <td>20.353392</td>\n",
       "      <td>0.000115</td>\n",
       "      <td>68.731339</td>\n",
       "      <td>16.637341</td>\n",
       "    </tr>\n",
       "    <tr>\n",
       "      <th>9998</th>\n",
       "      <td>0.0715</td>\n",
       "      <td>-1.45</td>\n",
       "      <td>-0.04</td>\n",
       "      <td>56595.900970</td>\n",
       "      <td>-18.931872</td>\n",
       "      <td>18.685043</td>\n",
       "      <td>0.000533</td>\n",
       "      <td>30.185517</td>\n",
       "      <td>-2.108780</td>\n",
       "    </tr>\n",
       "    <tr>\n",
       "      <th>9999</th>\n",
       "      <td>0.1555</td>\n",
       "      <td>0.05</td>\n",
       "      <td>-0.08</td>\n",
       "      <td>56005.582705</td>\n",
       "      <td>-19.267872</td>\n",
       "      <td>20.154767</td>\n",
       "      <td>0.000138</td>\n",
       "      <td>286.404964</td>\n",
       "      <td>12.757548</td>\n",
       "    </tr>\n",
       "  </tbody>\n",
       "</table>\n",
       "<p>10000 rows × 9 columns</p>\n",
       "</div>"
      ],
      "text/plain": [
       "           z    x1     c            t0     magabs     magobs        x0  \\\n",
       "0     0.1085 -0.40  0.23  56254.776650 -18.228372  20.348151  0.000115   \n",
       "1     0.1095 -0.20  0.22  56705.557371 -18.287872  20.309993  0.000119   \n",
       "2     0.1695  0.75  0.25  56986.573709 -18.326372  21.301902  0.000048   \n",
       "3     0.1485  0.30 -0.07  56894.047209 -19.271372  20.041892  0.000153   \n",
       "4     0.1105  0.65  0.03  56627.589065 -19.005372  19.613652  0.000227   \n",
       "...      ...   ...   ...           ...        ...        ...       ...   \n",
       "9995  0.1965 -1.20  0.13  56972.950633 -18.431372  21.552435  0.000038   \n",
       "9996  0.1175 -0.85  0.31  56875.691853 -17.913372  20.848899  0.000073   \n",
       "9997  0.1485  0.10  0.02  56807.498485 -18.959872  20.353392  0.000115   \n",
       "9998  0.0715 -1.45 -0.04  56595.900970 -18.931872  18.685043  0.000533   \n",
       "9999  0.1555  0.05 -0.08  56005.582705 -19.267872  20.154767  0.000138   \n",
       "\n",
       "              ra        dec  \n",
       "0     244.079603  15.570231  \n",
       "1     284.676532  60.818549  \n",
       "2     238.440640 -17.065604  \n",
       "3     276.304724   0.237086  \n",
       "4     225.335276   9.824540  \n",
       "...          ...        ...  \n",
       "9995   37.990202  64.046108  \n",
       "9996  289.851062  52.723925  \n",
       "9997   68.731339  16.637341  \n",
       "9998   30.185517  -2.108780  \n",
       "9999  286.404964  12.757548  \n",
       "\n",
       "[10000 rows x 9 columns]"
      ]
     },
     "execution_count": 12,
     "metadata": {},
     "output_type": "execute_result"
    }
   ],
   "source": [
    "snia.data"
   ]
  },
  {
   "cell_type": "markdown",
   "id": "e50717af",
   "metadata": {},
   "source": [
    "**Tip**: You can  directly use the ``from_draw()`` classmethod to load a transient instance already drawn."
   ]
  },
  {
   "cell_type": "code",
   "execution_count": 13,
   "id": "01717a75",
   "metadata": {},
   "outputs": [
    {
     "name": "stdout",
     "output_type": "stream",
     "text": [
      "CPU times: user 85 ms, sys: 3.62 ms, total: 88.6 ms\n",
      "Wall time: 91.3 ms\n"
     ]
    }
   ],
   "source": [
    "%%time\n",
    "snia = target.SNeIa.from_draw(10000)"
   ]
  },
  {
   "cell_type": "code",
   "execution_count": 14,
   "id": "94941134",
   "metadata": {},
   "outputs": [
    {
     "data": {
      "text/html": [
       "<div>\n",
       "<style scoped>\n",
       "    .dataframe tbody tr th:only-of-type {\n",
       "        vertical-align: middle;\n",
       "    }\n",
       "\n",
       "    .dataframe tbody tr th {\n",
       "        vertical-align: top;\n",
       "    }\n",
       "\n",
       "    .dataframe thead th {\n",
       "        text-align: right;\n",
       "    }\n",
       "</style>\n",
       "<table border=\"1\" class=\"dataframe\">\n",
       "  <thead>\n",
       "    <tr style=\"text-align: right;\">\n",
       "      <th></th>\n",
       "      <th>z</th>\n",
       "      <th>x1</th>\n",
       "      <th>c</th>\n",
       "      <th>t0</th>\n",
       "      <th>magabs</th>\n",
       "      <th>magobs</th>\n",
       "      <th>x0</th>\n",
       "      <th>ra</th>\n",
       "      <th>dec</th>\n",
       "    </tr>\n",
       "  </thead>\n",
       "  <tbody>\n",
       "    <tr>\n",
       "      <th>0</th>\n",
       "      <td>0.1095</td>\n",
       "      <td>-0.60</td>\n",
       "      <td>-1.500000e-01</td>\n",
       "      <td>56517.967681</td>\n",
       "      <td>-19.667951</td>\n",
       "      <td>18.929914</td>\n",
       "      <td>0.000425</td>\n",
       "      <td>236.825869</td>\n",
       "      <td>-12.908029</td>\n",
       "    </tr>\n",
       "    <tr>\n",
       "      <th>1</th>\n",
       "      <td>0.0905</td>\n",
       "      <td>0.30</td>\n",
       "      <td>6.000000e-02</td>\n",
       "      <td>56364.946816</td>\n",
       "      <td>-19.132451</td>\n",
       "      <td>19.024259</td>\n",
       "      <td>0.000390</td>\n",
       "      <td>141.235219</td>\n",
       "      <td>24.197556</td>\n",
       "    </tr>\n",
       "    <tr>\n",
       "      <th>2</th>\n",
       "      <td>0.1935</td>\n",
       "      <td>1.15</td>\n",
       "      <td>-4.000000e-02</td>\n",
       "      <td>56054.140675</td>\n",
       "      <td>-19.566451</td>\n",
       "      <td>20.380170</td>\n",
       "      <td>0.000112</td>\n",
       "      <td>67.227898</td>\n",
       "      <td>65.217944</td>\n",
       "    </tr>\n",
       "    <tr>\n",
       "      <th>3</th>\n",
       "      <td>0.1825</td>\n",
       "      <td>1.20</td>\n",
       "      <td>3.000000e-02</td>\n",
       "      <td>56109.130970</td>\n",
       "      <td>-19.352951</td>\n",
       "      <td>20.452593</td>\n",
       "      <td>0.000105</td>\n",
       "      <td>224.971602</td>\n",
       "      <td>35.943121</td>\n",
       "    </tr>\n",
       "    <tr>\n",
       "      <th>4</th>\n",
       "      <td>0.1715</td>\n",
       "      <td>0.90</td>\n",
       "      <td>7.000000e-02</td>\n",
       "      <td>56876.907700</td>\n",
       "      <td>-19.184951</td>\n",
       "      <td>20.471400</td>\n",
       "      <td>0.000103</td>\n",
       "      <td>263.790662</td>\n",
       "      <td>-5.038931</td>\n",
       "    </tr>\n",
       "    <tr>\n",
       "      <th>...</th>\n",
       "      <td>...</td>\n",
       "      <td>...</td>\n",
       "      <td>...</td>\n",
       "      <td>...</td>\n",
       "      <td>...</td>\n",
       "      <td>...</td>\n",
       "      <td>...</td>\n",
       "      <td>...</td>\n",
       "      <td>...</td>\n",
       "    </tr>\n",
       "    <tr>\n",
       "      <th>9995</th>\n",
       "      <td>0.1955</td>\n",
       "      <td>1.40</td>\n",
       "      <td>4.000000e-02</td>\n",
       "      <td>56042.622210</td>\n",
       "      <td>-19.349451</td>\n",
       "      <td>20.622019</td>\n",
       "      <td>0.000090</td>\n",
       "      <td>220.162995</td>\n",
       "      <td>54.159792</td>\n",
       "    </tr>\n",
       "    <tr>\n",
       "      <th>9996</th>\n",
       "      <td>0.1745</td>\n",
       "      <td>0.60</td>\n",
       "      <td>-9.000000e-02</td>\n",
       "      <td>56529.363219</td>\n",
       "      <td>-19.646951</td>\n",
       "      <td>20.050950</td>\n",
       "      <td>0.000152</td>\n",
       "      <td>189.652428</td>\n",
       "      <td>24.072395</td>\n",
       "    </tr>\n",
       "    <tr>\n",
       "      <th>9997</th>\n",
       "      <td>0.0855</td>\n",
       "      <td>-1.15</td>\n",
       "      <td>-5.000000e-02</td>\n",
       "      <td>56015.677557</td>\n",
       "      <td>-19.275951</td>\n",
       "      <td>18.750031</td>\n",
       "      <td>0.000502</td>\n",
       "      <td>17.775034</td>\n",
       "      <td>34.102941</td>\n",
       "    </tr>\n",
       "    <tr>\n",
       "      <th>9998</th>\n",
       "      <td>0.1635</td>\n",
       "      <td>-1.95</td>\n",
       "      <td>2.775558e-16</td>\n",
       "      <td>56392.338277</td>\n",
       "      <td>-19.006451</td>\n",
       "      <td>20.535705</td>\n",
       "      <td>0.000097</td>\n",
       "      <td>227.437157</td>\n",
       "      <td>23.674899</td>\n",
       "    </tr>\n",
       "    <tr>\n",
       "      <th>9999</th>\n",
       "      <td>0.1675</td>\n",
       "      <td>0.60</td>\n",
       "      <td>2.000000e-01</td>\n",
       "      <td>56154.150292</td>\n",
       "      <td>-18.733451</td>\n",
       "      <td>20.866436</td>\n",
       "      <td>0.000071</td>\n",
       "      <td>169.407414</td>\n",
       "      <td>17.781704</td>\n",
       "    </tr>\n",
       "  </tbody>\n",
       "</table>\n",
       "<p>10000 rows × 9 columns</p>\n",
       "</div>"
      ],
      "text/plain": [
       "           z    x1             c            t0     magabs     magobs  \\\n",
       "0     0.1095 -0.60 -1.500000e-01  56517.967681 -19.667951  18.929914   \n",
       "1     0.0905  0.30  6.000000e-02  56364.946816 -19.132451  19.024259   \n",
       "2     0.1935  1.15 -4.000000e-02  56054.140675 -19.566451  20.380170   \n",
       "3     0.1825  1.20  3.000000e-02  56109.130970 -19.352951  20.452593   \n",
       "4     0.1715  0.90  7.000000e-02  56876.907700 -19.184951  20.471400   \n",
       "...      ...   ...           ...           ...        ...        ...   \n",
       "9995  0.1955  1.40  4.000000e-02  56042.622210 -19.349451  20.622019   \n",
       "9996  0.1745  0.60 -9.000000e-02  56529.363219 -19.646951  20.050950   \n",
       "9997  0.0855 -1.15 -5.000000e-02  56015.677557 -19.275951  18.750031   \n",
       "9998  0.1635 -1.95  2.775558e-16  56392.338277 -19.006451  20.535705   \n",
       "9999  0.1675  0.60  2.000000e-01  56154.150292 -18.733451  20.866436   \n",
       "\n",
       "            x0          ra        dec  \n",
       "0     0.000425  236.825869 -12.908029  \n",
       "1     0.000390  141.235219  24.197556  \n",
       "2     0.000112   67.227898  65.217944  \n",
       "3     0.000105  224.971602  35.943121  \n",
       "4     0.000103  263.790662  -5.038931  \n",
       "...        ...         ...        ...  \n",
       "9995  0.000090  220.162995  54.159792  \n",
       "9996  0.000152  189.652428  24.072395  \n",
       "9997  0.000502   17.775034  34.102941  \n",
       "9998  0.000097  227.437157  23.674899  \n",
       "9999  0.000071  169.407414  17.781704  \n",
       "\n",
       "[10000 rows x 9 columns]"
      ]
     },
     "execution_count": 14,
     "metadata": {},
     "output_type": "execute_result"
    }
   ],
   "source": [
    "snia.data"
   ]
  },
  {
   "cell_type": "markdown",
   "id": "16eb1478",
   "metadata": {},
   "source": [
    "### TimeSerieTransient (TSTransient)\n",
    "\n",
    "**nothing is easier than loading any sncosmo TimeSerieSouce as a skysurvey Transient**\n",
    "\n",
    "Simply provide the source name in the `from_sncosmo_source()` method or directly in the `from_draw()`"
   ]
  },
  {
   "cell_type": "code",
   "execution_count": 15,
   "id": "d8b225b4",
   "metadata": {},
   "outputs": [],
   "source": [
    "snIIn = target.TSTransient.from_draw(\"v19-2010al\", 4000)"
   ]
  },
  {
   "cell_type": "code",
   "execution_count": 16,
   "id": "97a3e9cb",
   "metadata": {},
   "outputs": [
    {
     "data": {
      "text/html": [
       "<div>\n",
       "<style scoped>\n",
       "    .dataframe tbody tr th:only-of-type {\n",
       "        vertical-align: middle;\n",
       "    }\n",
       "\n",
       "    .dataframe tbody tr th {\n",
       "        vertical-align: top;\n",
       "    }\n",
       "\n",
       "    .dataframe thead th {\n",
       "        text-align: right;\n",
       "    }\n",
       "</style>\n",
       "<table border=\"1\" class=\"dataframe\">\n",
       "  <thead>\n",
       "    <tr style=\"text-align: right;\">\n",
       "      <th></th>\n",
       "      <th>z</th>\n",
       "      <th>t0</th>\n",
       "      <th>magabs</th>\n",
       "      <th>magobs</th>\n",
       "      <th>amplitude</th>\n",
       "      <th>ra</th>\n",
       "      <th>dec</th>\n",
       "    </tr>\n",
       "  </thead>\n",
       "  <tbody>\n",
       "    <tr>\n",
       "      <th>0</th>\n",
       "      <td>0.0355</td>\n",
       "      <td>56401.030567</td>\n",
       "      <td>-17.121175</td>\n",
       "      <td>18.919972</td>\n",
       "      <td>9.264296e-16</td>\n",
       "      <td>154.443769</td>\n",
       "      <td>43.672123</td>\n",
       "    </tr>\n",
       "    <tr>\n",
       "      <th>1</th>\n",
       "      <td>0.0275</td>\n",
       "      <td>57317.628540</td>\n",
       "      <td>-18.693026</td>\n",
       "      <td>16.780934</td>\n",
       "      <td>6.643973e-15</td>\n",
       "      <td>107.177014</td>\n",
       "      <td>-50.781894</td>\n",
       "    </tr>\n",
       "    <tr>\n",
       "      <th>2</th>\n",
       "      <td>0.0415</td>\n",
       "      <td>57450.233557</td>\n",
       "      <td>-19.071134</td>\n",
       "      <td>17.318545</td>\n",
       "      <td>4.049331e-15</td>\n",
       "      <td>131.051154</td>\n",
       "      <td>-5.852582</td>\n",
       "    </tr>\n",
       "    <tr>\n",
       "      <th>3</th>\n",
       "      <td>0.0405</td>\n",
       "      <td>56438.568163</td>\n",
       "      <td>-17.206988</td>\n",
       "      <td>19.128159</td>\n",
       "      <td>7.647820e-16</td>\n",
       "      <td>313.248757</td>\n",
       "      <td>32.729932</td>\n",
       "    </tr>\n",
       "    <tr>\n",
       "      <th>4</th>\n",
       "      <td>0.0425</td>\n",
       "      <td>56197.017186</td>\n",
       "      <td>-18.268249</td>\n",
       "      <td>18.174699</td>\n",
       "      <td>1.840441e-15</td>\n",
       "      <td>77.398593</td>\n",
       "      <td>31.101750</td>\n",
       "    </tr>\n",
       "    <tr>\n",
       "      <th>...</th>\n",
       "      <td>...</td>\n",
       "      <td>...</td>\n",
       "      <td>...</td>\n",
       "      <td>...</td>\n",
       "      <td>...</td>\n",
       "      <td>...</td>\n",
       "      <td>...</td>\n",
       "    </tr>\n",
       "    <tr>\n",
       "      <th>3995</th>\n",
       "      <td>0.0275</td>\n",
       "      <td>57427.182503</td>\n",
       "      <td>-16.687137</td>\n",
       "      <td>18.786823</td>\n",
       "      <td>1.047302e-15</td>\n",
       "      <td>96.939524</td>\n",
       "      <td>-3.465905</td>\n",
       "    </tr>\n",
       "    <tr>\n",
       "      <th>3996</th>\n",
       "      <td>0.0415</td>\n",
       "      <td>56664.850970</td>\n",
       "      <td>-17.324273</td>\n",
       "      <td>19.065407</td>\n",
       "      <td>8.102866e-16</td>\n",
       "      <td>76.320083</td>\n",
       "      <td>63.285663</td>\n",
       "    </tr>\n",
       "    <tr>\n",
       "      <th>3997</th>\n",
       "      <td>0.0015</td>\n",
       "      <td>57210.756274</td>\n",
       "      <td>-17.080470</td>\n",
       "      <td>12.034924</td>\n",
       "      <td>5.258134e-13</td>\n",
       "      <td>321.681720</td>\n",
       "      <td>-56.577461</td>\n",
       "    </tr>\n",
       "    <tr>\n",
       "      <th>3998</th>\n",
       "      <td>0.0235</td>\n",
       "      <td>56144.256630</td>\n",
       "      <td>-17.064884</td>\n",
       "      <td>18.061341</td>\n",
       "      <td>2.042984e-15</td>\n",
       "      <td>187.774926</td>\n",
       "      <td>-26.658708</td>\n",
       "    </tr>\n",
       "    <tr>\n",
       "      <th>3999</th>\n",
       "      <td>0.0455</td>\n",
       "      <td>56041.087559</td>\n",
       "      <td>-18.072780</td>\n",
       "      <td>18.522959</td>\n",
       "      <td>1.335420e-15</td>\n",
       "      <td>338.324061</td>\n",
       "      <td>-66.244047</td>\n",
       "    </tr>\n",
       "  </tbody>\n",
       "</table>\n",
       "<p>4000 rows × 7 columns</p>\n",
       "</div>"
      ],
      "text/plain": [
       "           z            t0     magabs     magobs     amplitude          ra  \\\n",
       "0     0.0355  56401.030567 -17.121175  18.919972  9.264296e-16  154.443769   \n",
       "1     0.0275  57317.628540 -18.693026  16.780934  6.643973e-15  107.177014   \n",
       "2     0.0415  57450.233557 -19.071134  17.318545  4.049331e-15  131.051154   \n",
       "3     0.0405  56438.568163 -17.206988  19.128159  7.647820e-16  313.248757   \n",
       "4     0.0425  56197.017186 -18.268249  18.174699  1.840441e-15   77.398593   \n",
       "...      ...           ...        ...        ...           ...         ...   \n",
       "3995  0.0275  57427.182503 -16.687137  18.786823  1.047302e-15   96.939524   \n",
       "3996  0.0415  56664.850970 -17.324273  19.065407  8.102866e-16   76.320083   \n",
       "3997  0.0015  57210.756274 -17.080470  12.034924  5.258134e-13  321.681720   \n",
       "3998  0.0235  56144.256630 -17.064884  18.061341  2.042984e-15  187.774926   \n",
       "3999  0.0455  56041.087559 -18.072780  18.522959  1.335420e-15  338.324061   \n",
       "\n",
       "            dec  \n",
       "0     43.672123  \n",
       "1    -50.781894  \n",
       "2     -5.852582  \n",
       "3     32.729932  \n",
       "4     31.101750  \n",
       "...         ...  \n",
       "3995  -3.465905  \n",
       "3996  63.285663  \n",
       "3997 -56.577461  \n",
       "3998 -26.658708  \n",
       "3999 -66.244047  \n",
       "\n",
       "[4000 rows x 7 columns]"
      ]
     },
     "execution_count": 16,
     "metadata": {},
     "output_type": "execute_result"
    }
   ],
   "source": [
    "snIIn.data"
   ]
  },
  {
   "cell_type": "code",
   "execution_count": 17,
   "id": "c46f4622",
   "metadata": {},
   "outputs": [
    {
     "data": {
      "image/png": "[encoded data removed]",
      "text/plain": [
       "<Figure size 504x288 with 1 Axes>"
      ]
     },
     "metadata": {
      "needs_background": "light"
     },
     "output_type": "display_data"
    }
   ],
   "source": [
    "_ = snIIn.show_lightcurve([\"ztfg\",\"ztfr\"], index=50)"
   ]
  },
  {
   "cell_type": "markdown",
   "id": "990f3af4",
   "metadata": {},
   "source": [
    "***"
   ]
  },
  {
   "cell_type": "markdown",
   "id": "cafde1b8",
   "metadata": {},
   "source": [
    "## Model\n",
    "\n",
    "The ``data`` (list of transients) are generated following the **model**, stored as ``self.model``."
   ]
  },
  {
   "cell_type": "markdown",
   "id": "14df0350",
   "metadata": {},
   "source": [
    "**tip**: the transient model is display (better formated) when you print the object"
   ]
  },
  {
   "cell_type": "code",
   "execution_count": 18,
   "id": "15bc8ed1",
   "metadata": {},
   "outputs": [
    {
     "data": {
      "text/plain": [
       "{'redshift': {'param': {'zmax': 0.2, 'model': None}, 'as': 'z'},\n",
       " 'x1': {'model': <function SNeIaStretch.nicolas2021 at 0x14ee78d30>},\n",
       " 'c': {'model': <function SNeIaColor.intrinsic_and_dust at 0x14ee78ca0>},\n",
       " 't0': {'model': <built-in method uniform of numpy.random.mtrand.RandomState object at 0x106a37c40>,\n",
       "        'param': {'low': 56000,\n",
       "                  'high': 57000,\n",
       "                  'model': <built-in method uniform of numpy.random.mtrand.RandomState object at 0x106a37c40>}},\n",
       " 'magabs': {'model': <function SNeIaMagnitude.tripp1998 at 0x14ee78dc0>,\n",
       "            'input': ['x1', 'c'],\n",
       "            'param': {'mabs': -19.3,\n",
       "                      'sigmaint': 0.1,\n",
       "                      'model': <function SNeIaMagnitude.tripp1998 at 0x14ee78dc0>,\n",
       "                      'x1': array([-0.6 ,  0.3 ,  1.15, ..., -1.15, -1.95,  0.6 ]),\n",
       "                      'c': array([-1.50000000e-01,  6.00000000e-02, -4.00000000e-02, ...,\n",
       "       -5.00000000e-02,  2.77555756e-16,  2.00000000e-01])}},\n",
       " 'magobs': {'model': 'magabs_to_magobs', 'input': ['z', 'magabs']},\n",
       " 'x0': {'model': 'magobs_to_amplitude',\n",
       "        'input': ['magobs'],\n",
       "        'param': {'param_name': 'x0',\n",
       "                  'model': 'magobs_to_amplitude',\n",
       "                  'magobs': array([18.92991381, 19.02425904, 20.38016963, ..., 18.75003096,\n",
       "       20.53570452, 20.86643597])}},\n",
       " 'radec': {'model': 'random',\n",
       "           'param': {'ra_range': [0, 360],\n",
       "                     'dec_range': [-30, 90],\n",
       "                     'model': 'random'},\n",
       "           'as': ['ra', 'dec']}}"
      ]
     },
     "execution_count": 18,
     "metadata": {},
     "output_type": "execute_result"
    }
   ],
   "source": [
    "snia"
   ]
  },
  {
   "cell_type": "markdown",
   "id": "8a098043",
   "metadata": {},
   "source": [
    "#### How does **model** works\n",
    "\n",
    "\n",
    "To generate ``data``, the code reads **model** line-by-line and follows the instructions it contains. \n",
    "\n",
    "In this SNeIa example, **model** contains 8 entries. So the generated ``data`` will contains at least 8 columns (see the *as* option).\n",
    "\n",
    "A **model** entry accepts 4 keywords:\n",
    "  1. *model*: (name of) the function used to draw the sample, e.g. np.random.uniform ;\n",
    "  2. *param*: options that enter the function as kwargs ;\n",
    "  3. *as*: (list of) name(s) of the column on the resulting ``data`` ;\n",
    "  4. *input*: list of already drawn entry used as argument for the *model* function (see e.g. ``magobs``)\n",
    "\n",
    "#### the *input* option making **model**  a \"DAG\"\n",
    "The *input* option enables you to generate self-consistent parameters. \n",
    "\n",
    "For instance, the absolute magnitude of a SNeIa depends on its stretch and color (following the ``alpha*x_1 - beta*c `` Tripp's relation). Hence, once the ``x_1``and ``c`` (independent) variables have been drawn, the SNeIa absolute magnitude (``magabs``) can be obtained using as input the already drawn ``x_1`` and ``c`` parameters. Same goes for the observed magnitude, it only dependents on the absolute magnitude ``magabs`` and the redshift ``z``. \n",
    "\n",
    "The (potentially complex) connections between the variables enabled by the *input* corresponds to the creation a [Directed acyclic graph](https://en.wikipedia.org/wiki/Directed_acyclic_graph).\n",
    "You can complexify as you which your **model** creating as many variables and intermediate variables as you want.\n",
    "\n",
    "#### Build a model\n",
    "\n",
    "See the \"Build a new model\" tutorial to learn more about Transient's modelling\n"
   ]
  },
  {
   "cell_type": "markdown",
   "id": "7e3ff6c3",
   "metadata": {},
   "source": [
    "## Plotting\n",
    "\n",
    "Show a given lightcurve in any band known by sncosmo, for instance here that on the snia index 9 ``snia.data.loc[9]``\n",
    "\n",
    "### Lightcurve "
   ]
  },
  {
   "cell_type": "code",
   "execution_count": 19,
   "id": "834948cf",
   "metadata": {
    "scrolled": false
   },
   "outputs": [
    {
     "name": "stderr",
     "output_type": "stream",
     "text": [
      "/Users/rigault/miniforge3/lib/python3.9/site-packages/sncosmo/models.py:189: RuntimeWarning: invalid value encountered in log10\n",
      "  result[i] = -2.5 * np.log10(f / zpf)\n"
     ]
    },
    {
     "data": {
      "image/png": "[encoded data removed]",
      "text/plain": [
       "<Figure size 504x288 with 1 Axes>"
      ]
     },
     "metadata": {
      "needs_background": "light"
     },
     "output_type": "display_data"
    }
   ],
   "source": [
    "band = [\"ztfr\",\"ztfg\"]\n",
    "fig = snia.show_lightcurve(band, index=9, in_mag=True)"
   ]
  },
  {
   "cell_type": "markdown",
   "id": "c075f180",
   "metadata": {},
   "source": [
    "### Parameters (visualize the relation created by self.model)\n",
    "\n",
    "You can also show the scatter between any parameters. The parameter correlations have handle by your `model`"
   ]
  },
  {
   "cell_type": "code",
   "execution_count": 20,
   "id": "3c8c7e65",
   "metadata": {
    "scrolled": false
   },
   "outputs": [
    {
     "data": {
      "image/png": "[encoded data removed]",
      "text/plain": [
       "<Figure size 504x288 with 1 Axes>"
      ]
     },
     "metadata": {
      "needs_background": "light"
     },
     "output_type": "display_data"
    }
   ],
   "source": [
    "fig = snia.show_scatter(\"z\", \"magobs\", ckey=\"x1\") \n",
    "ax = fig.axes[0]\n",
    "\n",
    "_ = ax.set_ylabel(\"observed magnitude\")\n",
    "_ = ax.set_xlabel(\"redshift\")"
   ]
  },
  {
   "cell_type": "code",
   "execution_count": 21,
   "id": "b3e0cfbb",
   "metadata": {},
   "outputs": [
    {
     "data": {
      "image/png": "[encoded data removed]",
      "text/plain": [
       "<Figure size 648x216 with 2 Axes>"
      ]
     },
     "metadata": {
      "needs_background": "light"
     },
     "output_type": "display_data"
    }
   ],
   "source": [
    "import matplotlib.pyplot as plt\n",
    "fig = plt.figure(figsize=[9,3])\n",
    "ax1 = fig.add_subplot(121)\n",
    "ax2 = fig.add_subplot(122)\n",
    "\n",
    "_ = snia.show_scatter(\"x1\", \"magabs\", ckey=\"c\", ax=ax1) \n",
    "_ = snia.show_scatter(\"c\", \"magabs\", ckey=\"x1\", ax=ax2) \n",
    "\n",
    "_ = ax1.set_ylabel(\"absolute magnitude\")\n",
    "_ = ax1.set_xlabel(fr\"Stretch ($x_1$)\")\n",
    "_ = ax2.set_xlabel(fr\"Color ($c$)\")"
   ]
  },
  {
   "cell_type": "markdown",
   "id": "b0f911a5",
   "metadata": {},
   "source": [
    "## Getter\n",
    "\n",
    "You have several pre-defined method to access parameters or the template directly"
   ]
  },
  {
   "cell_type": "markdown",
   "id": "98b61027",
   "metadata": {},
   "source": [
    "### template parameters\n",
    "\n",
    "the `get_template_parameters` method enbales you to get the subpart of ``data`` that corresponds to actual template (sncosmo.Model) parameters"
   ]
  },
  {
   "cell_type": "code",
   "execution_count": 22,
   "id": "207b8213",
   "metadata": {},
   "outputs": [
    {
     "data": {
      "text/html": [
       "<div>\n",
       "<style scoped>\n",
       "    .dataframe tbody tr th:only-of-type {\n",
       "        vertical-align: middle;\n",
       "    }\n",
       "\n",
       "    .dataframe tbody tr th {\n",
       "        vertical-align: top;\n",
       "    }\n",
       "\n",
       "    .dataframe thead th {\n",
       "        text-align: right;\n",
       "    }\n",
       "</style>\n",
       "<table border=\"1\" class=\"dataframe\">\n",
       "  <thead>\n",
       "    <tr style=\"text-align: right;\">\n",
       "      <th></th>\n",
       "      <th>z</th>\n",
       "      <th>x1</th>\n",
       "      <th>c</th>\n",
       "      <th>t0</th>\n",
       "      <th>x0</th>\n",
       "    </tr>\n",
       "  </thead>\n",
       "  <tbody>\n",
       "    <tr>\n",
       "      <th>0</th>\n",
       "      <td>0.1095</td>\n",
       "      <td>-0.60</td>\n",
       "      <td>-1.500000e-01</td>\n",
       "      <td>56517.967681</td>\n",
       "      <td>0.000425</td>\n",
       "    </tr>\n",
       "    <tr>\n",
       "      <th>1</th>\n",
       "      <td>0.0905</td>\n",
       "      <td>0.30</td>\n",
       "      <td>6.000000e-02</td>\n",
       "      <td>56364.946816</td>\n",
       "      <td>0.000390</td>\n",
       "    </tr>\n",
       "    <tr>\n",
       "      <th>2</th>\n",
       "      <td>0.1935</td>\n",
       "      <td>1.15</td>\n",
       "      <td>-4.000000e-02</td>\n",
       "      <td>56054.140675</td>\n",
       "      <td>0.000112</td>\n",
       "    </tr>\n",
       "    <tr>\n",
       "      <th>3</th>\n",
       "      <td>0.1825</td>\n",
       "      <td>1.20</td>\n",
       "      <td>3.000000e-02</td>\n",
       "      <td>56109.130970</td>\n",
       "      <td>0.000105</td>\n",
       "    </tr>\n",
       "    <tr>\n",
       "      <th>4</th>\n",
       "      <td>0.1715</td>\n",
       "      <td>0.90</td>\n",
       "      <td>7.000000e-02</td>\n",
       "      <td>56876.907700</td>\n",
       "      <td>0.000103</td>\n",
       "    </tr>\n",
       "    <tr>\n",
       "      <th>...</th>\n",
       "      <td>...</td>\n",
       "      <td>...</td>\n",
       "      <td>...</td>\n",
       "      <td>...</td>\n",
       "      <td>...</td>\n",
       "    </tr>\n",
       "    <tr>\n",
       "      <th>9995</th>\n",
       "      <td>0.1955</td>\n",
       "      <td>1.40</td>\n",
       "      <td>4.000000e-02</td>\n",
       "      <td>56042.622210</td>\n",
       "      <td>0.000090</td>\n",
       "    </tr>\n",
       "    <tr>\n",
       "      <th>9996</th>\n",
       "      <td>0.1745</td>\n",
       "      <td>0.60</td>\n",
       "      <td>-9.000000e-02</td>\n",
       "      <td>56529.363219</td>\n",
       "      <td>0.000152</td>\n",
       "    </tr>\n",
       "    <tr>\n",
       "      <th>9997</th>\n",
       "      <td>0.0855</td>\n",
       "      <td>-1.15</td>\n",
       "      <td>-5.000000e-02</td>\n",
       "      <td>56015.677557</td>\n",
       "      <td>0.000502</td>\n",
       "    </tr>\n",
       "    <tr>\n",
       "      <th>9998</th>\n",
       "      <td>0.1635</td>\n",
       "      <td>-1.95</td>\n",
       "      <td>2.775558e-16</td>\n",
       "      <td>56392.338277</td>\n",
       "      <td>0.000097</td>\n",
       "    </tr>\n",
       "    <tr>\n",
       "      <th>9999</th>\n",
       "      <td>0.1675</td>\n",
       "      <td>0.60</td>\n",
       "      <td>2.000000e-01</td>\n",
       "      <td>56154.150292</td>\n",
       "      <td>0.000071</td>\n",
       "    </tr>\n",
       "  </tbody>\n",
       "</table>\n",
       "<p>10000 rows × 5 columns</p>\n",
       "</div>"
      ],
      "text/plain": [
       "           z    x1             c            t0        x0\n",
       "0     0.1095 -0.60 -1.500000e-01  56517.967681  0.000425\n",
       "1     0.0905  0.30  6.000000e-02  56364.946816  0.000390\n",
       "2     0.1935  1.15 -4.000000e-02  56054.140675  0.000112\n",
       "3     0.1825  1.20  3.000000e-02  56109.130970  0.000105\n",
       "4     0.1715  0.90  7.000000e-02  56876.907700  0.000103\n",
       "...      ...   ...           ...           ...       ...\n",
       "9995  0.1955  1.40  4.000000e-02  56042.622210  0.000090\n",
       "9996  0.1745  0.60 -9.000000e-02  56529.363219  0.000152\n",
       "9997  0.0855 -1.15 -5.000000e-02  56015.677557  0.000502\n",
       "9998  0.1635 -1.95  2.775558e-16  56392.338277  0.000097\n",
       "9999  0.1675  0.60  2.000000e-01  56154.150292  0.000071\n",
       "\n",
       "[10000 rows x 5 columns]"
      ]
     },
     "execution_count": 22,
     "metadata": {},
     "output_type": "execute_result"
    }
   ],
   "source": [
    "snia.get_template_parameters()"
   ]
  },
  {
   "cell_type": "markdown",
   "id": "ffdf15a5",
   "metadata": {},
   "source": [
    "You can also request to only have the template parameter for a given target\n",
    "(similar to as `snia.get_template_parameters().loc[index]`)"
   ]
  },
  {
   "cell_type": "code",
   "execution_count": 23,
   "id": "8b5cfd83",
   "metadata": {},
   "outputs": [
    {
     "data": {
      "text/plain": [
       "z         0.173500\n",
       "x1       -0.950000\n",
       "c         0.070000\n",
       "t0    56825.027215\n",
       "x0        0.000079\n",
       "Name: 9, dtype: float64"
      ]
     },
     "execution_count": 23,
     "metadata": {},
     "output_type": "execute_result"
    }
   ],
   "source": [
    "snia.get_template_parameters(index=9)"
   ]
  },
  {
   "cell_type": "markdown",
   "id": "7bf650d3",
   "metadata": {},
   "source": [
    "### Template (sncosmo.Model)\n",
    "\n",
    "You can get a template (sncosmo.Model) either with default values"
   ]
  },
  {
   "cell_type": "code",
   "execution_count": 24,
   "id": "767e77a1",
   "metadata": {},
   "outputs": [],
   "source": [
    "template = snia.get_template() # default"
   ]
  },
  {
   "cell_type": "code",
   "execution_count": 25,
   "id": "17ad1367",
   "metadata": {},
   "outputs": [
    {
     "data": {
      "text/plain": [
       "<sncosmo.models.Model at 0x16c8739d0>"
      ]
     },
     "execution_count": 25,
     "metadata": {},
     "output_type": "execute_result"
    }
   ],
   "source": [
    "template"
   ]
  },
  {
   "cell_type": "code",
   "execution_count": 26,
   "id": "0d41898a",
   "metadata": {},
   "outputs": [
    {
     "data": {
      "text/plain": [
       "array([0. , 0. , 1. , 0. , 0. , 0. , 3.1])"
      ]
     },
     "execution_count": 26,
     "metadata": {},
     "output_type": "execute_result"
    }
   ],
   "source": [
    "template.parameters"
   ]
  },
  {
   "cell_type": "markdown",
   "id": "5199c94e",
   "metadata": {},
   "source": [
    "or with parameter set to that of a target "
   ]
  },
  {
   "cell_type": "code",
   "execution_count": 27,
   "id": "5f39042f",
   "metadata": {},
   "outputs": [
    {
     "data": {
      "text/plain": [
       "array([ 1.73500000e-01,  5.68250272e+04,  7.89874808e-05, -9.50000000e-01,\n",
       "        7.00000000e-02,  0.00000000e+00,  3.10000000e+00])"
      ]
     },
     "execution_count": 27,
     "metadata": {},
     "output_type": "execute_result"
    }
   ],
   "source": [
    "template_target9 = snia.get_template(index=9) \n",
    "template_target9.parameters"
   ]
  },
  {
   "cell_type": "markdown",
   "id": "3fecddde",
   "metadata": {},
   "source": [
    "or affecting parameters"
   ]
  },
  {
   "cell_type": "code",
   "execution_count": 28,
   "id": "5b42ec47",
   "metadata": {},
   "outputs": [
    {
     "data": {
      "text/plain": [
       "array([ 1.73500000e-01,  5.68250272e+04,  7.89874808e-05, -5.00000000e+00,\n",
       "        7.00000000e-02,  0.00000000e+00,  3.10000000e+00])"
      ]
     },
     "execution_count": 28,
     "metadata": {},
     "output_type": "execute_result"
    }
   ],
   "source": [
    "template_target9 = snia.get_template(index=9, x1=-5) \n",
    "template_target9.parameters"
   ]
  },
  {
   "cell_type": "markdown",
   "id": "7a347944",
   "metadata": {},
   "source": [
    "***"
   ]
  }
 ],
 "metadata": {
  "kernelspec": {
   "display_name": "Python 3 (ipykernel)",
   "language": "python",
   "name": "python3"
  },
  "language_info": {
   "codemirror_mode": {
    "name": "ipython",
    "version": 3
   },
   "file_extension": ".py",
   "mimetype": "text/x-python",
   "name": "python",
   "nbconvert_exporter": "python",
   "pygments_lexer": "ipython3",
   "version": "3.9.13"
  }
 },
 "nbformat": 4,
 "nbformat_minor": 5
}
