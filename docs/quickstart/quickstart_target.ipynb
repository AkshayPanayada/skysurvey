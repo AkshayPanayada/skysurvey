{
 "cells": [
  {
   "cell_type": "markdown",
   "id": "b60ec1f5",
   "metadata": {},
   "source": [
    "# Transients\n",
    "\n",
    "\n",
    "The `Transient` object has a **rate**, a **template** and a **model**.\n",
    "\n",
    "- The **rate** informs on how many target we expect to have in nature for a redshift range. *This is a float*\n",
    "\n",
    "- The **model** specifies how the template parameters are drawn. *This is a dict.*\n",
    "\n",
    "- The **template** provides the spectro-photometric time serie of the transient given input parameters. *This is based on sncosmo.Model*\n",
    "\n",
    "The first two enables you to draw a sample of transients as given by nature. This last one is needed only if you want to get the transient lightcurves (hence, notably, when you create a dataset). \n",
    "\n",
    "Two sets of transient have already been implemented:\n",
    "- SNeIa (based on salt2 or salt3)\n",
    "- A generic Transient associated to any single sncosmo.TimeSerieSource (see the list [here](https://sncosmo.readthedocs.io/en/stable/source-list.html))"
   ]
  },
  {
   "cell_type": "markdown",
   "id": "a1ab19d6",
   "metadata": {},
   "source": [
    "## SNeIa and \"v19-2010al (a type IIb)\" Examples"
   ]
  },
  {
   "cell_type": "code",
   "execution_count": 1,
   "id": "3dcbaca7",
   "metadata": {},
   "outputs": [],
   "source": [
    "from skysurvey import target"
   ]
  },
  {
   "cell_type": "markdown",
   "id": "87b6af94",
   "metadata": {},
   "source": [
    "Let's start with Type Ia Supernovae.\n",
    "\n",
    "The **SNeIa** Transient is already defined and ready to use. "
   ]
  },
  {
   "cell_type": "code",
   "execution_count": 2,
   "id": "5e6aa32a",
   "metadata": {},
   "outputs": [],
   "source": [
    "snia = target.SNeIa()"
   ]
  },
  {
   "cell_type": "markdown",
   "id": "587100e9",
   "metadata": {},
   "source": [
    "### template, rate and model\n",
    "\n",
    "**The following methods and attribute are commun to all transients ; sneia here is just an example**"
   ]
  },
  {
   "cell_type": "markdown",
   "id": "1887ac38",
   "metadata": {},
   "source": [
    "#### template\n",
    "the `template` (skysurvey object) is stored here"
   ]
  },
  {
   "cell_type": "code",
   "execution_count": 3,
   "id": "1c413f80",
   "metadata": {},
   "outputs": [
    {
     "data": {
      "text/plain": [
       "<skysurvey.template.Template at 0x1120995e0>"
      ]
     },
     "execution_count": 3,
     "metadata": {},
     "output_type": "execute_result"
    }
   ],
   "source": [
    "snia.template"
   ]
  },
  {
   "cell_type": "markdown",
   "id": "6c16c1db",
   "metadata": {},
   "source": [
    "and it's main attibute is the sncosmo_model up on which the template methods are built"
   ]
  },
  {
   "cell_type": "code",
   "execution_count": 4,
   "id": "81afc6ef",
   "metadata": {},
   "outputs": [
    {
     "data": {
      "text/plain": [
       "<sncosmo.models.Model at 0x296b09580>"
      ]
     },
     "execution_count": 4,
     "metadata": {},
     "output_type": "execute_result"
    }
   ],
   "source": [
    "snia.template.sncosmo_model"
   ]
  },
  {
   "cell_type": "code",
   "execution_count": 5,
   "id": "9f0ede72",
   "metadata": {},
   "outputs": [
    {
     "data": {
      "text/plain": [
       "<SALT2Source 'salt2' version='T23' at 0x11207d040>"
      ]
     },
     "execution_count": 5,
     "metadata": {},
     "output_type": "execute_result"
    }
   ],
   "source": [
    "snia.template.source # short cut to snia.template.sncosmo_model.source"
   ]
  },
  {
   "cell_type": "markdown",
   "id": "6fb5bc99",
   "metadata": {},
   "source": [
    "the template parameters are here (shortcut to `snia.template.parameters`)"
   ]
  },
  {
   "cell_type": "code",
   "execution_count": 6,
   "id": "fcbf1987",
   "metadata": {},
   "outputs": [
    {
     "data": {
      "text/plain": [
       "['z', 't0', 'x0', 'x1', 'c', 'mwebv', 'mwr_v']"
      ]
     },
     "execution_count": 6,
     "metadata": {},
     "output_type": "execute_result"
    }
   ],
   "source": [
    "snia.template_parameters # short"
   ]
  },
  {
   "cell_type": "markdown",
   "id": "26165cd7",
   "metadata": {},
   "source": [
    "#### rate\n",
    "\n",
    "Transient have the volume_rate parameter that provide the number of transient expected per year and per $Gpc^3$"
   ]
  },
  {
   "cell_type": "code",
   "execution_count": 7,
   "id": "9b71cbfe",
   "metadata": {},
   "outputs": [
    {
     "data": {
      "text/plain": [
       "23500.0"
      ]
     },
     "execution_count": 7,
     "metadata": {},
     "output_type": "execute_result"
    }
   ],
   "source": [
    "snia.rate # in target/Gpc^3/year"
   ]
  },
  {
   "cell_type": "markdown",
   "id": "afb0367a",
   "metadata": {},
   "source": [
    "To get the number of expected transient in a redshift shell (full sky volume)  use `get_rate(z)`."
   ]
  },
  {
   "cell_type": "code",
   "execution_count": 8,
   "id": "fea5fa38",
   "metadata": {},
   "outputs": [
    {
     "data": {
      "text/plain": [
       "7967.328115462927"
      ]
     },
     "execution_count": 8,
     "metadata": {},
     "output_type": "execute_result"
    }
   ],
   "source": [
    "snia.get_rate(0.1) # Nature should provide ~8000 SNeIa (full sky) up to z=0.1"
   ]
  },
  {
   "cell_type": "markdown",
   "id": "d5c772b0",
   "metadata": {},
   "source": [
    "#### model\n",
    "\n",
    "The model is the core of what defines a transient. It provides how the template parameters are generated"
   ]
  },
  {
   "cell_type": "code",
   "execution_count": 9,
   "id": "bed137ac",
   "metadata": {},
   "outputs": [
    {
     "name": "stdout",
     "output_type": "stream",
     "text": [
      "{'c': {'func': <function SNeIaColor.intrinsic_and_dust at 0x295bd2d30>},\n",
      " 'magabs': {'func': <function SNeIaMagnitude.tripp1998 at 0x296afec10>,\n",
      "            'kwargs': {'c': '@c', 'mabs': -19.3, 'sigmaint': 0.1, 'x1': '@x1'}},\n",
      " 'magobs': {'func': 'magabs_to_magobs',\n",
      "            'kwargs': {'magabs': '@magabs', 'z': '@z'}},\n",
      " 'radec': {'as': ['ra', 'dec'],\n",
      "           'func': <function random_radec at 0x295bce040>,\n",
      "           'kwargs': {}},\n",
      " 'redshift': {'as': 'z', 'kwargs': {'zmax': 0.2}},\n",
      " 't0': {'func': <built-in method uniform of numpy.random.mtrand.RandomState object at 0x1126b1640>,\n",
      "        'kwargs': {'high': 57000, 'low': 56000}},\n",
      " 'x0': {'func': 'magobs_to_amplitude',\n",
      "        'kwargs': {'magobs': '@magobs', 'param_name': 'x0'}},\n",
      " 'x1': {'func': <function SNeIaStretch.nicolas2021 at 0x296afeb80>}}\n"
     ]
    }
   ],
   "source": [
    "from pprint import pprint\n",
    "pprint(snia.model.model)"
   ]
  },
  {
   "cell_type": "markdown",
   "id": "2e0ed2b3",
   "metadata": {},
   "source": [
    "See details below"
   ]
  },
  {
   "cell_type": "markdown",
   "id": "0f478941",
   "metadata": {},
   "source": [
    "## Draw a sample (as given by nature)"
   ]
  },
  {
   "cell_type": "markdown",
   "id": "c7a2aab8",
   "metadata": {},
   "source": [
    "You can then draw as many SNeIa as you want. The parameters will be drawn following the transient's model (see below).\n",
    "These are SNeIa as given by nature following this model."
   ]
  },
  {
   "cell_type": "code",
   "execution_count": 10,
   "id": "3a2f61f7",
   "metadata": {},
   "outputs": [
    {
     "name": "stdout",
     "output_type": "stream",
     "text": [
      "CPU times: user 115 ms, sys: 17.7 ms, total: 133 ms\n",
      "Wall time: 134 ms\n"
     ]
    }
   ],
   "source": [
    "%%time\n",
    "data = snia.draw(size=10_000)"
   ]
  },
  {
   "cell_type": "code",
   "execution_count": 11,
   "id": "5be5715b",
   "metadata": {},
   "outputs": [
    {
     "data": {
      "text/html": [
       "<div>\n",
       "<style scoped>\n",
       "    .dataframe tbody tr th:only-of-type {\n",
       "        vertical-align: middle;\n",
       "    }\n",
       "\n",
       "    .dataframe tbody tr th {\n",
       "        vertical-align: top;\n",
       "    }\n",
       "\n",
       "    .dataframe thead th {\n",
       "        text-align: right;\n",
       "    }\n",
       "</style>\n",
       "<table border=\"1\" class=\"dataframe\">\n",
       "  <thead>\n",
       "    <tr style=\"text-align: right;\">\n",
       "      <th></th>\n",
       "      <th>z</th>\n",
       "      <th>x1</th>\n",
       "      <th>c</th>\n",
       "      <th>t0</th>\n",
       "      <th>magabs</th>\n",
       "      <th>magobs</th>\n",
       "      <th>x0</th>\n",
       "      <th>ra</th>\n",
       "      <th>dec</th>\n",
       "      <th>template</th>\n",
       "    </tr>\n",
       "  </thead>\n",
       "  <tbody>\n",
       "    <tr>\n",
       "      <th>0</th>\n",
       "      <td>0.1385</td>\n",
       "      <td>0.60</td>\n",
       "      <td>0.09</td>\n",
       "      <td>56917.953125</td>\n",
       "      <td>-19.130926</td>\n",
       "      <td>20.017431</td>\n",
       "      <td>0.000156</td>\n",
       "      <td>67.501099</td>\n",
       "      <td>-11.532154</td>\n",
       "      <td>salt2</td>\n",
       "    </tr>\n",
       "    <tr>\n",
       "      <th>1</th>\n",
       "      <td>0.1515</td>\n",
       "      <td>1.20</td>\n",
       "      <td>0.06</td>\n",
       "      <td>56320.636719</td>\n",
       "      <td>-19.215258</td>\n",
       "      <td>20.145458</td>\n",
       "      <td>0.000139</td>\n",
       "      <td>12.129058</td>\n",
       "      <td>-33.770027</td>\n",
       "      <td>salt2</td>\n",
       "    </tr>\n",
       "    <tr>\n",
       "      <th>2</th>\n",
       "      <td>0.1185</td>\n",
       "      <td>-2.35</td>\n",
       "      <td>-0.04</td>\n",
       "      <td>56031.769531</td>\n",
       "      <td>-19.115740</td>\n",
       "      <td>19.666334</td>\n",
       "      <td>0.000216</td>\n",
       "      <td>117.503075</td>\n",
       "      <td>-13.425183</td>\n",
       "      <td>salt2</td>\n",
       "    </tr>\n",
       "    <tr>\n",
       "      <th>3</th>\n",
       "      <td>0.0615</td>\n",
       "      <td>-0.45</td>\n",
       "      <td>-0.10</td>\n",
       "      <td>56144.199219</td>\n",
       "      <td>-19.625532</td>\n",
       "      <td>17.649136</td>\n",
       "      <td>0.001384</td>\n",
       "      <td>266.782227</td>\n",
       "      <td>-47.605217</td>\n",
       "      <td>salt2</td>\n",
       "    </tr>\n",
       "    <tr>\n",
       "      <th>4</th>\n",
       "      <td>0.1875</td>\n",
       "      <td>-1.15</td>\n",
       "      <td>-0.03</td>\n",
       "      <td>56664.691406</td>\n",
       "      <td>-19.141052</td>\n",
       "      <td>20.729567</td>\n",
       "      <td>0.000081</td>\n",
       "      <td>144.966263</td>\n",
       "      <td>-23.637278</td>\n",
       "      <td>salt2</td>\n",
       "    </tr>\n",
       "    <tr>\n",
       "      <th>...</th>\n",
       "      <td>...</td>\n",
       "      <td>...</td>\n",
       "      <td>...</td>\n",
       "      <td>...</td>\n",
       "      <td>...</td>\n",
       "      <td>...</td>\n",
       "      <td>...</td>\n",
       "      <td>...</td>\n",
       "      <td>...</td>\n",
       "      <td>...</td>\n",
       "    </tr>\n",
       "    <tr>\n",
       "      <th>9995</th>\n",
       "      <td>0.1405</td>\n",
       "      <td>-1.40</td>\n",
       "      <td>0.18</td>\n",
       "      <td>56438.902344</td>\n",
       "      <td>-18.498955</td>\n",
       "      <td>20.683254</td>\n",
       "      <td>0.000085</td>\n",
       "      <td>47.818192</td>\n",
       "      <td>35.328377</td>\n",
       "      <td>salt2</td>\n",
       "    </tr>\n",
       "    <tr>\n",
       "      <th>9996</th>\n",
       "      <td>0.1955</td>\n",
       "      <td>-0.15</td>\n",
       "      <td>0.30</td>\n",
       "      <td>56277.406250</td>\n",
       "      <td>-18.416636</td>\n",
       "      <td>21.554834</td>\n",
       "      <td>0.000038</td>\n",
       "      <td>322.721100</td>\n",
       "      <td>54.698456</td>\n",
       "      <td>salt2</td>\n",
       "    </tr>\n",
       "    <tr>\n",
       "      <th>9997</th>\n",
       "      <td>0.0845</td>\n",
       "      <td>-0.25</td>\n",
       "      <td>0.04</td>\n",
       "      <td>56295.972656</td>\n",
       "      <td>-19.032679</td>\n",
       "      <td>18.966286</td>\n",
       "      <td>0.000411</td>\n",
       "      <td>79.096992</td>\n",
       "      <td>-27.123032</td>\n",
       "      <td>salt2</td>\n",
       "    </tr>\n",
       "    <tr>\n",
       "      <th>9998</th>\n",
       "      <td>0.1785</td>\n",
       "      <td>-0.20</td>\n",
       "      <td>0.09</td>\n",
       "      <td>56055.734375</td>\n",
       "      <td>-19.010252</td>\n",
       "      <td>20.742029</td>\n",
       "      <td>0.000080</td>\n",
       "      <td>285.771118</td>\n",
       "      <td>-35.647335</td>\n",
       "      <td>salt2</td>\n",
       "    </tr>\n",
       "    <tr>\n",
       "      <th>9999</th>\n",
       "      <td>0.1505</td>\n",
       "      <td>0.35</td>\n",
       "      <td>-0.04</td>\n",
       "      <td>56912.671875</td>\n",
       "      <td>-19.536039</td>\n",
       "      <td>19.808956</td>\n",
       "      <td>0.000189</td>\n",
       "      <td>4.763297</td>\n",
       "      <td>22.162928</td>\n",
       "      <td>salt2</td>\n",
       "    </tr>\n",
       "  </tbody>\n",
       "</table>\n",
       "<p>10000 rows × 10 columns</p>\n",
       "</div>"
      ],
      "text/plain": [
       "           z    x1     c            t0     magabs     magobs        x0  \\\n",
       "0     0.1385  0.60  0.09  56917.953125 -19.130926  20.017431  0.000156   \n",
       "1     0.1515  1.20  0.06  56320.636719 -19.215258  20.145458  0.000139   \n",
       "2     0.1185 -2.35 -0.04  56031.769531 -19.115740  19.666334  0.000216   \n",
       "3     0.0615 -0.45 -0.10  56144.199219 -19.625532  17.649136  0.001384   \n",
       "4     0.1875 -1.15 -0.03  56664.691406 -19.141052  20.729567  0.000081   \n",
       "...      ...   ...   ...           ...        ...        ...       ...   \n",
       "9995  0.1405 -1.40  0.18  56438.902344 -18.498955  20.683254  0.000085   \n",
       "9996  0.1955 -0.15  0.30  56277.406250 -18.416636  21.554834  0.000038   \n",
       "9997  0.0845 -0.25  0.04  56295.972656 -19.032679  18.966286  0.000411   \n",
       "9998  0.1785 -0.20  0.09  56055.734375 -19.010252  20.742029  0.000080   \n",
       "9999  0.1505  0.35 -0.04  56912.671875 -19.536039  19.808956  0.000189   \n",
       "\n",
       "              ra        dec template  \n",
       "0      67.501099 -11.532154    salt2  \n",
       "1      12.129058 -33.770027    salt2  \n",
       "2     117.503075 -13.425183    salt2  \n",
       "3     266.782227 -47.605217    salt2  \n",
       "4     144.966263 -23.637278    salt2  \n",
       "...          ...        ...      ...  \n",
       "9995   47.818192  35.328377    salt2  \n",
       "9996  322.721100  54.698456    salt2  \n",
       "9997   79.096992 -27.123032    salt2  \n",
       "9998  285.771118 -35.647335    salt2  \n",
       "9999    4.763297  22.162928    salt2  \n",
       "\n",
       "[10000 rows x 10 columns]"
      ]
     },
     "execution_count": 11,
     "metadata": {},
     "output_type": "execute_result"
    }
   ],
   "source": [
    "data # another copy is stored as snia.data"
   ]
  },
  {
   "cell_type": "code",
   "execution_count": 12,
   "id": "310ea5b2",
   "metadata": {},
   "outputs": [
    {
     "data": {
      "text/html": [
       "<div>\n",
       "<style scoped>\n",
       "    .dataframe tbody tr th:only-of-type {\n",
       "        vertical-align: middle;\n",
       "    }\n",
       "\n",
       "    .dataframe tbody tr th {\n",
       "        vertical-align: top;\n",
       "    }\n",
       "\n",
       "    .dataframe thead th {\n",
       "        text-align: right;\n",
       "    }\n",
       "</style>\n",
       "<table border=\"1\" class=\"dataframe\">\n",
       "  <thead>\n",
       "    <tr style=\"text-align: right;\">\n",
       "      <th></th>\n",
       "      <th>z</th>\n",
       "      <th>x1</th>\n",
       "      <th>c</th>\n",
       "      <th>t0</th>\n",
       "      <th>magabs</th>\n",
       "      <th>magobs</th>\n",
       "      <th>x0</th>\n",
       "      <th>ra</th>\n",
       "      <th>dec</th>\n",
       "      <th>template</th>\n",
       "    </tr>\n",
       "  </thead>\n",
       "  <tbody>\n",
       "    <tr>\n",
       "      <th>0</th>\n",
       "      <td>0.1385</td>\n",
       "      <td>0.60</td>\n",
       "      <td>0.09</td>\n",
       "      <td>56917.953125</td>\n",
       "      <td>-19.130926</td>\n",
       "      <td>20.017431</td>\n",
       "      <td>0.000156</td>\n",
       "      <td>67.501099</td>\n",
       "      <td>-11.532154</td>\n",
       "      <td>salt2</td>\n",
       "    </tr>\n",
       "    <tr>\n",
       "      <th>1</th>\n",
       "      <td>0.1515</td>\n",
       "      <td>1.20</td>\n",
       "      <td>0.06</td>\n",
       "      <td>56320.636719</td>\n",
       "      <td>-19.215258</td>\n",
       "      <td>20.145458</td>\n",
       "      <td>0.000139</td>\n",
       "      <td>12.129058</td>\n",
       "      <td>-33.770027</td>\n",
       "      <td>salt2</td>\n",
       "    </tr>\n",
       "    <tr>\n",
       "      <th>2</th>\n",
       "      <td>0.1185</td>\n",
       "      <td>-2.35</td>\n",
       "      <td>-0.04</td>\n",
       "      <td>56031.769531</td>\n",
       "      <td>-19.115740</td>\n",
       "      <td>19.666334</td>\n",
       "      <td>0.000216</td>\n",
       "      <td>117.503075</td>\n",
       "      <td>-13.425183</td>\n",
       "      <td>salt2</td>\n",
       "    </tr>\n",
       "    <tr>\n",
       "      <th>3</th>\n",
       "      <td>0.0615</td>\n",
       "      <td>-0.45</td>\n",
       "      <td>-0.10</td>\n",
       "      <td>56144.199219</td>\n",
       "      <td>-19.625532</td>\n",
       "      <td>17.649136</td>\n",
       "      <td>0.001384</td>\n",
       "      <td>266.782227</td>\n",
       "      <td>-47.605217</td>\n",
       "      <td>salt2</td>\n",
       "    </tr>\n",
       "    <tr>\n",
       "      <th>4</th>\n",
       "      <td>0.1875</td>\n",
       "      <td>-1.15</td>\n",
       "      <td>-0.03</td>\n",
       "      <td>56664.691406</td>\n",
       "      <td>-19.141052</td>\n",
       "      <td>20.729567</td>\n",
       "      <td>0.000081</td>\n",
       "      <td>144.966263</td>\n",
       "      <td>-23.637278</td>\n",
       "      <td>salt2</td>\n",
       "    </tr>\n",
       "    <tr>\n",
       "      <th>...</th>\n",
       "      <td>...</td>\n",
       "      <td>...</td>\n",
       "      <td>...</td>\n",
       "      <td>...</td>\n",
       "      <td>...</td>\n",
       "      <td>...</td>\n",
       "      <td>...</td>\n",
       "      <td>...</td>\n",
       "      <td>...</td>\n",
       "      <td>...</td>\n",
       "    </tr>\n",
       "    <tr>\n",
       "      <th>9995</th>\n",
       "      <td>0.1405</td>\n",
       "      <td>-1.40</td>\n",
       "      <td>0.18</td>\n",
       "      <td>56438.902344</td>\n",
       "      <td>-18.498955</td>\n",
       "      <td>20.683254</td>\n",
       "      <td>0.000085</td>\n",
       "      <td>47.818192</td>\n",
       "      <td>35.328377</td>\n",
       "      <td>salt2</td>\n",
       "    </tr>\n",
       "    <tr>\n",
       "      <th>9996</th>\n",
       "      <td>0.1955</td>\n",
       "      <td>-0.15</td>\n",
       "      <td>0.30</td>\n",
       "      <td>56277.406250</td>\n",
       "      <td>-18.416636</td>\n",
       "      <td>21.554834</td>\n",
       "      <td>0.000038</td>\n",
       "      <td>322.721100</td>\n",
       "      <td>54.698456</td>\n",
       "      <td>salt2</td>\n",
       "    </tr>\n",
       "    <tr>\n",
       "      <th>9997</th>\n",
       "      <td>0.0845</td>\n",
       "      <td>-0.25</td>\n",
       "      <td>0.04</td>\n",
       "      <td>56295.972656</td>\n",
       "      <td>-19.032679</td>\n",
       "      <td>18.966286</td>\n",
       "      <td>0.000411</td>\n",
       "      <td>79.096992</td>\n",
       "      <td>-27.123032</td>\n",
       "      <td>salt2</td>\n",
       "    </tr>\n",
       "    <tr>\n",
       "      <th>9998</th>\n",
       "      <td>0.1785</td>\n",
       "      <td>-0.20</td>\n",
       "      <td>0.09</td>\n",
       "      <td>56055.734375</td>\n",
       "      <td>-19.010252</td>\n",
       "      <td>20.742029</td>\n",
       "      <td>0.000080</td>\n",
       "      <td>285.771118</td>\n",
       "      <td>-35.647335</td>\n",
       "      <td>salt2</td>\n",
       "    </tr>\n",
       "    <tr>\n",
       "      <th>9999</th>\n",
       "      <td>0.1505</td>\n",
       "      <td>0.35</td>\n",
       "      <td>-0.04</td>\n",
       "      <td>56912.671875</td>\n",
       "      <td>-19.536039</td>\n",
       "      <td>19.808956</td>\n",
       "      <td>0.000189</td>\n",
       "      <td>4.763297</td>\n",
       "      <td>22.162928</td>\n",
       "      <td>salt2</td>\n",
       "    </tr>\n",
       "  </tbody>\n",
       "</table>\n",
       "<p>10000 rows × 10 columns</p>\n",
       "</div>"
      ],
      "text/plain": [
       "           z    x1     c            t0     magabs     magobs        x0  \\\n",
       "0     0.1385  0.60  0.09  56917.953125 -19.130926  20.017431  0.000156   \n",
       "1     0.1515  1.20  0.06  56320.636719 -19.215258  20.145458  0.000139   \n",
       "2     0.1185 -2.35 -0.04  56031.769531 -19.115740  19.666334  0.000216   \n",
       "3     0.0615 -0.45 -0.10  56144.199219 -19.625532  17.649136  0.001384   \n",
       "4     0.1875 -1.15 -0.03  56664.691406 -19.141052  20.729567  0.000081   \n",
       "...      ...   ...   ...           ...        ...        ...       ...   \n",
       "9995  0.1405 -1.40  0.18  56438.902344 -18.498955  20.683254  0.000085   \n",
       "9996  0.1955 -0.15  0.30  56277.406250 -18.416636  21.554834  0.000038   \n",
       "9997  0.0845 -0.25  0.04  56295.972656 -19.032679  18.966286  0.000411   \n",
       "9998  0.1785 -0.20  0.09  56055.734375 -19.010252  20.742029  0.000080   \n",
       "9999  0.1505  0.35 -0.04  56912.671875 -19.536039  19.808956  0.000189   \n",
       "\n",
       "              ra        dec template  \n",
       "0      67.501099 -11.532154    salt2  \n",
       "1      12.129058 -33.770027    salt2  \n",
       "2     117.503075 -13.425183    salt2  \n",
       "3     266.782227 -47.605217    salt2  \n",
       "4     144.966263 -23.637278    salt2  \n",
       "...          ...        ...      ...  \n",
       "9995   47.818192  35.328377    salt2  \n",
       "9996  322.721100  54.698456    salt2  \n",
       "9997   79.096992 -27.123032    salt2  \n",
       "9998  285.771118 -35.647335    salt2  \n",
       "9999    4.763297  22.162928    salt2  \n",
       "\n",
       "[10000 rows x 10 columns]"
      ]
     },
     "execution_count": 12,
     "metadata": {},
     "output_type": "execute_result"
    }
   ],
   "source": [
    "snia.data"
   ]
  },
  {
   "cell_type": "markdown",
   "id": "e50717af",
   "metadata": {},
   "source": [
    "**Tip**: You can  directly use the ``from_draw()`` classmethod to load a transient instance already drawn."
   ]
  },
  {
   "cell_type": "code",
   "execution_count": 13,
   "id": "01717a75",
   "metadata": {},
   "outputs": [
    {
     "name": "stdout",
     "output_type": "stream",
     "text": [
      "CPU times: user 99.1 ms, sys: 3.58 ms, total: 103 ms\n",
      "Wall time: 102 ms\n"
     ]
    }
   ],
   "source": [
    "%%time\n",
    "snia = target.SNeIa.from_draw(10000)"
   ]
  },
  {
   "cell_type": "code",
   "execution_count": 14,
   "id": "94941134",
   "metadata": {},
   "outputs": [
    {
     "data": {
      "text/html": [
       "<div>\n",
       "<style scoped>\n",
       "    .dataframe tbody tr th:only-of-type {\n",
       "        vertical-align: middle;\n",
       "    }\n",
       "\n",
       "    .dataframe tbody tr th {\n",
       "        vertical-align: top;\n",
       "    }\n",
       "\n",
       "    .dataframe thead th {\n",
       "        text-align: right;\n",
       "    }\n",
       "</style>\n",
       "<table border=\"1\" class=\"dataframe\">\n",
       "  <thead>\n",
       "    <tr style=\"text-align: right;\">\n",
       "      <th></th>\n",
       "      <th>z</th>\n",
       "      <th>x1</th>\n",
       "      <th>c</th>\n",
       "      <th>t0</th>\n",
       "      <th>magabs</th>\n",
       "      <th>magobs</th>\n",
       "      <th>x0</th>\n",
       "      <th>ra</th>\n",
       "      <th>dec</th>\n",
       "      <th>template</th>\n",
       "    </tr>\n",
       "  </thead>\n",
       "  <tbody>\n",
       "    <tr>\n",
       "      <th>0</th>\n",
       "      <td>0.1505</td>\n",
       "      <td>-0.40</td>\n",
       "      <td>0.04</td>\n",
       "      <td>56667.253906</td>\n",
       "      <td>-18.967222</td>\n",
       "      <td>20.377773</td>\n",
       "      <td>0.000112</td>\n",
       "      <td>90.387794</td>\n",
       "      <td>13.310854</td>\n",
       "      <td>salt2</td>\n",
       "    </tr>\n",
       "    <tr>\n",
       "      <th>1</th>\n",
       "      <td>0.1935</td>\n",
       "      <td>0.75</td>\n",
       "      <td>0.22</td>\n",
       "      <td>56347.234375</td>\n",
       "      <td>-18.735058</td>\n",
       "      <td>21.211563</td>\n",
       "      <td>0.000052</td>\n",
       "      <td>37.970741</td>\n",
       "      <td>-73.442711</td>\n",
       "      <td>salt2</td>\n",
       "    </tr>\n",
       "    <tr>\n",
       "      <th>2</th>\n",
       "      <td>0.1545</td>\n",
       "      <td>-1.85</td>\n",
       "      <td>0.10</td>\n",
       "      <td>56729.726562</td>\n",
       "      <td>-18.854708</td>\n",
       "      <td>20.552591</td>\n",
       "      <td>0.000095</td>\n",
       "      <td>139.599106</td>\n",
       "      <td>41.827980</td>\n",
       "      <td>salt2</td>\n",
       "    </tr>\n",
       "    <tr>\n",
       "      <th>3</th>\n",
       "      <td>0.1785</td>\n",
       "      <td>0.70</td>\n",
       "      <td>-0.09</td>\n",
       "      <td>56920.230469</td>\n",
       "      <td>-19.833363</td>\n",
       "      <td>19.918921</td>\n",
       "      <td>0.000171</td>\n",
       "      <td>312.519440</td>\n",
       "      <td>-7.770288</td>\n",
       "      <td>salt2</td>\n",
       "    </tr>\n",
       "    <tr>\n",
       "      <th>4</th>\n",
       "      <td>0.1905</td>\n",
       "      <td>1.20</td>\n",
       "      <td>0.02</td>\n",
       "      <td>56931.113281</td>\n",
       "      <td>-19.431190</td>\n",
       "      <td>20.477709</td>\n",
       "      <td>0.000102</td>\n",
       "      <td>111.073120</td>\n",
       "      <td>-2.989614</td>\n",
       "      <td>salt2</td>\n",
       "    </tr>\n",
       "    <tr>\n",
       "      <th>...</th>\n",
       "      <td>...</td>\n",
       "      <td>...</td>\n",
       "      <td>...</td>\n",
       "      <td>...</td>\n",
       "      <td>...</td>\n",
       "      <td>...</td>\n",
       "      <td>...</td>\n",
       "      <td>...</td>\n",
       "      <td>...</td>\n",
       "      <td>...</td>\n",
       "    </tr>\n",
       "    <tr>\n",
       "      <th>9995</th>\n",
       "      <td>0.0465</td>\n",
       "      <td>0.10</td>\n",
       "      <td>-0.04</td>\n",
       "      <td>56500.570312</td>\n",
       "      <td>-19.486088</td>\n",
       "      <td>17.158415</td>\n",
       "      <td>0.002174</td>\n",
       "      <td>93.450493</td>\n",
       "      <td>-52.669216</td>\n",
       "      <td>salt2</td>\n",
       "    </tr>\n",
       "    <tr>\n",
       "      <th>9996</th>\n",
       "      <td>0.1645</td>\n",
       "      <td>-0.90</td>\n",
       "      <td>0.04</td>\n",
       "      <td>56890.207031</td>\n",
       "      <td>-19.007917</td>\n",
       "      <td>20.548794</td>\n",
       "      <td>0.000096</td>\n",
       "      <td>261.011719</td>\n",
       "      <td>-19.247023</td>\n",
       "      <td>salt2</td>\n",
       "    </tr>\n",
       "    <tr>\n",
       "      <th>9997</th>\n",
       "      <td>0.0855</td>\n",
       "      <td>-0.95</td>\n",
       "      <td>0.07</td>\n",
       "      <td>56478.925781</td>\n",
       "      <td>-18.875179</td>\n",
       "      <td>19.150803</td>\n",
       "      <td>0.000347</td>\n",
       "      <td>353.274628</td>\n",
       "      <td>69.558540</td>\n",
       "      <td>salt2</td>\n",
       "    </tr>\n",
       "    <tr>\n",
       "      <th>9998</th>\n",
       "      <td>0.1545</td>\n",
       "      <td>-1.95</td>\n",
       "      <td>-0.01</td>\n",
       "      <td>56110.308594</td>\n",
       "      <td>-19.199425</td>\n",
       "      <td>20.207874</td>\n",
       "      <td>0.000131</td>\n",
       "      <td>182.295303</td>\n",
       "      <td>-47.296940</td>\n",
       "      <td>salt2</td>\n",
       "    </tr>\n",
       "    <tr>\n",
       "      <th>9999</th>\n",
       "      <td>0.1435</td>\n",
       "      <td>-0.25</td>\n",
       "      <td>0.04</td>\n",
       "      <td>56444.687500</td>\n",
       "      <td>-19.047195</td>\n",
       "      <td>20.184958</td>\n",
       "      <td>0.000134</td>\n",
       "      <td>157.260132</td>\n",
       "      <td>-77.397354</td>\n",
       "      <td>salt2</td>\n",
       "    </tr>\n",
       "  </tbody>\n",
       "</table>\n",
       "<p>10000 rows × 10 columns</p>\n",
       "</div>"
      ],
      "text/plain": [
       "           z    x1     c            t0     magabs     magobs        x0  \\\n",
       "0     0.1505 -0.40  0.04  56667.253906 -18.967222  20.377773  0.000112   \n",
       "1     0.1935  0.75  0.22  56347.234375 -18.735058  21.211563  0.000052   \n",
       "2     0.1545 -1.85  0.10  56729.726562 -18.854708  20.552591  0.000095   \n",
       "3     0.1785  0.70 -0.09  56920.230469 -19.833363  19.918921  0.000171   \n",
       "4     0.1905  1.20  0.02  56931.113281 -19.431190  20.477709  0.000102   \n",
       "...      ...   ...   ...           ...        ...        ...       ...   \n",
       "9995  0.0465  0.10 -0.04  56500.570312 -19.486088  17.158415  0.002174   \n",
       "9996  0.1645 -0.90  0.04  56890.207031 -19.007917  20.548794  0.000096   \n",
       "9997  0.0855 -0.95  0.07  56478.925781 -18.875179  19.150803  0.000347   \n",
       "9998  0.1545 -1.95 -0.01  56110.308594 -19.199425  20.207874  0.000131   \n",
       "9999  0.1435 -0.25  0.04  56444.687500 -19.047195  20.184958  0.000134   \n",
       "\n",
       "              ra        dec template  \n",
       "0      90.387794  13.310854    salt2  \n",
       "1      37.970741 -73.442711    salt2  \n",
       "2     139.599106  41.827980    salt2  \n",
       "3     312.519440  -7.770288    salt2  \n",
       "4     111.073120  -2.989614    salt2  \n",
       "...          ...        ...      ...  \n",
       "9995   93.450493 -52.669216    salt2  \n",
       "9996  261.011719 -19.247023    salt2  \n",
       "9997  353.274628  69.558540    salt2  \n",
       "9998  182.295303 -47.296940    salt2  \n",
       "9999  157.260132 -77.397354    salt2  \n",
       "\n",
       "[10000 rows x 10 columns]"
      ]
     },
     "execution_count": 14,
     "metadata": {},
     "output_type": "execute_result"
    }
   ],
   "source": [
    "snia.data"
   ]
  },
  {
   "cell_type": "markdown",
   "id": "16eb1478",
   "metadata": {},
   "source": [
    "### TimeSerieTransient (TSTransient)\n",
    "\n",
    "**nothing is easier than loading any sncosmo TimeSerieSouce as a skysurvey Transient**\n",
    "\n",
    "Simply provide the source name in the `from_sncosmo_source()` method or directly in the `from_draw()`"
   ]
  },
  {
   "cell_type": "code",
   "execution_count": 15,
   "id": "d8b225b4",
   "metadata": {},
   "outputs": [],
   "source": [
    "snIIn = target.TSTransient.from_draw(\"v19-2010al\", 4000)"
   ]
  },
  {
   "cell_type": "code",
   "execution_count": 16,
   "id": "97a3e9cb",
   "metadata": {},
   "outputs": [
    {
     "data": {
      "text/html": [
       "<div>\n",
       "<style scoped>\n",
       "    .dataframe tbody tr th:only-of-type {\n",
       "        vertical-align: middle;\n",
       "    }\n",
       "\n",
       "    .dataframe tbody tr th {\n",
       "        vertical-align: top;\n",
       "    }\n",
       "\n",
       "    .dataframe thead th {\n",
       "        text-align: right;\n",
       "    }\n",
       "</style>\n",
       "<table border=\"1\" class=\"dataframe\">\n",
       "  <thead>\n",
       "    <tr style=\"text-align: right;\">\n",
       "      <th></th>\n",
       "      <th>z</th>\n",
       "      <th>t0</th>\n",
       "      <th>magabs</th>\n",
       "      <th>magobs</th>\n",
       "      <th>amplitude</th>\n",
       "      <th>ra</th>\n",
       "      <th>dec</th>\n",
       "      <th>template</th>\n",
       "    </tr>\n",
       "  </thead>\n",
       "  <tbody>\n",
       "    <tr>\n",
       "      <th>0</th>\n",
       "      <td>0.0465</td>\n",
       "      <td>56311.929688</td>\n",
       "      <td>-19.382195</td>\n",
       "      <td>17.262308</td>\n",
       "      <td>4.264600e-15</td>\n",
       "      <td>95.458984</td>\n",
       "      <td>6.760061</td>\n",
       "      <td>v19-2010al</td>\n",
       "    </tr>\n",
       "    <tr>\n",
       "      <th>1</th>\n",
       "      <td>0.0395</td>\n",
       "      <td>56301.433594</td>\n",
       "      <td>-16.008272</td>\n",
       "      <td>20.271017</td>\n",
       "      <td>2.669283e-16</td>\n",
       "      <td>61.552158</td>\n",
       "      <td>-50.611309</td>\n",
       "      <td>v19-2010al</td>\n",
       "    </tr>\n",
       "    <tr>\n",
       "      <th>2</th>\n",
       "      <td>0.0455</td>\n",
       "      <td>57070.136719</td>\n",
       "      <td>-18.486305</td>\n",
       "      <td>18.109434</td>\n",
       "      <td>1.954465e-15</td>\n",
       "      <td>197.597931</td>\n",
       "      <td>29.694471</td>\n",
       "      <td>v19-2010al</td>\n",
       "    </tr>\n",
       "    <tr>\n",
       "      <th>3</th>\n",
       "      <td>0.0315</td>\n",
       "      <td>56825.304688</td>\n",
       "      <td>-18.544020</td>\n",
       "      <td>17.231203</td>\n",
       "      <td>4.388542e-15</td>\n",
       "      <td>130.334106</td>\n",
       "      <td>8.848841</td>\n",
       "      <td>v19-2010al</td>\n",
       "    </tr>\n",
       "    <tr>\n",
       "      <th>4</th>\n",
       "      <td>0.0385</td>\n",
       "      <td>56409.214844</td>\n",
       "      <td>-17.917934</td>\n",
       "      <td>18.304100</td>\n",
       "      <td>1.633657e-15</td>\n",
       "      <td>153.461182</td>\n",
       "      <td>-46.729786</td>\n",
       "      <td>v19-2010al</td>\n",
       "    </tr>\n",
       "    <tr>\n",
       "      <th>...</th>\n",
       "      <td>...</td>\n",
       "      <td>...</td>\n",
       "      <td>...</td>\n",
       "      <td>...</td>\n",
       "      <td>...</td>\n",
       "      <td>...</td>\n",
       "      <td>...</td>\n",
       "      <td>...</td>\n",
       "    </tr>\n",
       "    <tr>\n",
       "      <th>3995</th>\n",
       "      <td>0.0315</td>\n",
       "      <td>57286.300781</td>\n",
       "      <td>-17.925217</td>\n",
       "      <td>17.850006</td>\n",
       "      <td>2.481983e-15</td>\n",
       "      <td>147.691101</td>\n",
       "      <td>-0.168470</td>\n",
       "      <td>v19-2010al</td>\n",
       "    </tr>\n",
       "    <tr>\n",
       "      <th>3996</th>\n",
       "      <td>0.0235</td>\n",
       "      <td>57431.730469</td>\n",
       "      <td>-16.863585</td>\n",
       "      <td>18.262640</td>\n",
       "      <td>1.697248e-15</td>\n",
       "      <td>165.409576</td>\n",
       "      <td>30.242409</td>\n",
       "      <td>v19-2010al</td>\n",
       "    </tr>\n",
       "    <tr>\n",
       "      <th>3997</th>\n",
       "      <td>0.0485</td>\n",
       "      <td>56632.093750</td>\n",
       "      <td>-17.848814</td>\n",
       "      <td>18.890236</td>\n",
       "      <td>9.521533e-16</td>\n",
       "      <td>226.569519</td>\n",
       "      <td>28.212824</td>\n",
       "      <td>v19-2010al</td>\n",
       "    </tr>\n",
       "    <tr>\n",
       "      <th>3998</th>\n",
       "      <td>0.0365</td>\n",
       "      <td>56873.453125</td>\n",
       "      <td>-18.326492</td>\n",
       "      <td>17.776556</td>\n",
       "      <td>2.655702e-15</td>\n",
       "      <td>265.223480</td>\n",
       "      <td>-24.742941</td>\n",
       "      <td>v19-2010al</td>\n",
       "    </tr>\n",
       "    <tr>\n",
       "      <th>3999</th>\n",
       "      <td>0.0275</td>\n",
       "      <td>57361.203125</td>\n",
       "      <td>-20.306345</td>\n",
       "      <td>15.167616</td>\n",
       "      <td>2.935993e-14</td>\n",
       "      <td>302.356171</td>\n",
       "      <td>33.507065</td>\n",
       "      <td>v19-2010al</td>\n",
       "    </tr>\n",
       "  </tbody>\n",
       "</table>\n",
       "<p>4000 rows × 8 columns</p>\n",
       "</div>"
      ],
      "text/plain": [
       "           z            t0     magabs     magobs     amplitude          ra  \\\n",
       "0     0.0465  56311.929688 -19.382195  17.262308  4.264600e-15   95.458984   \n",
       "1     0.0395  56301.433594 -16.008272  20.271017  2.669283e-16   61.552158   \n",
       "2     0.0455  57070.136719 -18.486305  18.109434  1.954465e-15  197.597931   \n",
       "3     0.0315  56825.304688 -18.544020  17.231203  4.388542e-15  130.334106   \n",
       "4     0.0385  56409.214844 -17.917934  18.304100  1.633657e-15  153.461182   \n",
       "...      ...           ...        ...        ...           ...         ...   \n",
       "3995  0.0315  57286.300781 -17.925217  17.850006  2.481983e-15  147.691101   \n",
       "3996  0.0235  57431.730469 -16.863585  18.262640  1.697248e-15  165.409576   \n",
       "3997  0.0485  56632.093750 -17.848814  18.890236  9.521533e-16  226.569519   \n",
       "3998  0.0365  56873.453125 -18.326492  17.776556  2.655702e-15  265.223480   \n",
       "3999  0.0275  57361.203125 -20.306345  15.167616  2.935993e-14  302.356171   \n",
       "\n",
       "            dec    template  \n",
       "0      6.760061  v19-2010al  \n",
       "1    -50.611309  v19-2010al  \n",
       "2     29.694471  v19-2010al  \n",
       "3      8.848841  v19-2010al  \n",
       "4    -46.729786  v19-2010al  \n",
       "...         ...         ...  \n",
       "3995  -0.168470  v19-2010al  \n",
       "3996  30.242409  v19-2010al  \n",
       "3997  28.212824  v19-2010al  \n",
       "3998 -24.742941  v19-2010al  \n",
       "3999  33.507065  v19-2010al  \n",
       "\n",
       "[4000 rows x 8 columns]"
      ]
     },
     "execution_count": 16,
     "metadata": {},
     "output_type": "execute_result"
    }
   ],
   "source": [
    "snIIn.data"
   ]
  },
  {
   "cell_type": "code",
   "execution_count": 17,
   "id": "c46f4622",
   "metadata": {},
   "outputs": [
    {
     "data": {
      "image/png": "[encoded data removed]",
      "text/plain": [
       "<Figure size 504x288 with 1 Axes>"
      ]
     },
     "metadata": {
      "needs_background": "light"
     },
     "output_type": "display_data"
    }
   ],
   "source": [
    "_ = snIIn.show_lightcurve([\"ztfg\",\"ztfr\"], index=50)"
   ]
  },
  {
   "cell_type": "markdown",
   "id": "990f3af4",
   "metadata": {},
   "source": [
    "***"
   ]
  },
  {
   "cell_type": "markdown",
   "id": "cafde1b8",
   "metadata": {},
   "source": [
    "## Model\n",
    "\n",
    "The ``data`` (list of transients) are generated following the **model**, stored as ``self.model``."
   ]
  },
  {
   "cell_type": "markdown",
   "id": "14df0350",
   "metadata": {},
   "source": [
    "**tip**: the transient model is display (better formated) when you print the object"
   ]
  },
  {
   "cell_type": "code",
   "execution_count": 18,
   "id": "15bc8ed1",
   "metadata": {},
   "outputs": [
    {
     "data": {
      "text/plain": [
       "{'redshift': {'kwargs': {'zmax': 0.2}, 'as': 'z'},\n",
       " 'x1': {'func': <function SNeIaStretch.nicolas2021 at 0x296afeb80>},\n",
       " 'c': {'func': <function SNeIaColor.intrinsic_and_dust at 0x295bd2d30>},\n",
       " 't0': {'func': <built-in method uniform of numpy.random.mtrand.RandomState object at 0x1126b1640>,\n",
       "        'kwargs': {'low': 56000, 'high': 57000}},\n",
       " 'magabs': {'func': <function SNeIaMagnitude.tripp1998 at 0x296afec10>,\n",
       "            'kwargs': {'x1': '@x1', 'c': '@c', 'mabs': -19.3, 'sigmaint': 0.1}},\n",
       " 'magobs': {'func': 'magabs_to_magobs',\n",
       "            'kwargs': {'z': '@z', 'magabs': '@magabs'}},\n",
       " 'x0': {'func': 'magobs_to_amplitude',\n",
       "        'kwargs': {'magobs': '@magobs', 'param_name': 'x0'}},\n",
       " 'radec': {'func': <function random_radec at 0x295bce040>,\n",
       "           'kwargs': {},\n",
       "           'as': ['ra', 'dec']}}"
      ]
     },
     "execution_count": 18,
     "metadata": {},
     "output_type": "execute_result"
    }
   ],
   "source": [
    "snia"
   ]
  },
  {
   "cell_type": "markdown",
   "id": "8a098043",
   "metadata": {},
   "source": [
    "#### How does **model** works\n",
    "\n",
    "It is based on the [modeldag](https://github.com/MickaelRigault/modeldag) package.\n",
    "\n",
    "To generate ``data``, the code reads **model** line-by-line and follows the instructions it contains. \n",
    "\n",
    "In this SNeIa example, **model** contains 8 entries. So the generated ``data`` will contains at least 8 columns (see the *as* option).\n",
    "\n",
    "A **model** entry accepts 3 keywords:\n",
    "  1. *func*: (name of) the function used to draw the sample, e.g. np.random.uniform ;\n",
    "  2. *kwargs*: options that enter the function as kwargs. Use ``a='@key'`` to use the result of a previously drawn 'key' as `'a'` input entering func ;\n",
    "  3. *as*: (list of) name(s) of the column on the resulting ``data`` ;\n",
    "\n",
    "#### \"@\" in \"kwargs\" to form a \"DAG\"\n",
    "The *@* trick in kwargs  enables you to generate self-consistent parameters.\n",
    "\n",
    "For instance, the absolute magnitude of a SNeIa depends on its stretch and color (following the ``alpha*x_1 - beta*c `` Tripp's relation). Hence, once the ``x_1``and ``c`` (independent) variables have been drawn, the SNeIa absolute magnitude (``magabs``) can be obtained using as input the already drawn ``x_1`` and ``c`` parameters. Same goes for the observed magnitude, it only dependents on the absolute magnitude ``magabs`` and the redshift ``z``. \n",
    "\n",
    "The (potentially complex) connections between the variables enabled by using *@key* (e.g. ``@c``) corresponds to the creation a [Directed acyclic graph](https://en.wikipedia.org/wiki/Directed_acyclic_graph).\n",
    "You can complexify as you which your **model** creating as many variables and intermediate variables as you want.\n",
    "\n",
    "#### the *func* option, where to define the function\n",
    "\n",
    "The *func* option is the function that will be used to generate the dataset. In principle, it should accept ``size`` as parameters and return N=size values except if a \"@\" is used in input (for its size is alreadyu defined by the initial called key)\n",
    "\n",
    "In your **model**, the *func* option can be a function or a string. \n",
    " - a function will be used as such\n",
    " - a string will be converted in function, it typically means you input a method of the class ; though more advanced tools exist, see \"Build a new Model\" documentation."
   ]
  },
  {
   "cell_type": "markdown",
   "id": "7e3ff6c3",
   "metadata": {},
   "source": [
    "## Plotting\n",
    "\n",
    "Show a given lightcurve in any band known by sncosmo, for instance here that on the snia index 9 ``snia.data.loc[9]``\n",
    "\n",
    "### Lightcurve "
   ]
  },
  {
   "cell_type": "code",
   "execution_count": 19,
   "id": "834948cf",
   "metadata": {
    "scrolled": false
   },
   "outputs": [
    {
     "data": {
      "image/png": "[encoded data removed]",
      "text/plain": [
       "<Figure size 504x288 with 1 Axes>"
      ]
     },
     "metadata": {
      "needs_background": "light"
     },
     "output_type": "display_data"
    }
   ],
   "source": [
    "band = [\"ztfr\",\"ztfg\"]\n",
    "fig = snia.show_lightcurve(band, index=9, in_mag=True)"
   ]
  },
  {
   "cell_type": "markdown",
   "id": "c075f180",
   "metadata": {},
   "source": [
    "### Parameters (visualize the relation created by self.model)\n",
    "\n",
    "You can also show the scatter between any parameters. The parameter correlations have handle by your `model`"
   ]
  },
  {
   "cell_type": "code",
   "execution_count": 20,
   "id": "3c8c7e65",
   "metadata": {
    "scrolled": false
   },
   "outputs": [
    {
     "data": {
      "image/png": "[encoded data removed]",
      "text/plain": [
       "<Figure size 504x288 with 2 Axes>"
      ]
     },
     "metadata": {
      "needs_background": "light"
     },
     "output_type": "display_data"
    }
   ],
   "source": [
    "fig = snia.show_scatter(\"z\", \"magobs\", ckey=\"x1\") \n",
    "ax = fig.axes[0]\n",
    "\n",
    "_ = ax.set_ylabel(\"observed magnitude\")\n",
    "_ = ax.set_xlabel(\"redshift\")"
   ]
  },
  {
   "cell_type": "code",
   "execution_count": 21,
   "id": "b3e0cfbb",
   "metadata": {},
   "outputs": [
    {
     "data": {
      "image/png": "[encoded data removed]",
      "text/plain": [
       "<Figure size 648x216 with 4 Axes>"
      ]
     },
     "metadata": {
      "needs_background": "light"
     },
     "output_type": "display_data"
    }
   ],
   "source": [
    "import matplotlib.pyplot as plt\n",
    "fig = plt.figure(figsize=[9,3])\n",
    "ax1 = fig.add_subplot(121)\n",
    "ax2 = fig.add_subplot(122)\n",
    "\n",
    "_ = snia.show_scatter(\"x1\", \"magabs\", ckey=\"c\", ax=ax1) \n",
    "_ = snia.show_scatter(\"c\", \"magabs\", ckey=\"x1\", ax=ax2) \n",
    "\n",
    "_ = ax1.set_ylabel(\"absolute magnitude\")\n",
    "_ = ax1.set_xlabel(fr\"Stretch ($x_1$)\")\n",
    "_ = ax2.set_xlabel(fr\"Color ($c$)\")"
   ]
  },
  {
   "cell_type": "markdown",
   "id": "b0f911a5",
   "metadata": {},
   "source": [
    "## Getter\n",
    "\n",
    "You have several pre-defined method to access parameters or the template directly"
   ]
  },
  {
   "cell_type": "markdown",
   "id": "98b61027",
   "metadata": {},
   "source": [
    "### template parameters\n",
    "\n",
    "the `get_template_parameters` method enbales you to get the subpart of ``data`` that corresponds to actual template (sncosmo.Model) parameters"
   ]
  },
  {
   "cell_type": "code",
   "execution_count": 22,
   "id": "207b8213",
   "metadata": {},
   "outputs": [
    {
     "data": {
      "text/html": [
       "<div>\n",
       "<style scoped>\n",
       "    .dataframe tbody tr th:only-of-type {\n",
       "        vertical-align: middle;\n",
       "    }\n",
       "\n",
       "    .dataframe tbody tr th {\n",
       "        vertical-align: top;\n",
       "    }\n",
       "\n",
       "    .dataframe thead th {\n",
       "        text-align: right;\n",
       "    }\n",
       "</style>\n",
       "<table border=\"1\" class=\"dataframe\">\n",
       "  <thead>\n",
       "    <tr style=\"text-align: right;\">\n",
       "      <th></th>\n",
       "      <th>z</th>\n",
       "      <th>x1</th>\n",
       "      <th>c</th>\n",
       "      <th>t0</th>\n",
       "      <th>x0</th>\n",
       "    </tr>\n",
       "  </thead>\n",
       "  <tbody>\n",
       "    <tr>\n",
       "      <th>0</th>\n",
       "      <td>0.1505</td>\n",
       "      <td>-0.40</td>\n",
       "      <td>0.04</td>\n",
       "      <td>56667.253906</td>\n",
       "      <td>0.000112</td>\n",
       "    </tr>\n",
       "    <tr>\n",
       "      <th>1</th>\n",
       "      <td>0.1935</td>\n",
       "      <td>0.75</td>\n",
       "      <td>0.22</td>\n",
       "      <td>56347.234375</td>\n",
       "      <td>0.000052</td>\n",
       "    </tr>\n",
       "    <tr>\n",
       "      <th>2</th>\n",
       "      <td>0.1545</td>\n",
       "      <td>-1.85</td>\n",
       "      <td>0.10</td>\n",
       "      <td>56729.726562</td>\n",
       "      <td>0.000095</td>\n",
       "    </tr>\n",
       "    <tr>\n",
       "      <th>3</th>\n",
       "      <td>0.1785</td>\n",
       "      <td>0.70</td>\n",
       "      <td>-0.09</td>\n",
       "      <td>56920.230469</td>\n",
       "      <td>0.000171</td>\n",
       "    </tr>\n",
       "    <tr>\n",
       "      <th>4</th>\n",
       "      <td>0.1905</td>\n",
       "      <td>1.20</td>\n",
       "      <td>0.02</td>\n",
       "      <td>56931.113281</td>\n",
       "      <td>0.000102</td>\n",
       "    </tr>\n",
       "    <tr>\n",
       "      <th>...</th>\n",
       "      <td>...</td>\n",
       "      <td>...</td>\n",
       "      <td>...</td>\n",
       "      <td>...</td>\n",
       "      <td>...</td>\n",
       "    </tr>\n",
       "    <tr>\n",
       "      <th>9995</th>\n",
       "      <td>0.0465</td>\n",
       "      <td>0.10</td>\n",
       "      <td>-0.04</td>\n",
       "      <td>56500.570312</td>\n",
       "      <td>0.002174</td>\n",
       "    </tr>\n",
       "    <tr>\n",
       "      <th>9996</th>\n",
       "      <td>0.1645</td>\n",
       "      <td>-0.90</td>\n",
       "      <td>0.04</td>\n",
       "      <td>56890.207031</td>\n",
       "      <td>0.000096</td>\n",
       "    </tr>\n",
       "    <tr>\n",
       "      <th>9997</th>\n",
       "      <td>0.0855</td>\n",
       "      <td>-0.95</td>\n",
       "      <td>0.07</td>\n",
       "      <td>56478.925781</td>\n",
       "      <td>0.000347</td>\n",
       "    </tr>\n",
       "    <tr>\n",
       "      <th>9998</th>\n",
       "      <td>0.1545</td>\n",
       "      <td>-1.95</td>\n",
       "      <td>-0.01</td>\n",
       "      <td>56110.308594</td>\n",
       "      <td>0.000131</td>\n",
       "    </tr>\n",
       "    <tr>\n",
       "      <th>9999</th>\n",
       "      <td>0.1435</td>\n",
       "      <td>-0.25</td>\n",
       "      <td>0.04</td>\n",
       "      <td>56444.687500</td>\n",
       "      <td>0.000134</td>\n",
       "    </tr>\n",
       "  </tbody>\n",
       "</table>\n",
       "<p>10000 rows × 5 columns</p>\n",
       "</div>"
      ],
      "text/plain": [
       "           z    x1     c            t0        x0\n",
       "0     0.1505 -0.40  0.04  56667.253906  0.000112\n",
       "1     0.1935  0.75  0.22  56347.234375  0.000052\n",
       "2     0.1545 -1.85  0.10  56729.726562  0.000095\n",
       "3     0.1785  0.70 -0.09  56920.230469  0.000171\n",
       "4     0.1905  1.20  0.02  56931.113281  0.000102\n",
       "...      ...   ...   ...           ...       ...\n",
       "9995  0.0465  0.10 -0.04  56500.570312  0.002174\n",
       "9996  0.1645 -0.90  0.04  56890.207031  0.000096\n",
       "9997  0.0855 -0.95  0.07  56478.925781  0.000347\n",
       "9998  0.1545 -1.95 -0.01  56110.308594  0.000131\n",
       "9999  0.1435 -0.25  0.04  56444.687500  0.000134\n",
       "\n",
       "[10000 rows x 5 columns]"
      ]
     },
     "execution_count": 22,
     "metadata": {},
     "output_type": "execute_result"
    }
   ],
   "source": [
    "snia.get_template_parameters()"
   ]
  },
  {
   "cell_type": "markdown",
   "id": "ffdf15a5",
   "metadata": {},
   "source": [
    "You can also request to only have the template parameter for a given target\n",
    "(similar to as `snia.get_template_parameters().loc[index]`)"
   ]
  },
  {
   "cell_type": "code",
   "execution_count": 23,
   "id": "8b5cfd83",
   "metadata": {},
   "outputs": [
    {
     "data": {
      "text/plain": [
       "z         0.108500\n",
       "x1        0.550000\n",
       "c         0.040000\n",
       "t0    56408.492188\n",
       "x0        0.000341\n",
       "Name: 9, dtype: float32"
      ]
     },
     "execution_count": 23,
     "metadata": {},
     "output_type": "execute_result"
    }
   ],
   "source": [
    "snia.get_template_parameters(index=9)"
   ]
  },
  {
   "cell_type": "markdown",
   "id": "7bf650d3",
   "metadata": {},
   "source": [
    "### Template (sncosmo.Model)\n",
    "\n",
    "You can get a template (sncosmo.Model) either with default values"
   ]
  },
  {
   "cell_type": "code",
   "execution_count": 28,
   "id": "767e77a1",
   "metadata": {},
   "outputs": [],
   "source": [
    "template = snia.get_template(index=None) # default"
   ]
  },
  {
   "cell_type": "code",
   "execution_count": 29,
   "id": "17ad1367",
   "metadata": {},
   "outputs": [
    {
     "data": {
      "text/plain": [
       "<skysurvey.template.Template at 0x298eb6eb0>"
      ]
     },
     "execution_count": 29,
     "metadata": {},
     "output_type": "execute_result"
    }
   ],
   "source": [
    "template"
   ]
  },
  {
   "cell_type": "code",
   "execution_count": 39,
   "id": "0d41898a",
   "metadata": {},
   "outputs": [
    {
     "data": {
      "text/plain": [
       "array([0. , 0. , 1. , 0. , 0. , 0. , 3.1])"
      ]
     },
     "execution_count": 39,
     "metadata": {},
     "output_type": "execute_result"
    }
   ],
   "source": [
    "template.sncosmo_model.parameters"
   ]
  },
  {
   "cell_type": "markdown",
   "id": "5199c94e",
   "metadata": {},
   "source": [
    "or with parameter set to that of a target "
   ]
  },
  {
   "cell_type": "code",
   "execution_count": 42,
   "id": "5f39042f",
   "metadata": {},
   "outputs": [
    {
     "data": {
      "text/plain": [
       "array([1.08499996e-01, 5.64084922e+04, 3.40885454e-04, 5.50000012e-01,\n",
       "       3.99999991e-02, 0.00000000e+00, 3.10000000e+00])"
      ]
     },
     "execution_count": 42,
     "metadata": {},
     "output_type": "execute_result"
    }
   ],
   "source": [
    "template_target9 = snia.get_template(index=9) \n",
    "template_target9.sncosmo_model.parameters"
   ]
  },
  {
   "cell_type": "markdown",
   "id": "3fecddde",
   "metadata": {},
   "source": [
    "or affecting parameters"
   ]
  },
  {
   "cell_type": "code",
   "execution_count": 43,
   "id": "5b42ec47",
   "metadata": {},
   "outputs": [
    {
     "data": {
      "text/plain": [
       "array([ 1.08499996e-01,  5.64084922e+04,  3.40885454e-04, -5.00000000e+00,\n",
       "        3.99999991e-02,  0.00000000e+00,  3.10000000e+00])"
      ]
     },
     "execution_count": 43,
     "metadata": {},
     "output_type": "execute_result"
    }
   ],
   "source": [
    "template_target9 = snia.get_template(index=9, x1=-5) \n",
    "template_target9.sncosmo_model.parameters"
   ]
  },
  {
   "cell_type": "code",
   "execution_count": null,
   "id": "dc0db63b",
   "metadata": {},
   "outputs": [],
   "source": []
  }
 ],
 "metadata": {
  "kernelspec": {
   "display_name": "Python 3 (ipykernel)",
   "language": "python",
   "name": "python3"
  },
  "language_info": {
   "codemirror_mode": {
    "name": "ipython",
    "version": 3
   },
   "file_extension": ".py",
   "mimetype": "text/x-python",
   "name": "python",
   "nbconvert_exporter": "python",
   "pygments_lexer": "ipython3",
   "version": "3.9.16"
  }
 },
 "nbformat": 4,
 "nbformat_minor": 5
}
