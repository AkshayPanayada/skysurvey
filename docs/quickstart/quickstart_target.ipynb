{
 "cells": [
  {
   "cell_type": "markdown",
   "id": "b60ec1f5",
   "metadata": {},
   "source": [
    "# quickstart with transients\n",
    "\n",
    "\n",
    "The `Transient` object has a **rate**, a **template** and a **model**.\n",
    "\n",
    "- The **rate** informs on how many target we expect to have in nature for a redshift range. *This is a float*\n",
    "\n",
    "- The **model** specifies how the template parameters are drawn. *This is a dict.*\n",
    "\n",
    "- The **template** provides the spectro-photometric time serie of the transient given input parameters. *This is based on sncosmo.Model*\n",
    "\n",
    "The first two enables you to draw a sample of transients as given by nature. This last one is needed only if you want to get the transient lightcurves (hence, notably, when you create a dataset). \n",
    "\n",
    "Two sets of transient have already been implemented:\n",
    "- SNeIa (based on salt2 or salt3)\n",
    "- A generic Transient associated to any single sncosmo.TimeSerieSource (see the list [here](https://sncosmo.readthedocs.io/en/stable/source-list.html))"
   ]
  },
  {
   "cell_type": "markdown",
   "id": "a1ab19d6",
   "metadata": {},
   "source": [
    "## SNeIa and \"v19-2010al (a type IIb)\" Examples"
   ]
  },
  {
   "cell_type": "code",
   "execution_count": 1,
   "id": "3dcbaca7",
   "metadata": {},
   "outputs": [],
   "source": [
    "from skysurvey import target"
   ]
  },
  {
   "cell_type": "markdown",
   "id": "87b6af94",
   "metadata": {},
   "source": [
    "Let's start with Type Ia Supernovae.\n",
    "\n",
    "The **SNeIa** Transient is already defined and ready to use. "
   ]
  },
  {
   "cell_type": "code",
   "execution_count": 2,
   "id": "5e6aa32a",
   "metadata": {},
   "outputs": [],
   "source": [
    "snia = target.SNeIa()"
   ]
  },
  {
   "cell_type": "markdown",
   "id": "587100e9",
   "metadata": {},
   "source": [
    "### template, rate and model\n",
    "\n",
    "**The following methods and attribute are commun to all transients ; sneia here is just an example**"
   ]
  },
  {
   "cell_type": "markdown",
   "id": "1887ac38",
   "metadata": {},
   "source": [
    "#### template\n",
    "the `template` (skysurvey object) is stored here"
   ]
  },
  {
   "cell_type": "code",
   "execution_count": 3,
   "id": "1c413f80",
   "metadata": {},
   "outputs": [
    {
     "data": {
      "text/plain": [
       "<skysurvey.template.Template at 0x104b98e50>"
      ]
     },
     "execution_count": 3,
     "metadata": {},
     "output_type": "execute_result"
    }
   ],
   "source": [
    "snia.template"
   ]
  },
  {
   "cell_type": "markdown",
   "id": "6c16c1db",
   "metadata": {},
   "source": [
    "and it's main attibute is the sncosmo_model up on which the template methods are built"
   ]
  },
  {
   "cell_type": "code",
   "execution_count": 4,
   "id": "81afc6ef",
   "metadata": {},
   "outputs": [
    {
     "data": {
      "text/plain": [
       "<sncosmo.models.Model at 0x176fba0d0>"
      ]
     },
     "execution_count": 4,
     "metadata": {},
     "output_type": "execute_result"
    }
   ],
   "source": [
    "snia.template.sncosmo_model"
   ]
  },
  {
   "cell_type": "code",
   "execution_count": 5,
   "id": "9f0ede72",
   "metadata": {},
   "outputs": [
    {
     "data": {
      "text/plain": [
       "<SALT2Source 'salt2' version='T23' at 0x104b98eb0>"
      ]
     },
     "execution_count": 5,
     "metadata": {},
     "output_type": "execute_result"
    }
   ],
   "source": [
    "snia.template.source # short cut to snia.template.sncosmo_model.source"
   ]
  },
  {
   "cell_type": "markdown",
   "id": "6fb5bc99",
   "metadata": {},
   "source": [
    "the template parameters are here (shortcut to `snia.template.parameters`)"
   ]
  },
  {
   "cell_type": "code",
   "execution_count": 6,
   "id": "fcbf1987",
   "metadata": {},
   "outputs": [
    {
     "data": {
      "text/plain": [
       "['z', 't0', 'x0', 'x1', 'c', 'mwebv', 'mwr_v']"
      ]
     },
     "execution_count": 6,
     "metadata": {},
     "output_type": "execute_result"
    }
   ],
   "source": [
    "snia.template_parameters # short"
   ]
  },
  {
   "cell_type": "markdown",
   "id": "26165cd7",
   "metadata": {},
   "source": [
    "#### rate\n",
    "\n",
    "Transient have the volume_rate parameter that provide the number of transient expected per year and per $Gpc^3$"
   ]
  },
  {
   "cell_type": "code",
   "execution_count": 7,
   "id": "9b71cbfe",
   "metadata": {},
   "outputs": [
    {
     "data": {
      "text/plain": [
       "23500.0"
      ]
     },
     "execution_count": 7,
     "metadata": {},
     "output_type": "execute_result"
    }
   ],
   "source": [
    "snia.rate # in target/Gpc^3/year"
   ]
  },
  {
   "cell_type": "markdown",
   "id": "afb0367a",
   "metadata": {},
   "source": [
    "To get the number of expected transient in a redshift shell (full sky volume)  use `get_rate(z)`."
   ]
  },
  {
   "cell_type": "code",
   "execution_count": 8,
   "id": "fea5fa38",
   "metadata": {},
   "outputs": [
    {
     "data": {
      "text/plain": [
       "7967.328115462927"
      ]
     },
     "execution_count": 8,
     "metadata": {},
     "output_type": "execute_result"
    }
   ],
   "source": [
    "snia.get_rate(0.1) # Nature should provide ~8000 SNeIa (full sky) up to z=0.1"
   ]
  },
  {
   "cell_type": "markdown",
   "id": "d5c772b0",
   "metadata": {},
   "source": [
    "#### model\n",
    "\n",
    "The model is the core of what defines a transient. It provides how the template parameters are generated"
   ]
  },
  {
   "cell_type": "code",
   "execution_count": 9,
   "id": "bed137ac",
   "metadata": {},
   "outputs": [
    {
     "name": "stdout",
     "output_type": "stream",
     "text": [
      "{'c': {'func': <function SNeIaColor.intrinsic_and_dust at 0x16d378280>},\n",
      " 'magabs': {'func': <function SNeIaMagnitude.tripp1998 at 0x176f54d30>,\n",
      "            'kwargs': {'c': '@c', 'mabs': -19.3, 'sigmaint': 0.1, 'x1': '@x1'}},\n",
      " 'magobs': {'func': 'magabs_to_magobs',\n",
      "            'kwargs': {'magabs': '@magabs', 'z': '@z'}},\n",
      " 'radec': {'as': ['ra', 'dec'],\n",
      "           'func': 'random',\n",
      "           'kwargs': {'dec_range': [-30, 90], 'ra_range': [0, 360]}},\n",
      " 'redshift': {'as': 'z', 'kwargs': {'zmax': 0.2}},\n",
      " 't0': {'func': <built-in method uniform of numpy.random.mtrand.RandomState object at 0x1061e2640>,\n",
      "        'kwargs': {'high': 57000, 'low': 56000}},\n",
      " 'x0': {'func': 'magobs_to_amplitude',\n",
      "        'kwargs': {'magobs': '@magobs', 'param_name': 'x0'}},\n",
      " 'x1': {'func': <function SNeIaStretch.nicolas2021 at 0x176f54ca0>}}\n"
     ]
    }
   ],
   "source": [
    "from pprint import pprint\n",
    "pprint(snia.model.model)"
   ]
  },
  {
   "cell_type": "markdown",
   "id": "2e0ed2b3",
   "metadata": {},
   "source": [
    "See details below"
   ]
  },
  {
   "cell_type": "markdown",
   "id": "0f478941",
   "metadata": {},
   "source": [
    "## Draw a sample (as given by nature)"
   ]
  },
  {
   "cell_type": "markdown",
   "id": "c7a2aab8",
   "metadata": {},
   "source": [
    "You can then draw as many SNeIa as you want. The parameters will be drawn following the transient's model (see below).\n",
    "These are SNeIa as given by nature following this model."
   ]
  },
  {
   "cell_type": "code",
   "execution_count": 10,
   "id": "3a2f61f7",
   "metadata": {},
   "outputs": [
    {
     "name": "stdout",
     "output_type": "stream",
     "text": [
      "CPU times: user 107 ms, sys: 6.16 ms, total: 113 ms\n",
      "Wall time: 112 ms\n"
     ]
    }
   ],
   "source": [
    "%%time\n",
    "data = snia.draw(size=10_000)"
   ]
  },
  {
   "cell_type": "code",
   "execution_count": 11,
   "id": "5be5715b",
   "metadata": {},
   "outputs": [
    {
     "data": {
      "text/html": [
       "<div>\n",
       "<style scoped>\n",
       "    .dataframe tbody tr th:only-of-type {\n",
       "        vertical-align: middle;\n",
       "    }\n",
       "\n",
       "    .dataframe tbody tr th {\n",
       "        vertical-align: top;\n",
       "    }\n",
       "\n",
       "    .dataframe thead th {\n",
       "        text-align: right;\n",
       "    }\n",
       "</style>\n",
       "<table border=\"1\" class=\"dataframe\">\n",
       "  <thead>\n",
       "    <tr style=\"text-align: right;\">\n",
       "      <th></th>\n",
       "      <th>z</th>\n",
       "      <th>x1</th>\n",
       "      <th>c</th>\n",
       "      <th>t0</th>\n",
       "      <th>magabs</th>\n",
       "      <th>magobs</th>\n",
       "      <th>x0</th>\n",
       "      <th>ra</th>\n",
       "      <th>dec</th>\n",
       "      <th>template</th>\n",
       "    </tr>\n",
       "  </thead>\n",
       "  <tbody>\n",
       "    <tr>\n",
       "      <th>0</th>\n",
       "      <td>0.1585</td>\n",
       "      <td>-1.20</td>\n",
       "      <td>2.775558e-16</td>\n",
       "      <td>56141.402344</td>\n",
       "      <td>-19.184872</td>\n",
       "      <td>20.283243</td>\n",
       "      <td>0.000122</td>\n",
       "      <td>271.129730</td>\n",
       "      <td>31.871643</td>\n",
       "      <td>salt2</td>\n",
       "    </tr>\n",
       "    <tr>\n",
       "      <th>1</th>\n",
       "      <td>0.1925</td>\n",
       "      <td>-1.05</td>\n",
       "      <td>-1.000000e-02</td>\n",
       "      <td>56473.027344</td>\n",
       "      <td>-19.114124</td>\n",
       "      <td>20.819983</td>\n",
       "      <td>0.000075</td>\n",
       "      <td>150.331802</td>\n",
       "      <td>10.876958</td>\n",
       "      <td>salt2</td>\n",
       "    </tr>\n",
       "    <tr>\n",
       "      <th>2</th>\n",
       "      <td>0.1815</td>\n",
       "      <td>0.70</td>\n",
       "      <td>1.500000e-01</td>\n",
       "      <td>56102.843750</td>\n",
       "      <td>-18.899218</td>\n",
       "      <td>20.893114</td>\n",
       "      <td>0.000070</td>\n",
       "      <td>261.982971</td>\n",
       "      <td>-6.818339</td>\n",
       "      <td>salt2</td>\n",
       "    </tr>\n",
       "    <tr>\n",
       "      <th>3</th>\n",
       "      <td>0.1935</td>\n",
       "      <td>0.90</td>\n",
       "      <td>1.700000e-01</td>\n",
       "      <td>56155.753906</td>\n",
       "      <td>-18.849602</td>\n",
       "      <td>21.097019</td>\n",
       "      <td>0.000058</td>\n",
       "      <td>216.532272</td>\n",
       "      <td>33.285145</td>\n",
       "      <td>salt2</td>\n",
       "    </tr>\n",
       "    <tr>\n",
       "      <th>4</th>\n",
       "      <td>0.1735</td>\n",
       "      <td>-0.50</td>\n",
       "      <td>3.000000e-02</td>\n",
       "      <td>56216.339844</td>\n",
       "      <td>-19.057701</td>\n",
       "      <td>20.626425</td>\n",
       "      <td>0.000089</td>\n",
       "      <td>356.948364</td>\n",
       "      <td>34.682629</td>\n",
       "      <td>salt2</td>\n",
       "    </tr>\n",
       "    <tr>\n",
       "      <th>...</th>\n",
       "      <td>...</td>\n",
       "      <td>...</td>\n",
       "      <td>...</td>\n",
       "      <td>...</td>\n",
       "      <td>...</td>\n",
       "      <td>...</td>\n",
       "      <td>...</td>\n",
       "      <td>...</td>\n",
       "      <td>...</td>\n",
       "      <td>...</td>\n",
       "    </tr>\n",
       "    <tr>\n",
       "      <th>9995</th>\n",
       "      <td>0.0845</td>\n",
       "      <td>-0.50</td>\n",
       "      <td>-1.000000e-02</td>\n",
       "      <td>56765.117188</td>\n",
       "      <td>-19.208117</td>\n",
       "      <td>18.790850</td>\n",
       "      <td>0.000483</td>\n",
       "      <td>263.116852</td>\n",
       "      <td>-26.718391</td>\n",
       "      <td>salt2</td>\n",
       "    </tr>\n",
       "    <tr>\n",
       "      <th>9996</th>\n",
       "      <td>0.1845</td>\n",
       "      <td>-1.45</td>\n",
       "      <td>1.900000e-01</td>\n",
       "      <td>56382.082031</td>\n",
       "      <td>-18.527147</td>\n",
       "      <td>21.304623</td>\n",
       "      <td>0.000048</td>\n",
       "      <td>194.880554</td>\n",
       "      <td>15.215457</td>\n",
       "      <td>salt2</td>\n",
       "    </tr>\n",
       "    <tr>\n",
       "      <th>9997</th>\n",
       "      <td>0.1805</td>\n",
       "      <td>-1.15</td>\n",
       "      <td>-1.700000e-01</td>\n",
       "      <td>56230.175781</td>\n",
       "      <td>-19.519857</td>\n",
       "      <td>20.259193</td>\n",
       "      <td>0.000125</td>\n",
       "      <td>267.409485</td>\n",
       "      <td>14.888163</td>\n",
       "      <td>salt2</td>\n",
       "    </tr>\n",
       "    <tr>\n",
       "      <th>9998</th>\n",
       "      <td>0.1925</td>\n",
       "      <td>-0.40</td>\n",
       "      <td>-4.000000e-02</td>\n",
       "      <td>56140.730469</td>\n",
       "      <td>-19.492094</td>\n",
       "      <td>20.442013</td>\n",
       "      <td>0.000106</td>\n",
       "      <td>35.079403</td>\n",
       "      <td>-8.405257</td>\n",
       "      <td>salt2</td>\n",
       "    </tr>\n",
       "    <tr>\n",
       "      <th>9999</th>\n",
       "      <td>0.1235</td>\n",
       "      <td>-2.10</td>\n",
       "      <td>4.000000e-02</td>\n",
       "      <td>56793.390625</td>\n",
       "      <td>-18.839434</td>\n",
       "      <td>20.039364</td>\n",
       "      <td>0.000153</td>\n",
       "      <td>191.349823</td>\n",
       "      <td>57.650131</td>\n",
       "      <td>salt2</td>\n",
       "    </tr>\n",
       "  </tbody>\n",
       "</table>\n",
       "<p>10000 rows × 10 columns</p>\n",
       "</div>"
      ],
      "text/plain": [
       "           z    x1             c            t0     magabs     magobs   \n",
       "0     0.1585 -1.20  2.775558e-16  56141.402344 -19.184872  20.283243  \\\n",
       "1     0.1925 -1.05 -1.000000e-02  56473.027344 -19.114124  20.819983   \n",
       "2     0.1815  0.70  1.500000e-01  56102.843750 -18.899218  20.893114   \n",
       "3     0.1935  0.90  1.700000e-01  56155.753906 -18.849602  21.097019   \n",
       "4     0.1735 -0.50  3.000000e-02  56216.339844 -19.057701  20.626425   \n",
       "...      ...   ...           ...           ...        ...        ...   \n",
       "9995  0.0845 -0.50 -1.000000e-02  56765.117188 -19.208117  18.790850   \n",
       "9996  0.1845 -1.45  1.900000e-01  56382.082031 -18.527147  21.304623   \n",
       "9997  0.1805 -1.15 -1.700000e-01  56230.175781 -19.519857  20.259193   \n",
       "9998  0.1925 -0.40 -4.000000e-02  56140.730469 -19.492094  20.442013   \n",
       "9999  0.1235 -2.10  4.000000e-02  56793.390625 -18.839434  20.039364   \n",
       "\n",
       "            x0          ra        dec template  \n",
       "0     0.000122  271.129730  31.871643    salt2  \n",
       "1     0.000075  150.331802  10.876958    salt2  \n",
       "2     0.000070  261.982971  -6.818339    salt2  \n",
       "3     0.000058  216.532272  33.285145    salt2  \n",
       "4     0.000089  356.948364  34.682629    salt2  \n",
       "...        ...         ...        ...      ...  \n",
       "9995  0.000483  263.116852 -26.718391    salt2  \n",
       "9996  0.000048  194.880554  15.215457    salt2  \n",
       "9997  0.000125  267.409485  14.888163    salt2  \n",
       "9998  0.000106   35.079403  -8.405257    salt2  \n",
       "9999  0.000153  191.349823  57.650131    salt2  \n",
       "\n",
       "[10000 rows x 10 columns]"
      ]
     },
     "execution_count": 11,
     "metadata": {},
     "output_type": "execute_result"
    }
   ],
   "source": [
    "data # another copy is stored as snia.data"
   ]
  },
  {
   "cell_type": "code",
   "execution_count": 12,
   "id": "310ea5b2",
   "metadata": {},
   "outputs": [
    {
     "data": {
      "text/html": [
       "<div>\n",
       "<style scoped>\n",
       "    .dataframe tbody tr th:only-of-type {\n",
       "        vertical-align: middle;\n",
       "    }\n",
       "\n",
       "    .dataframe tbody tr th {\n",
       "        vertical-align: top;\n",
       "    }\n",
       "\n",
       "    .dataframe thead th {\n",
       "        text-align: right;\n",
       "    }\n",
       "</style>\n",
       "<table border=\"1\" class=\"dataframe\">\n",
       "  <thead>\n",
       "    <tr style=\"text-align: right;\">\n",
       "      <th></th>\n",
       "      <th>z</th>\n",
       "      <th>x1</th>\n",
       "      <th>c</th>\n",
       "      <th>t0</th>\n",
       "      <th>magabs</th>\n",
       "      <th>magobs</th>\n",
       "      <th>x0</th>\n",
       "      <th>ra</th>\n",
       "      <th>dec</th>\n",
       "      <th>template</th>\n",
       "    </tr>\n",
       "  </thead>\n",
       "  <tbody>\n",
       "    <tr>\n",
       "      <th>0</th>\n",
       "      <td>0.1585</td>\n",
       "      <td>-1.20</td>\n",
       "      <td>2.775558e-16</td>\n",
       "      <td>56141.402344</td>\n",
       "      <td>-19.184872</td>\n",
       "      <td>20.283243</td>\n",
       "      <td>0.000122</td>\n",
       "      <td>271.129730</td>\n",
       "      <td>31.871643</td>\n",
       "      <td>salt2</td>\n",
       "    </tr>\n",
       "    <tr>\n",
       "      <th>1</th>\n",
       "      <td>0.1925</td>\n",
       "      <td>-1.05</td>\n",
       "      <td>-1.000000e-02</td>\n",
       "      <td>56473.027344</td>\n",
       "      <td>-19.114124</td>\n",
       "      <td>20.819983</td>\n",
       "      <td>0.000075</td>\n",
       "      <td>150.331802</td>\n",
       "      <td>10.876958</td>\n",
       "      <td>salt2</td>\n",
       "    </tr>\n",
       "    <tr>\n",
       "      <th>2</th>\n",
       "      <td>0.1815</td>\n",
       "      <td>0.70</td>\n",
       "      <td>1.500000e-01</td>\n",
       "      <td>56102.843750</td>\n",
       "      <td>-18.899218</td>\n",
       "      <td>20.893114</td>\n",
       "      <td>0.000070</td>\n",
       "      <td>261.982971</td>\n",
       "      <td>-6.818339</td>\n",
       "      <td>salt2</td>\n",
       "    </tr>\n",
       "    <tr>\n",
       "      <th>3</th>\n",
       "      <td>0.1935</td>\n",
       "      <td>0.90</td>\n",
       "      <td>1.700000e-01</td>\n",
       "      <td>56155.753906</td>\n",
       "      <td>-18.849602</td>\n",
       "      <td>21.097019</td>\n",
       "      <td>0.000058</td>\n",
       "      <td>216.532272</td>\n",
       "      <td>33.285145</td>\n",
       "      <td>salt2</td>\n",
       "    </tr>\n",
       "    <tr>\n",
       "      <th>4</th>\n",
       "      <td>0.1735</td>\n",
       "      <td>-0.50</td>\n",
       "      <td>3.000000e-02</td>\n",
       "      <td>56216.339844</td>\n",
       "      <td>-19.057701</td>\n",
       "      <td>20.626425</td>\n",
       "      <td>0.000089</td>\n",
       "      <td>356.948364</td>\n",
       "      <td>34.682629</td>\n",
       "      <td>salt2</td>\n",
       "    </tr>\n",
       "    <tr>\n",
       "      <th>...</th>\n",
       "      <td>...</td>\n",
       "      <td>...</td>\n",
       "      <td>...</td>\n",
       "      <td>...</td>\n",
       "      <td>...</td>\n",
       "      <td>...</td>\n",
       "      <td>...</td>\n",
       "      <td>...</td>\n",
       "      <td>...</td>\n",
       "      <td>...</td>\n",
       "    </tr>\n",
       "    <tr>\n",
       "      <th>9995</th>\n",
       "      <td>0.0845</td>\n",
       "      <td>-0.50</td>\n",
       "      <td>-1.000000e-02</td>\n",
       "      <td>56765.117188</td>\n",
       "      <td>-19.208117</td>\n",
       "      <td>18.790850</td>\n",
       "      <td>0.000483</td>\n",
       "      <td>263.116852</td>\n",
       "      <td>-26.718391</td>\n",
       "      <td>salt2</td>\n",
       "    </tr>\n",
       "    <tr>\n",
       "      <th>9996</th>\n",
       "      <td>0.1845</td>\n",
       "      <td>-1.45</td>\n",
       "      <td>1.900000e-01</td>\n",
       "      <td>56382.082031</td>\n",
       "      <td>-18.527147</td>\n",
       "      <td>21.304623</td>\n",
       "      <td>0.000048</td>\n",
       "      <td>194.880554</td>\n",
       "      <td>15.215457</td>\n",
       "      <td>salt2</td>\n",
       "    </tr>\n",
       "    <tr>\n",
       "      <th>9997</th>\n",
       "      <td>0.1805</td>\n",
       "      <td>-1.15</td>\n",
       "      <td>-1.700000e-01</td>\n",
       "      <td>56230.175781</td>\n",
       "      <td>-19.519857</td>\n",
       "      <td>20.259193</td>\n",
       "      <td>0.000125</td>\n",
       "      <td>267.409485</td>\n",
       "      <td>14.888163</td>\n",
       "      <td>salt2</td>\n",
       "    </tr>\n",
       "    <tr>\n",
       "      <th>9998</th>\n",
       "      <td>0.1925</td>\n",
       "      <td>-0.40</td>\n",
       "      <td>-4.000000e-02</td>\n",
       "      <td>56140.730469</td>\n",
       "      <td>-19.492094</td>\n",
       "      <td>20.442013</td>\n",
       "      <td>0.000106</td>\n",
       "      <td>35.079403</td>\n",
       "      <td>-8.405257</td>\n",
       "      <td>salt2</td>\n",
       "    </tr>\n",
       "    <tr>\n",
       "      <th>9999</th>\n",
       "      <td>0.1235</td>\n",
       "      <td>-2.10</td>\n",
       "      <td>4.000000e-02</td>\n",
       "      <td>56793.390625</td>\n",
       "      <td>-18.839434</td>\n",
       "      <td>20.039364</td>\n",
       "      <td>0.000153</td>\n",
       "      <td>191.349823</td>\n",
       "      <td>57.650131</td>\n",
       "      <td>salt2</td>\n",
       "    </tr>\n",
       "  </tbody>\n",
       "</table>\n",
       "<p>10000 rows × 10 columns</p>\n",
       "</div>"
      ],
      "text/plain": [
       "           z    x1             c            t0     magabs     magobs   \n",
       "0     0.1585 -1.20  2.775558e-16  56141.402344 -19.184872  20.283243  \\\n",
       "1     0.1925 -1.05 -1.000000e-02  56473.027344 -19.114124  20.819983   \n",
       "2     0.1815  0.70  1.500000e-01  56102.843750 -18.899218  20.893114   \n",
       "3     0.1935  0.90  1.700000e-01  56155.753906 -18.849602  21.097019   \n",
       "4     0.1735 -0.50  3.000000e-02  56216.339844 -19.057701  20.626425   \n",
       "...      ...   ...           ...           ...        ...        ...   \n",
       "9995  0.0845 -0.50 -1.000000e-02  56765.117188 -19.208117  18.790850   \n",
       "9996  0.1845 -1.45  1.900000e-01  56382.082031 -18.527147  21.304623   \n",
       "9997  0.1805 -1.15 -1.700000e-01  56230.175781 -19.519857  20.259193   \n",
       "9998  0.1925 -0.40 -4.000000e-02  56140.730469 -19.492094  20.442013   \n",
       "9999  0.1235 -2.10  4.000000e-02  56793.390625 -18.839434  20.039364   \n",
       "\n",
       "            x0          ra        dec template  \n",
       "0     0.000122  271.129730  31.871643    salt2  \n",
       "1     0.000075  150.331802  10.876958    salt2  \n",
       "2     0.000070  261.982971  -6.818339    salt2  \n",
       "3     0.000058  216.532272  33.285145    salt2  \n",
       "4     0.000089  356.948364  34.682629    salt2  \n",
       "...        ...         ...        ...      ...  \n",
       "9995  0.000483  263.116852 -26.718391    salt2  \n",
       "9996  0.000048  194.880554  15.215457    salt2  \n",
       "9997  0.000125  267.409485  14.888163    salt2  \n",
       "9998  0.000106   35.079403  -8.405257    salt2  \n",
       "9999  0.000153  191.349823  57.650131    salt2  \n",
       "\n",
       "[10000 rows x 10 columns]"
      ]
     },
     "execution_count": 12,
     "metadata": {},
     "output_type": "execute_result"
    }
   ],
   "source": [
    "snia.data"
   ]
  },
  {
   "cell_type": "markdown",
   "id": "e50717af",
   "metadata": {},
   "source": [
    "**Tip**: You can  directly use the ``from_draw()`` classmethod to load a transient instance already drawn."
   ]
  },
  {
   "cell_type": "code",
   "execution_count": 13,
   "id": "01717a75",
   "metadata": {},
   "outputs": [
    {
     "name": "stdout",
     "output_type": "stream",
     "text": [
      "CPU times: user 96.4 ms, sys: 3.21 ms, total: 99.6 ms\n",
      "Wall time: 98.3 ms\n"
     ]
    }
   ],
   "source": [
    "%%time\n",
    "snia = target.SNeIa.from_draw(10000)"
   ]
  },
  {
   "cell_type": "code",
   "execution_count": 14,
   "id": "94941134",
   "metadata": {},
   "outputs": [
    {
     "data": {
      "text/html": [
       "<div>\n",
       "<style scoped>\n",
       "    .dataframe tbody tr th:only-of-type {\n",
       "        vertical-align: middle;\n",
       "    }\n",
       "\n",
       "    .dataframe tbody tr th {\n",
       "        vertical-align: top;\n",
       "    }\n",
       "\n",
       "    .dataframe thead th {\n",
       "        text-align: right;\n",
       "    }\n",
       "</style>\n",
       "<table border=\"1\" class=\"dataframe\">\n",
       "  <thead>\n",
       "    <tr style=\"text-align: right;\">\n",
       "      <th></th>\n",
       "      <th>z</th>\n",
       "      <th>x1</th>\n",
       "      <th>c</th>\n",
       "      <th>t0</th>\n",
       "      <th>magabs</th>\n",
       "      <th>magobs</th>\n",
       "      <th>x0</th>\n",
       "      <th>ra</th>\n",
       "      <th>dec</th>\n",
       "      <th>template</th>\n",
       "    </tr>\n",
       "  </thead>\n",
       "  <tbody>\n",
       "    <tr>\n",
       "      <th>0</th>\n",
       "      <td>0.1605</td>\n",
       "      <td>0.45</td>\n",
       "      <td>-0.01</td>\n",
       "      <td>56732.007812</td>\n",
       "      <td>-19.466558</td>\n",
       "      <td>20.031431</td>\n",
       "      <td>0.000154</td>\n",
       "      <td>184.194427</td>\n",
       "      <td>19.273294</td>\n",
       "      <td>salt2</td>\n",
       "    </tr>\n",
       "    <tr>\n",
       "      <th>1</th>\n",
       "      <td>0.1635</td>\n",
       "      <td>1.50</td>\n",
       "      <td>0.06</td>\n",
       "      <td>56870.460938</td>\n",
       "      <td>-19.417931</td>\n",
       "      <td>20.124226</td>\n",
       "      <td>0.000142</td>\n",
       "      <td>218.540802</td>\n",
       "      <td>-8.557636</td>\n",
       "      <td>salt2</td>\n",
       "    </tr>\n",
       "    <tr>\n",
       "      <th>2</th>\n",
       "      <td>0.1915</td>\n",
       "      <td>-1.45</td>\n",
       "      <td>0.13</td>\n",
       "      <td>56613.082031</td>\n",
       "      <td>-18.606897</td>\n",
       "      <td>21.314634</td>\n",
       "      <td>0.000047</td>\n",
       "      <td>111.631454</td>\n",
       "      <td>37.862663</td>\n",
       "      <td>salt2</td>\n",
       "    </tr>\n",
       "    <tr>\n",
       "      <th>3</th>\n",
       "      <td>0.1895</td>\n",
       "      <td>0.05</td>\n",
       "      <td>-0.05</td>\n",
       "      <td>56388.660156</td>\n",
       "      <td>-19.489265</td>\n",
       "      <td>20.406935</td>\n",
       "      <td>0.000109</td>\n",
       "      <td>343.986511</td>\n",
       "      <td>72.687332</td>\n",
       "      <td>salt2</td>\n",
       "    </tr>\n",
       "    <tr>\n",
       "      <th>4</th>\n",
       "      <td>0.1895</td>\n",
       "      <td>0.15</td>\n",
       "      <td>-0.05</td>\n",
       "      <td>56788.558594</td>\n",
       "      <td>-19.617203</td>\n",
       "      <td>20.278997</td>\n",
       "      <td>0.000123</td>\n",
       "      <td>258.468475</td>\n",
       "      <td>23.385582</td>\n",
       "      <td>salt2</td>\n",
       "    </tr>\n",
       "    <tr>\n",
       "      <th>...</th>\n",
       "      <td>...</td>\n",
       "      <td>...</td>\n",
       "      <td>...</td>\n",
       "      <td>...</td>\n",
       "      <td>...</td>\n",
       "      <td>...</td>\n",
       "      <td>...</td>\n",
       "      <td>...</td>\n",
       "      <td>...</td>\n",
       "      <td>...</td>\n",
       "    </tr>\n",
       "    <tr>\n",
       "      <th>9995</th>\n",
       "      <td>0.1765</td>\n",
       "      <td>0.55</td>\n",
       "      <td>0.07</td>\n",
       "      <td>56526.109375</td>\n",
       "      <td>-19.178711</td>\n",
       "      <td>20.546524</td>\n",
       "      <td>0.000096</td>\n",
       "      <td>139.221832</td>\n",
       "      <td>30.202585</td>\n",
       "      <td>salt2</td>\n",
       "    </tr>\n",
       "    <tr>\n",
       "      <th>9996</th>\n",
       "      <td>0.1965</td>\n",
       "      <td>-1.25</td>\n",
       "      <td>0.12</td>\n",
       "      <td>56106.414062</td>\n",
       "      <td>-18.668491</td>\n",
       "      <td>21.315315</td>\n",
       "      <td>0.000047</td>\n",
       "      <td>10.405370</td>\n",
       "      <td>-25.884926</td>\n",
       "      <td>salt2</td>\n",
       "    </tr>\n",
       "    <tr>\n",
       "      <th>9997</th>\n",
       "      <td>0.1405</td>\n",
       "      <td>-0.30</td>\n",
       "      <td>0.32</td>\n",
       "      <td>56641.117188</td>\n",
       "      <td>-18.020502</td>\n",
       "      <td>21.161707</td>\n",
       "      <td>0.000054</td>\n",
       "      <td>229.352707</td>\n",
       "      <td>48.340553</td>\n",
       "      <td>salt2</td>\n",
       "    </tr>\n",
       "    <tr>\n",
       "      <th>9998</th>\n",
       "      <td>0.1435</td>\n",
       "      <td>0.25</td>\n",
       "      <td>-0.08</td>\n",
       "      <td>56527.382812</td>\n",
       "      <td>-19.408857</td>\n",
       "      <td>19.823296</td>\n",
       "      <td>0.000187</td>\n",
       "      <td>133.656464</td>\n",
       "      <td>16.397158</td>\n",
       "      <td>salt2</td>\n",
       "    </tr>\n",
       "    <tr>\n",
       "      <th>9999</th>\n",
       "      <td>0.1295</td>\n",
       "      <td>-2.00</td>\n",
       "      <td>-0.02</td>\n",
       "      <td>56589.089844</td>\n",
       "      <td>-19.174013</td>\n",
       "      <td>19.816111</td>\n",
       "      <td>0.000188</td>\n",
       "      <td>268.062347</td>\n",
       "      <td>-26.500767</td>\n",
       "      <td>salt2</td>\n",
       "    </tr>\n",
       "  </tbody>\n",
       "</table>\n",
       "<p>10000 rows × 10 columns</p>\n",
       "</div>"
      ],
      "text/plain": [
       "           z    x1     c            t0     magabs     magobs        x0   \n",
       "0     0.1605  0.45 -0.01  56732.007812 -19.466558  20.031431  0.000154  \\\n",
       "1     0.1635  1.50  0.06  56870.460938 -19.417931  20.124226  0.000142   \n",
       "2     0.1915 -1.45  0.13  56613.082031 -18.606897  21.314634  0.000047   \n",
       "3     0.1895  0.05 -0.05  56388.660156 -19.489265  20.406935  0.000109   \n",
       "4     0.1895  0.15 -0.05  56788.558594 -19.617203  20.278997  0.000123   \n",
       "...      ...   ...   ...           ...        ...        ...       ...   \n",
       "9995  0.1765  0.55  0.07  56526.109375 -19.178711  20.546524  0.000096   \n",
       "9996  0.1965 -1.25  0.12  56106.414062 -18.668491  21.315315  0.000047   \n",
       "9997  0.1405 -0.30  0.32  56641.117188 -18.020502  21.161707  0.000054   \n",
       "9998  0.1435  0.25 -0.08  56527.382812 -19.408857  19.823296  0.000187   \n",
       "9999  0.1295 -2.00 -0.02  56589.089844 -19.174013  19.816111  0.000188   \n",
       "\n",
       "              ra        dec template  \n",
       "0     184.194427  19.273294    salt2  \n",
       "1     218.540802  -8.557636    salt2  \n",
       "2     111.631454  37.862663    salt2  \n",
       "3     343.986511  72.687332    salt2  \n",
       "4     258.468475  23.385582    salt2  \n",
       "...          ...        ...      ...  \n",
       "9995  139.221832  30.202585    salt2  \n",
       "9996   10.405370 -25.884926    salt2  \n",
       "9997  229.352707  48.340553    salt2  \n",
       "9998  133.656464  16.397158    salt2  \n",
       "9999  268.062347 -26.500767    salt2  \n",
       "\n",
       "[10000 rows x 10 columns]"
      ]
     },
     "execution_count": 14,
     "metadata": {},
     "output_type": "execute_result"
    }
   ],
   "source": [
    "snia.data"
   ]
  },
  {
   "cell_type": "markdown",
   "id": "16eb1478",
   "metadata": {},
   "source": [
    "### TimeSerieTransient (TSTransient)\n",
    "\n",
    "**nothing is easier than loading any sncosmo TimeSerieSouce as a skysurvey Transient**\n",
    "\n",
    "Simply provide the source name in the `from_sncosmo_source()` method or directly in the `from_draw()`"
   ]
  },
  {
   "cell_type": "code",
   "execution_count": 15,
   "id": "d8b225b4",
   "metadata": {},
   "outputs": [],
   "source": [
    "snIIn = target.TSTransient.from_draw(\"v19-2010al\", 4000)"
   ]
  },
  {
   "cell_type": "code",
   "execution_count": 16,
   "id": "97a3e9cb",
   "metadata": {},
   "outputs": [
    {
     "data": {
      "text/html": [
       "<div>\n",
       "<style scoped>\n",
       "    .dataframe tbody tr th:only-of-type {\n",
       "        vertical-align: middle;\n",
       "    }\n",
       "\n",
       "    .dataframe tbody tr th {\n",
       "        vertical-align: top;\n",
       "    }\n",
       "\n",
       "    .dataframe thead th {\n",
       "        text-align: right;\n",
       "    }\n",
       "</style>\n",
       "<table border=\"1\" class=\"dataframe\">\n",
       "  <thead>\n",
       "    <tr style=\"text-align: right;\">\n",
       "      <th></th>\n",
       "      <th>z</th>\n",
       "      <th>t0</th>\n",
       "      <th>magabs</th>\n",
       "      <th>magobs</th>\n",
       "      <th>amplitude</th>\n",
       "      <th>ra</th>\n",
       "      <th>dec</th>\n",
       "      <th>template</th>\n",
       "    </tr>\n",
       "  </thead>\n",
       "  <tbody>\n",
       "    <tr>\n",
       "      <th>0</th>\n",
       "      <td>0.0135</td>\n",
       "      <td>56603.335938</td>\n",
       "      <td>-16.269585</td>\n",
       "      <td>17.636774</td>\n",
       "      <td>3.020587e-15</td>\n",
       "      <td>316.705200</td>\n",
       "      <td>-35.829140</td>\n",
       "      <td>v19-2010al</td>\n",
       "    </tr>\n",
       "    <tr>\n",
       "      <th>1</th>\n",
       "      <td>0.0335</td>\n",
       "      <td>57082.238281</td>\n",
       "      <td>-16.714043</td>\n",
       "      <td>19.198025</td>\n",
       "      <td>7.171200e-16</td>\n",
       "      <td>141.125000</td>\n",
       "      <td>50.678215</td>\n",
       "      <td>v19-2010al</td>\n",
       "    </tr>\n",
       "    <tr>\n",
       "      <th>2</th>\n",
       "      <td>0.0395</td>\n",
       "      <td>56722.277344</td>\n",
       "      <td>-18.004375</td>\n",
       "      <td>18.274914</td>\n",
       "      <td>1.678170e-15</td>\n",
       "      <td>167.595474</td>\n",
       "      <td>-42.461002</td>\n",
       "      <td>v19-2010al</td>\n",
       "    </tr>\n",
       "    <tr>\n",
       "      <th>3</th>\n",
       "      <td>0.0465</td>\n",
       "      <td>56589.984375</td>\n",
       "      <td>-16.958166</td>\n",
       "      <td>19.686335</td>\n",
       "      <td>4.573695e-16</td>\n",
       "      <td>108.540947</td>\n",
       "      <td>-18.273939</td>\n",
       "      <td>v19-2010al</td>\n",
       "    </tr>\n",
       "    <tr>\n",
       "      <th>4</th>\n",
       "      <td>0.0455</td>\n",
       "      <td>56953.820312</td>\n",
       "      <td>-17.822235</td>\n",
       "      <td>18.773504</td>\n",
       "      <td>1.060229e-15</td>\n",
       "      <td>142.548676</td>\n",
       "      <td>10.587902</td>\n",
       "      <td>v19-2010al</td>\n",
       "    </tr>\n",
       "    <tr>\n",
       "      <th>...</th>\n",
       "      <td>...</td>\n",
       "      <td>...</td>\n",
       "      <td>...</td>\n",
       "      <td>...</td>\n",
       "      <td>...</td>\n",
       "      <td>...</td>\n",
       "      <td>...</td>\n",
       "      <td>...</td>\n",
       "    </tr>\n",
       "    <tr>\n",
       "      <th>3995</th>\n",
       "      <td>0.0325</td>\n",
       "      <td>56151.812500</td>\n",
       "      <td>-19.213379</td>\n",
       "      <td>16.631294</td>\n",
       "      <td>7.625766e-15</td>\n",
       "      <td>104.208183</td>\n",
       "      <td>-31.617971</td>\n",
       "      <td>v19-2010al</td>\n",
       "    </tr>\n",
       "    <tr>\n",
       "      <th>3996</th>\n",
       "      <td>0.0345</td>\n",
       "      <td>57005.480469</td>\n",
       "      <td>-18.772194</td>\n",
       "      <td>17.205326</td>\n",
       "      <td>4.494394e-15</td>\n",
       "      <td>140.128860</td>\n",
       "      <td>-14.389994</td>\n",
       "      <td>v19-2010al</td>\n",
       "    </tr>\n",
       "    <tr>\n",
       "      <th>3997</th>\n",
       "      <td>0.0175</td>\n",
       "      <td>57434.183594</td>\n",
       "      <td>-18.388599</td>\n",
       "      <td>16.087790</td>\n",
       "      <td>1.258014e-14</td>\n",
       "      <td>93.770340</td>\n",
       "      <td>-15.564441</td>\n",
       "      <td>v19-2010al</td>\n",
       "    </tr>\n",
       "    <tr>\n",
       "      <th>3998</th>\n",
       "      <td>0.0475</td>\n",
       "      <td>57287.593750</td>\n",
       "      <td>-16.604507</td>\n",
       "      <td>20.087749</td>\n",
       "      <td>3.160104e-16</td>\n",
       "      <td>328.185974</td>\n",
       "      <td>30.212753</td>\n",
       "      <td>v19-2010al</td>\n",
       "    </tr>\n",
       "    <tr>\n",
       "      <th>3999</th>\n",
       "      <td>0.0435</td>\n",
       "      <td>56393.035156</td>\n",
       "      <td>-17.539562</td>\n",
       "      <td>18.955450</td>\n",
       "      <td>8.966472e-16</td>\n",
       "      <td>135.460922</td>\n",
       "      <td>17.107702</td>\n",
       "      <td>v19-2010al</td>\n",
       "    </tr>\n",
       "  </tbody>\n",
       "</table>\n",
       "<p>4000 rows × 8 columns</p>\n",
       "</div>"
      ],
      "text/plain": [
       "           z            t0     magabs     magobs     amplitude          ra   \n",
       "0     0.0135  56603.335938 -16.269585  17.636774  3.020587e-15  316.705200  \\\n",
       "1     0.0335  57082.238281 -16.714043  19.198025  7.171200e-16  141.125000   \n",
       "2     0.0395  56722.277344 -18.004375  18.274914  1.678170e-15  167.595474   \n",
       "3     0.0465  56589.984375 -16.958166  19.686335  4.573695e-16  108.540947   \n",
       "4     0.0455  56953.820312 -17.822235  18.773504  1.060229e-15  142.548676   \n",
       "...      ...           ...        ...        ...           ...         ...   \n",
       "3995  0.0325  56151.812500 -19.213379  16.631294  7.625766e-15  104.208183   \n",
       "3996  0.0345  57005.480469 -18.772194  17.205326  4.494394e-15  140.128860   \n",
       "3997  0.0175  57434.183594 -18.388599  16.087790  1.258014e-14   93.770340   \n",
       "3998  0.0475  57287.593750 -16.604507  20.087749  3.160104e-16  328.185974   \n",
       "3999  0.0435  56393.035156 -17.539562  18.955450  8.966472e-16  135.460922   \n",
       "\n",
       "            dec    template  \n",
       "0    -35.829140  v19-2010al  \n",
       "1     50.678215  v19-2010al  \n",
       "2    -42.461002  v19-2010al  \n",
       "3    -18.273939  v19-2010al  \n",
       "4     10.587902  v19-2010al  \n",
       "...         ...         ...  \n",
       "3995 -31.617971  v19-2010al  \n",
       "3996 -14.389994  v19-2010al  \n",
       "3997 -15.564441  v19-2010al  \n",
       "3998  30.212753  v19-2010al  \n",
       "3999  17.107702  v19-2010al  \n",
       "\n",
       "[4000 rows x 8 columns]"
      ]
     },
     "execution_count": 16,
     "metadata": {},
     "output_type": "execute_result"
    }
   ],
   "source": [
    "snIIn.data"
   ]
  },
  {
   "cell_type": "code",
   "execution_count": 17,
   "id": "c46f4622",
   "metadata": {},
   "outputs": [
    {
     "data": {
      "image/png": "[encoded data removed]",
      "text/plain": [
       "<Figure size 504x288 with 1 Axes>"
      ]
     },
     "metadata": {
      "needs_background": "light"
     },
     "output_type": "display_data"
    }
   ],
   "source": [
    "_ = snIIn.show_lightcurve([\"ztfg\",\"ztfr\"], index=50)"
   ]
  },
  {
   "cell_type": "markdown",
   "id": "990f3af4",
   "metadata": {},
   "source": [
    "***"
   ]
  },
  {
   "cell_type": "markdown",
   "id": "cafde1b8",
   "metadata": {},
   "source": [
    "## Model\n",
    "\n",
    "The ``data`` (list of transients) are generated following the **model**, stored as ``self.model``."
   ]
  },
  {
   "cell_type": "markdown",
   "id": "14df0350",
   "metadata": {},
   "source": [
    "**tip**: the transient model is display (better formated) when you print the object"
   ]
  },
  {
   "cell_type": "code",
   "execution_count": 18,
   "id": "15bc8ed1",
   "metadata": {},
   "outputs": [
    {
     "data": {
      "text/plain": [
       "{'redshift': {'kwargs': {'zmax': 0.2}, 'as': 'z'},\n",
       " 'x1': {'func': <function SNeIaStretch.nicolas2021 at 0x176f54ca0>},\n",
       " 'c': {'func': <function SNeIaColor.intrinsic_and_dust at 0x16d378280>},\n",
       " 't0': {'func': <built-in method uniform of numpy.random.mtrand.RandomState object at 0x1061e2640>,\n",
       "        'kwargs': {'low': 56000, 'high': 57000}},\n",
       " 'magabs': {'func': <function SNeIaMagnitude.tripp1998 at 0x176f54d30>,\n",
       "            'kwargs': {'x1': '@x1', 'c': '@c', 'mabs': -19.3, 'sigmaint': 0.1}},\n",
       " 'magobs': {'func': 'magabs_to_magobs',\n",
       "            'kwargs': {'z': '@z', 'magabs': '@magabs'}},\n",
       " 'x0': {'func': 'magobs_to_amplitude',\n",
       "        'kwargs': {'magobs': '@magobs', 'param_name': 'x0'}},\n",
       " 'radec': {'func': 'random',\n",
       "           'kwargs': {'ra_range': [0, 360], 'dec_range': [-30, 90]},\n",
       "           'as': ['ra', 'dec']}}"
      ]
     },
     "execution_count": 18,
     "metadata": {},
     "output_type": "execute_result"
    }
   ],
   "source": [
    "snia"
   ]
  },
  {
   "cell_type": "markdown",
   "id": "8a098043",
   "metadata": {},
   "source": [
    "#### How does **model** works\n",
    "\n",
    "It is based on the [modeldag](https://github.com/MickaelRigault/modeldag) package.\n",
    "\n",
    "To generate ``data``, the code reads **model** line-by-line and follows the instructions it contains. \n",
    "\n",
    "In this SNeIa example, **model** contains 8 entries. So the generated ``data`` will contains at least 8 columns (see the *as* option).\n",
    "\n",
    "A **model** entry accepts 3 keywords:\n",
    "  1. *func*: (name of) the function used to draw the sample, e.g. np.random.uniform ;\n",
    "  2. *kwargs*: options that enter the function as kwargs. Use ``a='@key'`` to use the result of a previously drawn 'key' as `'a'` input entering func ;\n",
    "  3. *as*: (list of) name(s) of the column on the resulting ``data`` ;\n",
    "\n",
    "#### \"@\" in \"kwargs\" to form a \"DAG\"\n",
    "The *@* trick in kwargs  enables you to generate self-consistent parameters.\n",
    "\n",
    "For instance, the absolute magnitude of a SNeIa depends on its stretch and color (following the ``alpha*x_1 - beta*c `` Tripp's relation). Hence, once the ``x_1``and ``c`` (independent) variables have been drawn, the SNeIa absolute magnitude (``magabs``) can be obtained using as input the already drawn ``x_1`` and ``c`` parameters. Same goes for the observed magnitude, it only dependents on the absolute magnitude ``magabs`` and the redshift ``z``. \n",
    "\n",
    "The (potentially complex) connections between the variables enabled by using *@key* (e.g. ``@c``) corresponds to the creation a [Directed acyclic graph](https://en.wikipedia.org/wiki/Directed_acyclic_graph).\n",
    "You can complexify as you which your **model** creating as many variables and intermediate variables as you want.\n",
    "\n",
    "#### the *func* option, where to define the function\n",
    "\n",
    "The *func* option is the function that will be used to generate the dataset. In principle, it should accept ``size`` as parameters and return N=size values except if a \"@\" is used in input (for its size is alreadyu defined by the initial called key)\n",
    "\n",
    "In your **model**, the *func* option can be a function or a string. \n",
    " - a function will be used as such\n",
    " - a string will be converted in function, it typically means you input a method of the class ; though more advanced tools exist, see \"Build a new Model\" documentation."
   ]
  },
  {
   "cell_type": "markdown",
   "id": "7e3ff6c3",
   "metadata": {},
   "source": [
    "## Plotting\n",
    "\n",
    "Show a given lightcurve in any band known by sncosmo, for instance here that on the snia index 9 ``snia.data.loc[9]``\n",
    "\n",
    "### Lightcurve "
   ]
  },
  {
   "cell_type": "code",
   "execution_count": 19,
   "id": "834948cf",
   "metadata": {
    "scrolled": false
   },
   "outputs": [
    {
     "name": "stderr",
     "output_type": "stream",
     "text": [
      "/Users/rigault/miniforge3/lib/python3.9/site-packages/sncosmo/models.py:189: RuntimeWarning: invalid value encountered in log10\n",
      "  result[i] = -2.5 * np.log10(f / zpf)\n"
     ]
    },
    {
     "data": {
      "image/png": "[encoded data removed]",
      "text/plain": [
       "<Figure size 504x288 with 1 Axes>"
      ]
     },
     "metadata": {
      "needs_background": "light"
     },
     "output_type": "display_data"
    }
   ],
   "source": [
    "band = [\"ztfr\",\"ztfg\"]\n",
    "fig = snia.show_lightcurve(band, index=9, in_mag=True)"
   ]
  },
  {
   "cell_type": "markdown",
   "id": "c075f180",
   "metadata": {},
   "source": [
    "### Parameters (visualize the relation created by self.model)\n",
    "\n",
    "You can also show the scatter between any parameters. The parameter correlations have handle by your `model`"
   ]
  },
  {
   "cell_type": "code",
   "execution_count": 20,
   "id": "3c8c7e65",
   "metadata": {
    "scrolled": false
   },
   "outputs": [
    {
     "data": {
      "image/png": "[encoded data removed]",
      "text/plain": [
       "<Figure size 504x288 with 2 Axes>"
      ]
     },
     "metadata": {
      "needs_background": "light"
     },
     "output_type": "display_data"
    }
   ],
   "source": [
    "fig = snia.show_scatter(\"z\", \"magobs\", ckey=\"x1\") \n",
    "ax = fig.axes[0]\n",
    "\n",
    "_ = ax.set_ylabel(\"observed magnitude\")\n",
    "_ = ax.set_xlabel(\"redshift\")"
   ]
  },
  {
   "cell_type": "code",
   "execution_count": 21,
   "id": "b3e0cfbb",
   "metadata": {},
   "outputs": [
    {
     "data": {
      "image/png": "[encoded data removed]",
      "text/plain": [
       "<Figure size 648x216 with 2 Axes>"
      ]
     },
     "metadata": {
      "needs_background": "light"
     },
     "output_type": "display_data"
    }
   ],
   "source": [
    "import matplotlib.pyplot as plt\n",
    "fig = plt.figure(figsize=[9,3])\n",
    "ax1 = fig.add_subplot(121)\n",
    "ax2 = fig.add_subplot(122)\n",
    "\n",
    "_ = snia.show_scatter(\"x1\", \"magabs\", ckey=\"c\", ax=ax1) \n",
    "_ = snia.show_scatter(\"c\", \"magabs\", ckey=\"x1\", ax=ax2) \n",
    "\n",
    "_ = ax1.set_ylabel(\"absolute magnitude\")\n",
    "_ = ax1.set_xlabel(fr\"Stretch ($x_1$)\")\n",
    "_ = ax2.set_xlabel(fr\"Color ($c$)\")"
   ]
  },
  {
   "cell_type": "markdown",
   "id": "b0f911a5",
   "metadata": {},
   "source": [
    "## Getter\n",
    "\n",
    "You have several pre-defined method to access parameters or the template directly"
   ]
  },
  {
   "cell_type": "markdown",
   "id": "98b61027",
   "metadata": {},
   "source": [
    "### template parameters\n",
    "\n",
    "the `get_template_parameters` method enbales you to get the subpart of ``data`` that corresponds to actual template (sncosmo.Model) parameters"
   ]
  },
  {
   "cell_type": "code",
   "execution_count": 22,
   "id": "207b8213",
   "metadata": {},
   "outputs": [
    {
     "data": {
      "text/html": [
       "<div>\n",
       "<style scoped>\n",
       "    .dataframe tbody tr th:only-of-type {\n",
       "        vertical-align: middle;\n",
       "    }\n",
       "\n",
       "    .dataframe tbody tr th {\n",
       "        vertical-align: top;\n",
       "    }\n",
       "\n",
       "    .dataframe thead th {\n",
       "        text-align: right;\n",
       "    }\n",
       "</style>\n",
       "<table border=\"1\" class=\"dataframe\">\n",
       "  <thead>\n",
       "    <tr style=\"text-align: right;\">\n",
       "      <th></th>\n",
       "      <th>z</th>\n",
       "      <th>x1</th>\n",
       "      <th>c</th>\n",
       "      <th>t0</th>\n",
       "      <th>x0</th>\n",
       "    </tr>\n",
       "  </thead>\n",
       "  <tbody>\n",
       "    <tr>\n",
       "      <th>0</th>\n",
       "      <td>0.1095</td>\n",
       "      <td>-0.60</td>\n",
       "      <td>-1.500000e-01</td>\n",
       "      <td>56517.967681</td>\n",
       "      <td>0.000425</td>\n",
       "    </tr>\n",
       "    <tr>\n",
       "      <th>1</th>\n",
       "      <td>0.0905</td>\n",
       "      <td>0.30</td>\n",
       "      <td>6.000000e-02</td>\n",
       "      <td>56364.946816</td>\n",
       "      <td>0.000390</td>\n",
       "    </tr>\n",
       "    <tr>\n",
       "      <th>2</th>\n",
       "      <td>0.1935</td>\n",
       "      <td>1.15</td>\n",
       "      <td>-4.000000e-02</td>\n",
       "      <td>56054.140675</td>\n",
       "      <td>0.000112</td>\n",
       "    </tr>\n",
       "    <tr>\n",
       "      <th>3</th>\n",
       "      <td>0.1825</td>\n",
       "      <td>1.20</td>\n",
       "      <td>3.000000e-02</td>\n",
       "      <td>56109.130970</td>\n",
       "      <td>0.000105</td>\n",
       "    </tr>\n",
       "    <tr>\n",
       "      <th>4</th>\n",
       "      <td>0.1715</td>\n",
       "      <td>0.90</td>\n",
       "      <td>7.000000e-02</td>\n",
       "      <td>56876.907700</td>\n",
       "      <td>0.000103</td>\n",
       "    </tr>\n",
       "    <tr>\n",
       "      <th>...</th>\n",
       "      <td>...</td>\n",
       "      <td>...</td>\n",
       "      <td>...</td>\n",
       "      <td>...</td>\n",
       "      <td>...</td>\n",
       "    </tr>\n",
       "    <tr>\n",
       "      <th>9995</th>\n",
       "      <td>0.1955</td>\n",
       "      <td>1.40</td>\n",
       "      <td>4.000000e-02</td>\n",
       "      <td>56042.622210</td>\n",
       "      <td>0.000090</td>\n",
       "    </tr>\n",
       "    <tr>\n",
       "      <th>9996</th>\n",
       "      <td>0.1745</td>\n",
       "      <td>0.60</td>\n",
       "      <td>-9.000000e-02</td>\n",
       "      <td>56529.363219</td>\n",
       "      <td>0.000152</td>\n",
       "    </tr>\n",
       "    <tr>\n",
       "      <th>9997</th>\n",
       "      <td>0.0855</td>\n",
       "      <td>-1.15</td>\n",
       "      <td>-5.000000e-02</td>\n",
       "      <td>56015.677557</td>\n",
       "      <td>0.000502</td>\n",
       "    </tr>\n",
       "    <tr>\n",
       "      <th>9998</th>\n",
       "      <td>0.1635</td>\n",
       "      <td>-1.95</td>\n",
       "      <td>2.775558e-16</td>\n",
       "      <td>56392.338277</td>\n",
       "      <td>0.000097</td>\n",
       "    </tr>\n",
       "    <tr>\n",
       "      <th>9999</th>\n",
       "      <td>0.1675</td>\n",
       "      <td>0.60</td>\n",
       "      <td>2.000000e-01</td>\n",
       "      <td>56154.150292</td>\n",
       "      <td>0.000071</td>\n",
       "    </tr>\n",
       "  </tbody>\n",
       "</table>\n",
       "<p>10000 rows × 5 columns</p>\n",
       "</div>"
      ],
      "text/plain": [
       "           z    x1             c            t0        x0\n",
       "0     0.1095 -0.60 -1.500000e-01  56517.967681  0.000425\n",
       "1     0.0905  0.30  6.000000e-02  56364.946816  0.000390\n",
       "2     0.1935  1.15 -4.000000e-02  56054.140675  0.000112\n",
       "3     0.1825  1.20  3.000000e-02  56109.130970  0.000105\n",
       "4     0.1715  0.90  7.000000e-02  56876.907700  0.000103\n",
       "...      ...   ...           ...           ...       ...\n",
       "9995  0.1955  1.40  4.000000e-02  56042.622210  0.000090\n",
       "9996  0.1745  0.60 -9.000000e-02  56529.363219  0.000152\n",
       "9997  0.0855 -1.15 -5.000000e-02  56015.677557  0.000502\n",
       "9998  0.1635 -1.95  2.775558e-16  56392.338277  0.000097\n",
       "9999  0.1675  0.60  2.000000e-01  56154.150292  0.000071\n",
       "\n",
       "[10000 rows x 5 columns]"
      ]
     },
     "execution_count": 22,
     "metadata": {},
     "output_type": "execute_result"
    }
   ],
   "source": [
    "snia.get_template_parameters()"
   ]
  },
  {
   "cell_type": "markdown",
   "id": "ffdf15a5",
   "metadata": {},
   "source": [
    "You can also request to only have the template parameter for a given target\n",
    "(similar to as `snia.get_template_parameters().loc[index]`)"
   ]
  },
  {
   "cell_type": "code",
   "execution_count": 23,
   "id": "8b5cfd83",
   "metadata": {},
   "outputs": [
    {
     "data": {
      "text/plain": [
       "z         0.173500\n",
       "x1       -0.950000\n",
       "c         0.070000\n",
       "t0    56825.027215\n",
       "x0        0.000079\n",
       "Name: 9, dtype: float64"
      ]
     },
     "execution_count": 23,
     "metadata": {},
     "output_type": "execute_result"
    }
   ],
   "source": [
    "snia.get_template_parameters(index=9)"
   ]
  },
  {
   "cell_type": "markdown",
   "id": "7bf650d3",
   "metadata": {},
   "source": [
    "### Template (sncosmo.Model)\n",
    "\n",
    "You can get a template (sncosmo.Model) either with default values"
   ]
  },
  {
   "cell_type": "code",
   "execution_count": 24,
   "id": "767e77a1",
   "metadata": {},
   "outputs": [],
   "source": [
    "template = snia.get_template() # default"
   ]
  },
  {
   "cell_type": "code",
   "execution_count": 25,
   "id": "17ad1367",
   "metadata": {},
   "outputs": [
    {
     "data": {
      "text/plain": [
       "<sncosmo.models.Model at 0x16c8739d0>"
      ]
     },
     "execution_count": 25,
     "metadata": {},
     "output_type": "execute_result"
    }
   ],
   "source": [
    "template"
   ]
  },
  {
   "cell_type": "code",
   "execution_count": 26,
   "id": "0d41898a",
   "metadata": {},
   "outputs": [
    {
     "data": {
      "text/plain": [
       "array([0. , 0. , 1. , 0. , 0. , 0. , 3.1])"
      ]
     },
     "execution_count": 26,
     "metadata": {},
     "output_type": "execute_result"
    }
   ],
   "source": [
    "template.parameters"
   ]
  },
  {
   "cell_type": "markdown",
   "id": "5199c94e",
   "metadata": {},
   "source": [
    "or with parameter set to that of a target "
   ]
  },
  {
   "cell_type": "code",
   "execution_count": 27,
   "id": "5f39042f",
   "metadata": {},
   "outputs": [
    {
     "data": {
      "text/plain": [
       "array([ 1.73500000e-01,  5.68250272e+04,  7.89874808e-05, -9.50000000e-01,\n",
       "        7.00000000e-02,  0.00000000e+00,  3.10000000e+00])"
      ]
     },
     "execution_count": 27,
     "metadata": {},
     "output_type": "execute_result"
    }
   ],
   "source": [
    "template_target9 = snia.get_template(index=9) \n",
    "template_target9.parameters"
   ]
  },
  {
   "cell_type": "markdown",
   "id": "3fecddde",
   "metadata": {},
   "source": [
    "or affecting parameters"
   ]
  },
  {
   "cell_type": "code",
   "execution_count": 28,
   "id": "5b42ec47",
   "metadata": {},
   "outputs": [
    {
     "data": {
      "text/plain": [
       "array([ 1.73500000e-01,  5.68250272e+04,  7.89874808e-05, -5.00000000e+00,\n",
       "        7.00000000e-02,  0.00000000e+00,  3.10000000e+00])"
      ]
     },
     "execution_count": 28,
     "metadata": {},
     "output_type": "execute_result"
    }
   ],
   "source": [
    "template_target9 = snia.get_template(index=9, x1=-5) \n",
    "template_target9.parameters"
   ]
  }
 ],
 "metadata": {
  "kernelspec": {
   "display_name": "Python 3 (ipykernel)",
   "language": "python",
   "name": "python3"
  },
  "language_info": {
   "codemirror_mode": {
    "name": "ipython",
    "version": 3
   },
   "file_extension": ".py",
   "mimetype": "text/x-python",
   "name": "python",
   "nbconvert_exporter": "python",
   "pygments_lexer": "ipython3",
   "version": "3.9.16"
  }
 },
 "nbformat": 4,
 "nbformat_minor": 5
}
