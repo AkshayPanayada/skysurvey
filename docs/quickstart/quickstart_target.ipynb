{
 "cells": [
  {
   "cell_type": "markdown",
   "id": "b60ec1f5",
   "metadata": {},
   "source": [
    "# quickstart with transients\n",
    "\n",
    "\n",
    "The `Transient` object has a **rate**, a **template** and a **model**.\n",
    "\n",
    "- The **rate** informs on how many target we expect to have in nature for a redshift range. *This is a float*\n",
    "\n",
    "- The **model** specifies how the template parameters are drawn. *This is a dict.*\n",
    "\n",
    "- The **template** provides the spectro-photometric time serie of the transient given input parameters. *This is based on sncosmo.Model*\n",
    "\n",
    "The first two enables you to draw a sample of transients as given by nature. This last one is needed only if you want to get the transient lightcurves (hence, notably, when you create a dataset). \n",
    "\n",
    "Two sets of transient have already been implemented:\n",
    "- SNeIa (based on salt2 or salt3)\n",
    "- A generic Transient associated to any single sncosmo.TimeSerieSource (see the list [here](https://sncosmo.readthedocs.io/en/stable/source-list.html))"
   ]
  },
  {
   "cell_type": "markdown",
   "id": "a1ab19d6",
   "metadata": {},
   "source": [
    "## SNeIa and \"v19-2010al (a type IIb)\" Examples"
   ]
  },
  {
   "cell_type": "code",
   "execution_count": 3,
   "id": "3dcbaca7",
   "metadata": {},
   "outputs": [],
   "source": [
    "from skysurvey import target"
   ]
  },
  {
   "cell_type": "markdown",
   "id": "87b6af94",
   "metadata": {},
   "source": [
    "Let's start with Type Ia Supernovae.\n",
    "\n",
    "The **SNeIa** Transient is already defined and ready to use. "
   ]
  },
  {
   "cell_type": "code",
   "execution_count": 4,
   "id": "5e6aa32a",
   "metadata": {},
   "outputs": [],
   "source": [
    "snia = target.SNeIa()"
   ]
  },
  {
   "cell_type": "markdown",
   "id": "587100e9",
   "metadata": {},
   "source": [
    "### template, rate and model\n",
    "\n",
    "**The following methods and attribute are commun to all transients ; sneia here is just an example**"
   ]
  },
  {
   "cell_type": "markdown",
   "id": "1887ac38",
   "metadata": {},
   "source": [
    "#### template\n",
    "the `template` (skysurvey object) is stored here"
   ]
  },
  {
   "cell_type": "code",
   "execution_count": 5,
   "id": "1c413f80",
   "metadata": {},
   "outputs": [
    {
     "data": {
      "text/plain": [
       "<skysurvey.template.Template at 0x1067749d0>"
      ]
     },
     "execution_count": 5,
     "metadata": {},
     "output_type": "execute_result"
    }
   ],
   "source": [
    "snia.template"
   ]
  },
  {
   "cell_type": "markdown",
   "id": "6c16c1db",
   "metadata": {},
   "source": [
    "and it's main attibute is the sncosmo_model up on which the template methods are built"
   ]
  },
  {
   "cell_type": "code",
   "execution_count": 6,
   "id": "81afc6ef",
   "metadata": {},
   "outputs": [
    {
     "data": {
      "text/plain": [
       "<sncosmo.models.Model at 0x16eaa93a0>"
      ]
     },
     "execution_count": 6,
     "metadata": {},
     "output_type": "execute_result"
    }
   ],
   "source": [
    "snia.template.sncosmo_model"
   ]
  },
  {
   "cell_type": "code",
   "execution_count": 7,
   "id": "9f0ede72",
   "metadata": {},
   "outputs": [
    {
     "data": {
      "text/plain": [
       "<SALT2Source 'salt2' version='2.4' at 0x106774af0>"
      ]
     },
     "execution_count": 7,
     "metadata": {},
     "output_type": "execute_result"
    }
   ],
   "source": [
    "snia.template.source # short cut to snia.template.sncosmo_model.source"
   ]
  },
  {
   "cell_type": "markdown",
   "id": "6fb5bc99",
   "metadata": {},
   "source": [
    "the template parameters are here (shortcut to `snia.template.parameters`)"
   ]
  },
  {
   "cell_type": "code",
   "execution_count": 8,
   "id": "fcbf1987",
   "metadata": {},
   "outputs": [
    {
     "data": {
      "text/plain": [
       "['z', 't0', 'x0', 'x1', 'c', 'mwebv', 'mwr_v']"
      ]
     },
     "execution_count": 8,
     "metadata": {},
     "output_type": "execute_result"
    }
   ],
   "source": [
    "snia.template_parameters # short"
   ]
  },
  {
   "cell_type": "markdown",
   "id": "26165cd7",
   "metadata": {},
   "source": [
    "#### rate\n",
    "\n",
    "Transient have the volume_rate parameter that provide the number of transient expected per year and per $Gpc^3$"
   ]
  },
  {
   "cell_type": "code",
   "execution_count": 9,
   "id": "9b71cbfe",
   "metadata": {},
   "outputs": [
    {
     "data": {
      "text/plain": [
       "23500.0"
      ]
     },
     "execution_count": 9,
     "metadata": {},
     "output_type": "execute_result"
    }
   ],
   "source": [
    "snia.volume_rate # in target/Gpc^3/year"
   ]
  },
  {
   "cell_type": "markdown",
   "id": "afb0367a",
   "metadata": {},
   "source": [
    "To get the number of expected transient in a redshift shell (full sky volume)  use `get_rate(z)`."
   ]
  },
  {
   "cell_type": "code",
   "execution_count": 10,
   "id": "fea5fa38",
   "metadata": {},
   "outputs": [
    {
     "data": {
      "text/plain": [
       "7967.328115462929"
      ]
     },
     "execution_count": 10,
     "metadata": {},
     "output_type": "execute_result"
    }
   ],
   "source": [
    "snia.get_rate(0.1) # Nature should provide ~8000 SNeIa (full sky) up to z=0.1"
   ]
  },
  {
   "cell_type": "markdown",
   "id": "d5c772b0",
   "metadata": {},
   "source": [
    "#### model\n",
    "\n",
    "The model is the core of what defines a transient. It provides how the template parameters are generated"
   ]
  },
  {
   "cell_type": "code",
   "execution_count": 11,
   "id": "bed137ac",
   "metadata": {},
   "outputs": [
    {
     "name": "stdout",
     "output_type": "stream",
     "text": [
      "{'c': {'model': 'intrinsic_and_dust'},\n",
      " 'magabs': {'input': ['x1', 'c'],\n",
      "            'model': 'tripp1998',\n",
      "            'param': {'mabs': -19.3, 'sigmaint': 0.1}},\n",
      " 'magobs': {'input': ['z', 'magabs'], 'model': 'magabs_to_magobs'},\n",
      " 'radec': {'as': ['ra', 'dec'],\n",
      "           'model': 'random',\n",
      "           'param': {'dec_range': [-30, 90], 'ra_range': [0, 360]}},\n",
      " 'redshift': {'as': 'z', 'param': {'zmax': 0.2}},\n",
      " 't0': {'model': 'uniform', 'param': {'mjd_range': [59000, 60460]}},\n",
      " 'x0': {'input': ['magobs'],\n",
      "        'model': 'magobs_to_amplitude',\n",
      "        'param': {'param_name': 'x0'}},\n",
      " 'x1': {'model': 'nicolas2021'}}\n"
     ]
    }
   ],
   "source": [
    "from pprint import pprint\n",
    "pprint(snia.model)"
   ]
  },
  {
   "cell_type": "markdown",
   "id": "2e0ed2b3",
   "metadata": {},
   "source": [
    "See details below"
   ]
  },
  {
   "cell_type": "markdown",
   "id": "0f478941",
   "metadata": {},
   "source": [
    "## Draw a sample (as given by nature)"
   ]
  },
  {
   "cell_type": "markdown",
   "id": "c7a2aab8",
   "metadata": {},
   "source": [
    "You can then draw as many SNeIa as you want. The parameters will be drawn following the transient's model (see below).\n",
    "These are SNeIa as given by nature following this model."
   ]
  },
  {
   "cell_type": "code",
   "execution_count": 12,
   "id": "3a2f61f7",
   "metadata": {},
   "outputs": [
    {
     "name": "stdout",
     "output_type": "stream",
     "text": [
      "CPU times: user 114 ms, sys: 7.34 ms, total: 122 ms\n",
      "Wall time: 121 ms\n"
     ]
    }
   ],
   "source": [
    "%%time\n",
    "data = snia.draw(size=10000)"
   ]
  },
  {
   "cell_type": "code",
   "execution_count": 13,
   "id": "5be5715b",
   "metadata": {},
   "outputs": [
    {
     "data": {
      "text/html": [
       "<div>\n",
       "<style scoped>\n",
       "    .dataframe tbody tr th:only-of-type {\n",
       "        vertical-align: middle;\n",
       "    }\n",
       "\n",
       "    .dataframe tbody tr th {\n",
       "        vertical-align: top;\n",
       "    }\n",
       "\n",
       "    .dataframe thead th {\n",
       "        text-align: right;\n",
       "    }\n",
       "</style>\n",
       "<table border=\"1\" class=\"dataframe\">\n",
       "  <thead>\n",
       "    <tr style=\"text-align: right;\">\n",
       "      <th></th>\n",
       "      <th>z</th>\n",
       "      <th>x1</th>\n",
       "      <th>c</th>\n",
       "      <th>t0</th>\n",
       "      <th>magabs</th>\n",
       "      <th>magobs</th>\n",
       "      <th>x0</th>\n",
       "      <th>ra</th>\n",
       "      <th>dec</th>\n",
       "    </tr>\n",
       "  </thead>\n",
       "  <tbody>\n",
       "    <tr>\n",
       "      <th>0</th>\n",
       "      <td>0.1505</td>\n",
       "      <td>-0.307</td>\n",
       "      <td>0.104</td>\n",
       "      <td>60031.140502</td>\n",
       "      <td>-18.927005</td>\n",
       "      <td>20.417992</td>\n",
       "      <td>0.000108</td>\n",
       "      <td>126.751359</td>\n",
       "      <td>11.324973</td>\n",
       "    </tr>\n",
       "    <tr>\n",
       "      <th>1</th>\n",
       "      <td>0.1375</td>\n",
       "      <td>0.017</td>\n",
       "      <td>0.010</td>\n",
       "      <td>60031.140502</td>\n",
       "      <td>-19.268465</td>\n",
       "      <td>19.862794</td>\n",
       "      <td>0.000180</td>\n",
       "      <td>283.863368</td>\n",
       "      <td>-12.806925</td>\n",
       "    </tr>\n",
       "    <tr>\n",
       "      <th>2</th>\n",
       "      <td>0.1935</td>\n",
       "      <td>0.999</td>\n",
       "      <td>0.139</td>\n",
       "      <td>60031.140502</td>\n",
       "      <td>-18.999595</td>\n",
       "      <td>20.947026</td>\n",
       "      <td>0.000066</td>\n",
       "      <td>341.946485</td>\n",
       "      <td>-10.811975</td>\n",
       "    </tr>\n",
       "    <tr>\n",
       "      <th>3</th>\n",
       "      <td>0.1805</td>\n",
       "      <td>-0.131</td>\n",
       "      <td>0.272</td>\n",
       "      <td>60031.140502</td>\n",
       "      <td>-18.422445</td>\n",
       "      <td>21.356606</td>\n",
       "      <td>0.000046</td>\n",
       "      <td>243.223840</td>\n",
       "      <td>-12.442629</td>\n",
       "    </tr>\n",
       "    <tr>\n",
       "      <th>4</th>\n",
       "      <td>0.1635</td>\n",
       "      <td>-0.783</td>\n",
       "      <td>-0.054</td>\n",
       "      <td>60031.140502</td>\n",
       "      <td>-19.358065</td>\n",
       "      <td>20.184091</td>\n",
       "      <td>0.000134</td>\n",
       "      <td>56.045708</td>\n",
       "      <td>62.736977</td>\n",
       "    </tr>\n",
       "    <tr>\n",
       "      <th>...</th>\n",
       "      <td>...</td>\n",
       "      <td>...</td>\n",
       "      <td>...</td>\n",
       "      <td>...</td>\n",
       "      <td>...</td>\n",
       "      <td>...</td>\n",
       "      <td>...</td>\n",
       "      <td>...</td>\n",
       "      <td>...</td>\n",
       "    </tr>\n",
       "    <tr>\n",
       "      <th>9995</th>\n",
       "      <td>0.1685</td>\n",
       "      <td>0.723</td>\n",
       "      <td>0.067</td>\n",
       "      <td>60031.140502</td>\n",
       "      <td>-19.187755</td>\n",
       "      <td>20.426365</td>\n",
       "      <td>0.000107</td>\n",
       "      <td>98.694636</td>\n",
       "      <td>-16.852740</td>\n",
       "    </tr>\n",
       "    <tr>\n",
       "      <th>9996</th>\n",
       "      <td>0.0915</td>\n",
       "      <td>0.006</td>\n",
       "      <td>0.149</td>\n",
       "      <td>60031.140502</td>\n",
       "      <td>-18.829075</td>\n",
       "      <td>19.352955</td>\n",
       "      <td>0.000288</td>\n",
       "      <td>118.133503</td>\n",
       "      <td>0.472753</td>\n",
       "    </tr>\n",
       "    <tr>\n",
       "      <th>9997</th>\n",
       "      <td>0.1825</td>\n",
       "      <td>0.969</td>\n",
       "      <td>-0.095</td>\n",
       "      <td>60031.140502</td>\n",
       "      <td>-19.732495</td>\n",
       "      <td>20.073050</td>\n",
       "      <td>0.000148</td>\n",
       "      <td>269.794638</td>\n",
       "      <td>24.529923</td>\n",
       "    </tr>\n",
       "    <tr>\n",
       "      <th>9998</th>\n",
       "      <td>0.1895</td>\n",
       "      <td>0.853</td>\n",
       "      <td>-0.012</td>\n",
       "      <td>60031.140502</td>\n",
       "      <td>-19.454805</td>\n",
       "      <td>20.441396</td>\n",
       "      <td>0.000106</td>\n",
       "      <td>43.803984</td>\n",
       "      <td>1.502435</td>\n",
       "    </tr>\n",
       "    <tr>\n",
       "      <th>9999</th>\n",
       "      <td>0.1135</td>\n",
       "      <td>-1.555</td>\n",
       "      <td>0.146</td>\n",
       "      <td>60031.140502</td>\n",
       "      <td>-18.619985</td>\n",
       "      <td>20.061449</td>\n",
       "      <td>0.000150</td>\n",
       "      <td>62.030340</td>\n",
       "      <td>45.308621</td>\n",
       "    </tr>\n",
       "  </tbody>\n",
       "</table>\n",
       "<p>10000 rows × 9 columns</p>\n",
       "</div>"
      ],
      "text/plain": [
       "           z     x1      c            t0     magabs     magobs        x0  \\\n",
       "0     0.1505 -0.307  0.104  60031.140502 -18.927005  20.417992  0.000108   \n",
       "1     0.1375  0.017  0.010  60031.140502 -19.268465  19.862794  0.000180   \n",
       "2     0.1935  0.999  0.139  60031.140502 -18.999595  20.947026  0.000066   \n",
       "3     0.1805 -0.131  0.272  60031.140502 -18.422445  21.356606  0.000046   \n",
       "4     0.1635 -0.783 -0.054  60031.140502 -19.358065  20.184091  0.000134   \n",
       "...      ...    ...    ...           ...        ...        ...       ...   \n",
       "9995  0.1685  0.723  0.067  60031.140502 -19.187755  20.426365  0.000107   \n",
       "9996  0.0915  0.006  0.149  60031.140502 -18.829075  19.352955  0.000288   \n",
       "9997  0.1825  0.969 -0.095  60031.140502 -19.732495  20.073050  0.000148   \n",
       "9998  0.1895  0.853 -0.012  60031.140502 -19.454805  20.441396  0.000106   \n",
       "9999  0.1135 -1.555  0.146  60031.140502 -18.619985  20.061449  0.000150   \n",
       "\n",
       "              ra        dec  \n",
       "0     126.751359  11.324973  \n",
       "1     283.863368 -12.806925  \n",
       "2     341.946485 -10.811975  \n",
       "3     243.223840 -12.442629  \n",
       "4      56.045708  62.736977  \n",
       "...          ...        ...  \n",
       "9995   98.694636 -16.852740  \n",
       "9996  118.133503   0.472753  \n",
       "9997  269.794638  24.529923  \n",
       "9998   43.803984   1.502435  \n",
       "9999   62.030340  45.308621  \n",
       "\n",
       "[10000 rows x 9 columns]"
      ]
     },
     "execution_count": 13,
     "metadata": {},
     "output_type": "execute_result"
    }
   ],
   "source": [
    "data # another copy is stored as snia.data"
   ]
  },
  {
   "cell_type": "code",
   "execution_count": 14,
   "id": "310ea5b2",
   "metadata": {},
   "outputs": [
    {
     "data": {
      "text/html": [
       "<div>\n",
       "<style scoped>\n",
       "    .dataframe tbody tr th:only-of-type {\n",
       "        vertical-align: middle;\n",
       "    }\n",
       "\n",
       "    .dataframe tbody tr th {\n",
       "        vertical-align: top;\n",
       "    }\n",
       "\n",
       "    .dataframe thead th {\n",
       "        text-align: right;\n",
       "    }\n",
       "</style>\n",
       "<table border=\"1\" class=\"dataframe\">\n",
       "  <thead>\n",
       "    <tr style=\"text-align: right;\">\n",
       "      <th></th>\n",
       "      <th>z</th>\n",
       "      <th>x1</th>\n",
       "      <th>c</th>\n",
       "      <th>t0</th>\n",
       "      <th>magabs</th>\n",
       "      <th>magobs</th>\n",
       "      <th>x0</th>\n",
       "      <th>ra</th>\n",
       "      <th>dec</th>\n",
       "    </tr>\n",
       "  </thead>\n",
       "  <tbody>\n",
       "    <tr>\n",
       "      <th>0</th>\n",
       "      <td>0.1505</td>\n",
       "      <td>-0.307</td>\n",
       "      <td>0.104</td>\n",
       "      <td>60031.140502</td>\n",
       "      <td>-18.927005</td>\n",
       "      <td>20.417992</td>\n",
       "      <td>0.000108</td>\n",
       "      <td>126.751359</td>\n",
       "      <td>11.324973</td>\n",
       "    </tr>\n",
       "    <tr>\n",
       "      <th>1</th>\n",
       "      <td>0.1375</td>\n",
       "      <td>0.017</td>\n",
       "      <td>0.010</td>\n",
       "      <td>60031.140502</td>\n",
       "      <td>-19.268465</td>\n",
       "      <td>19.862794</td>\n",
       "      <td>0.000180</td>\n",
       "      <td>283.863368</td>\n",
       "      <td>-12.806925</td>\n",
       "    </tr>\n",
       "    <tr>\n",
       "      <th>2</th>\n",
       "      <td>0.1935</td>\n",
       "      <td>0.999</td>\n",
       "      <td>0.139</td>\n",
       "      <td>60031.140502</td>\n",
       "      <td>-18.999595</td>\n",
       "      <td>20.947026</td>\n",
       "      <td>0.000066</td>\n",
       "      <td>341.946485</td>\n",
       "      <td>-10.811975</td>\n",
       "    </tr>\n",
       "    <tr>\n",
       "      <th>3</th>\n",
       "      <td>0.1805</td>\n",
       "      <td>-0.131</td>\n",
       "      <td>0.272</td>\n",
       "      <td>60031.140502</td>\n",
       "      <td>-18.422445</td>\n",
       "      <td>21.356606</td>\n",
       "      <td>0.000046</td>\n",
       "      <td>243.223840</td>\n",
       "      <td>-12.442629</td>\n",
       "    </tr>\n",
       "    <tr>\n",
       "      <th>4</th>\n",
       "      <td>0.1635</td>\n",
       "      <td>-0.783</td>\n",
       "      <td>-0.054</td>\n",
       "      <td>60031.140502</td>\n",
       "      <td>-19.358065</td>\n",
       "      <td>20.184091</td>\n",
       "      <td>0.000134</td>\n",
       "      <td>56.045708</td>\n",
       "      <td>62.736977</td>\n",
       "    </tr>\n",
       "    <tr>\n",
       "      <th>...</th>\n",
       "      <td>...</td>\n",
       "      <td>...</td>\n",
       "      <td>...</td>\n",
       "      <td>...</td>\n",
       "      <td>...</td>\n",
       "      <td>...</td>\n",
       "      <td>...</td>\n",
       "      <td>...</td>\n",
       "      <td>...</td>\n",
       "    </tr>\n",
       "    <tr>\n",
       "      <th>9995</th>\n",
       "      <td>0.1685</td>\n",
       "      <td>0.723</td>\n",
       "      <td>0.067</td>\n",
       "      <td>60031.140502</td>\n",
       "      <td>-19.187755</td>\n",
       "      <td>20.426365</td>\n",
       "      <td>0.000107</td>\n",
       "      <td>98.694636</td>\n",
       "      <td>-16.852740</td>\n",
       "    </tr>\n",
       "    <tr>\n",
       "      <th>9996</th>\n",
       "      <td>0.0915</td>\n",
       "      <td>0.006</td>\n",
       "      <td>0.149</td>\n",
       "      <td>60031.140502</td>\n",
       "      <td>-18.829075</td>\n",
       "      <td>19.352955</td>\n",
       "      <td>0.000288</td>\n",
       "      <td>118.133503</td>\n",
       "      <td>0.472753</td>\n",
       "    </tr>\n",
       "    <tr>\n",
       "      <th>9997</th>\n",
       "      <td>0.1825</td>\n",
       "      <td>0.969</td>\n",
       "      <td>-0.095</td>\n",
       "      <td>60031.140502</td>\n",
       "      <td>-19.732495</td>\n",
       "      <td>20.073050</td>\n",
       "      <td>0.000148</td>\n",
       "      <td>269.794638</td>\n",
       "      <td>24.529923</td>\n",
       "    </tr>\n",
       "    <tr>\n",
       "      <th>9998</th>\n",
       "      <td>0.1895</td>\n",
       "      <td>0.853</td>\n",
       "      <td>-0.012</td>\n",
       "      <td>60031.140502</td>\n",
       "      <td>-19.454805</td>\n",
       "      <td>20.441396</td>\n",
       "      <td>0.000106</td>\n",
       "      <td>43.803984</td>\n",
       "      <td>1.502435</td>\n",
       "    </tr>\n",
       "    <tr>\n",
       "      <th>9999</th>\n",
       "      <td>0.1135</td>\n",
       "      <td>-1.555</td>\n",
       "      <td>0.146</td>\n",
       "      <td>60031.140502</td>\n",
       "      <td>-18.619985</td>\n",
       "      <td>20.061449</td>\n",
       "      <td>0.000150</td>\n",
       "      <td>62.030340</td>\n",
       "      <td>45.308621</td>\n",
       "    </tr>\n",
       "  </tbody>\n",
       "</table>\n",
       "<p>10000 rows × 9 columns</p>\n",
       "</div>"
      ],
      "text/plain": [
       "           z     x1      c            t0     magabs     magobs        x0  \\\n",
       "0     0.1505 -0.307  0.104  60031.140502 -18.927005  20.417992  0.000108   \n",
       "1     0.1375  0.017  0.010  60031.140502 -19.268465  19.862794  0.000180   \n",
       "2     0.1935  0.999  0.139  60031.140502 -18.999595  20.947026  0.000066   \n",
       "3     0.1805 -0.131  0.272  60031.140502 -18.422445  21.356606  0.000046   \n",
       "4     0.1635 -0.783 -0.054  60031.140502 -19.358065  20.184091  0.000134   \n",
       "...      ...    ...    ...           ...        ...        ...       ...   \n",
       "9995  0.1685  0.723  0.067  60031.140502 -19.187755  20.426365  0.000107   \n",
       "9996  0.0915  0.006  0.149  60031.140502 -18.829075  19.352955  0.000288   \n",
       "9997  0.1825  0.969 -0.095  60031.140502 -19.732495  20.073050  0.000148   \n",
       "9998  0.1895  0.853 -0.012  60031.140502 -19.454805  20.441396  0.000106   \n",
       "9999  0.1135 -1.555  0.146  60031.140502 -18.619985  20.061449  0.000150   \n",
       "\n",
       "              ra        dec  \n",
       "0     126.751359  11.324973  \n",
       "1     283.863368 -12.806925  \n",
       "2     341.946485 -10.811975  \n",
       "3     243.223840 -12.442629  \n",
       "4      56.045708  62.736977  \n",
       "...          ...        ...  \n",
       "9995   98.694636 -16.852740  \n",
       "9996  118.133503   0.472753  \n",
       "9997  269.794638  24.529923  \n",
       "9998   43.803984   1.502435  \n",
       "9999   62.030340  45.308621  \n",
       "\n",
       "[10000 rows x 9 columns]"
      ]
     },
     "execution_count": 14,
     "metadata": {},
     "output_type": "execute_result"
    }
   ],
   "source": [
    "snia.data"
   ]
  },
  {
   "cell_type": "markdown",
   "id": "e50717af",
   "metadata": {},
   "source": [
    "**Tip**: You can  directly use the ``from_draw()`` classmethod to load a transient instance already drawn."
   ]
  },
  {
   "cell_type": "code",
   "execution_count": 15,
   "id": "01717a75",
   "metadata": {},
   "outputs": [
    {
     "name": "stdout",
     "output_type": "stream",
     "text": [
      "CPU times: user 101 ms, sys: 3.36 ms, total: 105 ms\n",
      "Wall time: 104 ms\n"
     ]
    }
   ],
   "source": [
    "%%time\n",
    "snia = target.SNeIa.from_draw(10000)"
   ]
  },
  {
   "cell_type": "code",
   "execution_count": 16,
   "id": "94941134",
   "metadata": {},
   "outputs": [
    {
     "data": {
      "text/html": [
       "<div>\n",
       "<style scoped>\n",
       "    .dataframe tbody tr th:only-of-type {\n",
       "        vertical-align: middle;\n",
       "    }\n",
       "\n",
       "    .dataframe tbody tr th {\n",
       "        vertical-align: top;\n",
       "    }\n",
       "\n",
       "    .dataframe thead th {\n",
       "        text-align: right;\n",
       "    }\n",
       "</style>\n",
       "<table border=\"1\" class=\"dataframe\">\n",
       "  <thead>\n",
       "    <tr style=\"text-align: right;\">\n",
       "      <th></th>\n",
       "      <th>z</th>\n",
       "      <th>x1</th>\n",
       "      <th>c</th>\n",
       "      <th>t0</th>\n",
       "      <th>magabs</th>\n",
       "      <th>magobs</th>\n",
       "      <th>x0</th>\n",
       "      <th>ra</th>\n",
       "      <th>dec</th>\n",
       "    </tr>\n",
       "  </thead>\n",
       "  <tbody>\n",
       "    <tr>\n",
       "      <th>0</th>\n",
       "      <td>0.1915</td>\n",
       "      <td>0.536</td>\n",
       "      <td>0.026</td>\n",
       "      <td>60343.692508</td>\n",
       "      <td>-19.403799</td>\n",
       "      <td>20.517734</td>\n",
       "      <td>0.000099</td>\n",
       "      <td>289.300600</td>\n",
       "      <td>47.528386</td>\n",
       "    </tr>\n",
       "    <tr>\n",
       "      <th>1</th>\n",
       "      <td>0.1505</td>\n",
       "      <td>0.902</td>\n",
       "      <td>0.170</td>\n",
       "      <td>60343.692508</td>\n",
       "      <td>-19.001439</td>\n",
       "      <td>20.343558</td>\n",
       "      <td>0.000116</td>\n",
       "      <td>355.623176</td>\n",
       "      <td>28.081115</td>\n",
       "    </tr>\n",
       "    <tr>\n",
       "      <th>2</th>\n",
       "      <td>0.1455</td>\n",
       "      <td>-0.185</td>\n",
       "      <td>0.021</td>\n",
       "      <td>60343.692508</td>\n",
       "      <td>-19.318609</td>\n",
       "      <td>19.946301</td>\n",
       "      <td>0.000167</td>\n",
       "      <td>276.719720</td>\n",
       "      <td>32.764244</td>\n",
       "    </tr>\n",
       "    <tr>\n",
       "      <th>3</th>\n",
       "      <td>0.1805</td>\n",
       "      <td>-0.484</td>\n",
       "      <td>0.097</td>\n",
       "      <td>60343.692508</td>\n",
       "      <td>-19.037349</td>\n",
       "      <td>20.741702</td>\n",
       "      <td>0.000080</td>\n",
       "      <td>346.264664</td>\n",
       "      <td>9.217777</td>\n",
       "    </tr>\n",
       "    <tr>\n",
       "      <th>4</th>\n",
       "      <td>0.1935</td>\n",
       "      <td>-0.644</td>\n",
       "      <td>0.111</td>\n",
       "      <td>60343.692508</td>\n",
       "      <td>-18.970849</td>\n",
       "      <td>20.975772</td>\n",
       "      <td>0.000065</td>\n",
       "      <td>3.478950</td>\n",
       "      <td>55.537569</td>\n",
       "    </tr>\n",
       "    <tr>\n",
       "      <th>...</th>\n",
       "      <td>...</td>\n",
       "      <td>...</td>\n",
       "      <td>...</td>\n",
       "      <td>...</td>\n",
       "      <td>...</td>\n",
       "      <td>...</td>\n",
       "      <td>...</td>\n",
       "      <td>...</td>\n",
       "      <td>...</td>\n",
       "    </tr>\n",
       "    <tr>\n",
       "      <th>9995</th>\n",
       "      <td>0.1775</td>\n",
       "      <td>-0.729</td>\n",
       "      <td>-0.030</td>\n",
       "      <td>60343.692508</td>\n",
       "      <td>-19.403099</td>\n",
       "      <td>20.335695</td>\n",
       "      <td>0.000117</td>\n",
       "      <td>56.514566</td>\n",
       "      <td>-28.234574</td>\n",
       "    </tr>\n",
       "    <tr>\n",
       "      <th>9996</th>\n",
       "      <td>0.1635</td>\n",
       "      <td>1.226</td>\n",
       "      <td>-0.023</td>\n",
       "      <td>60343.692508</td>\n",
       "      <td>-19.654749</td>\n",
       "      <td>19.887407</td>\n",
       "      <td>0.000176</td>\n",
       "      <td>354.588275</td>\n",
       "      <td>17.020309</td>\n",
       "    </tr>\n",
       "    <tr>\n",
       "      <th>9997</th>\n",
       "      <td>0.1555</td>\n",
       "      <td>-0.039</td>\n",
       "      <td>0.032</td>\n",
       "      <td>60343.692508</td>\n",
       "      <td>-19.304399</td>\n",
       "      <td>20.118240</td>\n",
       "      <td>0.000142</td>\n",
       "      <td>130.579479</td>\n",
       "      <td>-4.057158</td>\n",
       "    </tr>\n",
       "    <tr>\n",
       "      <th>9998</th>\n",
       "      <td>0.1715</td>\n",
       "      <td>-0.079</td>\n",
       "      <td>-0.093</td>\n",
       "      <td>60343.692508</td>\n",
       "      <td>-19.692549</td>\n",
       "      <td>19.963802</td>\n",
       "      <td>0.000164</td>\n",
       "      <td>39.381181</td>\n",
       "      <td>31.337613</td>\n",
       "    </tr>\n",
       "    <tr>\n",
       "      <th>9999</th>\n",
       "      <td>0.1765</td>\n",
       "      <td>0.760</td>\n",
       "      <td>0.067</td>\n",
       "      <td>60343.692508</td>\n",
       "      <td>-19.306009</td>\n",
       "      <td>20.419226</td>\n",
       "      <td>0.000108</td>\n",
       "      <td>248.471911</td>\n",
       "      <td>65.813006</td>\n",
       "    </tr>\n",
       "  </tbody>\n",
       "</table>\n",
       "<p>10000 rows × 9 columns</p>\n",
       "</div>"
      ],
      "text/plain": [
       "           z     x1      c            t0     magabs     magobs        x0  \\\n",
       "0     0.1915  0.536  0.026  60343.692508 -19.403799  20.517734  0.000099   \n",
       "1     0.1505  0.902  0.170  60343.692508 -19.001439  20.343558  0.000116   \n",
       "2     0.1455 -0.185  0.021  60343.692508 -19.318609  19.946301  0.000167   \n",
       "3     0.1805 -0.484  0.097  60343.692508 -19.037349  20.741702  0.000080   \n",
       "4     0.1935 -0.644  0.111  60343.692508 -18.970849  20.975772  0.000065   \n",
       "...      ...    ...    ...           ...        ...        ...       ...   \n",
       "9995  0.1775 -0.729 -0.030  60343.692508 -19.403099  20.335695  0.000117   \n",
       "9996  0.1635  1.226 -0.023  60343.692508 -19.654749  19.887407  0.000176   \n",
       "9997  0.1555 -0.039  0.032  60343.692508 -19.304399  20.118240  0.000142   \n",
       "9998  0.1715 -0.079 -0.093  60343.692508 -19.692549  19.963802  0.000164   \n",
       "9999  0.1765  0.760  0.067  60343.692508 -19.306009  20.419226  0.000108   \n",
       "\n",
       "              ra        dec  \n",
       "0     289.300600  47.528386  \n",
       "1     355.623176  28.081115  \n",
       "2     276.719720  32.764244  \n",
       "3     346.264664   9.217777  \n",
       "4       3.478950  55.537569  \n",
       "...          ...        ...  \n",
       "9995   56.514566 -28.234574  \n",
       "9996  354.588275  17.020309  \n",
       "9997  130.579479  -4.057158  \n",
       "9998   39.381181  31.337613  \n",
       "9999  248.471911  65.813006  \n",
       "\n",
       "[10000 rows x 9 columns]"
      ]
     },
     "execution_count": 16,
     "metadata": {},
     "output_type": "execute_result"
    }
   ],
   "source": [
    "snia.data"
   ]
  },
  {
   "cell_type": "markdown",
   "id": "16eb1478",
   "metadata": {},
   "source": [
    "### TimeSerieTransient (TSTransient)\n",
    "\n",
    "**nothing is easier than loading any sncosmo TimeSerieSouce as a skysurvey Transient**\n",
    "\n",
    "Simply provide the source name in the `from_sncosmo_source()` method or directly in the `from_draw()`"
   ]
  },
  {
   "cell_type": "code",
   "execution_count": 18,
   "id": "d8b225b4",
   "metadata": {},
   "outputs": [],
   "source": [
    "snIIn = target.TSTransient.from_draw(\"v19-2010al\", 4000)"
   ]
  },
  {
   "cell_type": "code",
   "execution_count": 19,
   "id": "97a3e9cb",
   "metadata": {},
   "outputs": [
    {
     "data": {
      "text/html": [
       "<div>\n",
       "<style scoped>\n",
       "    .dataframe tbody tr th:only-of-type {\n",
       "        vertical-align: middle;\n",
       "    }\n",
       "\n",
       "    .dataframe tbody tr th {\n",
       "        vertical-align: top;\n",
       "    }\n",
       "\n",
       "    .dataframe thead th {\n",
       "        text-align: right;\n",
       "    }\n",
       "</style>\n",
       "<table border=\"1\" class=\"dataframe\">\n",
       "  <thead>\n",
       "    <tr style=\"text-align: right;\">\n",
       "      <th></th>\n",
       "      <th>z</th>\n",
       "      <th>t0</th>\n",
       "      <th>magabs</th>\n",
       "      <th>magobs</th>\n",
       "      <th>amplitude</th>\n",
       "      <th>ra</th>\n",
       "      <th>dec</th>\n",
       "    </tr>\n",
       "  </thead>\n",
       "  <tbody>\n",
       "    <tr>\n",
       "      <th>0</th>\n",
       "      <td>0.0225</td>\n",
       "      <td>56989.995381</td>\n",
       "      <td>-18.378843</td>\n",
       "      <td>16.651347</td>\n",
       "      <td>7.486217e-15</td>\n",
       "      <td>129.396889</td>\n",
       "      <td>-25.696101</td>\n",
       "    </tr>\n",
       "    <tr>\n",
       "      <th>1</th>\n",
       "      <td>0.0485</td>\n",
       "      <td>56681.161609</td>\n",
       "      <td>-19.026343</td>\n",
       "      <td>17.712706</td>\n",
       "      <td>2.816560e-15</td>\n",
       "      <td>40.906591</td>\n",
       "      <td>-37.526364</td>\n",
       "    </tr>\n",
       "    <tr>\n",
       "      <th>2</th>\n",
       "      <td>0.0445</td>\n",
       "      <td>56485.158539</td>\n",
       "      <td>-18.274830</td>\n",
       "      <td>18.271094</td>\n",
       "      <td>1.684083e-15</td>\n",
       "      <td>218.437365</td>\n",
       "      <td>10.844195</td>\n",
       "    </tr>\n",
       "    <tr>\n",
       "      <th>3</th>\n",
       "      <td>0.0445</td>\n",
       "      <td>56115.767503</td>\n",
       "      <td>-16.888452</td>\n",
       "      <td>19.657473</td>\n",
       "      <td>4.696910e-16</td>\n",
       "      <td>65.367600</td>\n",
       "      <td>34.206806</td>\n",
       "    </tr>\n",
       "    <tr>\n",
       "      <th>4</th>\n",
       "      <td>0.0455</td>\n",
       "      <td>56085.451933</td>\n",
       "      <td>-17.767006</td>\n",
       "      <td>18.828733</td>\n",
       "      <td>1.007646e-15</td>\n",
       "      <td>202.084184</td>\n",
       "      <td>-11.757069</td>\n",
       "    </tr>\n",
       "    <tr>\n",
       "      <th>...</th>\n",
       "      <td>...</td>\n",
       "      <td>...</td>\n",
       "      <td>...</td>\n",
       "      <td>...</td>\n",
       "      <td>...</td>\n",
       "      <td>...</td>\n",
       "      <td>...</td>\n",
       "    </tr>\n",
       "    <tr>\n",
       "      <th>3995</th>\n",
       "      <td>0.0135</td>\n",
       "      <td>57324.020048</td>\n",
       "      <td>-19.636750</td>\n",
       "      <td>14.269611</td>\n",
       "      <td>6.713624e-14</td>\n",
       "      <td>68.835706</td>\n",
       "      <td>-29.679488</td>\n",
       "    </tr>\n",
       "    <tr>\n",
       "      <th>3996</th>\n",
       "      <td>0.0355</td>\n",
       "      <td>56788.592742</td>\n",
       "      <td>-18.459328</td>\n",
       "      <td>17.581819</td>\n",
       "      <td>3.177412e-15</td>\n",
       "      <td>112.296006</td>\n",
       "      <td>-52.760770</td>\n",
       "    </tr>\n",
       "    <tr>\n",
       "      <th>3997</th>\n",
       "      <td>0.0325</td>\n",
       "      <td>56006.762685</td>\n",
       "      <td>-18.721303</td>\n",
       "      <td>17.123371</td>\n",
       "      <td>4.846777e-15</td>\n",
       "      <td>333.971754</td>\n",
       "      <td>41.274405</td>\n",
       "    </tr>\n",
       "    <tr>\n",
       "      <th>3998</th>\n",
       "      <td>0.0305</td>\n",
       "      <td>56467.825939</td>\n",
       "      <td>-19.156128</td>\n",
       "      <td>16.547451</td>\n",
       "      <td>8.237980e-15</td>\n",
       "      <td>62.980122</td>\n",
       "      <td>40.045124</td>\n",
       "    </tr>\n",
       "    <tr>\n",
       "      <th>3999</th>\n",
       "      <td>0.0375</td>\n",
       "      <td>56391.098006</td>\n",
       "      <td>-17.927972</td>\n",
       "      <td>18.235344</td>\n",
       "      <td>1.740459e-15</td>\n",
       "      <td>174.560242</td>\n",
       "      <td>-36.363494</td>\n",
       "    </tr>\n",
       "  </tbody>\n",
       "</table>\n",
       "<p>4000 rows × 7 columns</p>\n",
       "</div>"
      ],
      "text/plain": [
       "           z            t0     magabs     magobs     amplitude          ra  \\\n",
       "0     0.0225  56989.995381 -18.378843  16.651347  7.486217e-15  129.396889   \n",
       "1     0.0485  56681.161609 -19.026343  17.712706  2.816560e-15   40.906591   \n",
       "2     0.0445  56485.158539 -18.274830  18.271094  1.684083e-15  218.437365   \n",
       "3     0.0445  56115.767503 -16.888452  19.657473  4.696910e-16   65.367600   \n",
       "4     0.0455  56085.451933 -17.767006  18.828733  1.007646e-15  202.084184   \n",
       "...      ...           ...        ...        ...           ...         ...   \n",
       "3995  0.0135  57324.020048 -19.636750  14.269611  6.713624e-14   68.835706   \n",
       "3996  0.0355  56788.592742 -18.459328  17.581819  3.177412e-15  112.296006   \n",
       "3997  0.0325  56006.762685 -18.721303  17.123371  4.846777e-15  333.971754   \n",
       "3998  0.0305  56467.825939 -19.156128  16.547451  8.237980e-15   62.980122   \n",
       "3999  0.0375  56391.098006 -17.927972  18.235344  1.740459e-15  174.560242   \n",
       "\n",
       "            dec  \n",
       "0    -25.696101  \n",
       "1    -37.526364  \n",
       "2     10.844195  \n",
       "3     34.206806  \n",
       "4    -11.757069  \n",
       "...         ...  \n",
       "3995 -29.679488  \n",
       "3996 -52.760770  \n",
       "3997  41.274405  \n",
       "3998  40.045124  \n",
       "3999 -36.363494  \n",
       "\n",
       "[4000 rows x 7 columns]"
      ]
     },
     "execution_count": 19,
     "metadata": {},
     "output_type": "execute_result"
    }
   ],
   "source": [
    "snIIn.data"
   ]
  },
  {
   "cell_type": "code",
   "execution_count": 23,
   "id": "c46f4622",
   "metadata": {},
   "outputs": [
    {
     "data": {
      "image/png": "[encoded data removed]",
      "text/plain": [
       "<Figure size 504x288 with 1 Axes>"
      ]
     },
     "metadata": {
      "needs_background": "light"
     },
     "output_type": "display_data"
    }
   ],
   "source": [
    "_ = snIIn.show_lightcurve([\"ztfg\",\"ztfr\"], index=50)"
   ]
  },
  {
   "cell_type": "markdown",
   "id": "990f3af4",
   "metadata": {},
   "source": [
    "***"
   ]
  },
  {
   "cell_type": "markdown",
   "id": "cafde1b8",
   "metadata": {},
   "source": [
    "## Model\n",
    "\n",
    "The ``data`` (list of transients) are generated following the **model**, stored as ``self.model``."
   ]
  },
  {
   "cell_type": "markdown",
   "id": "14df0350",
   "metadata": {},
   "source": [
    "**tip**: the transient model is display (better formated) when you print the object"
   ]
  },
  {
   "cell_type": "code",
   "execution_count": 40,
   "id": "15bc8ed1",
   "metadata": {},
   "outputs": [
    {
     "data": {
      "text/plain": [
       "{'redshift': {'param': {'zmax': 0.2, 'model': None}, 'as': 'z'},\n",
       " 'x1': {'model': 'nicolas2021'},\n",
       " 'c': {'model': 'intrinsic_and_dust'},\n",
       " 't0': {'model': 'uniform',\n",
       "        'param': {'mjd_range': [59000, 60460], 'model': 'uniform'}},\n",
       " 'magabs': {'model': 'tripp1998',\n",
       "            'input': ['x1', 'c'],\n",
       "            'param': {'mabs': -19.3,\n",
       "                      'sigmaint': 0.1,\n",
       "                      'model': 'tripp1998',\n",
       "                      'x1': array([-0.703, -2.052, -1.301, ...,  0.068, -0.605,  0.288]),\n",
       "                      'c': array([0.015, 0.156, 0.203, ..., 0.033, 0.11 , 0.145])}},\n",
       " 'magobs': {'model': 'magabs_to_magobs', 'input': ['z', 'magabs']},\n",
       " 'x0': {'model': 'magobs_to_x0', 'input': ['magobs']},\n",
       " 'radec': {'model': 'random',\n",
       "           'param': {'ra_range': [0, 360],\n",
       "                     'dec_range': [-30, 90],\n",
       "                     'model': 'random'},\n",
       "           'as': ['ra', 'dec']}}"
      ]
     },
     "execution_count": 40,
     "metadata": {},
     "output_type": "execute_result"
    }
   ],
   "source": [
    "snia"
   ]
  },
  {
   "cell_type": "markdown",
   "id": "8a098043",
   "metadata": {},
   "source": [
    "#### How does **model** works\n",
    "\n",
    "\n",
    "To generate ``data``, the code reads **model** line-by-line and follows the instructions it contains. \n",
    "\n",
    "In this SNeIa example, **model** contains 8 entries. So the generated ``data`` will contains at least 8 columns (see the *as* option).\n",
    "\n",
    "A **model** entry accepts 4 keywords:\n",
    "  1. *model*: (name of) the function used to draw the sample, e.g. np.random.uniform ;\n",
    "  2. *param*: options that enter the function as kwargs ;\n",
    "  3. *as*: (list of) name(s) of the column on the resulting ``data`` ;\n",
    "  4. *input*: list of already drawn entry used as argument for the *model* function (see e.g. ``magobs``)\n",
    "\n",
    "#### the *input* option making **model**  a \"DAG\"\n",
    "The *input* option enables you to generate self-consistent parameters. \n",
    "\n",
    "For instance, the absolute magnitude of a SNeIa depends on its stretch and color (following the ``alpha*x_1 - beta*c `` Tripp's relation). Hence, once the ``x_1``and ``c`` (independent) variables have been drawn, the SNeIa absolute magnitude (``magabs``) can be obtained using as input the already drawn ``x_1`` and ``c`` parameters. Same goes for the observed magnitude, it only dependents on the absolute magnitude ``magabs`` and the redshift ``z``. \n",
    "\n",
    "The (potentially complex) connections between the variables enabled by the *input* corresponds to the creation a [Directed acyclic graph](https://en.wikipedia.org/wiki/Directed_acyclic_graph).\n",
    "You can complexify as you which your **model** creating as many variables and intermediate variables as you want.\n",
    "\n",
    "#### Build a model\n",
    "\n",
    "See the \"Build a new model\" tutorial to learn more about Transient's modelling\n"
   ]
  },
  {
   "cell_type": "markdown",
   "id": "7e3ff6c3",
   "metadata": {},
   "source": [
    "## Plotting\n",
    "\n",
    "Show a given lightcurve in any band known by sncosmo, for instance here that on the snia index 9 ``snia.data.loc[9]``\n",
    "\n",
    "### Lightcurve "
   ]
  },
  {
   "cell_type": "code",
   "execution_count": 41,
   "id": "834948cf",
   "metadata": {
    "scrolled": false
   },
   "outputs": [
    {
     "data": {
      "image/png": "[encoded data removed]",
      "text/plain": [
       "<Figure size 504x288 with 1 Axes>"
      ]
     },
     "metadata": {
      "needs_background": "light"
     },
     "output_type": "display_data"
    }
   ],
   "source": [
    "band = [\"ztfr\",\"ztfg\"]\n",
    "fig = snia.show_lightcurve(band, index=9, in_mag=True)"
   ]
  },
  {
   "cell_type": "markdown",
   "id": "c075f180",
   "metadata": {},
   "source": [
    "### Parameters (visualize the relation created by self.model)\n",
    "\n",
    "You can also show the scatter between any parameters. The parameter correlations have handle by your `model`"
   ]
  },
  {
   "cell_type": "code",
   "execution_count": 42,
   "id": "3c8c7e65",
   "metadata": {
    "scrolled": false
   },
   "outputs": [
    {
     "data": {
      "image/png": "[encoded data removed]",
      "text/plain": [
       "<Figure size 504x288 with 1 Axes>"
      ]
     },
     "metadata": {
      "needs_background": "light"
     },
     "output_type": "display_data"
    }
   ],
   "source": [
    "fig = snia.show_scatter(\"z\", \"magobs\", ckey=\"x1\") \n",
    "ax = fig.axes[0]\n",
    "\n",
    "_ = ax.set_ylabel(\"observed magnitude\")\n",
    "_ = ax.set_xlabel(\"redshift\")"
   ]
  },
  {
   "cell_type": "code",
   "execution_count": 43,
   "id": "b3e0cfbb",
   "metadata": {},
   "outputs": [
    {
     "data": {
      "image/png": "[encoded data removed]",
      "text/plain": [
       "<Figure size 648x216 with 2 Axes>"
      ]
     },
     "metadata": {
      "needs_background": "light"
     },
     "output_type": "display_data"
    }
   ],
   "source": [
    "import matplotlib.pyplot as plt\n",
    "fig = plt.figure(figsize=[9,3])\n",
    "ax1 = fig.add_subplot(121)\n",
    "ax2 = fig.add_subplot(122)\n",
    "\n",
    "_ = snia.show_scatter(\"x1\", \"magabs\", ckey=\"c\", ax=ax1) \n",
    "_ = snia.show_scatter(\"c\", \"magabs\", ckey=\"x1\", ax=ax2) \n",
    "\n",
    "_ = ax1.set_ylabel(\"absolute magnitude\")\n",
    "_ = ax1.set_xlabel(fr\"Stretch ($x_1$)\")\n",
    "_ = ax2.set_xlabel(fr\"Color ($c$)\")"
   ]
  },
  {
   "cell_type": "markdown",
   "id": "b0f911a5",
   "metadata": {},
   "source": [
    "## Getter\n",
    "\n",
    "You have several pre-defined method to access parameters or the template directly"
   ]
  },
  {
   "cell_type": "markdown",
   "id": "98b61027",
   "metadata": {},
   "source": [
    "### template parameters\n",
    "\n",
    "the `get_template_parameters` method enbales you to get the subpart of ``data`` that corresponds to actual template (sncosmo.Model) parameters"
   ]
  },
  {
   "cell_type": "code",
   "execution_count": 44,
   "id": "207b8213",
   "metadata": {},
   "outputs": [
    {
     "data": {
      "text/html": [
       "<div>\n",
       "<style scoped>\n",
       "    .dataframe tbody tr th:only-of-type {\n",
       "        vertical-align: middle;\n",
       "    }\n",
       "\n",
       "    .dataframe tbody tr th {\n",
       "        vertical-align: top;\n",
       "    }\n",
       "\n",
       "    .dataframe thead th {\n",
       "        text-align: right;\n",
       "    }\n",
       "</style>\n",
       "<table border=\"1\" class=\"dataframe\">\n",
       "  <thead>\n",
       "    <tr style=\"text-align: right;\">\n",
       "      <th></th>\n",
       "      <th>z</th>\n",
       "      <th>x1</th>\n",
       "      <th>c</th>\n",
       "      <th>t0</th>\n",
       "      <th>x0</th>\n",
       "    </tr>\n",
       "  </thead>\n",
       "  <tbody>\n",
       "    <tr>\n",
       "      <th>0</th>\n",
       "      <td>0.1355</td>\n",
       "      <td>-0.703</td>\n",
       "      <td>0.015</td>\n",
       "      <td>60157.172692</td>\n",
       "      <td>0.000167</td>\n",
       "    </tr>\n",
       "    <tr>\n",
       "      <th>1</th>\n",
       "      <td>0.1055</td>\n",
       "      <td>-2.052</td>\n",
       "      <td>0.156</td>\n",
       "      <td>60157.172692</td>\n",
       "      <td>0.000160</td>\n",
       "    </tr>\n",
       "    <tr>\n",
       "      <th>2</th>\n",
       "      <td>0.1295</td>\n",
       "      <td>-1.301</td>\n",
       "      <td>0.203</td>\n",
       "      <td>60157.172692</td>\n",
       "      <td>0.000099</td>\n",
       "    </tr>\n",
       "    <tr>\n",
       "      <th>3</th>\n",
       "      <td>0.0775</td>\n",
       "      <td>-1.171</td>\n",
       "      <td>0.087</td>\n",
       "      <td>60157.172692</td>\n",
       "      <td>0.000420</td>\n",
       "    </tr>\n",
       "    <tr>\n",
       "      <th>4</th>\n",
       "      <td>0.1935</td>\n",
       "      <td>-1.115</td>\n",
       "      <td>0.306</td>\n",
       "      <td>60157.172692</td>\n",
       "      <td>0.000031</td>\n",
       "    </tr>\n",
       "    <tr>\n",
       "      <th>...</th>\n",
       "      <td>...</td>\n",
       "      <td>...</td>\n",
       "      <td>...</td>\n",
       "      <td>...</td>\n",
       "      <td>...</td>\n",
       "    </tr>\n",
       "    <tr>\n",
       "      <th>9995</th>\n",
       "      <td>0.1915</td>\n",
       "      <td>0.067</td>\n",
       "      <td>-0.008</td>\n",
       "      <td>60157.172692</td>\n",
       "      <td>0.000092</td>\n",
       "    </tr>\n",
       "    <tr>\n",
       "      <th>9996</th>\n",
       "      <td>0.1655</td>\n",
       "      <td>-0.068</td>\n",
       "      <td>0.053</td>\n",
       "      <td>60157.172692</td>\n",
       "      <td>0.000105</td>\n",
       "    </tr>\n",
       "    <tr>\n",
       "      <th>9997</th>\n",
       "      <td>0.0685</td>\n",
       "      <td>0.068</td>\n",
       "      <td>0.033</td>\n",
       "      <td>60157.172692</td>\n",
       "      <td>0.000747</td>\n",
       "    </tr>\n",
       "    <tr>\n",
       "      <th>9998</th>\n",
       "      <td>0.1935</td>\n",
       "      <td>-0.605</td>\n",
       "      <td>0.110</td>\n",
       "      <td>60157.172692</td>\n",
       "      <td>0.000059</td>\n",
       "    </tr>\n",
       "    <tr>\n",
       "      <th>9999</th>\n",
       "      <td>0.0795</td>\n",
       "      <td>0.288</td>\n",
       "      <td>0.145</td>\n",
       "      <td>60157.172692</td>\n",
       "      <td>0.000406</td>\n",
       "    </tr>\n",
       "  </tbody>\n",
       "</table>\n",
       "<p>10000 rows × 5 columns</p>\n",
       "</div>"
      ],
      "text/plain": [
       "           z     x1      c            t0        x0\n",
       "0     0.1355 -0.703  0.015  60157.172692  0.000167\n",
       "1     0.1055 -2.052  0.156  60157.172692  0.000160\n",
       "2     0.1295 -1.301  0.203  60157.172692  0.000099\n",
       "3     0.0775 -1.171  0.087  60157.172692  0.000420\n",
       "4     0.1935 -1.115  0.306  60157.172692  0.000031\n",
       "...      ...    ...    ...           ...       ...\n",
       "9995  0.1915  0.067 -0.008  60157.172692  0.000092\n",
       "9996  0.1655 -0.068  0.053  60157.172692  0.000105\n",
       "9997  0.0685  0.068  0.033  60157.172692  0.000747\n",
       "9998  0.1935 -0.605  0.110  60157.172692  0.000059\n",
       "9999  0.0795  0.288  0.145  60157.172692  0.000406\n",
       "\n",
       "[10000 rows x 5 columns]"
      ]
     },
     "execution_count": 44,
     "metadata": {},
     "output_type": "execute_result"
    }
   ],
   "source": [
    "snia.get_template_parameters()"
   ]
  },
  {
   "cell_type": "markdown",
   "id": "ffdf15a5",
   "metadata": {},
   "source": [
    "You can also request to only have the template parameter for a given target\n",
    "(similar to as `snia.get_template_parameters().loc[index]`)"
   ]
  },
  {
   "cell_type": "code",
   "execution_count": 45,
   "id": "8b5cfd83",
   "metadata": {},
   "outputs": [
    {
     "data": {
      "text/plain": [
       "z         0.170500\n",
       "x1        0.997000\n",
       "c        -0.002000\n",
       "t0    60157.172692\n",
       "x0        0.000132\n",
       "Name: 9, dtype: float64"
      ]
     },
     "execution_count": 45,
     "metadata": {},
     "output_type": "execute_result"
    }
   ],
   "source": [
    "snia.get_template_parameters(index=9)"
   ]
  },
  {
   "cell_type": "markdown",
   "id": "7bf650d3",
   "metadata": {},
   "source": [
    "### Template (sncosmo.Model)\n",
    "\n",
    "You can get a template (sncosmo.Model) either with default values"
   ]
  },
  {
   "cell_type": "code",
   "execution_count": 52,
   "id": "767e77a1",
   "metadata": {},
   "outputs": [],
   "source": [
    "template = snia.get_template() # default"
   ]
  },
  {
   "cell_type": "code",
   "execution_count": 53,
   "id": "17ad1367",
   "metadata": {},
   "outputs": [
    {
     "data": {
      "text/plain": [
       "<sncosmo.models.Model at 0x2813de2e0>"
      ]
     },
     "execution_count": 53,
     "metadata": {},
     "output_type": "execute_result"
    }
   ],
   "source": [
    "template"
   ]
  },
  {
   "cell_type": "code",
   "execution_count": 54,
   "id": "0d41898a",
   "metadata": {},
   "outputs": [
    {
     "data": {
      "text/plain": [
       "array([0. , 0. , 1. , 0. , 0. , 0. , 3.1])"
      ]
     },
     "execution_count": 54,
     "metadata": {},
     "output_type": "execute_result"
    }
   ],
   "source": [
    "template.parameters"
   ]
  },
  {
   "cell_type": "markdown",
   "id": "5199c94e",
   "metadata": {},
   "source": [
    "or with parameter set to that of a target "
   ]
  },
  {
   "cell_type": "code",
   "execution_count": 55,
   "id": "5f39042f",
   "metadata": {},
   "outputs": [
    {
     "data": {
      "text/plain": [
       "array([ 1.70500000e-01,  6.01571727e+04,  1.31897523e-04,  9.97000000e-01,\n",
       "       -2.00000000e-03,  0.00000000e+00,  3.10000000e+00])"
      ]
     },
     "execution_count": 55,
     "metadata": {},
     "output_type": "execute_result"
    }
   ],
   "source": [
    "template_target9 = snia.get_template(index=9) \n",
    "template_target9.parameters"
   ]
  },
  {
   "cell_type": "markdown",
   "id": "3fecddde",
   "metadata": {},
   "source": [
    "or affecting parameters"
   ]
  },
  {
   "cell_type": "code",
   "execution_count": 56,
   "id": "5b42ec47",
   "metadata": {},
   "outputs": [
    {
     "data": {
      "text/plain": [
       "array([ 1.70500000e-01,  6.01571727e+04,  1.31897523e-04, -5.00000000e+00,\n",
       "       -2.00000000e-03,  0.00000000e+00,  3.10000000e+00])"
      ]
     },
     "execution_count": 56,
     "metadata": {},
     "output_type": "execute_result"
    }
   ],
   "source": [
    "template_target9 = snia.get_template(index=9, x1=-5) \n",
    "template_target9.parameters"
   ]
  },
  {
   "cell_type": "markdown",
   "id": "7a347944",
   "metadata": {},
   "source": [
    "***"
   ]
  }
 ],
 "metadata": {
  "kernelspec": {
   "display_name": "Python 3 (ipykernel)",
   "language": "python",
   "name": "python3"
  },
  "language_info": {
   "codemirror_mode": {
    "name": "ipython",
    "version": 3
   },
   "file_extension": ".py",
   "mimetype": "text/x-python",
   "name": "python",
   "nbconvert_exporter": "python",
   "pygments_lexer": "ipython3",
   "version": "3.9.13"
  }
 },
 "nbformat": 4,
 "nbformat_minor": 5
}
