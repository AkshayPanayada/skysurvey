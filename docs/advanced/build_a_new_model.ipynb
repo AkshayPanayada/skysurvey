{
 "cells": [
  {
   "cell_type": "markdown",
   "id": "f1513ea9",
   "metadata": {},
   "source": [
    "## Build a transient model\n",
    "\n",
    "The modelling is based on [modeldag](https://github.com/MickaelRigault/modeldag)\n",
    "\n",
    "### Concept\n",
    "To generate ``data``, the code reads **model** line-by-line and follows the instructions it contains. \n",
    "\n",
    "In this SNeIa example, **model** contains 8 entries. So the generated ``data`` will contains at least 8 columns (see the *as* option).\n",
    "\n",
    "#### *model*, *param*, *as*, *input*\n",
    "\n",
    "A **model** entry accepts 4 keywords:\n",
    "  1. *func*: (name of) the function used to draw the sample, e.g. np.random.uniform ;\n",
    "  2. *kwargs*: options that enter the function as kwargs , '@key' could be used to get input as former entry result;\n",
    "  3. *as*: (list of) name(s) of the column on the resulting ``data`` ;\n",
    "\n",
    "#### \"@\" in \"kwargs\" to form a \"DAG\"\n",
    "The *@* trick in kwargs  enables you to generate self-consistent parameters.\n",
    "\n",
    "For instance, the absolute magnitude of a SNeIa depends on its stretch and color (following the ``alpha*x_1 - beta*c `` Tripp's relation). Hence, once the ``x_1``and ``c`` (independent) variables have been drawn, the SNeIa absolute magnitude (``magabs``) can be obtained using as input the already drawn ``x_1`` and ``c`` parameters. Same goes for the observed magnitude, it only dependents on the absolute magnitude ``magabs`` and the redshift ``z``. \n",
    "\n",
    "The (potentially complex) connections between the variables enabled by using *@key* (e.g. ``@c``) corresponds to the creation a [Directed acyclic graph](https://en.wikipedia.org/wiki/Directed_acyclic_graph).\n",
    "You can complexify as you which your **model** creating as many variables and intermediate variables as you want.\n",
    "\n",
    "#### the *func* option, where to define the function\n",
    "\n",
    "The *func* option is the function that will be used to generate the dataset. In principle, it should accept ``size`` as parameters and return N=size values except if a \"@\" is used in input (for its size is alreadyu defined by the initial called key)\n",
    "\n",
    "In your **model**, the *func* option can be a function or a string. \n",
    " - a function will be used as such\n",
    " - a string will be converted in function, it typically means you input a method of the class ; though more advanced tools exist, see \"Build a new Model\" documentation."
   ]
  },
  {
   "cell_type": "markdown",
   "id": "d09f3e61",
   "metadata": {},
   "source": [
    "See example in the *Build a new Transient* tutorial"
   ]
  },
  {
   "cell_type": "code",
   "execution_count": null,
   "id": "e194ffee",
   "metadata": {},
   "outputs": [],
   "source": []
  }
 ],
 "metadata": {
  "kernelspec": {
   "display_name": "Python 3 (ipykernel)",
   "language": "python",
   "name": "python3"
  },
  "language_info": {
   "codemirror_mode": {
    "name": "ipython",
    "version": 3
   },
   "file_extension": ".py",
   "mimetype": "text/x-python",
   "name": "python",
   "nbconvert_exporter": "python",
   "pygments_lexer": "ipython3",
   "version": "3.9.16"
  }
 },
 "nbformat": 4,
 "nbformat_minor": 5
}
