{
 "cells": [
  {
   "cell_type": "markdown",
   "id": "46adf50a",
   "metadata": {},
   "source": [
    "# Built-in Transients"
   ]
  },
  {
   "cell_type": "markdown",
   "id": "5e05fb55",
   "metadata": {},
   "source": [
    "\n",
    "`skysurvey` has built-in transients (any supernovae) and offer the possibitly to create new ones.\n",
    "\n",
    "***\n",
    "## skysurvey & sncosmo: use any sncosmo transient\n",
    "\n",
    "`skysurvey` is based on [sncosmo](https://sncosmo.readthedocs.io/en/stable/) for the transient modelling. As such, it offers the possibility to simulate any transient already available in [sncosmo](https://sncosmo.readthedocs.io/en/stable/) (see [sncosmo transients](https://sncosmo.readthedocs.io/en/stable/source-list.html#list-of-built-in-sources)). `skysurvey` provides the way to simulate the transient model parameters and generate the simulated transient as it would be observed by a survey.\n",
    "\n",
    "***\n",
    "## TimeSeries (single-object non-Ia model)\n",
    "\n",
    "To simulate a single-class of object from a given transient, pick any name from the [sncosmo transient model](https://sncosmo.readthedocs.io/en/stable/source-list.html#list-of-built-in-sources). \n",
    "\n",
    "**Say, for instance 'v19-2013ge-corr', a Type Ic modelled as a `sncosmo.TimeSeriesSource` (like all non-Ia models):**\n",
    "\n",
    "Any `sncosmo.TimeSeriesSource` model can be loaded using the `skysurvey.TSTransient` object:"
   ]
  },
  {
   "cell_type": "code",
   "execution_count": 1,
   "id": "26a5cca1",
   "metadata": {},
   "outputs": [],
   "source": [
    "from skysurvey import target\n",
    "transient = target.TSTransient.from_sncosmo_source(\"v19-2013ge-corr\") # load it\n",
    "data = transient.draw(size=5_000) # and draw data | see options\n",
    "# data also stored as transient.data"
   ]
  },
  {
   "cell_type": "code",
   "execution_count": 2,
   "id": "5029d5b9",
   "metadata": {},
   "outputs": [
    {
     "data": {
      "text/plain": [
       "Text(0.5, 0, 'redshift')"
      ]
     },
     "execution_count": 2,
     "metadata": {},
     "output_type": "execute_result"
    },
    {
     "data": {
      "image/png": "[encoded data removed]",
      "text/plain": [
       "<Figure size 504x288 with 1 Axes>"
      ]
     },
     "metadata": {
      "needs_background": "light"
     },
     "output_type": "display_data"
    }
   ],
   "source": [
    "fig = transient.show_scatter(\"z\",\"magobs\")\n",
    "ax = fig.axes[0]\n",
    "ax.set_ylabel(\"observed magnitude\")\n",
    "ax.set_xlabel(\"redshift\")"
   ]
  },
  {
   "cell_type": "markdown",
   "id": "9d25ce65",
   "metadata": {},
   "source": [
    "you can change e.g. the absolute magnitude of transient, let's imagine you want -17.2 in average with a (gaussian) scatter of 0.2 mag. "
   ]
  },
  {
   "cell_type": "code",
   "execution_count": 3,
   "id": "e3b33c4a",
   "metadata": {},
   "outputs": [
    {
     "data": {
      "text/plain": [
       "Text(0.5, 0, 'redshift')"
      ]
     },
     "execution_count": 3,
     "metadata": {},
     "output_type": "execute_result"
    },
    {
     "data": {
      "image/png": "[encoded data removed]",
      "text/plain": [
       "<Figure size 504x288 with 1 Axes>"
      ]
     },
     "metadata": {
      "needs_background": "light"
     },
     "output_type": "display_data"
    }
   ],
   "source": [
    "transient = target.TSTransient.from_sncosmo_source(\"v19-2013ge-corr\", magabs=-17.2, magscatter=0.2) # load it\n",
    "data = transient.draw(size=5_000) # and draw data | see options\n",
    "# And plot\n",
    "fig = transient.show_scatter(\"z\",\"magobs\")\n",
    "ax = fig.axes[0]\n",
    "ax.set_ylabel(\"observed magnitude\")\n",
    "ax.set_xlabel(\"redshift\")"
   ]
  },
  {
   "cell_type": "markdown",
   "id": "72f5a9f0",
   "metadata": {},
   "source": [
    "you can finally directly load and draw directly using the `from_draw` classmethod."
   ]
  },
  {
   "cell_type": "code",
   "execution_count": 4,
   "id": "10d91d72",
   "metadata": {},
   "outputs": [
    {
     "name": "stdout",
     "output_type": "stream",
     "text": [
      "CPU times: user 89.5 ms, sys: 3 ms, total: 92.5 ms\n",
      "Wall time: 91 ms\n"
     ]
    }
   ],
   "source": [
    "%%time\n",
    "transient = target.TSTransient.from_draw(\"v19-2013ge-corr\", size=10_000, zmin=0.05, zmax=0.08)"
   ]
  },
  {
   "cell_type": "markdown",
   "id": "ac3208a0",
   "metadata": {},
   "source": [
    "**speed** skysurvey model drawing is fast. <100ms for 10_000 targets"
   ]
  },
  {
   "cell_type": "markdown",
   "id": "0bd282c0",
   "metadata": {},
   "source": [
    "***\n",
    "## Type Ia Supernovae\n",
    "\n",
    "The Type Ia supernovae (SNeIa) have a dedicated class for they have slight more detailed modelling of their parameters. The default model graph is made such that x1 and c are drawn from underlying distributions (see `target.SNeIa._MODEL`) and the resulting magabs (leading to magobs that itself leads to x0) accounts for the x1 and c values. \n",
    "\n",
    "It is easy to complexify this model as much as you want, see the Build Complex model tutorial."
   ]
  },
  {
   "cell_type": "code",
   "execution_count": 5,
   "id": "0e9151d6",
   "metadata": {},
   "outputs": [],
   "source": [
    "snia = target.SNeIa.from_draw(10_000)"
   ]
  },
  {
   "cell_type": "code",
   "execution_count": 6,
   "id": "a8ddd898",
   "metadata": {},
   "outputs": [
    {
     "data": {
      "text/html": [
       "<div>\n",
       "<style scoped>\n",
       "    .dataframe tbody tr th:only-of-type {\n",
       "        vertical-align: middle;\n",
       "    }\n",
       "\n",
       "    .dataframe tbody tr th {\n",
       "        vertical-align: top;\n",
       "    }\n",
       "\n",
       "    .dataframe thead th {\n",
       "        text-align: right;\n",
       "    }\n",
       "</style>\n",
       "<table border=\"1\" class=\"dataframe\">\n",
       "  <thead>\n",
       "    <tr style=\"text-align: right;\">\n",
       "      <th></th>\n",
       "      <th>z</th>\n",
       "      <th>x1</th>\n",
       "      <th>c</th>\n",
       "      <th>t0</th>\n",
       "      <th>magabs</th>\n",
       "      <th>magobs</th>\n",
       "      <th>x0</th>\n",
       "      <th>ra</th>\n",
       "      <th>dec</th>\n",
       "    </tr>\n",
       "  </thead>\n",
       "  <tbody>\n",
       "    <tr>\n",
       "      <th>0</th>\n",
       "      <td>0.1425</td>\n",
       "      <td>-1.900000e+00</td>\n",
       "      <td>0.07</td>\n",
       "      <td>56868.171875</td>\n",
       "      <td>-18.703793</td>\n",
       "      <td>20.511824</td>\n",
       "      <td>0.000099</td>\n",
       "      <td>271.956482</td>\n",
       "      <td>-9.616769</td>\n",
       "    </tr>\n",
       "    <tr>\n",
       "      <th>1</th>\n",
       "      <td>0.1875</td>\n",
       "      <td>-1.421085e-14</td>\n",
       "      <td>0.04</td>\n",
       "      <td>56722.402344</td>\n",
       "      <td>-19.208437</td>\n",
       "      <td>20.662182</td>\n",
       "      <td>0.000086</td>\n",
       "      <td>212.594574</td>\n",
       "      <td>-20.019440</td>\n",
       "    </tr>\n",
       "    <tr>\n",
       "      <th>2</th>\n",
       "      <td>0.1885</td>\n",
       "      <td>4.500000e-01</td>\n",
       "      <td>0.13</td>\n",
       "      <td>56716.171875</td>\n",
       "      <td>-18.909201</td>\n",
       "      <td>20.974241</td>\n",
       "      <td>0.000065</td>\n",
       "      <td>214.799667</td>\n",
       "      <td>4.300497</td>\n",
       "    </tr>\n",
       "    <tr>\n",
       "      <th>3</th>\n",
       "      <td>0.1815</td>\n",
       "      <td>-9.500000e-01</td>\n",
       "      <td>0.08</td>\n",
       "      <td>56190.179688</td>\n",
       "      <td>-19.120365</td>\n",
       "      <td>20.671967</td>\n",
       "      <td>0.000085</td>\n",
       "      <td>50.515423</td>\n",
       "      <td>55.079872</td>\n",
       "    </tr>\n",
       "    <tr>\n",
       "      <th>4</th>\n",
       "      <td>0.1895</td>\n",
       "      <td>-2.500000e-01</td>\n",
       "      <td>-0.02</td>\n",
       "      <td>56276.625000</td>\n",
       "      <td>-19.450274</td>\n",
       "      <td>20.445927</td>\n",
       "      <td>0.000105</td>\n",
       "      <td>340.198578</td>\n",
       "      <td>7.444125</td>\n",
       "    </tr>\n",
       "    <tr>\n",
       "      <th>...</th>\n",
       "      <td>...</td>\n",
       "      <td>...</td>\n",
       "      <td>...</td>\n",
       "      <td>...</td>\n",
       "      <td>...</td>\n",
       "      <td>...</td>\n",
       "      <td>...</td>\n",
       "      <td>...</td>\n",
       "      <td>...</td>\n",
       "    </tr>\n",
       "    <tr>\n",
       "      <th>9995</th>\n",
       "      <td>0.0845</td>\n",
       "      <td>-4.500000e-01</td>\n",
       "      <td>0.10</td>\n",
       "      <td>56111.257812</td>\n",
       "      <td>-19.011690</td>\n",
       "      <td>18.987276</td>\n",
       "      <td>0.000403</td>\n",
       "      <td>40.438503</td>\n",
       "      <td>16.805922</td>\n",
       "    </tr>\n",
       "    <tr>\n",
       "      <th>9996</th>\n",
       "      <td>0.0965</td>\n",
       "      <td>9.000000e-01</td>\n",
       "      <td>0.01</td>\n",
       "      <td>56788.691406</td>\n",
       "      <td>-19.434355</td>\n",
       "      <td>18.870459</td>\n",
       "      <td>0.000449</td>\n",
       "      <td>196.177673</td>\n",
       "      <td>40.114487</td>\n",
       "    </tr>\n",
       "    <tr>\n",
       "      <th>9997</th>\n",
       "      <td>0.1635</td>\n",
       "      <td>1.700000e+00</td>\n",
       "      <td>0.04</td>\n",
       "      <td>56073.503906</td>\n",
       "      <td>-19.507591</td>\n",
       "      <td>20.034565</td>\n",
       "      <td>0.000154</td>\n",
       "      <td>20.852654</td>\n",
       "      <td>0.685304</td>\n",
       "    </tr>\n",
       "    <tr>\n",
       "      <th>9998</th>\n",
       "      <td>0.1365</td>\n",
       "      <td>-1.450000e+00</td>\n",
       "      <td>0.03</td>\n",
       "      <td>56837.390625</td>\n",
       "      <td>-19.124626</td>\n",
       "      <td>19.989418</td>\n",
       "      <td>0.000160</td>\n",
       "      <td>157.393524</td>\n",
       "      <td>16.216921</td>\n",
       "    </tr>\n",
       "    <tr>\n",
       "      <th>9999</th>\n",
       "      <td>0.1875</td>\n",
       "      <td>9.500000e-01</td>\n",
       "      <td>-0.10</td>\n",
       "      <td>56852.195312</td>\n",
       "      <td>-19.633446</td>\n",
       "      <td>20.237173</td>\n",
       "      <td>0.000128</td>\n",
       "      <td>343.833282</td>\n",
       "      <td>21.953308</td>\n",
       "    </tr>\n",
       "  </tbody>\n",
       "</table>\n",
       "<p>10000 rows × 9 columns</p>\n",
       "</div>"
      ],
      "text/plain": [
       "           z            x1     c            t0     magabs     magobs   \n",
       "0     0.1425 -1.900000e+00  0.07  56868.171875 -18.703793  20.511824  \\\n",
       "1     0.1875 -1.421085e-14  0.04  56722.402344 -19.208437  20.662182   \n",
       "2     0.1885  4.500000e-01  0.13  56716.171875 -18.909201  20.974241   \n",
       "3     0.1815 -9.500000e-01  0.08  56190.179688 -19.120365  20.671967   \n",
       "4     0.1895 -2.500000e-01 -0.02  56276.625000 -19.450274  20.445927   \n",
       "...      ...           ...   ...           ...        ...        ...   \n",
       "9995  0.0845 -4.500000e-01  0.10  56111.257812 -19.011690  18.987276   \n",
       "9996  0.0965  9.000000e-01  0.01  56788.691406 -19.434355  18.870459   \n",
       "9997  0.1635  1.700000e+00  0.04  56073.503906 -19.507591  20.034565   \n",
       "9998  0.1365 -1.450000e+00  0.03  56837.390625 -19.124626  19.989418   \n",
       "9999  0.1875  9.500000e-01 -0.10  56852.195312 -19.633446  20.237173   \n",
       "\n",
       "            x0          ra        dec  \n",
       "0     0.000099  271.956482  -9.616769  \n",
       "1     0.000086  212.594574 -20.019440  \n",
       "2     0.000065  214.799667   4.300497  \n",
       "3     0.000085   50.515423  55.079872  \n",
       "4     0.000105  340.198578   7.444125  \n",
       "...        ...         ...        ...  \n",
       "9995  0.000403   40.438503  16.805922  \n",
       "9996  0.000449  196.177673  40.114487  \n",
       "9997  0.000154   20.852654   0.685304  \n",
       "9998  0.000160  157.393524  16.216921  \n",
       "9999  0.000128  343.833282  21.953308  \n",
       "\n",
       "[10000 rows x 9 columns]"
      ]
     },
     "execution_count": 6,
     "metadata": {},
     "output_type": "execute_result"
    }
   ],
   "source": [
    "snia.data"
   ]
  },
  {
   "cell_type": "code",
   "execution_count": 7,
   "id": "4095028a",
   "metadata": {},
   "outputs": [
    {
     "data": {
      "text/plain": [
       "Text(0.5, 0, 'redshift')"
      ]
     },
     "execution_count": 7,
     "metadata": {},
     "output_type": "execute_result"
    },
    {
     "data": {
      "image/png": "[encoded data removed]",
      "text/plain": [
       "<Figure size 504x288 with 2 Axes>"
      ]
     },
     "metadata": {
      "needs_background": "light"
     },
     "output_type": "display_data"
    }
   ],
   "source": [
    "fig = snia.show_scatter(\"z\", \"magobs\", ckey=\"c\", vmax=0.4)\n",
    "ax = fig.axes[0]\n",
    "ax.set_ylabel(\"observed magnitude\")\n",
    "ax.set_xlabel(\"redshift\")"
   ]
  },
  {
   "cell_type": "markdown",
   "id": "5deffbf3",
   "metadata": {},
   "source": [
    "***\n",
    "## Core-Collapse: Type II, IIn, IIb, Ib, Ic Ic-BL\n",
    "\n",
    "There are pre-built \"composite transient\" that are made of various sncosmo template. \n",
    "\n",
    "As for now only the 6 \"Vincenzi\" (`v19-*-corr`) core collapse SN models have been implemented. \n",
    "That is, Type II, IIn, IIb, Ib, Ic Ic-BL.\n",
    "\n",
    "They behave like other `skysurvey.Transient`, the template id is shown in the template columns.\n",
    "\n",
    "All TimeSeriesSource composing the composite transient have by default the same magabs and rate, but you can change that easily as long the this broadcast with the template sources (e.g. 1 value or as many values as there are sources)."
   ]
  },
  {
   "cell_type": "code",
   "execution_count": 22,
   "id": "036eebf9",
   "metadata": {},
   "outputs": [],
   "source": [
    "import pandas\n",
    "import sncosmo\n",
    "from sncosmo import models"
   ]
  },
  {
   "cell_type": "code",
   "execution_count": 23,
   "id": "d038913c",
   "metadata": {},
   "outputs": [],
   "source": [
    "from skysurvey.target import sncc"
   ]
  },
  {
   "cell_type": "code",
   "execution_count": 24,
   "id": "a1ea0d3f",
   "metadata": {},
   "outputs": [
    {
     "data": {
      "text/html": [
       "<div>\n",
       "<style scoped>\n",
       "    .dataframe tbody tr th:only-of-type {\n",
       "        vertical-align: middle;\n",
       "    }\n",
       "\n",
       "    .dataframe tbody tr th {\n",
       "        vertical-align: top;\n",
       "    }\n",
       "\n",
       "    .dataframe thead th {\n",
       "        text-align: right;\n",
       "    }\n",
       "</style>\n",
       "<table border=\"1\" class=\"dataframe\">\n",
       "  <thead>\n",
       "    <tr style=\"text-align: right;\">\n",
       "      <th></th>\n",
       "      <th>template</th>\n",
       "      <th>z</th>\n",
       "      <th>t0</th>\n",
       "      <th>magabs</th>\n",
       "      <th>magobs</th>\n",
       "      <th>amplitude</th>\n",
       "      <th>ra</th>\n",
       "      <th>dec</th>\n",
       "    </tr>\n",
       "  </thead>\n",
       "  <tbody>\n",
       "    <tr>\n",
       "      <th>0</th>\n",
       "      <td>54</td>\n",
       "      <td>0.0415</td>\n",
       "      <td>57071.276220</td>\n",
       "      <td>-18.969490</td>\n",
       "      <td>17.420189</td>\n",
       "      <td>1.343060e-14</td>\n",
       "      <td>102.486175</td>\n",
       "      <td>29.026194</td>\n",
       "    </tr>\n",
       "    <tr>\n",
       "      <th>1</th>\n",
       "      <td>44</td>\n",
       "      <td>0.0415</td>\n",
       "      <td>56251.292270</td>\n",
       "      <td>-17.893510</td>\n",
       "      <td>18.496169</td>\n",
       "      <td>2.064196e-13</td>\n",
       "      <td>69.125296</td>\n",
       "      <td>-51.017439</td>\n",
       "    </tr>\n",
       "    <tr>\n",
       "      <th>2</th>\n",
       "      <td>34</td>\n",
       "      <td>0.0435</td>\n",
       "      <td>56836.484511</td>\n",
       "      <td>-17.910660</td>\n",
       "      <td>18.584351</td>\n",
       "      <td>3.372003e-14</td>\n",
       "      <td>323.294057</td>\n",
       "      <td>-27.256724</td>\n",
       "    </tr>\n",
       "    <tr>\n",
       "      <th>3</th>\n",
       "      <td>34</td>\n",
       "      <td>0.0285</td>\n",
       "      <td>56786.640436</td>\n",
       "      <td>-18.118157</td>\n",
       "      <td>17.434961</td>\n",
       "      <td>9.719499e-14</td>\n",
       "      <td>193.091552</td>\n",
       "      <td>-31.178099</td>\n",
       "    </tr>\n",
       "    <tr>\n",
       "      <th>4</th>\n",
       "      <td>59</td>\n",
       "      <td>0.0425</td>\n",
       "      <td>56516.184113</td>\n",
       "      <td>-18.625506</td>\n",
       "      <td>17.817442</td>\n",
       "      <td>5.598826e-15</td>\n",
       "      <td>48.387625</td>\n",
       "      <td>-29.796327</td>\n",
       "    </tr>\n",
       "    <tr>\n",
       "      <th>...</th>\n",
       "      <td>...</td>\n",
       "      <td>...</td>\n",
       "      <td>...</td>\n",
       "      <td>...</td>\n",
       "      <td>...</td>\n",
       "      <td>...</td>\n",
       "      <td>...</td>\n",
       "      <td>...</td>\n",
       "    </tr>\n",
       "    <tr>\n",
       "      <th>9995</th>\n",
       "      <td>57</td>\n",
       "      <td>0.0485</td>\n",
       "      <td>56227.338370</td>\n",
       "      <td>-19.259659</td>\n",
       "      <td>17.479390</td>\n",
       "      <td>2.911177e-14</td>\n",
       "      <td>109.401334</td>\n",
       "      <td>5.646471</td>\n",
       "    </tr>\n",
       "    <tr>\n",
       "      <th>9996</th>\n",
       "      <td>16</td>\n",
       "      <td>0.0335</td>\n",
       "      <td>57455.448015</td>\n",
       "      <td>-18.581564</td>\n",
       "      <td>17.330502</td>\n",
       "      <td>6.474006e-15</td>\n",
       "      <td>70.784999</td>\n",
       "      <td>63.097200</td>\n",
       "    </tr>\n",
       "    <tr>\n",
       "      <th>9997</th>\n",
       "      <td>13</td>\n",
       "      <td>0.0385</td>\n",
       "      <td>56140.561543</td>\n",
       "      <td>-17.966083</td>\n",
       "      <td>18.255953</td>\n",
       "      <td>9.457449e-15</td>\n",
       "      <td>8.840811</td>\n",
       "      <td>-47.340288</td>\n",
       "    </tr>\n",
       "    <tr>\n",
       "      <th>9998</th>\n",
       "      <td>34</td>\n",
       "      <td>0.0415</td>\n",
       "      <td>56336.360033</td>\n",
       "      <td>-18.405678</td>\n",
       "      <td>17.984002</td>\n",
       "      <td>5.861756e-14</td>\n",
       "      <td>12.544395</td>\n",
       "      <td>18.784864</td>\n",
       "    </tr>\n",
       "    <tr>\n",
       "      <th>9999</th>\n",
       "      <td>2</td>\n",
       "      <td>0.0475</td>\n",
       "      <td>56077.046040</td>\n",
       "      <td>-18.708539</td>\n",
       "      <td>17.983719</td>\n",
       "      <td>1.058147e-13</td>\n",
       "      <td>238.209888</td>\n",
       "      <td>-4.303867</td>\n",
       "    </tr>\n",
       "  </tbody>\n",
       "</table>\n",
       "<p>10000 rows × 8 columns</p>\n",
       "</div>"
      ],
      "text/plain": [
       "      template       z            t0     magabs     magobs     amplitude   \n",
       "0           54  0.0415  57071.276220 -18.969490  17.420189  1.343060e-14  \\\n",
       "1           44  0.0415  56251.292270 -17.893510  18.496169  2.064196e-13   \n",
       "2           34  0.0435  56836.484511 -17.910660  18.584351  3.372003e-14   \n",
       "3           34  0.0285  56786.640436 -18.118157  17.434961  9.719499e-14   \n",
       "4           59  0.0425  56516.184113 -18.625506  17.817442  5.598826e-15   \n",
       "...        ...     ...           ...        ...        ...           ...   \n",
       "9995        57  0.0485  56227.338370 -19.259659  17.479390  2.911177e-14   \n",
       "9996        16  0.0335  57455.448015 -18.581564  17.330502  6.474006e-15   \n",
       "9997        13  0.0385  56140.561543 -17.966083  18.255953  9.457449e-15   \n",
       "9998        34  0.0415  56336.360033 -18.405678  17.984002  5.861756e-14   \n",
       "9999         2  0.0475  56077.046040 -18.708539  17.983719  1.058147e-13   \n",
       "\n",
       "              ra        dec  \n",
       "0     102.486175  29.026194  \n",
       "1      69.125296 -51.017439  \n",
       "2     323.294057 -27.256724  \n",
       "3     193.091552 -31.178099  \n",
       "4      48.387625 -29.796327  \n",
       "...          ...        ...  \n",
       "9995  109.401334   5.646471  \n",
       "9996   70.784999  63.097200  \n",
       "9997    8.840811 -47.340288  \n",
       "9998   12.544395  18.784864  \n",
       "9999  238.209888  -4.303867  \n",
       "\n",
       "[10000 rows x 8 columns]"
      ]
     },
     "execution_count": 24,
     "metadata": {},
     "output_type": "execute_result"
    }
   ],
   "source": [
    "snic = sncc.SNeIb.from_draw(size=10_000)\n",
    "snic.data"
   ]
  },
  {
   "cell_type": "code",
   "execution_count": 25,
   "id": "1c2031be",
   "metadata": {},
   "outputs": [
    {
     "data": {
      "text/plain": [
       "['v19-asassn14jb-corr',\n",
       " 'v19-asassn15oz-corr',\n",
       " 'v19-1987a-corr',\n",
       " 'v19-1993j-corr',\n",
       " 'v19-1994i-corr',\n",
       " 'v19-1998bw-corr',\n",
       " 'v19-1999dn-corr',\n",
       " 'v19-1999em-corr',\n",
       " 'v19-2002ap-corr',\n",
       " 'v19-2004aw-corr',\n",
       " 'v19-2004et-corr',\n",
       " 'v19-2004fe-corr',\n",
       " 'v19-2004gq-corr',\n",
       " 'v19-2004gt-corr',\n",
       " 'v19-2004gv-corr',\n",
       " 'v19-2005bf-corr',\n",
       " 'v19-2005hg-corr',\n",
       " 'v19-2006t-corr',\n",
       " 'v19-2006aa-corr',\n",
       " 'v19-2006aj-corr',\n",
       " 'v19-2006ep-corr',\n",
       " 'v19-2007y-corr',\n",
       " 'v19-2007gr-corr',\n",
       " 'v19-2007od-corr',\n",
       " 'v19-2007pk-corr',\n",
       " 'v19-2007ru-corr',\n",
       " 'v19-2007uy-corr',\n",
       " 'v19-2008d-corr',\n",
       " 'v19-2008aq-corr',\n",
       " 'v19-2008ax-corr',\n",
       " 'v19-2008bj-corr',\n",
       " 'v19-2008bo-corr',\n",
       " 'v19-2008fq-corr',\n",
       " 'v19-2008in-corr',\n",
       " 'v19-2009n-corr',\n",
       " 'v19-2009bb-corr',\n",
       " 'v19-2009bw-corr',\n",
       " 'v19-2009dd-corr',\n",
       " 'v19-2009ib-corr',\n",
       " 'v19-2009ip-corr',\n",
       " 'v19-2009iz-corr',\n",
       " 'v19-2009jf-corr',\n",
       " 'v19-2009kr-corr',\n",
       " 'v19-2010al-corr',\n",
       " 'v19-2011bm-corr',\n",
       " 'v19-2011dh-corr',\n",
       " 'v19-2011ei-corr',\n",
       " 'v19-2011fu-corr',\n",
       " 'v19-2011hs-corr',\n",
       " 'v19-2011ht-corr',\n",
       " 'v19-2012a-corr',\n",
       " 'v19-2012ap-corr',\n",
       " 'v19-2012au-corr',\n",
       " 'v19-2012aw-corr',\n",
       " 'v19-2013ab-corr',\n",
       " 'v19-2013am-corr',\n",
       " 'v19-2013by-corr',\n",
       " 'v19-2013df-corr',\n",
       " 'v19-2013ej-corr',\n",
       " 'v19-2013fs-corr',\n",
       " 'v19-2013ge-corr',\n",
       " 'v19-2014g-corr',\n",
       " 'v19-2016x-corr',\n",
       " 'v19-2016bkv-corr',\n",
       " 'v19-2016gkg-corr',\n",
       " 'v19-iptf13bvn-corr']"
      ]
     },
     "execution_count": 25,
     "metadata": {},
     "output_type": "execute_result"
    }
   ],
   "source": [
    "snic.templates"
   ]
  },
  {
   "cell_type": "code",
   "execution_count": null,
   "id": "930e2e06",
   "metadata": {},
   "outputs": [],
   "source": []
  }
 ],
 "metadata": {
  "kernelspec": {
   "display_name": "Python 3 (ipykernel)",
   "language": "python",
   "name": "python3"
  },
  "language_info": {
   "codemirror_mode": {
    "name": "ipython",
    "version": 3
   },
   "file_extension": ".py",
   "mimetype": "text/x-python",
   "name": "python",
   "nbconvert_exporter": "python",
   "pygments_lexer": "ipython3",
   "version": "3.9.16"
  }
 },
 "nbformat": 4,
 "nbformat_minor": 5
}
