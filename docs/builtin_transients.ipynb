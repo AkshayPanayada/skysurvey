{
 "cells": [
  {
   "cell_type": "markdown",
   "id": "46adf50a",
   "metadata": {},
   "source": [
    "# Built-in Transients"
   ]
  },
  {
   "cell_type": "markdown",
   "id": "5e05fb55",
   "metadata": {},
   "source": [
    "\n",
    "`skysurvey` has built-in transients (any supernovae) and offer the possibitly to create new ones.\n",
    "\n",
    "***\n",
    "## skysurvey & sncosmo: use any sncosmo transient\n",
    "\n",
    "`skysurvey` is based on [sncosmo](https://sncosmo.readthedocs.io/en/stable/) for the transient modelling. As such, it offers the possibility to simulate any transient already available in [sncosmo](https://sncosmo.readthedocs.io/en/stable/) (see [sncosmo transients](https://sncosmo.readthedocs.io/en/stable/source-list.html#list-of-built-in-sources)). `skysurvey` provides the way to simulate the transient model parameters and generate the simulated transient as it would be observed by a survey.\n",
    "\n",
    "***\n",
    "## TimeSeries (single-object non-Ia model)\n",
    "\n",
    "To simulate a single-class of object from a given transient, pick any name from the [sncosmo transient model](https://sncosmo.readthedocs.io/en/stable/source-list.html#list-of-built-in-sources). \n",
    "\n",
    "**Say, for instance 'v19-2013ge-corr', a Type Ic modelled as a `sncosmo.TimeSeriesSource` (like all non-Ia models):**\n",
    "\n",
    "Any `sncosmo.TimeSeriesSource` model can be loaded using the `skysurvey.TSTransient` object:"
   ]
  },
  {
   "cell_type": "code",
   "execution_count": 1,
   "id": "26a5cca1",
   "metadata": {},
   "outputs": [],
   "source": [
    "from skysurvey import target\n",
    "transient = target.TSTransient.from_sncosmo(\"v19-2013ge-corr\") # load it\n",
    "data = transient.draw(size=5_000) # and draw data | see options\n",
    "# data also stored as transient.data"
   ]
  },
  {
   "cell_type": "code",
   "execution_count": 2,
   "id": "5029d5b9",
   "metadata": {},
   "outputs": [
    {
     "data": {
      "text/plain": [
       "Text(0.5, 0, 'redshift')"
      ]
     },
     "execution_count": 2,
     "metadata": {},
     "output_type": "execute_result"
    },
    {
     "data": {
      "image/png": "[encoded data removed]",
      "text/plain": [
       "<Figure size 504x288 with 1 Axes>"
      ]
     },
     "metadata": {
      "needs_background": "light"
     },
     "output_type": "display_data"
    }
   ],
   "source": [
    "fig = transient.show_scatter(\"z\",\"magobs\")\n",
    "ax = fig.axes[0]\n",
    "ax.set_ylabel(\"observed magnitude\")\n",
    "ax.set_xlabel(\"redshift\")"
   ]
  },
  {
   "cell_type": "markdown",
   "id": "9d25ce65",
   "metadata": {},
   "source": [
    "you can change e.g. the absolute magnitude of transient, let's imagine you want -17.2 in average with a (gaussian) scatter of 0.2 mag. "
   ]
  },
  {
   "cell_type": "code",
   "execution_count": 3,
   "id": "e3b33c4a",
   "metadata": {},
   "outputs": [
    {
     "data": {
      "text/plain": [
       "Text(0.5, 0, 'redshift')"
      ]
     },
     "execution_count": 3,
     "metadata": {},
     "output_type": "execute_result"
    },
    {
     "data": {
      "image/png": "[encoded data removed]",
      "text/plain": [
       "<Figure size 504x288 with 1 Axes>"
      ]
     },
     "metadata": {
      "needs_background": "light"
     },
     "output_type": "display_data"
    }
   ],
   "source": [
    "transient = target.TSTransient.from_sncosmo(\"v19-2013ge-corr\", magabs=-17.2, magscatter=0.2) # load it\n",
    "data = transient.draw(size=5_000) # and draw data | see options\n",
    "# And plot\n",
    "fig = transient.show_scatter(\"z\",\"magobs\")\n",
    "ax = fig.axes[0]\n",
    "ax.set_ylabel(\"observed magnitude\")\n",
    "ax.set_xlabel(\"redshift\")"
   ]
  },
  {
   "cell_type": "markdown",
   "id": "72f5a9f0",
   "metadata": {},
   "source": [
    "you can finally directly load and draw directly using the `from_draw` classmethod."
   ]
  },
  {
   "cell_type": "code",
   "execution_count": 4,
   "id": "10d91d72",
   "metadata": {},
   "outputs": [
    {
     "name": "stdout",
     "output_type": "stream",
     "text": [
      "CPU times: user 115 ms, sys: 3.89 ms, total: 119 ms\n",
      "Wall time: 122 ms\n"
     ]
    }
   ],
   "source": [
    "%%time\n",
    "transient = target.TSTransient.from_draw(\"v19-2013ge-corr\", size=10_000, zmin=0.05, zmax=0.08)"
   ]
  },
  {
   "cell_type": "markdown",
   "id": "ac3208a0",
   "metadata": {},
   "source": [
    "**speed** skysurvey model drawing is fast. <100ms for 10_000 targets"
   ]
  },
  {
   "cell_type": "markdown",
   "id": "0bd282c0",
   "metadata": {},
   "source": [
    "***\n",
    "## Type Ia Supernovae\n",
    "\n",
    "The Type Ia supernovae (SNeIa) have a dedicated class for they have slight more detailed modelling of their parameters. The default model graph is made such that x1 and c are drawn from underlying distributions (see `target.SNeIa._MODEL`) and the resulting magabs (leading to magobs that itself leads to x0) accounts for the x1 and c values. \n",
    "\n",
    "It is easy to complexify this model as much as you want, see the Build Complex model tutorial."
   ]
  },
  {
   "cell_type": "code",
   "execution_count": 5,
   "id": "0e9151d6",
   "metadata": {},
   "outputs": [],
   "source": [
    "snia = target.SNeIa.from_draw(10_000)"
   ]
  },
  {
   "cell_type": "code",
   "execution_count": 6,
   "id": "a8ddd898",
   "metadata": {},
   "outputs": [
    {
     "data": {
      "text/html": [
       "<div>\n",
       "<style scoped>\n",
       "    .dataframe tbody tr th:only-of-type {\n",
       "        vertical-align: middle;\n",
       "    }\n",
       "\n",
       "    .dataframe tbody tr th {\n",
       "        vertical-align: top;\n",
       "    }\n",
       "\n",
       "    .dataframe thead th {\n",
       "        text-align: right;\n",
       "    }\n",
       "</style>\n",
       "<table border=\"1\" class=\"dataframe\">\n",
       "  <thead>\n",
       "    <tr style=\"text-align: right;\">\n",
       "      <th></th>\n",
       "      <th>z</th>\n",
       "      <th>x1</th>\n",
       "      <th>c</th>\n",
       "      <th>t0</th>\n",
       "      <th>magabs</th>\n",
       "      <th>magobs</th>\n",
       "      <th>x0</th>\n",
       "      <th>ra</th>\n",
       "      <th>dec</th>\n",
       "      <th>template</th>\n",
       "    </tr>\n",
       "  </thead>\n",
       "  <tbody>\n",
       "    <tr>\n",
       "      <th>0</th>\n",
       "      <td>0.1985</td>\n",
       "      <td>-1.05</td>\n",
       "      <td>-0.08</td>\n",
       "      <td>56429.601562</td>\n",
       "      <td>-19.435183</td>\n",
       "      <td>20.573124</td>\n",
       "      <td>0.000094</td>\n",
       "      <td>142.196945</td>\n",
       "      <td>58.376106</td>\n",
       "      <td>salt2</td>\n",
       "    </tr>\n",
       "    <tr>\n",
       "      <th>1</th>\n",
       "      <td>0.1495</td>\n",
       "      <td>0.45</td>\n",
       "      <td>0.14</td>\n",
       "      <td>56387.968750</td>\n",
       "      <td>-18.775482</td>\n",
       "      <td>20.553698</td>\n",
       "      <td>0.000095</td>\n",
       "      <td>28.502535</td>\n",
       "      <td>24.844109</td>\n",
       "      <td>salt2</td>\n",
       "    </tr>\n",
       "    <tr>\n",
       "      <th>2</th>\n",
       "      <td>0.0705</td>\n",
       "      <td>0.90</td>\n",
       "      <td>0.01</td>\n",
       "      <td>56608.996094</td>\n",
       "      <td>-19.362711</td>\n",
       "      <td>18.222120</td>\n",
       "      <td>0.000816</td>\n",
       "      <td>183.391312</td>\n",
       "      <td>5.852456</td>\n",
       "      <td>salt2</td>\n",
       "    </tr>\n",
       "    <tr>\n",
       "      <th>3</th>\n",
       "      <td>0.1975</td>\n",
       "      <td>-0.60</td>\n",
       "      <td>0.07</td>\n",
       "      <td>56325.238281</td>\n",
       "      <td>-19.012691</td>\n",
       "      <td>20.983395</td>\n",
       "      <td>0.000064</td>\n",
       "      <td>178.845688</td>\n",
       "      <td>17.354616</td>\n",
       "      <td>salt2</td>\n",
       "    </tr>\n",
       "    <tr>\n",
       "      <th>4</th>\n",
       "      <td>0.1265</td>\n",
       "      <td>-0.60</td>\n",
       "      <td>0.34</td>\n",
       "      <td>56310.601562</td>\n",
       "      <td>-18.138166</td>\n",
       "      <td>20.796911</td>\n",
       "      <td>0.000076</td>\n",
       "      <td>147.145203</td>\n",
       "      <td>38.549294</td>\n",
       "      <td>salt2</td>\n",
       "    </tr>\n",
       "    <tr>\n",
       "      <th>...</th>\n",
       "      <td>...</td>\n",
       "      <td>...</td>\n",
       "      <td>...</td>\n",
       "      <td>...</td>\n",
       "      <td>...</td>\n",
       "      <td>...</td>\n",
       "      <td>...</td>\n",
       "      <td>...</td>\n",
       "      <td>...</td>\n",
       "      <td>...</td>\n",
       "    </tr>\n",
       "    <tr>\n",
       "      <th>9995</th>\n",
       "      <td>0.1365</td>\n",
       "      <td>0.90</td>\n",
       "      <td>-0.01</td>\n",
       "      <td>56843.839844</td>\n",
       "      <td>-19.448553</td>\n",
       "      <td>19.665489</td>\n",
       "      <td>0.000216</td>\n",
       "      <td>260.705109</td>\n",
       "      <td>46.338486</td>\n",
       "      <td>salt2</td>\n",
       "    </tr>\n",
       "    <tr>\n",
       "      <th>9996</th>\n",
       "      <td>0.1515</td>\n",
       "      <td>0.50</td>\n",
       "      <td>-0.04</td>\n",
       "      <td>56535.441406</td>\n",
       "      <td>-19.465990</td>\n",
       "      <td>19.894726</td>\n",
       "      <td>0.000175</td>\n",
       "      <td>71.496933</td>\n",
       "      <td>57.459835</td>\n",
       "      <td>salt2</td>\n",
       "    </tr>\n",
       "    <tr>\n",
       "      <th>9997</th>\n",
       "      <td>0.1855</td>\n",
       "      <td>0.10</td>\n",
       "      <td>0.44</td>\n",
       "      <td>56928.570312</td>\n",
       "      <td>-18.071312</td>\n",
       "      <td>21.773474</td>\n",
       "      <td>0.000031</td>\n",
       "      <td>19.645422</td>\n",
       "      <td>27.998417</td>\n",
       "      <td>salt2</td>\n",
       "    </tr>\n",
       "    <tr>\n",
       "      <th>9998</th>\n",
       "      <td>0.1905</td>\n",
       "      <td>-2.35</td>\n",
       "      <td>-0.04</td>\n",
       "      <td>56312.496094</td>\n",
       "      <td>-19.006638</td>\n",
       "      <td>20.902260</td>\n",
       "      <td>0.000069</td>\n",
       "      <td>120.974342</td>\n",
       "      <td>-5.710305</td>\n",
       "      <td>salt2</td>\n",
       "    </tr>\n",
       "    <tr>\n",
       "      <th>9999</th>\n",
       "      <td>0.1705</td>\n",
       "      <td>0.85</td>\n",
       "      <td>-0.05</td>\n",
       "      <td>56585.144531</td>\n",
       "      <td>-19.619713</td>\n",
       "      <td>20.022636</td>\n",
       "      <td>0.000155</td>\n",
       "      <td>180.679749</td>\n",
       "      <td>9.594560</td>\n",
       "      <td>salt2</td>\n",
       "    </tr>\n",
       "  </tbody>\n",
       "</table>\n",
       "<p>10000 rows × 10 columns</p>\n",
       "</div>"
      ],
      "text/plain": [
       "           z    x1     c            t0     magabs     magobs        x0   \n",
       "0     0.1985 -1.05 -0.08  56429.601562 -19.435183  20.573124  0.000094  \\\n",
       "1     0.1495  0.45  0.14  56387.968750 -18.775482  20.553698  0.000095   \n",
       "2     0.0705  0.90  0.01  56608.996094 -19.362711  18.222120  0.000816   \n",
       "3     0.1975 -0.60  0.07  56325.238281 -19.012691  20.983395  0.000064   \n",
       "4     0.1265 -0.60  0.34  56310.601562 -18.138166  20.796911  0.000076   \n",
       "...      ...   ...   ...           ...        ...        ...       ...   \n",
       "9995  0.1365  0.90 -0.01  56843.839844 -19.448553  19.665489  0.000216   \n",
       "9996  0.1515  0.50 -0.04  56535.441406 -19.465990  19.894726  0.000175   \n",
       "9997  0.1855  0.10  0.44  56928.570312 -18.071312  21.773474  0.000031   \n",
       "9998  0.1905 -2.35 -0.04  56312.496094 -19.006638  20.902260  0.000069   \n",
       "9999  0.1705  0.85 -0.05  56585.144531 -19.619713  20.022636  0.000155   \n",
       "\n",
       "              ra        dec template  \n",
       "0     142.196945  58.376106    salt2  \n",
       "1      28.502535  24.844109    salt2  \n",
       "2     183.391312   5.852456    salt2  \n",
       "3     178.845688  17.354616    salt2  \n",
       "4     147.145203  38.549294    salt2  \n",
       "...          ...        ...      ...  \n",
       "9995  260.705109  46.338486    salt2  \n",
       "9996   71.496933  57.459835    salt2  \n",
       "9997   19.645422  27.998417    salt2  \n",
       "9998  120.974342  -5.710305    salt2  \n",
       "9999  180.679749   9.594560    salt2  \n",
       "\n",
       "[10000 rows x 10 columns]"
      ]
     },
     "execution_count": 6,
     "metadata": {},
     "output_type": "execute_result"
    }
   ],
   "source": [
    "snia.data"
   ]
  },
  {
   "cell_type": "code",
   "execution_count": 8,
   "id": "4095028a",
   "metadata": {},
   "outputs": [
    {
     "data": {
      "text/plain": [
       "Text(0.5, 0, 'redshift')"
      ]
     },
     "execution_count": 8,
     "metadata": {},
     "output_type": "execute_result"
    },
    {
     "data": {
      "image/png": "[encoded data removed]",
      "text/plain": [
       "<Figure size 504x288 with 2 Axes>"
      ]
     },
     "metadata": {
      "needs_background": "light"
     },
     "output_type": "display_data"
    }
   ],
   "source": [
    "fig = snia.show_scatter(\"z\", \"magobs\", ckey=\"c\", vmax=0.4, cmap=\"coolwarm\")\n",
    "ax = fig.axes[0]\n",
    "ax.set_ylabel(\"observed magnitude\")\n",
    "ax.set_xlabel(\"redshift\")"
   ]
  },
  {
   "cell_type": "markdown",
   "id": "5deffbf3",
   "metadata": {},
   "source": [
    "***\n",
    "## Core-Collapse: Type II, IIn, IIb, Ib, Ic Ic-BL\n",
    "\n",
    "There are pre-built \"composite transient\" that are made of various sncosmo template. \n",
    "\n",
    "As for now only the 6 \"Vincenzi\" (`v19-*-corr`) core collapse SN models have been implemented. \n",
    "That is, Type II, IIn, IIb, Ib, Ic Ic-BL.\n",
    "\n",
    "They behave like other `skysurvey.Transient`, the template id is shown in the template columns.\n",
    "\n",
    "All TimeSeriesSource composing the composite transient have by default the same magabs and rate, but you can change that easily as long the this broadcast with the template sources (e.g. 1 value or as many values as there are sources)."
   ]
  },
  {
   "cell_type": "code",
   "execution_count": 9,
   "id": "036eebf9",
   "metadata": {},
   "outputs": [],
   "source": [
    "import pandas\n",
    "import sncosmo\n",
    "from sncosmo import models"
   ]
  },
  {
   "cell_type": "code",
   "execution_count": 10,
   "id": "d038913c",
   "metadata": {},
   "outputs": [],
   "source": [
    "from skysurvey.target import sncc"
   ]
  },
  {
   "cell_type": "code",
   "execution_count": 11,
   "id": "a1ea0d3f",
   "metadata": {},
   "outputs": [
    {
     "data": {
      "text/html": [
       "<div>\n",
       "<style scoped>\n",
       "    .dataframe tbody tr th:only-of-type {\n",
       "        vertical-align: middle;\n",
       "    }\n",
       "\n",
       "    .dataframe tbody tr th {\n",
       "        vertical-align: top;\n",
       "    }\n",
       "\n",
       "    .dataframe thead th {\n",
       "        text-align: right;\n",
       "    }\n",
       "</style>\n",
       "<table border=\"1\" class=\"dataframe\">\n",
       "  <thead>\n",
       "    <tr style=\"text-align: right;\">\n",
       "      <th></th>\n",
       "      <th>template</th>\n",
       "      <th>z</th>\n",
       "      <th>t0</th>\n",
       "      <th>magabs</th>\n",
       "      <th>magobs</th>\n",
       "      <th>amplitude</th>\n",
       "      <th>ra</th>\n",
       "      <th>dec</th>\n",
       "    </tr>\n",
       "  </thead>\n",
       "  <tbody>\n",
       "    <tr>\n",
       "      <th>0</th>\n",
       "      <td>v19-2009jf-corr</td>\n",
       "      <td>0.0365</td>\n",
       "      <td>57058.691123</td>\n",
       "      <td>-18.887740</td>\n",
       "      <td>17.215307</td>\n",
       "      <td>9.807888e-15</td>\n",
       "      <td>46.657201</td>\n",
       "      <td>-67.976025</td>\n",
       "    </tr>\n",
       "    <tr>\n",
       "      <th>1</th>\n",
       "      <td>v19-2009iz-corr</td>\n",
       "      <td>0.0465</td>\n",
       "      <td>56488.077625</td>\n",
       "      <td>-18.666858</td>\n",
       "      <td>17.977644</td>\n",
       "      <td>4.810308e-15</td>\n",
       "      <td>167.306954</td>\n",
       "      <td>-24.531868</td>\n",
       "    </tr>\n",
       "    <tr>\n",
       "      <th>2</th>\n",
       "      <td>v19-iptf13bvn-corr</td>\n",
       "      <td>0.0325</td>\n",
       "      <td>56951.411386</td>\n",
       "      <td>-18.010664</td>\n",
       "      <td>17.834010</td>\n",
       "      <td>1.553770e-14</td>\n",
       "      <td>271.958151</td>\n",
       "      <td>41.677636</td>\n",
       "    </tr>\n",
       "    <tr>\n",
       "      <th>3</th>\n",
       "      <td>v19-2007y-corr</td>\n",
       "      <td>0.0365</td>\n",
       "      <td>57227.347054</td>\n",
       "      <td>-17.354982</td>\n",
       "      <td>18.748065</td>\n",
       "      <td>8.459636e-15</td>\n",
       "      <td>358.911811</td>\n",
       "      <td>-13.826405</td>\n",
       "    </tr>\n",
       "    <tr>\n",
       "      <th>4</th>\n",
       "      <td>v19-2006ep-corr</td>\n",
       "      <td>0.0315</td>\n",
       "      <td>56550.556250</td>\n",
       "      <td>-18.144813</td>\n",
       "      <td>17.630409</td>\n",
       "      <td>1.097068e-14</td>\n",
       "      <td>299.647128</td>\n",
       "      <td>-16.984804</td>\n",
       "    </tr>\n",
       "    <tr>\n",
       "      <th>...</th>\n",
       "      <td>...</td>\n",
       "      <td>...</td>\n",
       "      <td>...</td>\n",
       "      <td>...</td>\n",
       "      <td>...</td>\n",
       "      <td>...</td>\n",
       "      <td>...</td>\n",
       "      <td>...</td>\n",
       "    </tr>\n",
       "    <tr>\n",
       "      <th>9995</th>\n",
       "      <td>v19-2008d-corr</td>\n",
       "      <td>0.0455</td>\n",
       "      <td>57144.917884</td>\n",
       "      <td>-18.392484</td>\n",
       "      <td>18.203255</td>\n",
       "      <td>1.210717e-14</td>\n",
       "      <td>222.606397</td>\n",
       "      <td>-77.361556</td>\n",
       "    </tr>\n",
       "    <tr>\n",
       "      <th>9996</th>\n",
       "      <td>v19-2009iz-corr</td>\n",
       "      <td>0.0175</td>\n",
       "      <td>57301.671853</td>\n",
       "      <td>-18.415881</td>\n",
       "      <td>16.060507</td>\n",
       "      <td>2.812078e-14</td>\n",
       "      <td>177.842195</td>\n",
       "      <td>14.582706</td>\n",
       "    </tr>\n",
       "    <tr>\n",
       "      <th>9997</th>\n",
       "      <td>v19-2008d-corr</td>\n",
       "      <td>0.0425</td>\n",
       "      <td>56435.726724</td>\n",
       "      <td>-17.969620</td>\n",
       "      <td>18.473328</td>\n",
       "      <td>9.440899e-15</td>\n",
       "      <td>114.834794</td>\n",
       "      <td>-27.266282</td>\n",
       "    </tr>\n",
       "    <tr>\n",
       "      <th>9998</th>\n",
       "      <td>v19-2004gq-corr</td>\n",
       "      <td>0.0405</td>\n",
       "      <td>56458.696512</td>\n",
       "      <td>-18.721726</td>\n",
       "      <td>17.613422</td>\n",
       "      <td>1.303332e-14</td>\n",
       "      <td>84.364945</td>\n",
       "      <td>-69.013445</td>\n",
       "    </tr>\n",
       "    <tr>\n",
       "      <th>9999</th>\n",
       "      <td>v19-2006ep-corr</td>\n",
       "      <td>0.0355</td>\n",
       "      <td>56257.186941</td>\n",
       "      <td>-18.326466</td>\n",
       "      <td>17.714681</td>\n",
       "      <td>1.015138e-14</td>\n",
       "      <td>346.732298</td>\n",
       "      <td>-52.464842</td>\n",
       "    </tr>\n",
       "  </tbody>\n",
       "</table>\n",
       "<p>10000 rows × 8 columns</p>\n",
       "</div>"
      ],
      "text/plain": [
       "                template       z            t0     magabs     magobs   \n",
       "0        v19-2009jf-corr  0.0365  57058.691123 -18.887740  17.215307  \\\n",
       "1        v19-2009iz-corr  0.0465  56488.077625 -18.666858  17.977644   \n",
       "2     v19-iptf13bvn-corr  0.0325  56951.411386 -18.010664  17.834010   \n",
       "3         v19-2007y-corr  0.0365  57227.347054 -17.354982  18.748065   \n",
       "4        v19-2006ep-corr  0.0315  56550.556250 -18.144813  17.630409   \n",
       "...                  ...     ...           ...        ...        ...   \n",
       "9995      v19-2008d-corr  0.0455  57144.917884 -18.392484  18.203255   \n",
       "9996     v19-2009iz-corr  0.0175  57301.671853 -18.415881  16.060507   \n",
       "9997      v19-2008d-corr  0.0425  56435.726724 -17.969620  18.473328   \n",
       "9998     v19-2004gq-corr  0.0405  56458.696512 -18.721726  17.613422   \n",
       "9999     v19-2006ep-corr  0.0355  56257.186941 -18.326466  17.714681   \n",
       "\n",
       "         amplitude          ra        dec  \n",
       "0     9.807888e-15   46.657201 -67.976025  \n",
       "1     4.810308e-15  167.306954 -24.531868  \n",
       "2     1.553770e-14  271.958151  41.677636  \n",
       "3     8.459636e-15  358.911811 -13.826405  \n",
       "4     1.097068e-14  299.647128 -16.984804  \n",
       "...            ...         ...        ...  \n",
       "9995  1.210717e-14  222.606397 -77.361556  \n",
       "9996  2.812078e-14  177.842195  14.582706  \n",
       "9997  9.440899e-15  114.834794 -27.266282  \n",
       "9998  1.303332e-14   84.364945 -69.013445  \n",
       "9999  1.015138e-14  346.732298 -52.464842  \n",
       "\n",
       "[10000 rows x 8 columns]"
      ]
     },
     "execution_count": 11,
     "metadata": {},
     "output_type": "execute_result"
    }
   ],
   "source": [
    "snic = sncc.SNeIb.from_draw(size=10_000)\n",
    "snic.data"
   ]
  },
  {
   "cell_type": "code",
   "execution_count": null,
   "id": "930e2e06",
   "metadata": {},
   "outputs": [],
   "source": []
  }
 ],
 "metadata": {
  "kernelspec": {
   "display_name": "Python 3 (ipykernel)",
   "language": "python",
   "name": "python3"
  },
  "language_info": {
   "codemirror_mode": {
    "name": "ipython",
    "version": 3
   },
   "file_extension": ".py",
   "mimetype": "text/x-python",
   "name": "python",
   "nbconvert_exporter": "python",
   "pygments_lexer": "ipython3",
   "version": "3.9.16"
  }
 },
 "nbformat": 4,
 "nbformat_minor": 5
}
